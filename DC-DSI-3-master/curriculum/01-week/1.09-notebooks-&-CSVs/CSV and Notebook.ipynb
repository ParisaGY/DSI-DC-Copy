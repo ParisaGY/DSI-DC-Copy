{
 "cells": [
  {
   "cell_type": "markdown",
   "metadata": {},
   "source": [
    "# ![](https://ga-dash.s3.amazonaws.com/production/assets/logo-9f88ae6c9c3871690e33280fcf557f33.png) iPython Notebooks, Data Values, CSV Library\n",
    "Week 1 | Lesson 1.09"
   ]
  },
  {
   "cell_type": "markdown",
   "metadata": {},
   "source": [
    "### LEARNING OBJECTIVES\n",
    "*After this lesson, you will be able to:*\n",
    "1. Use the Markdown Language to create neat, organized and visually appealing  notebooks.\n",
    "\n",
    "2. Utilize helpful Jupyter Notebook features.\n",
    "\n",
    "3. Open, close, write and edit CSV files using Python.\n",
    "\n",
    "### STUDENT PRE-WORK\n",
    "*Before this lesson, you should already be able to:*\n",
    "- Install Anaconda\n",
    "- Create an Anaconda environment with iPython Notebook installed\n",
    "- From iPython Notebook, install Jupyter\n",
    "\n",
    "\n",
    "### LESSON GUIDE\n",
    "| TIMING  | TYPE  | TOPIC  |\n",
    "|:-:|---|---|\n",
    "| 5 min  | [Introduction](#introduction)   |  Anaconda, iPython notebook, Jupyter, Code vs. Markdown, and csv library |\n",
    "| 10 min  | [Demo / Guided Practice ](#demo)  | Anaconda  |\n",
    "| 10 min  | [Demo / Guided Practice ](#demo)  | iPython notebook  |\n",
    "| 10 min  | [Demo / Guided Practice ](#demo)  | Jupyter  |\n",
    "| 10 min  | [Demo / Guided Practice ](#demo)  | Code vs. Markdown  |\n",
    "| 10 min  | [Demo / Guided Practice ](#demo)  | csv library  |\n",
    "| 30 min  | [Independent Practice](#ind-practice)  | CSV Manipulation |\n",
    "| 5 min  | [Conclusion](#conclusion)  |   |"
   ]
  },
  {
   "cell_type": "markdown",
   "metadata": {},
   "source": [
    "<a name=\"Anaconda\"></a>\n",
    "## Demo: Anaconda (10 mins)\n",
    "\n",
    "You should all have installed Anaconda during Installfest. If not, please go to the\n",
    "[Anaconda website](https://www.continuum.io/downloads) and follow the install\n",
    "instructions for your OS. Any questions, please ask the instructor, TA, or a\n",
    "fellow student.\n",
    "\n",
    "<a name=\"iPython Notebook\"></a>\n",
    "## Demo: iPython Notebook (10 mins)\n",
    "\n",
    "iPython Notebook comes as part of Anaconda. When you launch Anaconda there should\n",
    "be the ability to install iPython Notebook.\n"
   ]
  },
  {
   "cell_type": "markdown",
   "metadata": {},
   "source": [
    "### Adding Python 2 Kernel \n",
    "```bash\n",
    "conda create -n py27 python=2.7 ipykernel\n",
    "\n",
    "conda create -n py27 python=2.7\n",
    "source activate py27\n",
    "conda install notebook ipykernel\n",
    "ipython kernel install --user\n",
    "```"
   ]
  },
  {
   "cell_type": "markdown",
   "metadata": {},
   "source": [
    "### Adding Python 3 Kernel\n",
    "```bash\n",
    "conda create -n py35 python=3.5 ipykernel\n",
    "\n",
    "conda create -n py35 python=3.5\n",
    "source activate py35\n",
    "conda install notebook ipykernel\n",
    "ipython kernel install --user\n",
    "```"
   ]
  },
  {
   "cell_type": "markdown",
   "metadata": {},
   "source": [
    "<a name=\"Jupyter\"></a>\n",
    "## Demo: Jupyter (10 mins)\n",
    "\n",
    "Lastly, let's install Jupyter. Open up a new iPython notebook and type:\n",
    "\n",
    "```bash\n",
    "pip install jupyter\n",
    "```\n",
    "\n",
    "to install Jupyter. And then, we're off!\n",
    "\n",
    "\n",
    "##### or \n",
    "\n",
    "\n",
    "Have Anaconda Installed\n",
    "\n",
    "(Dealers Choice)"
   ]
  },
  {
   "cell_type": "markdown",
   "metadata": {},
   "source": [
    "<a name=\"Code vs. Markdown\"></a>\n",
    "## Demo: Code vs. Markdown (10 mins)\n",
    "\n",
    "Let's play around with iPython Notebook first to get a feel for it. Let's create a new notebook by clicking on the \"New\" dropdown and selecting under \"Notebooks\", \"Python 2\". Let's change the title right away to\n",
    "something like \"Practice\", so we can easily ID it later.\n",
    "\n",
    "The notebook starts off in the \"Code\" mode, which means that the cell is ready to accept\n",
    "any code we write. Let's toggle it to \"Markdown\" mode. Practice writing a cell of code and\n",
    "then a cell of Markdown and run it.\n",
    "\n",
    "Next, click through the dropdown menus: File, Edit, View, Insert, Cell, Kernel, and Help,\n",
    "just to get a look at what's available. Don't worry, you'll become more familiar with\n",
    "these through usage.\n",
    "\n",
    "Let me show you how to use Jupyter to display an .ipynb file in\n",
    "[Jupyter's NBviewer](https://nbviewer.jupyter.org/). Remember, it must be PUBLICLY\n",
    "available and not PRIVATE in order to work. Now, create your own Jupyter/iPython Notebook,\n",
    "upload it to your GitHub account, make it publicly available, and then view it through\n",
    "Jupyter's NBviewer."
   ]
  },
  {
   "cell_type": "markdown",
   "metadata": {},
   "source": [
    "##### You can either run your Noteook by clicking in the Navigator application or directly from the command line by typing.\n",
    "\n",
    "```bash\n",
    "jupyter notebook\n",
    "```\n",
    "\n",
    "\n",
    "This will open a notebook in your current directory.  (i.e. Whatever file you are currently in is where the notebook will save)"
   ]
  },
  {
   "cell_type": "markdown",
   "metadata": {},
   "source": [
    "A few of the neat things you can do in a notebook are display visualizations created in python, embed pictures and get information on the functions and arguments you are passing.  "
   ]
  },
  {
   "cell_type": "markdown",
   "metadata": {},
   "source": [
    "#### Useful Python Features"
   ]
  },
  {
   "cell_type": "code",
   "execution_count": null,
   "metadata": {
    "collapsed": true
   },
   "outputs": [],
   "source": [
    "# See all the argument documentation with Shift+tab\n",
    "len()"
   ]
  },
  {
   "cell_type": "markdown",
   "metadata": {},
   "source": [
    "#### Useful Command Line Features (Magic Functions)"
   ]
  },
  {
   "cell_type": "code",
   "execution_count": 2,
   "metadata": {
    "collapsed": false
   },
   "outputs": [
    {
     "data": {
      "text/plain": [
       "u'/Users/samuelstack/Desktop'"
      ]
     },
     "execution_count": 2,
     "metadata": {},
     "output_type": "execute_result"
    }
   ],
   "source": [
    "#execute command line commands\n",
    "\n",
    "%pwd"
   ]
  },
  {
   "cell_type": "code",
   "execution_count": 6,
   "metadata": {
    "collapsed": false
   },
   "outputs": [
    {
     "name": "stderr",
     "output_type": "stream",
     "text": [
      "ERROR: Line magic function `%jupyter` not found.\n"
     ]
    }
   ],
   "source": [
    "# Lets try to to open a Jupyter Notebook in a Jupyter Notebook\n",
    "# Jupception!\n",
    "%jupyter notebook"
   ]
  },
  {
   "cell_type": "markdown",
   "metadata": {},
   "source": [
    "#### Useful Markdown Features"
   ]
  },
  {
   "cell_type": "markdown",
   "metadata": {},
   "source": [
    "Displaying code in a markdown file\n",
    "\n",
    "```python\n",
    "print \"This is a python code\"\n",
    "```"
   ]
  },
  {
   "cell_type": "code",
   "execution_count": null,
   "metadata": {
    "collapsed": true
   },
   "outputs": [],
   "source": [
    "Markdown: Inserting pictures into notebooks\n",
    "![Refence_Name](local/file.path)\n"
   ]
  },
  {
   "cell_type": "code",
   "execution_count": 3,
   "metadata": {
    "collapsed": false
   },
   "outputs": [
    {
     "data": {
      "text/plain": [
       "u'/Users/samuelstack/Desktop'"
      ]
     },
     "execution_count": 3,
     "metadata": {},
     "output_type": "execute_result"
    }
   ],
   "source": [
    "%pwd"
   ]
  },
  {
   "cell_type": "code",
   "execution_count": null,
   "metadata": {
    "collapsed": true
   },
   "outputs": [],
   "source": [
    "![Iowa](1.09-notebooks-&-CSVs/data/iowa.png)"
   ]
  },
  {
   "cell_type": "markdown",
   "metadata": {},
   "source": [
    "# One Hash\n",
    "## Two Hashes\n",
    "### Three Hashes\n",
    "#### Four Hashes\n",
    "##### Five Hashes\n",
    "###### Six Hashes"
   ]
  },
  {
   "cell_type": "markdown",
   "metadata": {},
   "source": [
    "<a name=\"csv module\"></a>\n",
    "## Demo: csv module (10 mins)\n",
    "\n",
    "Let's take a look at the Python csv module. The csv module’s reader and\n",
    "writer objects read and write sequences. We'll be using a small Sales data set\n",
    "to practice. Let's read a csv file first, using the following [demo code](./code/w1-3.2-demo.ipynb).\n",
    "\n",
    "In iPython notebook type:\n",
    "\n",
    "```python\n",
    "import csv\n",
    "print 'Opening File. Data: '\n",
    "print ''\n",
    "with open('sales.csv', 'rU') as f:\n",
    "    reader = csv.reader(f)\n",
    "    for row in reader:\n",
    "        print row\n",
    "f.close()\n",
    "print ''\n",
    "print 'file closed'   # Always remember to close the file after writing to it!\n",
    "```"
   ]
  },
  {
   "cell_type": "markdown",
   "metadata": {},
   "source": [
    "'r' - Read (Default)\n",
    "\n",
    "'w' - Write\n",
    "\n",
    "'a' - Append;  Adds additional modifications to the end.  Unable to edit current contents.\n",
    "\n",
    "'b' - Binary (used when working with a binary file, i.e. 'rb', for reading a binary file)\n",
    "\n",
    "'U' - Opens text in Universal Newline mode.  As '\\r', '\\n', and '\\r\\n' all indicate a newline depending on which language the file was written in, Universal Newline Mode will read '\\r', '\\n', and '\\r\\n' as Python's '\\n'"
   ]
  },
  {
   "cell_type": "markdown",
   "metadata": {},
   "source": [
    "The output will be the contents of sales.csv file. Now, let's write to a csv file.\n",
    "\n",
    "In iPython notebook type:\n",
    "\n",
    "```python\n",
    "print 'Adding the following record: '\n",
    "data = ['123456', 'cosmos', 'neil', 'lucy', 'universe', '1', '1,000,000', 'presented']\n",
    "print ''\n",
    "print data\n",
    "with open('sales.csv', 'a') as fp:\n",
    "    a = csv.writer(fp, delimiter=',')\n",
    "    fp.write('\\n')\n",
    "    a.writerows([data])\n",
    "\n",
    "fp.close()\n",
    "print ''\n",
    "print 'file closed'    # Always remember to close the file after writing to it!\n",
    "```\n"
   ]
  },
  {
   "cell_type": "markdown",
   "metadata": {},
   "source": [
    "delimiter -  delimiter is a sequence of one or more characters used to specify the boundary between separate,  independent regions in plain text or other data streams."
   ]
  },
  {
   "cell_type": "markdown",
   "metadata": {},
   "source": [
    "Now, let's see the file again, with the data you just added:\n",
    "\n",
    "```python\n",
    "print 'The new data that was just added, can be seen on the last line: '\n",
    "with open('sales.csv', 'rU') as f:\n",
    "    reader = csv.reader(f)\n",
    "    for row in reader:\n",
    "        print row\n",
    "\n",
    "f.close()\n",
    "print ''\n",
    "print 'file closed'\n",
    "```"
   ]
  },
  {
   "cell_type": "code",
   "execution_count": null,
   "metadata": {
    "collapsed": true
   },
   "outputs": [],
   "source": []
  },
  {
   "cell_type": "markdown",
   "metadata": {},
   "source": [
    "<a name=\"ind-practice\"></a>\n",
    "## Independent Practice: Topic (30 minutes)\n",
    "- Practice creating an Jupyter/iPython Notebook that uses both code and MarkDown cells.\n",
    "Upload it to GitHub, make it publicly available, and then view it through Jupyter's NBviewer.\n",
    "- Practice reading and writing csv files."
   ]
  },
  {
   "cell_type": "markdown",
   "metadata": {},
   "source": []
  },
  {
   "cell_type": "markdown",
   "metadata": {},
   "source": [
    "<a name=\"conclusion\"></a>\n",
    "## Conclusion (5 mins)\n",
    "Today we were introduced to Anaconda, iPython Notebook, Jupyter, and how to read and write csv files.\n",
    "Nice. Next we'll be introduced to NumPy. Sounds like fun!"
   ]
  },
  {
   "cell_type": "code",
   "execution_count": null,
   "metadata": {
    "collapsed": true
   },
   "outputs": [],
   "source": []
  },
  {
   "cell_type": "markdown",
   "metadata": {},
   "source": [
    "# Resources\n",
    "\n",
    "\n",
    "### File modes in Python - Text, Binary and Universal Newline\n",
    "http://www.shutupandship.com/2012/01/file-modes-in-python-text-binary-and.html\n",
    "\n",
    "### Markdown Formatting Cheatsheet\n",
    "http://assemble.io/docs/Cheatsheet-Markdown.html\n",
    "\n",
    "### Getting Python 2.x and 3.x Kernels\n",
    "http://stackoverflow.com/questions/30492623/using-both-python-2-x-and-python-3-x-in-ipython-notebook"
   ]
  },
  {
   "cell_type": "code",
   "execution_count": null,
   "metadata": {
    "collapsed": true
   },
   "outputs": [],
   "source": []
  }
 ],
 "metadata": {
  "anaconda-cloud": {},
  "kernelspec": {
   "display_name": "Python 2",
   "language": "python",
   "name": "python2"
  },
  "language_info": {
   "codemirror_mode": {
    "name": "ipython",
    "version": 2
   },
   "file_extension": ".py",
   "mimetype": "text/x-python",
   "name": "python",
   "nbconvert_exporter": "python",
   "pygments_lexer": "ipython2",
   "version": "2.7.12"
  }
 },
 "nbformat": 4,
 "nbformat_minor": 0
}
