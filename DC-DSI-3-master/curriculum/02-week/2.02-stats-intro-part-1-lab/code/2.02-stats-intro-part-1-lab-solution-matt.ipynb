{
 "cells": [
  {
   "cell_type": "markdown",
   "metadata": {},
   "source": [
    "It might be a good idea to first check the [source of the Boston housing data](https://archive.ics.uci.edu/ml/datasets/Housing)."
   ]
  },
  {
   "cell_type": "code",
   "execution_count": 1,
   "metadata": {
    "collapsed": false
   },
   "outputs": [
    {
     "data": {
      "text/plain": [
       "('housing.data', <httplib.HTTPMessage instance at 0x104702518>)"
      ]
     },
     "execution_count": 1,
     "metadata": {},
     "output_type": "execute_result"
    }
   ],
   "source": [
    "# Download the data and save to a file called \"housing.data.\"\n",
    "\n",
    "import urllib\n",
    "data_url = \"https://archive.ics.uci.edu/ml/machine-learning-databases/housing/housing.data\"\n",
    "urllib.urlretrieve (data_url, \"housing.data\")"
   ]
  },
  {
   "cell_type": "markdown",
   "metadata": {},
   "source": [
    "The data file does not contain the column names in the first line, so we'll need to add those in manually. You can find the names and explanations [here](https://archive.ics.uci.edu/ml/machine-learning-databases/housing/housing.names). We've extracted the names below for convenience. You may choose to edit the names, should you decide it would be more helpful to do so."
   ]
  },
  {
   "cell_type": "code",
   "execution_count": 2,
   "metadata": {
    "collapsed": true
   },
   "outputs": [],
   "source": [
    "names = [\"CRIM\", \"ZN\", \"INDUS\", \"CHAS\", \"NOX\", \"RM\", \"AGE\", \"DIS\", \"RAD\", \"TAX\", \"PTRATIO\", \"B\", \"LSTAT\", \"MEDV\"]"
   ]
  },
  {
   "cell_type": "markdown",
   "metadata": {},
   "source": [
    "Load the data in through any method you choose. Make sure to include the column names so that you may conduct your analysis more easily."
   ]
  },
  {
   "cell_type": "code",
   "execution_count": 3,
   "metadata": {
    "collapsed": false
   },
   "outputs": [
    {
     "data": {
      "text/html": [
       "<div>\n",
       "<table border=\"1\" class=\"dataframe\">\n",
       "  <thead>\n",
       "    <tr style=\"text-align: right;\">\n",
       "      <th></th>\n",
       "      <th>CRIM</th>\n",
       "      <th>ZN</th>\n",
       "      <th>INDUS</th>\n",
       "      <th>CHAS</th>\n",
       "      <th>NOX</th>\n",
       "      <th>RM</th>\n",
       "      <th>AGE</th>\n",
       "      <th>DIS</th>\n",
       "      <th>RAD</th>\n",
       "      <th>TAX</th>\n",
       "      <th>PTRATIO</th>\n",
       "      <th>B</th>\n",
       "      <th>LSTAT</th>\n",
       "      <th>MEDV</th>\n",
       "    </tr>\n",
       "  </thead>\n",
       "  <tbody>\n",
       "    <tr>\n",
       "      <th>0</th>\n",
       "      <td>0.00632</td>\n",
       "      <td>18.0</td>\n",
       "      <td>2.31</td>\n",
       "      <td>0</td>\n",
       "      <td>0.538</td>\n",
       "      <td>6.575</td>\n",
       "      <td>65.2</td>\n",
       "      <td>4.0900</td>\n",
       "      <td>1</td>\n",
       "      <td>296.0</td>\n",
       "      <td>15.3</td>\n",
       "      <td>396.90</td>\n",
       "      <td>4.98</td>\n",
       "      <td>24.0</td>\n",
       "    </tr>\n",
       "    <tr>\n",
       "      <th>1</th>\n",
       "      <td>0.02731</td>\n",
       "      <td>0.0</td>\n",
       "      <td>7.07</td>\n",
       "      <td>0</td>\n",
       "      <td>0.469</td>\n",
       "      <td>6.421</td>\n",
       "      <td>78.9</td>\n",
       "      <td>4.9671</td>\n",
       "      <td>2</td>\n",
       "      <td>242.0</td>\n",
       "      <td>17.8</td>\n",
       "      <td>396.90</td>\n",
       "      <td>9.14</td>\n",
       "      <td>21.6</td>\n",
       "    </tr>\n",
       "    <tr>\n",
       "      <th>2</th>\n",
       "      <td>0.02729</td>\n",
       "      <td>0.0</td>\n",
       "      <td>7.07</td>\n",
       "      <td>0</td>\n",
       "      <td>0.469</td>\n",
       "      <td>7.185</td>\n",
       "      <td>61.1</td>\n",
       "      <td>4.9671</td>\n",
       "      <td>2</td>\n",
       "      <td>242.0</td>\n",
       "      <td>17.8</td>\n",
       "      <td>392.83</td>\n",
       "      <td>4.03</td>\n",
       "      <td>34.7</td>\n",
       "    </tr>\n",
       "    <tr>\n",
       "      <th>3</th>\n",
       "      <td>0.03237</td>\n",
       "      <td>0.0</td>\n",
       "      <td>2.18</td>\n",
       "      <td>0</td>\n",
       "      <td>0.458</td>\n",
       "      <td>6.998</td>\n",
       "      <td>45.8</td>\n",
       "      <td>6.0622</td>\n",
       "      <td>3</td>\n",
       "      <td>222.0</td>\n",
       "      <td>18.7</td>\n",
       "      <td>394.63</td>\n",
       "      <td>2.94</td>\n",
       "      <td>33.4</td>\n",
       "    </tr>\n",
       "    <tr>\n",
       "      <th>4</th>\n",
       "      <td>0.06905</td>\n",
       "      <td>0.0</td>\n",
       "      <td>2.18</td>\n",
       "      <td>0</td>\n",
       "      <td>0.458</td>\n",
       "      <td>7.147</td>\n",
       "      <td>54.2</td>\n",
       "      <td>6.0622</td>\n",
       "      <td>3</td>\n",
       "      <td>222.0</td>\n",
       "      <td>18.7</td>\n",
       "      <td>396.90</td>\n",
       "      <td>5.33</td>\n",
       "      <td>36.2</td>\n",
       "    </tr>\n",
       "  </tbody>\n",
       "</table>\n",
       "</div>"
      ],
      "text/plain": [
       "      CRIM    ZN  INDUS  CHAS    NOX     RM   AGE     DIS  RAD    TAX  \\\n",
       "0  0.00632  18.0   2.31     0  0.538  6.575  65.2  4.0900    1  296.0   \n",
       "1  0.02731   0.0   7.07     0  0.469  6.421  78.9  4.9671    2  242.0   \n",
       "2  0.02729   0.0   7.07     0  0.469  7.185  61.1  4.9671    2  242.0   \n",
       "3  0.03237   0.0   2.18     0  0.458  6.998  45.8  6.0622    3  222.0   \n",
       "4  0.06905   0.0   2.18     0  0.458  7.147  54.2  6.0622    3  222.0   \n",
       "\n",
       "   PTRATIO       B  LSTAT  MEDV  \n",
       "0     15.3  396.90   4.98  24.0  \n",
       "1     17.8  396.90   9.14  21.6  \n",
       "2     17.8  392.83   4.03  34.7  \n",
       "3     18.7  394.63   2.94  33.4  \n",
       "4     18.7  396.90   5.33  36.2  "
      ]
     },
     "execution_count": 3,
     "metadata": {},
     "output_type": "execute_result"
    }
   ],
   "source": [
    "import pandas as pd\n",
    "\n",
    "data = pd.read_csv(\"housing.data\", header=None, names=names, delim_whitespace=True)\n",
    "\n",
    "data.head()"
   ]
  },
  {
   "cell_type": "markdown",
   "metadata": {},
   "source": [
    "Exercise 1: Conduct a brief integrity check of your data. This integrity check should include,\n",
    "but is not limited to, checking for missing values and making sure all values make logical\n",
    "sense. (i.e. Is one variable a percentage, but there are observations above 100%?)\n",
    "\n",
    "Summarize your findings in a few sentences, including what you checked and, if appropriate, any \n",
    "steps you took to rectify potential integrity issues."
   ]
  },
  {
   "cell_type": "code",
   "execution_count": 4,
   "metadata": {
    "collapsed": true
   },
   "outputs": [],
   "source": [
    "## There is no missing data and there are no other data integrity issues."
   ]
  },
  {
   "cell_type": "markdown",
   "metadata": {},
   "source": [
    "Exercise 2: For what two attributes does it make the *least* sense to calculate mean and median? Why?"
   ]
  },
  {
   "cell_type": "code",
   "execution_count": 5,
   "metadata": {
    "collapsed": true
   },
   "outputs": [],
   "source": [
    "## The dummy variable CHAS and the categorical variable RAD. CHAS is a dummy (categorical) variable that \n",
    "## makes no sense quantitatively. RAD is a variable that indexes the distance to highways. It has many low \n",
    "## values and, after a large gap, has higher values. It stands to reason that this is not a \"true\"\n",
    "## quantitative variable in the sense that the difference between RAD = 1 and RAD = 2 may not be the same\n",
    "## as the difference between RAD = 2 and RAD = 3."
   ]
  },
  {
   "cell_type": "code",
   "execution_count": 7,
   "metadata": {
    "collapsed": false
   },
   "outputs": [
    {
     "name": "stdout",
     "output_type": "stream",
     "text": [
      "('CRIM', 'CRIM', array([[ 1.,  1.],\n",
      "       [ 1.,  1.]]))\n",
      "('CRIM', 'ZN', array([[ 1.        , -0.20046922],\n",
      "       [-0.20046922,  1.        ]]))\n",
      "('CRIM', 'INDUS', array([[ 1.        ,  0.40658341],\n",
      "       [ 0.40658341,  1.        ]]))\n",
      "('CRIM', 'CHAS', array([[ 1.        , -0.05589158],\n",
      "       [-0.05589158,  1.        ]]))\n",
      "('CRIM', 'NOX', array([[ 1.        ,  0.42097171],\n",
      "       [ 0.42097171,  1.        ]]))\n",
      "('CRIM', 'RM', array([[ 1.       , -0.2192467],\n",
      "       [-0.2192467,  1.       ]]))\n",
      "('CRIM', 'AGE', array([[ 1.        ,  0.35273425],\n",
      "       [ 0.35273425,  1.        ]]))\n",
      "('CRIM', 'DIS', array([[ 1.        , -0.37967009],\n",
      "       [-0.37967009,  1.        ]]))\n",
      "('CRIM', 'RAD', array([[ 1.        ,  0.62550515],\n",
      "       [ 0.62550515,  1.        ]]))\n",
      "('CRIM', 'TAX', array([[ 1.        ,  0.58276431],\n",
      "       [ 0.58276431,  1.        ]]))\n",
      "('CRIM', 'PTRATIO', array([[ 1.        ,  0.28994558],\n",
      "       [ 0.28994558,  1.        ]]))\n",
      "('CRIM', 'B', array([[ 1.        , -0.38506394],\n",
      "       [-0.38506394,  1.        ]]))\n",
      "('CRIM', 'LSTAT', array([[ 1.        ,  0.45562148],\n",
      "       [ 0.45562148,  1.        ]]))\n",
      "('CRIM', 'MEDV', array([[ 1.        , -0.38830461],\n",
      "       [-0.38830461,  1.        ]]))\n",
      "('ZN', 'CRIM', array([[ 1.        , -0.20046922],\n",
      "       [-0.20046922,  1.        ]]))\n",
      "('ZN', 'ZN', array([[ 1.,  1.],\n",
      "       [ 1.,  1.]]))\n",
      "('ZN', 'INDUS', array([[ 1.        , -0.53382819],\n",
      "       [-0.53382819,  1.        ]]))\n",
      "('ZN', 'CHAS', array([[ 1.        , -0.04269672],\n",
      "       [-0.04269672,  1.        ]]))\n",
      "('ZN', 'NOX', array([[ 1.        , -0.51660371],\n",
      "       [-0.51660371,  1.        ]]))\n",
      "('ZN', 'RM', array([[ 1.        ,  0.31199059],\n",
      "       [ 0.31199059,  1.        ]]))\n",
      "('ZN', 'AGE', array([[ 1.        , -0.56953734],\n",
      "       [-0.56953734,  1.        ]]))\n",
      "('ZN', 'DIS', array([[ 1.        ,  0.66440822],\n",
      "       [ 0.66440822,  1.        ]]))\n",
      "('ZN', 'RAD', array([[ 1.        , -0.31194783],\n",
      "       [-0.31194783,  1.        ]]))\n",
      "('ZN', 'TAX', array([[ 1.        , -0.31456332],\n",
      "       [-0.31456332,  1.        ]]))\n",
      "('ZN', 'PTRATIO', array([[ 1.        , -0.39167855],\n",
      "       [-0.39167855,  1.        ]]))\n",
      "('ZN', 'B', array([[ 1.        ,  0.17552032],\n",
      "       [ 0.17552032,  1.        ]]))\n",
      "('ZN', 'LSTAT', array([[ 1.        , -0.41299457],\n",
      "       [-0.41299457,  1.        ]]))\n",
      "('ZN', 'MEDV', array([[ 1.        ,  0.36044534],\n",
      "       [ 0.36044534,  1.        ]]))\n",
      "('INDUS', 'CRIM', array([[ 1.        ,  0.40658341],\n",
      "       [ 0.40658341,  1.        ]]))\n",
      "('INDUS', 'ZN', array([[ 1.        , -0.53382819],\n",
      "       [-0.53382819,  1.        ]]))\n",
      "('INDUS', 'INDUS', array([[ 1.,  1.],\n",
      "       [ 1.,  1.]]))\n",
      "('INDUS', 'CHAS', array([[ 1.        ,  0.06293803],\n",
      "       [ 0.06293803,  1.        ]]))\n",
      "('INDUS', 'NOX', array([[ 1.        ,  0.76365145],\n",
      "       [ 0.76365145,  1.        ]]))\n",
      "('INDUS', 'RM', array([[ 1.        , -0.39167585],\n",
      "       [-0.39167585,  1.        ]]))\n",
      "('INDUS', 'AGE', array([[ 1.        ,  0.64477851],\n",
      "       [ 0.64477851,  1.        ]]))\n",
      "('INDUS', 'DIS', array([[ 1.        , -0.70802699],\n",
      "       [-0.70802699,  1.        ]]))\n",
      "('INDUS', 'RAD', array([[ 1.        ,  0.59512927],\n",
      "       [ 0.59512927,  1.        ]]))\n",
      "('INDUS', 'TAX', array([[ 1.        ,  0.72076018],\n",
      "       [ 0.72076018,  1.        ]]))\n",
      "('INDUS', 'PTRATIO', array([[ 1.        ,  0.38324756],\n",
      "       [ 0.38324756,  1.        ]]))\n",
      "('INDUS', 'B', array([[ 1.        , -0.35697654],\n",
      "       [-0.35697654,  1.        ]]))\n",
      "('INDUS', 'LSTAT', array([[ 1.        ,  0.60379972],\n",
      "       [ 0.60379972,  1.        ]]))\n",
      "('INDUS', 'MEDV', array([[ 1.        , -0.48372516],\n",
      "       [-0.48372516,  1.        ]]))\n",
      "('CHAS', 'CRIM', array([[ 1.        , -0.05589158],\n",
      "       [-0.05589158,  1.        ]]))\n",
      "('CHAS', 'ZN', array([[ 1.        , -0.04269672],\n",
      "       [-0.04269672,  1.        ]]))\n",
      "('CHAS', 'INDUS', array([[ 1.        ,  0.06293803],\n",
      "       [ 0.06293803,  1.        ]]))\n",
      "('CHAS', 'CHAS', array([[ 1.,  1.],\n",
      "       [ 1.,  1.]]))\n",
      "('CHAS', 'NOX', array([[ 1.        ,  0.09120281],\n",
      "       [ 0.09120281,  1.        ]]))\n",
      "('CHAS', 'RM', array([[ 1.        ,  0.09125123],\n",
      "       [ 0.09125123,  1.        ]]))\n",
      "('CHAS', 'AGE', array([[ 1.        ,  0.08651777],\n",
      "       [ 0.08651777,  1.        ]]))\n",
      "('CHAS', 'DIS', array([[ 1.        , -0.09917578],\n",
      "       [-0.09917578,  1.        ]]))\n",
      "('CHAS', 'RAD', array([[ 1.        , -0.00736824],\n",
      "       [-0.00736824,  1.        ]]))\n",
      "('CHAS', 'TAX', array([[ 1.        , -0.03558652],\n",
      "       [-0.03558652,  1.        ]]))\n",
      "('CHAS', 'PTRATIO', array([[ 1.        , -0.12151517],\n",
      "       [-0.12151517,  1.        ]]))\n",
      "('CHAS', 'B', array([[ 1.        ,  0.04878848],\n",
      "       [ 0.04878848,  1.        ]]))\n",
      "('CHAS', 'LSTAT', array([[ 1.       , -0.0539293],\n",
      "       [-0.0539293,  1.       ]]))\n",
      "('CHAS', 'MEDV', array([[ 1.        ,  0.17526018],\n",
      "       [ 0.17526018,  1.        ]]))\n",
      "('NOX', 'CRIM', array([[ 1.        ,  0.42097171],\n",
      "       [ 0.42097171,  1.        ]]))\n",
      "('NOX', 'ZN', array([[ 1.        , -0.51660371],\n",
      "       [-0.51660371,  1.        ]]))\n",
      "('NOX', 'INDUS', array([[ 1.        ,  0.76365145],\n",
      "       [ 0.76365145,  1.        ]]))\n",
      "('NOX', 'CHAS', array([[ 1.        ,  0.09120281],\n",
      "       [ 0.09120281,  1.        ]]))\n",
      "('NOX', 'NOX', array([[ 1.,  1.],\n",
      "       [ 1.,  1.]]))\n",
      "('NOX', 'RM', array([[ 1.        , -0.30218819],\n",
      "       [-0.30218819,  1.        ]]))\n",
      "('NOX', 'AGE', array([[ 1.       ,  0.7314701],\n",
      "       [ 0.7314701,  1.       ]]))\n",
      "('NOX', 'DIS', array([[ 1.        , -0.76923011],\n",
      "       [-0.76923011,  1.        ]]))\n",
      "('NOX', 'RAD', array([[ 1.        ,  0.61144056],\n",
      "       [ 0.61144056,  1.        ]]))\n",
      "('NOX', 'TAX', array([[ 1.       ,  0.6680232],\n",
      "       [ 0.6680232,  1.       ]]))\n",
      "('NOX', 'PTRATIO', array([[ 1.        ,  0.18893268],\n",
      "       [ 0.18893268,  1.        ]]))\n",
      "('NOX', 'B', array([[ 1.        , -0.38005064],\n",
      "       [-0.38005064,  1.        ]]))\n",
      "('NOX', 'LSTAT', array([[ 1.        ,  0.59087892],\n",
      "       [ 0.59087892,  1.        ]]))\n",
      "('NOX', 'MEDV', array([[ 1.        , -0.42732077],\n",
      "       [-0.42732077,  1.        ]]))\n",
      "('RM', 'CRIM', array([[ 1.       , -0.2192467],\n",
      "       [-0.2192467,  1.       ]]))\n",
      "('RM', 'ZN', array([[ 1.        ,  0.31199059],\n",
      "       [ 0.31199059,  1.        ]]))\n",
      "('RM', 'INDUS', array([[ 1.        , -0.39167585],\n",
      "       [-0.39167585,  1.        ]]))\n",
      "('RM', 'CHAS', array([[ 1.        ,  0.09125123],\n",
      "       [ 0.09125123,  1.        ]]))\n",
      "('RM', 'NOX', array([[ 1.        , -0.30218819],\n",
      "       [-0.30218819,  1.        ]]))\n",
      "('RM', 'RM', array([[ 1.,  1.],\n",
      "       [ 1.,  1.]]))\n",
      "('RM', 'AGE', array([[ 1.        , -0.24026493],\n",
      "       [-0.24026493,  1.        ]]))\n",
      "('RM', 'DIS', array([[ 1.        ,  0.20524621],\n",
      "       [ 0.20524621,  1.        ]]))\n",
      "('RM', 'RAD', array([[ 1.        , -0.20984667],\n",
      "       [-0.20984667,  1.        ]]))\n",
      "('RM', 'TAX', array([[ 1.        , -0.29204783],\n",
      "       [-0.29204783,  1.        ]]))\n",
      "('RM', 'PTRATIO', array([[ 1.        , -0.35550149],\n",
      "       [-0.35550149,  1.        ]]))\n",
      "('RM', 'B', array([[ 1.        ,  0.12806864],\n",
      "       [ 0.12806864,  1.        ]]))\n",
      "('RM', 'LSTAT', array([[ 1.        , -0.61380827],\n",
      "       [-0.61380827,  1.        ]]))\n",
      "('RM', 'MEDV', array([[ 1.        ,  0.69535995],\n",
      "       [ 0.69535995,  1.        ]]))\n",
      "('AGE', 'CRIM', array([[ 1.        ,  0.35273425],\n",
      "       [ 0.35273425,  1.        ]]))\n",
      "('AGE', 'ZN', array([[ 1.        , -0.56953734],\n",
      "       [-0.56953734,  1.        ]]))\n",
      "('AGE', 'INDUS', array([[ 1.        ,  0.64477851],\n",
      "       [ 0.64477851,  1.        ]]))\n",
      "('AGE', 'CHAS', array([[ 1.        ,  0.08651777],\n",
      "       [ 0.08651777,  1.        ]]))\n",
      "('AGE', 'NOX', array([[ 1.       ,  0.7314701],\n",
      "       [ 0.7314701,  1.       ]]))\n",
      "('AGE', 'RM', array([[ 1.        , -0.24026493],\n",
      "       [-0.24026493,  1.        ]]))\n",
      "('AGE', 'AGE', array([[ 1.,  1.],\n",
      "       [ 1.,  1.]]))\n",
      "('AGE', 'DIS', array([[ 1.        , -0.74788054],\n",
      "       [-0.74788054,  1.        ]]))\n",
      "('AGE', 'RAD', array([[ 1.        ,  0.45602245],\n",
      "       [ 0.45602245,  1.        ]]))\n",
      "('AGE', 'TAX', array([[ 1.        ,  0.50645559],\n",
      "       [ 0.50645559,  1.        ]]))\n",
      "('AGE', 'PTRATIO', array([[ 1.        ,  0.26151501],\n",
      "       [ 0.26151501,  1.        ]]))\n",
      "('AGE', 'B', array([[ 1.        , -0.27353398],\n",
      "       [-0.27353398,  1.        ]]))\n",
      "('AGE', 'LSTAT', array([[ 1.        ,  0.60233853],\n",
      "       [ 0.60233853,  1.        ]]))\n",
      "('AGE', 'MEDV', array([[ 1.        , -0.37695457],\n",
      "       [-0.37695457,  1.        ]]))\n",
      "('DIS', 'CRIM', array([[ 1.        , -0.37967009],\n",
      "       [-0.37967009,  1.        ]]))\n",
      "('DIS', 'ZN', array([[ 1.        ,  0.66440822],\n",
      "       [ 0.66440822,  1.        ]]))\n",
      "('DIS', 'INDUS', array([[ 1.        , -0.70802699],\n",
      "       [-0.70802699,  1.        ]]))\n",
      "('DIS', 'CHAS', array([[ 1.        , -0.09917578],\n",
      "       [-0.09917578,  1.        ]]))\n",
      "('DIS', 'NOX', array([[ 1.        , -0.76923011],\n",
      "       [-0.76923011,  1.        ]]))\n",
      "('DIS', 'RM', array([[ 1.        ,  0.20524621],\n",
      "       [ 0.20524621,  1.        ]]))\n",
      "('DIS', 'AGE', array([[ 1.        , -0.74788054],\n",
      "       [-0.74788054,  1.        ]]))\n",
      "('DIS', 'DIS', array([[ 1.,  1.],\n",
      "       [ 1.,  1.]]))\n",
      "('DIS', 'RAD', array([[ 1.        , -0.49458793],\n",
      "       [-0.49458793,  1.        ]]))\n",
      "('DIS', 'TAX', array([[ 1.        , -0.53443158],\n",
      "       [-0.53443158,  1.        ]]))\n",
      "('DIS', 'PTRATIO', array([[ 1.        , -0.23247054],\n",
      "       [-0.23247054,  1.        ]]))\n",
      "('DIS', 'B', array([[ 1.        ,  0.29151167],\n",
      "       [ 0.29151167,  1.        ]]))\n",
      "('DIS', 'LSTAT', array([[ 1.        , -0.49699583],\n",
      "       [-0.49699583,  1.        ]]))\n",
      "('DIS', 'MEDV', array([[ 1.        ,  0.24992873],\n",
      "       [ 0.24992873,  1.        ]]))\n",
      "('RAD', 'CRIM', array([[ 1.        ,  0.62550515],\n",
      "       [ 0.62550515,  1.        ]]))\n",
      "('RAD', 'ZN', array([[ 1.        , -0.31194783],\n",
      "       [-0.31194783,  1.        ]]))\n",
      "('RAD', 'INDUS', array([[ 1.        ,  0.59512927],\n",
      "       [ 0.59512927,  1.        ]]))\n",
      "('RAD', 'CHAS', array([[ 1.        , -0.00736824],\n",
      "       [-0.00736824,  1.        ]]))\n",
      "('RAD', 'NOX', array([[ 1.        ,  0.61144056],\n",
      "       [ 0.61144056,  1.        ]]))\n",
      "('RAD', 'RM', array([[ 1.        , -0.20984667],\n",
      "       [-0.20984667,  1.        ]]))\n",
      "('RAD', 'AGE', array([[ 1.        ,  0.45602245],\n",
      "       [ 0.45602245,  1.        ]]))\n",
      "('RAD', 'DIS', array([[ 1.        , -0.49458793],\n",
      "       [-0.49458793,  1.        ]]))\n",
      "('RAD', 'RAD', array([[ 1.,  1.],\n",
      "       [ 1.,  1.]]))\n",
      "('RAD', 'TAX', array([[ 1.        ,  0.91022819],\n",
      "       [ 0.91022819,  1.        ]]))\n",
      "('RAD', 'PTRATIO', array([[ 1.        ,  0.46474118],\n",
      "       [ 0.46474118,  1.        ]]))\n",
      "('RAD', 'B', array([[ 1.        , -0.44441282],\n",
      "       [-0.44441282,  1.        ]]))\n",
      "('RAD', 'LSTAT', array([[ 1.        ,  0.48867633],\n",
      "       [ 0.48867633,  1.        ]]))\n",
      "('RAD', 'MEDV', array([[ 1.        , -0.38162623],\n",
      "       [-0.38162623,  1.        ]]))\n",
      "('TAX', 'CRIM', array([[ 1.        ,  0.58276431],\n",
      "       [ 0.58276431,  1.        ]]))\n",
      "('TAX', 'ZN', array([[ 1.        , -0.31456332],\n",
      "       [-0.31456332,  1.        ]]))\n",
      "('TAX', 'INDUS', array([[ 1.        ,  0.72076018],\n",
      "       [ 0.72076018,  1.        ]]))\n",
      "('TAX', 'CHAS', array([[ 1.        , -0.03558652],\n",
      "       [-0.03558652,  1.        ]]))\n",
      "('TAX', 'NOX', array([[ 1.       ,  0.6680232],\n",
      "       [ 0.6680232,  1.       ]]))\n",
      "('TAX', 'RM', array([[ 1.        , -0.29204783],\n",
      "       [-0.29204783,  1.        ]]))\n",
      "('TAX', 'AGE', array([[ 1.        ,  0.50645559],\n",
      "       [ 0.50645559,  1.        ]]))\n",
      "('TAX', 'DIS', array([[ 1.        , -0.53443158],\n",
      "       [-0.53443158,  1.        ]]))\n",
      "('TAX', 'RAD', array([[ 1.        ,  0.91022819],\n",
      "       [ 0.91022819,  1.        ]]))\n",
      "('TAX', 'TAX', array([[ 1.,  1.],\n",
      "       [ 1.,  1.]]))\n",
      "('TAX', 'PTRATIO', array([[ 1.        ,  0.46085304],\n",
      "       [ 0.46085304,  1.        ]]))\n",
      "('TAX', 'B', array([[ 1.        , -0.44180801],\n",
      "       [-0.44180801,  1.        ]]))\n",
      "('TAX', 'LSTAT', array([[ 1.        ,  0.54399341],\n",
      "       [ 0.54399341,  1.        ]]))\n",
      "('TAX', 'MEDV', array([[ 1.        , -0.46853593],\n",
      "       [-0.46853593,  1.        ]]))\n",
      "('PTRATIO', 'CRIM', array([[ 1.        ,  0.28994558],\n",
      "       [ 0.28994558,  1.        ]]))\n",
      "('PTRATIO', 'ZN', array([[ 1.        , -0.39167855],\n",
      "       [-0.39167855,  1.        ]]))\n",
      "('PTRATIO', 'INDUS', array([[ 1.        ,  0.38324756],\n",
      "       [ 0.38324756,  1.        ]]))\n",
      "('PTRATIO', 'CHAS', array([[ 1.        , -0.12151517],\n",
      "       [-0.12151517,  1.        ]]))\n",
      "('PTRATIO', 'NOX', array([[ 1.        ,  0.18893268],\n",
      "       [ 0.18893268,  1.        ]]))\n",
      "('PTRATIO', 'RM', array([[ 1.        , -0.35550149],\n",
      "       [-0.35550149,  1.        ]]))\n",
      "('PTRATIO', 'AGE', array([[ 1.        ,  0.26151501],\n",
      "       [ 0.26151501,  1.        ]]))\n",
      "('PTRATIO', 'DIS', array([[ 1.        , -0.23247054],\n",
      "       [-0.23247054,  1.        ]]))\n",
      "('PTRATIO', 'RAD', array([[ 1.        ,  0.46474118],\n",
      "       [ 0.46474118,  1.        ]]))\n",
      "('PTRATIO', 'TAX', array([[ 1.        ,  0.46085304],\n",
      "       [ 0.46085304,  1.        ]]))\n",
      "('PTRATIO', 'PTRATIO', array([[ 1.,  1.],\n",
      "       [ 1.,  1.]]))\n",
      "('PTRATIO', 'B', array([[ 1.       , -0.1773833],\n",
      "       [-0.1773833,  1.       ]]))\n",
      "('PTRATIO', 'LSTAT', array([[ 1.        ,  0.37404432],\n",
      "       [ 0.37404432,  1.        ]]))\n",
      "('PTRATIO', 'MEDV', array([[ 1.        , -0.50778669],\n",
      "       [-0.50778669,  1.        ]]))\n",
      "('B', 'CRIM', array([[ 1.        , -0.38506394],\n",
      "       [-0.38506394,  1.        ]]))\n",
      "('B', 'ZN', array([[ 1.        ,  0.17552032],\n",
      "       [ 0.17552032,  1.        ]]))\n",
      "('B', 'INDUS', array([[ 1.        , -0.35697654],\n",
      "       [-0.35697654,  1.        ]]))\n",
      "('B', 'CHAS', array([[ 1.        ,  0.04878848],\n",
      "       [ 0.04878848,  1.        ]]))\n",
      "('B', 'NOX', array([[ 1.        , -0.38005064],\n",
      "       [-0.38005064,  1.        ]]))\n",
      "('B', 'RM', array([[ 1.        ,  0.12806864],\n",
      "       [ 0.12806864,  1.        ]]))\n",
      "('B', 'AGE', array([[ 1.        , -0.27353398],\n",
      "       [-0.27353398,  1.        ]]))\n",
      "('B', 'DIS', array([[ 1.        ,  0.29151167],\n",
      "       [ 0.29151167,  1.        ]]))\n",
      "('B', 'RAD', array([[ 1.        , -0.44441282],\n",
      "       [-0.44441282,  1.        ]]))\n",
      "('B', 'TAX', array([[ 1.        , -0.44180801],\n",
      "       [-0.44180801,  1.        ]]))\n",
      "('B', 'PTRATIO', array([[ 1.       , -0.1773833],\n",
      "       [-0.1773833,  1.       ]]))\n",
      "('B', 'B', array([[ 1.,  1.],\n",
      "       [ 1.,  1.]]))\n",
      "('B', 'LSTAT', array([[ 1.       , -0.3660869],\n",
      "       [-0.3660869,  1.       ]]))\n",
      "('B', 'MEDV', array([[ 1.        ,  0.33346082],\n",
      "       [ 0.33346082,  1.        ]]))\n",
      "('LSTAT', 'CRIM', array([[ 1.        ,  0.45562148],\n",
      "       [ 0.45562148,  1.        ]]))\n",
      "('LSTAT', 'ZN', array([[ 1.        , -0.41299457],\n",
      "       [-0.41299457,  1.        ]]))\n",
      "('LSTAT', 'INDUS', array([[ 1.        ,  0.60379972],\n",
      "       [ 0.60379972,  1.        ]]))\n",
      "('LSTAT', 'CHAS', array([[ 1.       , -0.0539293],\n",
      "       [-0.0539293,  1.       ]]))\n",
      "('LSTAT', 'NOX', array([[ 1.        ,  0.59087892],\n",
      "       [ 0.59087892,  1.        ]]))\n",
      "('LSTAT', 'RM', array([[ 1.        , -0.61380827],\n",
      "       [-0.61380827,  1.        ]]))\n",
      "('LSTAT', 'AGE', array([[ 1.        ,  0.60233853],\n",
      "       [ 0.60233853,  1.        ]]))\n",
      "('LSTAT', 'DIS', array([[ 1.        , -0.49699583],\n",
      "       [-0.49699583,  1.        ]]))\n",
      "('LSTAT', 'RAD', array([[ 1.        ,  0.48867633],\n",
      "       [ 0.48867633,  1.        ]]))\n",
      "('LSTAT', 'TAX', array([[ 1.        ,  0.54399341],\n",
      "       [ 0.54399341,  1.        ]]))\n",
      "('LSTAT', 'PTRATIO', array([[ 1.        ,  0.37404432],\n",
      "       [ 0.37404432,  1.        ]]))\n",
      "('LSTAT', 'B', array([[ 1.       , -0.3660869],\n",
      "       [-0.3660869,  1.       ]]))\n",
      "('LSTAT', 'LSTAT', array([[ 1.,  1.],\n",
      "       [ 1.,  1.]]))\n",
      "('LSTAT', 'MEDV', array([[ 1.        , -0.73766273],\n",
      "       [-0.73766273,  1.        ]]))\n",
      "('MEDV', 'CRIM', array([[ 1.        , -0.38830461],\n",
      "       [-0.38830461,  1.        ]]))\n",
      "('MEDV', 'ZN', array([[ 1.        ,  0.36044534],\n",
      "       [ 0.36044534,  1.        ]]))\n",
      "('MEDV', 'INDUS', array([[ 1.        , -0.48372516],\n",
      "       [-0.48372516,  1.        ]]))\n",
      "('MEDV', 'CHAS', array([[ 1.        ,  0.17526018],\n",
      "       [ 0.17526018,  1.        ]]))\n",
      "('MEDV', 'NOX', array([[ 1.        , -0.42732077],\n",
      "       [-0.42732077,  1.        ]]))\n",
      "('MEDV', 'RM', array([[ 1.        ,  0.69535995],\n",
      "       [ 0.69535995,  1.        ]]))\n",
      "('MEDV', 'AGE', array([[ 1.        , -0.37695457],\n",
      "       [-0.37695457,  1.        ]]))\n",
      "('MEDV', 'DIS', array([[ 1.        ,  0.24992873],\n",
      "       [ 0.24992873,  1.        ]]))\n",
      "('MEDV', 'RAD', array([[ 1.        , -0.38162623],\n",
      "       [-0.38162623,  1.        ]]))\n",
      "('MEDV', 'TAX', array([[ 1.        , -0.46853593],\n",
      "       [-0.46853593,  1.        ]]))\n",
      "('MEDV', 'PTRATIO', array([[ 1.        , -0.50778669],\n",
      "       [-0.50778669,  1.        ]]))\n",
      "('MEDV', 'B', array([[ 1.        ,  0.33346082],\n",
      "       [ 0.33346082,  1.        ]]))\n",
      "('MEDV', 'LSTAT', array([[ 1.        , -0.73766273],\n",
      "       [-0.73766273,  1.        ]]))\n",
      "('MEDV', 'MEDV', array([[ 1.,  1.],\n",
      "       [ 1.,  1.]]))\n"
     ]
    }
   ],
   "source": [
    "import numpy as np\n",
    "for i in data.columns.values:\n",
    "    for j in data.columns.values:\n",
    "        print(i,j,np.corrcoef(data[i],data[j]))"
   ]
  },
  {
   "cell_type": "markdown",
   "metadata": {},
   "source": [
    "Exercise 3: Which two variables have the strongest linear association? Report both variables, the metric you chose as the basis for your comparison, and the value of that metric. *(Hint: Make sure you consider only variables for which it makes sense to find a linear association.)*"
   ]
  },
  {
   "cell_type": "code",
   "execution_count": 8,
   "metadata": {
    "collapsed": true
   },
   "outputs": [],
   "source": [
    "## Solution: NOX (Nitric Oxides Concentration) and DIS (Weighted Distances to Five Boston Employment Centers)\n",
    "## have the strongest linear association. The correlation between NOX and DIS is -0.76923."
   ]
  },
  {
   "cell_type": "markdown",
   "metadata": {},
   "source": [
    "Exercise 4: Which variable has the most symmetric distribution? Which variable has the most left-skewed (negatively skewed) distribution? Which variable has the most right-skewed (positively skewed) distribution? (Do not scale for this exercise.) Defend your method for determining these variables."
   ]
  },
  {
   "cell_type": "code",
   "execution_count": 9,
   "metadata": {
    "collapsed": false
   },
   "outputs": [
    {
     "name": "stdout",
     "output_type": "stream",
     "text": [
      "('CRIM', 3.3570135573122535, 0.037732022987018228)\n",
      "('ZN', 11.363636363636363, 0.11363636363636363)\n",
      "('INDUS', 1.4467786561265044, 0.053034408215780954)\n",
      "('CHAS', 0.069169960474308304, 0.069169960474308304)\n",
      "('NOX', 0.016695059288537206, 0.034351973844726762)\n",
      "('RM', 0.076134387351786792, 0.014587926298483772)\n",
      "('AGE', -8.9250988142292158, -0.091916568632638682)\n",
      "('DIS', 0.58759268774703433, 0.053432575339144153)\n",
      "('RAD', 4.5494071146245059, 0.19780030933150025)\n",
      "('TAX', 78.237154150197625, 0.14930754608816341)\n",
      "('PTRATIO', -0.59446640316203414, -0.063241106719365336)\n",
      "('B', -34.765968379447429, -0.087664452013332575)\n",
      "('LSTAT', 1.293063241106724, 0.03568055301067119)\n",
      "('MEDV', 1.3328063241106989, 0.029617918313571086)\n"
     ]
    }
   ],
   "source": [
    "for i in data.columns.values:\n",
    "    print(i,(np.mean(data[i])-np.median(data[i])),(np.mean(data[i])-np.median(data[i]))/(np.max(data[i])-np.min(data[i])))"
   ]
  },
  {
   "cell_type": "code",
   "execution_count": 10,
   "metadata": {
    "collapsed": true
   },
   "outputs": [],
   "source": [
    "## Solution: Using mean(data) - median(data) as the metric to assess how symmetric a variable is,\n",
    "## the variable with the most symmetric distribution is NOX. The variable with the most left-skewed\n",
    "## distribution is B. The variable with the most right-skewed distribution is TAX.\n",
    "\n",
    "## You can use different metrics - but be sure you can defend your choice!"
   ]
  },
  {
   "cell_type": "markdown",
   "metadata": {},
   "source": [
    "Exercise 5: As you may have noticed, the spread of the distribution contributed significantly to the numbers that helped you to answer Exercise 4. Repeat Exercise 4, but scale your results by the range of that variable."
   ]
  },
  {
   "cell_type": "code",
   "execution_count": 11,
   "metadata": {
    "collapsed": true
   },
   "outputs": [],
   "source": [
    "## Solution: Using (mean(data) - median(data)) / (max(data) - min(data)) as the metric to assess how symmetric\n",
    "## a variable is, the variable with the most symmetric distribution is MEDV. The variable with the most \n",
    "## left-skewed distribution is AGE. The variable with the most right-skewed distribution is RAD.\n",
    "\n",
    "## You can use different metrics - but be sure you can defend your choice!"
   ]
  },
  {
   "cell_type": "markdown",
   "metadata": {},
   "source": [
    "Exercise 6: Conduct a full univariate analysis on MEDV, CHAS, TAX, and RAD. For each variable, you should answer the three questions generally asked in a univariate analysis using the most appropriate metrics. If you feel there is additional information that is relevant, include it. "
   ]
  },
  {
   "cell_type": "code",
   "execution_count": 12,
   "metadata": {
    "collapsed": true
   },
   "outputs": [],
   "source": [
    "## Sketch of Answer: You should report at least one measure of center, one measure of spread, and\n",
    "## a description (metric-based or plot-based) of the shape of the distribution of each variable.\n",
    "## Defending these choices is better. (i.e. median is a better measure of center than mean\n",
    "## because...) Including multiple measures of center and/or spread and interpreting what these\n",
    "## reveal about the distribution of a variable is especially good. Finally, including a plot\n",
    "## that goes along with these metrics and this description would turn this answer from a \"good\"\n",
    "## one into a \"great\" one. A report to a supervisor should ideally include these points."
   ]
  },
  {
   "cell_type": "markdown",
   "metadata": {},
   "source": [
    "Exercise 7: Exercises 3 through 6 have used inferential statistics, descriptive statistics, or both. For each exercise, identify the branch of statistics on which you relied for your answer."
   ]
  },
  {
   "cell_type": "code",
   "execution_count": 13,
   "metadata": {
    "collapsed": true
   },
   "outputs": [],
   "source": [
    "## Solution: For all exercises, we relied only on descriptive statistics."
   ]
  },
  {
   "cell_type": "markdown",
   "metadata": {},
   "source": [
    "Exercise 8: It seems likely that this data is a census - that is, the data set includes the entire target population. Suppose that the 506 observations was too much for our computer (as unlikely as this might be) and we needed to pare this down to fewer observations. Set the seed equal to the sum of the first ten rows of 'RAD' and use the random.sample() function to select 50 observations. Find the mean of the 'AGE' of these observations. ([This documentation](https://docs.python.org/2/library/random.html) may be helpful.)"
   ]
  },
  {
   "cell_type": "code",
   "execution_count": 14,
   "metadata": {
    "collapsed": false
   },
   "outputs": [
    {
     "data": {
      "text/plain": [
       "68.438000000000002"
      ]
     },
     "execution_count": 14,
     "metadata": {},
     "output_type": "execute_result"
    }
   ],
   "source": [
    "sum(data['RAD'][0:9])\n",
    "import random\n",
    "random.seed(29)\n",
    "rand_sample = random.sample(data['AGE'],50)\n",
    "np.mean(rand_sample)"
   ]
  },
  {
   "cell_type": "markdown",
   "metadata": {},
   "source": [
    "Exercise 9: In Exercise 8, identify the type of sampling used."
   ]
  },
  {
   "cell_type": "code",
   "execution_count": 15,
   "metadata": {
    "collapsed": true
   },
   "outputs": [],
   "source": [
    "## Solution: Simple random sampling was used."
   ]
  },
  {
   "cell_type": "markdown",
   "metadata": {},
   "source": [
    "BONUS: Of the remaining types of sampling about which we learned, describe (but do not execute) how you might implement at least one of these types of sampling."
   ]
  },
  {
   "cell_type": "code",
   "execution_count": 1,
   "metadata": {
    "collapsed": true
   },
   "outputs": [],
   "source": [
    "## Potential Solution: Stratified random sampling is a method used when we want to protect ourselves from\n",
    "## a potentially \"bad\" or \"skewed\" simple random sample. The variable CHAS takes on two values: 1 and 0. Rather\n",
    "## than selecting 50 observations at random, we could look at the proportion of 1s and 0s for the CHAS variable,\n",
    "## select 50 * (proportion of 1s) observations where CHAS = 1 and then select 50 * (proportion of 0s)\n",
    "## obervations where CHAS = 0."
   ]
  }
 ],
 "metadata": {
  "anaconda-cloud": {},
  "kernelspec": {
   "display_name": "Python [conda env:py27]",
   "language": "python",
   "name": "conda-env-py27-py"
  },
  "language_info": {
   "codemirror_mode": {
    "name": "ipython",
    "version": 2
   },
   "file_extension": ".py",
   "mimetype": "text/x-python",
   "name": "python",
   "nbconvert_exporter": "python",
   "pygments_lexer": "ipython2",
   "version": "2.7.12"
  }
 },
 "nbformat": 4,
 "nbformat_minor": 1
}
