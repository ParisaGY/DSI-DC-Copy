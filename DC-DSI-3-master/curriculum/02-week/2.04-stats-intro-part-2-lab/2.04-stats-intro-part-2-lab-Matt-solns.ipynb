{
 "cells": [
  {
   "cell_type": "markdown",
   "metadata": {},
   "source": [
    "Recall the data from Part 1 of this lab. Read it in."
   ]
  },
  {
   "cell_type": "code",
   "execution_count": 1,
   "metadata": {
    "collapsed": false
   },
   "outputs": [],
   "source": [
    "import urllib\n",
    "data_url = \"https://archive.ics.uci.edu/ml/machine-learning-databases/housing/housing.data\"\n",
    "urllib.urlretrieve (data_url, \"housing.data\")\n",
    "\n",
    "names = [\"CRIM\", \"ZN\", \"INDUS\", \"CHAS\", \"NOX\", \"RM\", \"AGE\", \"DIS\", \"RAD\", \"TAX\", \"PTRATIO\", \"B\", \"LSTAT\", \"MEDV\"]\n",
    "\n",
    "import pandas as pd\n",
    "data = pd.read_csv(\"housing.data\", header=None, names=names, delim_whitespace=True)"
   ]
  },
  {
   "cell_type": "code",
   "execution_count": 2,
   "metadata": {
    "collapsed": false
   },
   "outputs": [
    {
     "data": {
      "text/html": [
       "<div>\n",
       "<table border=\"1\" class=\"dataframe\">\n",
       "  <thead>\n",
       "    <tr style=\"text-align: right;\">\n",
       "      <th></th>\n",
       "      <th>CRIM</th>\n",
       "      <th>ZN</th>\n",
       "      <th>INDUS</th>\n",
       "      <th>CHAS</th>\n",
       "      <th>NOX</th>\n",
       "      <th>RM</th>\n",
       "      <th>AGE</th>\n",
       "      <th>DIS</th>\n",
       "      <th>RAD</th>\n",
       "      <th>TAX</th>\n",
       "      <th>PTRATIO</th>\n",
       "      <th>B</th>\n",
       "      <th>LSTAT</th>\n",
       "      <th>MEDV</th>\n",
       "    </tr>\n",
       "  </thead>\n",
       "  <tbody>\n",
       "    <tr>\n",
       "      <th>0</th>\n",
       "      <td>0.00632</td>\n",
       "      <td>18.0</td>\n",
       "      <td>2.31</td>\n",
       "      <td>0</td>\n",
       "      <td>0.538</td>\n",
       "      <td>6.575</td>\n",
       "      <td>65.2</td>\n",
       "      <td>4.0900</td>\n",
       "      <td>1</td>\n",
       "      <td>296.0</td>\n",
       "      <td>15.3</td>\n",
       "      <td>396.90</td>\n",
       "      <td>4.98</td>\n",
       "      <td>24.0</td>\n",
       "    </tr>\n",
       "    <tr>\n",
       "      <th>1</th>\n",
       "      <td>0.02731</td>\n",
       "      <td>0.0</td>\n",
       "      <td>7.07</td>\n",
       "      <td>0</td>\n",
       "      <td>0.469</td>\n",
       "      <td>6.421</td>\n",
       "      <td>78.9</td>\n",
       "      <td>4.9671</td>\n",
       "      <td>2</td>\n",
       "      <td>242.0</td>\n",
       "      <td>17.8</td>\n",
       "      <td>396.90</td>\n",
       "      <td>9.14</td>\n",
       "      <td>21.6</td>\n",
       "    </tr>\n",
       "    <tr>\n",
       "      <th>2</th>\n",
       "      <td>0.02729</td>\n",
       "      <td>0.0</td>\n",
       "      <td>7.07</td>\n",
       "      <td>0</td>\n",
       "      <td>0.469</td>\n",
       "      <td>7.185</td>\n",
       "      <td>61.1</td>\n",
       "      <td>4.9671</td>\n",
       "      <td>2</td>\n",
       "      <td>242.0</td>\n",
       "      <td>17.8</td>\n",
       "      <td>392.83</td>\n",
       "      <td>4.03</td>\n",
       "      <td>34.7</td>\n",
       "    </tr>\n",
       "    <tr>\n",
       "      <th>3</th>\n",
       "      <td>0.03237</td>\n",
       "      <td>0.0</td>\n",
       "      <td>2.18</td>\n",
       "      <td>0</td>\n",
       "      <td>0.458</td>\n",
       "      <td>6.998</td>\n",
       "      <td>45.8</td>\n",
       "      <td>6.0622</td>\n",
       "      <td>3</td>\n",
       "      <td>222.0</td>\n",
       "      <td>18.7</td>\n",
       "      <td>394.63</td>\n",
       "      <td>2.94</td>\n",
       "      <td>33.4</td>\n",
       "    </tr>\n",
       "    <tr>\n",
       "      <th>4</th>\n",
       "      <td>0.06905</td>\n",
       "      <td>0.0</td>\n",
       "      <td>2.18</td>\n",
       "      <td>0</td>\n",
       "      <td>0.458</td>\n",
       "      <td>7.147</td>\n",
       "      <td>54.2</td>\n",
       "      <td>6.0622</td>\n",
       "      <td>3</td>\n",
       "      <td>222.0</td>\n",
       "      <td>18.7</td>\n",
       "      <td>396.90</td>\n",
       "      <td>5.33</td>\n",
       "      <td>36.2</td>\n",
       "    </tr>\n",
       "  </tbody>\n",
       "</table>\n",
       "</div>"
      ],
      "text/plain": [
       "      CRIM    ZN  INDUS  CHAS    NOX     RM   AGE     DIS  RAD    TAX  \\\n",
       "0  0.00632  18.0   2.31     0  0.538  6.575  65.2  4.0900    1  296.0   \n",
       "1  0.02731   0.0   7.07     0  0.469  6.421  78.9  4.9671    2  242.0   \n",
       "2  0.02729   0.0   7.07     0  0.469  7.185  61.1  4.9671    2  242.0   \n",
       "3  0.03237   0.0   2.18     0  0.458  6.998  45.8  6.0622    3  222.0   \n",
       "4  0.06905   0.0   2.18     0  0.458  7.147  54.2  6.0622    3  222.0   \n",
       "\n",
       "   PTRATIO       B  LSTAT  MEDV  \n",
       "0     15.3  396.90   4.98  24.0  \n",
       "1     17.8  396.90   9.14  21.6  \n",
       "2     17.8  392.83   4.03  34.7  \n",
       "3     18.7  394.63   2.94  33.4  \n",
       "4     18.7  396.90   5.33  36.2  "
      ]
     },
     "execution_count": 2,
     "metadata": {},
     "output_type": "execute_result"
    }
   ],
   "source": [
    "data.head()"
   ]
  },
  {
   "cell_type": "markdown",
   "metadata": {},
   "source": [
    "Exercise 1: Find the mean, standard deviation, and the standard error of the mean for variable 'AGE.'"
   ]
  },
  {
   "cell_type": "code",
   "execution_count": 3,
   "metadata": {
    "collapsed": false
   },
   "outputs": [
    {
     "name": "stdout",
     "output_type": "stream",
     "text": [
      "The mean is 68.5749011858.\n",
      "The standard deviation is 28.1210325702.\n",
      "The standard error of the mean is 1.25136952526.\n"
     ]
    }
   ],
   "source": [
    "import numpy as np\n",
    "\n",
    "print \"The mean is \" + str(np.mean(data['AGE'])) + \".\"\n",
    "print \"The standard deviation is \" + str(np.std(data['AGE'])) + \".\"\n",
    "print \"The standard error of the mean is \" + str(np.std(data['AGE'],ddof = 1)/(len(data['AGE']))**0.5) + \".\""
   ]
  },
  {
   "cell_type": "markdown",
   "metadata": {},
   "source": [
    "Exercise 2: Generate a 90%, 95%, and 99% confidence interval for 'AGE'. Do at least one of these manually (i.e. by plugging in the appropriate parts) and at least one of these using a function from scipy.stats. Interpret the results from all three confidence intervals."
   ]
  },
  {
   "cell_type": "code",
   "execution_count": 4,
   "metadata": {
    "collapsed": false
   },
   "outputs": [
    {
     "name": "stdout",
     "output_type": "stream",
     "text": [
      "We are 90% confident that the true mean value for 'AGE' is between 66.512798667 and 70.6370037045 years of age.\n",
      "We are 95% confident that the true mean value for 'AGE' is between 66.1163697185 and 71.033432653 years of age.\n"
     ]
    }
   ],
   "source": [
    "from scipy.stats import t\n",
    "\n",
    "t_interval_90 = t.interval(0.9,\n",
    "                           len(data['AGE'])-1,\n",
    "                           loc=np.mean(data['AGE']),\n",
    "                           scale=np.std(data['AGE'],ddof = 1)/(len(data['AGE']))**0.5)\n",
    "\n",
    "print \"We are 90% confident that the true mean value for 'AGE' is between \" + str(t_interval_90[0]) + \" and \" + str(t_interval_90[1]) + \" years of age.\"\n",
    "\n",
    "t_interval_95 = t.interval(0.95,\n",
    "                           len(data['AGE'])-1,\n",
    "                           loc=np.mean(data['AGE']),\n",
    "                           scale=np.std(data['AGE'],ddof = 1)/(len(data['AGE']))**0.5)\n",
    "\n",
    "print \"We are 95% confident that the true mean value for 'AGE' is between \" + str(t_interval_95[0]) + \" and \" + str(t_interval_95[1]) + \" years of age.\""
   ]
  },
  {
   "cell_type": "code",
   "execution_count": 5,
   "metadata": {
    "collapsed": false
   },
   "outputs": [],
   "source": [
    "## Recall that a 99% t confidence interval will be of the form\n",
    "## (x-bar - t * s/sqrt(n), x-bar + t * s/sqrt(n))\n",
    "## where t is the critical t-value with 506 degrees of freedom\n",
    "## and for 99% confidence.\n",
    "\n",
    "critical_t = t.ppf(0.995,506) # This pulls the critical value for 99.5%, which is appropriate."
   ]
  },
  {
   "cell_type": "markdown",
   "metadata": {},
   "source": [
    "Exercise 3: Did you rely on the Central Limit Theorem in Exercise 2? Why or why not?"
   ]
  },
  {
   "cell_type": "code",
   "execution_count": 6,
   "metadata": {
    "collapsed": false
   },
   "outputs": [
    {
     "data": {
      "text/plain": [
       "(array([  14.,   31.,   29.,   42.,   32.,   38.,   39.,   42.,   71.,  168.]),\n",
       " array([   2.9 ,   12.61,   22.32,   32.03,   41.74,   51.45,   61.16,\n",
       "          70.87,   80.58,   90.29,  100.  ]),\n",
       " <a list of 10 Patch objects>)"
      ]
     },
     "execution_count": 6,
     "metadata": {},
     "output_type": "execute_result"
    },
    {
     "data": {
      "image/png": "[encoded data removed]",
      "text/plain": [
       "<matplotlib.figure.Figure at 0x11603aad0>"
      ]
     },
     "metadata": {},
     "output_type": "display_data"
    }
   ],
   "source": [
    "import matplotlib.pyplot as plt\n",
    "%matplotlib inline\n",
    "\n",
    "plt.hist(data['AGE'])\n",
    "\n",
    "# Yes. We don't know whether or not 'AGE' is Normally distributed (and by the\n",
    "# plot below, it clearly is not), but since the size of our sample n is larger\n",
    "# than 30, we know that the behavior of X-bar will be Normal enough for us\n",
    "# to use our t-distribution to generate our confidence intervals."
   ]
  },
  {
   "cell_type": "markdown",
   "metadata": {},
   "source": [
    "Exercise 4: For variable 'NOX', generate a 95% confidence interval and interpret it."
   ]
  },
  {
   "cell_type": "code",
   "execution_count": 7,
   "metadata": {
    "collapsed": false
   },
   "outputs": [
    {
     "name": "stdout",
     "output_type": "stream",
     "text": [
      "We are 95% confident that the true mean value for 'NOX' is between 0.544574262292 and 0.564815856285.\n"
     ]
    }
   ],
   "source": [
    "t_interval_95 = t.interval(0.95,\n",
    "                           len(data['NOX'])-1,\n",
    "                           loc=np.mean(data['NOX']),\n",
    "                           scale=np.std(data['NOX'],ddof = 1)/(len(data['NOX']))**0.5)\n",
    "\n",
    "print \"We are 95% confident that the true mean value for 'NOX' is between \" + str(t_interval_95[0]) + \" and \" + str(t_interval_95[1]) + \".\""
   ]
  },
  {
   "cell_type": "markdown",
   "metadata": {},
   "source": [
    "Exercise 5: For the variable 'NOX', find the median."
   ]
  },
  {
   "cell_type": "code",
   "execution_count": 8,
   "metadata": {
    "collapsed": false
   },
   "outputs": [
    {
     "data": {
      "text/plain": [
       "0.53800000000000003"
      ]
     },
     "execution_count": 8,
     "metadata": {},
     "output_type": "execute_result"
    }
   ],
   "source": [
    "np.median(data['NOX'])"
   ]
  },
  {
   "cell_type": "markdown",
   "metadata": {},
   "source": [
    "Exercise 6: For the variable 'NOX', test the hypothesis that the mean is equal to the median. You may use scipy functions to complete this, but complete all steps - define hypotheses, etc. Let alpha = 0.05. Interpret your results."
   ]
  },
  {
   "cell_type": "code",
   "execution_count": 9,
   "metadata": {
    "collapsed": false
   },
   "outputs": [
    {
     "name": "stdout",
     "output_type": "stream",
     "text": [
      "Our sample mean is 0.554695059289.\n",
      "Our t-statistic is 3.24088371678.\n",
      "Our p-value is 0.00127005273618.\n",
      "We reject our null hypothesis and conclude that the true mean NOX value is different from the median NOX value.\n"
     ]
    }
   ],
   "source": [
    "## Step 1: Define hypotheses.\n",
    "### H_0: mu_NOX = M_NOX\n",
    "### H_A: mu_NOX != M_NOX\n",
    "\n",
    "## Step 2: alpha = 0.05.\n",
    "alpha = 0.05\n",
    "\n",
    "## Step 3: Calculate point estimate.\n",
    "sample_mean = np.mean(data['NOX'])\n",
    "\n",
    "## Step 4: Calculate test statistic.\n",
    "t_statistic = (sample_mean - np.median(data['NOX']))/(np.std(data['NOX'], ddof=1)/len(data['NOX'])**0.5)\n",
    "\n",
    "## Step 5: Find p-value.\n",
    "p_value = t.sf(np.abs(t_statistic), len(data['NOX'])) * 2 \n",
    "## Because our alternative hypothesis is != (rather than greater than or less than),\n",
    "## we multiply our p-value by 2. (This is called a two-sided test.)\n",
    "\n",
    "print \"Our sample mean is \" + str(sample_mean) + \".\"\n",
    "print \"Our t-statistic is \" + str(t_statistic) + \".\"\n",
    "print \"Our p-value is \" + str(p_value) + \".\"\n",
    "\n",
    "if p_value < alpha:\n",
    "    print \"We reject our null hypothesis and conclude that the true mean NOX value is different from the median NOX value.\"\n",
    "elif p_value > alpha:\n",
    "    print \"We fail to reject our null hypothesis and cannot conclude that the true mean NOX value is different from the median .\"\n",
    "else:\n",
    "    print \"Our test is inconclusive.\""
   ]
  },
  {
   "cell_type": "markdown",
   "metadata": {},
   "source": [
    "Exercise 7: What do you notice about the results from Exercise 4 and Exercise 6? If you were going to generalize this to the relationship between hypothesis tests and confidence intervals, what might you say? Be specific."
   ]
  },
  {
   "cell_type": "code",
   "execution_count": 10,
   "metadata": {
    "collapsed": true
   },
   "outputs": [],
   "source": [
    "## When we calculated the median, it was 0.538. The 95% confidence interval for our\n",
    "## mean contained 0.545 through 0.565. Since the median was outside our 95%\n",
    "## confidence interval, this suggests that the true mean would not be equal to our\n",
    "## median.\n",
    "\n",
    "## We then conducted the hypothesis test and found that, at the alpha = 0.05\n",
    "## significance level, we rejected the hypothesis that the mean and median were\n",
    "## equal.\n",
    "\n",
    "## The results of our hypothesis test and confidence interval are in agreement\n",
    "## here. Because our significance level (for HT) is alpha, as long as our \n",
    "## confidence level (for CI) is 1 - alpha, the results should be in agreement.\n",
    "## That is, if the value of interest does not lie in our 1 - alpha CI, then\n",
    "## testing the hypothesis that the parameter equals the value of interest\n",
    "## should be rejected at the alpha significance level. Similarly, if the value\n",
    "## of interest *does* lie in our 1 - alpha CI, then testing the hypothesis that\n",
    "## the parameter equals the value of interest should *not* be rejected at the\n",
    "## alpha significance level."
   ]
  },
  {
   "cell_type": "markdown",
   "metadata": {},
   "source": [
    "Exercise 8: For the variable 'NOX', test the hypothesis that the mean is greater than or equal to the median. You may use scipy functions to complete this, but complete all steps - define hypotheses, etc. Let alpha = 0.05. Interpret your results."
   ]
  },
  {
   "cell_type": "code",
   "execution_count": 11,
   "metadata": {
    "collapsed": false
   },
   "outputs": [
    {
     "name": "stdout",
     "output_type": "stream",
     "text": [
      "Our sample mean is 0.554695059289.\n",
      "Our t-statistic is 3.24088371678.\n",
      "Our p-value is 0.00063502636809.\n",
      "We reject our null hypothesis and conclude that the true mean NOX value is different from the median NOX value.\n"
     ]
    }
   ],
   "source": [
    "## Step 1: Define hypotheses.\n",
    "### H_0: mu_NOX >= M_NOX\n",
    "### H_A: mu_NOX < M_NOX\n",
    "\n",
    "## Step 2: alpha = 0.05.\n",
    "alpha = 0.05\n",
    "\n",
    "## Step 3: Calculate point estimate.\n",
    "sample_mean = np.mean(data['NOX'])\n",
    "\n",
    "## Step 4: Calculate test statistic.\n",
    "t_statistic = (sample_mean - np.median(data['NOX']))/(np.std(data['NOX'], ddof=1)/len(data['NOX'])**0.5)\n",
    "\n",
    "## Step 5: Find p-value.\n",
    "p_value = t.sf(np.abs(t_statistic), len(data['NOX']))\n",
    "## Because our alternative hypothesis is < (rather than equal to),\n",
    "## we DO NOT multiply our p-value by 2. (This is called a one-sided test.)\n",
    "\n",
    "print \"Our sample mean is \" + str(sample_mean) + \".\"\n",
    "print \"Our t-statistic is \" + str(t_statistic) + \".\"\n",
    "print \"Our p-value is \" + str(p_value) + \".\"\n",
    "\n",
    "if p_value < alpha:\n",
    "    print \"We reject our null hypothesis and conclude that the true mean NOX value is different from the median NOX value.\"\n",
    "elif p_value > alpha:\n",
    "    print \"We fail to reject our null hypothesis and cannot conclude that the true mean NOX value is different from the median .\"\n",
    "else:\n",
    "    print \"Our test is inconclusive.\""
   ]
  },
  {
   "cell_type": "markdown",
   "metadata": {},
   "source": [
    "Exercise 9: Compare the p-values from Exercise 6 and Exercise 8. What do you notice?"
   ]
  },
  {
   "cell_type": "code",
   "execution_count": 12,
   "metadata": {
    "collapsed": true
   },
   "outputs": [],
   "source": [
    "## The p-value in Exercise 6 is exactly double the p-value in Exercise 8, by construction.\n",
    "## This is because of the fact that our alternative hypotheses are different. In Exercise\n",
    "## 6, we can reject the null hypothesis for very large values of mu or very small values\n",
    "## of mu. Because this is a two-sided test, we double our p-value. In Exercise 8, we can\n",
    "## reject the null hypothesis for very small values of mu *but* cannot reject the null\n",
    "## hypothesis for very large values of mu. Because we can only reject on one side, we\n",
    "## call this a one-sided test. Due to the fact that this is a one-sided test, we do not\n",
    "## need to double our p-value."
   ]
  }
 ],
 "metadata": {
  "anaconda-cloud": {},
  "kernelspec": {
   "display_name": "Python [conda env:py27]",
   "language": "python",
   "name": "conda-env-py27-py"
  },
  "language_info": {
   "codemirror_mode": {
    "name": "ipython",
    "version": 2
   },
   "file_extension": ".py",
   "mimetype": "text/x-python",
   "name": "python",
   "nbconvert_exporter": "python",
   "pygments_lexer": "ipython2",
   "version": "2.7.12"
  }
 },
 "nbformat": 4,
 "nbformat_minor": 1
}
