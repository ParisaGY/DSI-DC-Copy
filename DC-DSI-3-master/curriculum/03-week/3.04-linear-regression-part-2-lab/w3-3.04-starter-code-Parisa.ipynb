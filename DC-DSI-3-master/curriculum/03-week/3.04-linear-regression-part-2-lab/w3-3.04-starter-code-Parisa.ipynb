{
 "cells": [
  {
   "cell_type": "markdown",
   "metadata": {},
   "source": [
    "Problem 1. Use the same data as earlier. Build the best MLR model you can. Why do you think yours is best? Make sure you support your choice with plots, written explanation, etc. Include at least three variables, at least one of which should be a dummy variable."
   ]
  },
  {
   "cell_type": "code",
   "execution_count": 78,
   "metadata": {
    "collapsed": false
   },
   "outputs": [
    {
     "data": {
      "text/html": [
       "<table class=\"simpletable\">\n",
       "<caption>OLS Regression Results</caption>\n",
       "<tr>\n",
       "  <th>Dep. Variable:</th>          <td>price</td>      <th>  R-squared:         </th> <td>   0.560</td> \n",
       "</tr>\n",
       "<tr>\n",
       "  <th>Model:</th>                   <td>OLS</td>       <th>  Adj. R-squared:    </th> <td>   0.558</td> \n",
       "</tr>\n",
       "<tr>\n",
       "  <th>Method:</th>             <td>Least Squares</td>  <th>  F-statistic:       </th> <td>   256.8</td> \n",
       "</tr>\n",
       "<tr>\n",
       "  <th>Date:</th>             <td>Mon, 28 Nov 2016</td> <th>  Prob (F-statistic):</th> <td>2.95e-142</td>\n",
       "</tr>\n",
       "<tr>\n",
       "  <th>Time:</th>                 <td>23:27:35</td>     <th>  Log-Likelihood:    </th> <td> -10313.</td> \n",
       "</tr>\n",
       "<tr>\n",
       "  <th>No. Observations:</th>      <td>   812</td>      <th>  AIC:               </th> <td>2.064e+04</td>\n",
       "</tr>\n",
       "<tr>\n",
       "  <th>Df Residuals:</th>          <td>   807</td>      <th>  BIC:               </th> <td>2.066e+04</td>\n",
       "</tr>\n",
       "<tr>\n",
       "  <th>Df Model:</th>              <td>     4</td>      <th>                     </th>     <td> </td>    \n",
       "</tr>\n",
       "<tr>\n",
       "  <th>Covariance Type:</th>      <td>nonrobust</td>    <th>                     </th>     <td> </td>    \n",
       "</tr>\n",
       "</table>\n",
       "<table class=\"simpletable\">\n",
       "<tr>\n",
       "        <td></td>          <th>coef</th>     <th>std err</th>      <th>t</th>      <th>P>|t|</th> <th>[95.0% Conf. Int.]</th> \n",
       "</tr>\n",
       "<tr>\n",
       "  <th>const</th>        <td> 2.033e+07</td> <td> 3.15e+06</td> <td>    6.448</td> <td> 0.000</td> <td> 1.41e+07  2.65e+07</td>\n",
       "</tr>\n",
       "<tr>\n",
       "  <th>sq__ft</th>       <td>  131.9005</td> <td>    4.460</td> <td>   29.575</td> <td> 0.000</td> <td>  123.146   140.655</td>\n",
       "</tr>\n",
       "<tr>\n",
       "  <th>zip</th>          <td> -212.2435</td> <td>   32.916</td> <td>   -6.448</td> <td> 0.000</td> <td> -276.854  -147.633</td>\n",
       "</tr>\n",
       "<tr>\n",
       "  <th>Multi-Family</th> <td>-4.628e+04</td> <td> 2.58e+04</td> <td>   -1.794</td> <td> 0.073</td> <td>-9.69e+04  4346.792</td>\n",
       "</tr>\n",
       "<tr>\n",
       "  <th>Residential</th>  <td> 1.754e+04</td> <td> 1.31e+04</td> <td>    1.342</td> <td> 0.180</td> <td>-8109.780  4.32e+04</td>\n",
       "</tr>\n",
       "</table>\n",
       "<table class=\"simpletable\">\n",
       "<tr>\n",
       "  <th>Omnibus:</th>       <td>328.459</td> <th>  Durbin-Watson:     </th> <td>   1.228</td>\n",
       "</tr>\n",
       "<tr>\n",
       "  <th>Prob(Omnibus):</th> <td> 0.000</td>  <th>  Jarque-Bera (JB):  </th> <td>1825.087</td>\n",
       "</tr>\n",
       "<tr>\n",
       "  <th>Skew:</th>          <td> 1.758</td>  <th>  Prob(JB):          </th> <td>    0.00</td>\n",
       "</tr>\n",
       "<tr>\n",
       "  <th>Kurtosis:</th>      <td> 9.448</td>  <th>  Cond. No.          </th> <td>1.08e+08</td>\n",
       "</tr>\n",
       "</table>"
      ],
      "text/plain": [
       "<class 'statsmodels.iolib.summary.Summary'>\n",
       "\"\"\"\n",
       "                            OLS Regression Results                            \n",
       "==============================================================================\n",
       "Dep. Variable:                  price   R-squared:                       0.560\n",
       "Model:                            OLS   Adj. R-squared:                  0.558\n",
       "Method:                 Least Squares   F-statistic:                     256.8\n",
       "Date:                Mon, 28 Nov 2016   Prob (F-statistic):          2.95e-142\n",
       "Time:                        23:27:35   Log-Likelihood:                -10313.\n",
       "No. Observations:                 812   AIC:                         2.064e+04\n",
       "Df Residuals:                     807   BIC:                         2.066e+04\n",
       "Df Model:                           4                                         \n",
       "Covariance Type:            nonrobust                                         \n",
       "================================================================================\n",
       "                   coef    std err          t      P>|t|      [95.0% Conf. Int.]\n",
       "--------------------------------------------------------------------------------\n",
       "const         2.033e+07   3.15e+06      6.448      0.000      1.41e+07  2.65e+07\n",
       "sq__ft         131.9005      4.460     29.575      0.000       123.146   140.655\n",
       "zip           -212.2435     32.916     -6.448      0.000      -276.854  -147.633\n",
       "Multi-Family -4.628e+04   2.58e+04     -1.794      0.073     -9.69e+04  4346.792\n",
       "Residential   1.754e+04   1.31e+04      1.342      0.180     -8109.780  4.32e+04\n",
       "==============================================================================\n",
       "Omnibus:                      328.459   Durbin-Watson:                   1.228\n",
       "Prob(Omnibus):                  0.000   Jarque-Bera (JB):             1825.087\n",
       "Skew:                           1.758   Prob(JB):                         0.00\n",
       "Kurtosis:                       9.448   Cond. No.                     1.08e+08\n",
       "==============================================================================\n",
       "\n",
       "Warnings:\n",
       "[1] Standard Errors assume that the covariance matrix of the errors is correctly specified.\n",
       "[2] The condition number is large, 1.08e+08. This might indicate that there are\n",
       "strong multicollinearity or other numerical problems.\n",
       "\"\"\""
      ]
     },
     "execution_count": 78,
     "metadata": {},
     "output_type": "execute_result"
    }
   ],
   "source": [
    "## Problem 1.\n",
    "## we have to evaluate price of the house in Sacramento\n",
    "## street, city, zip, state, beds, baths, sq__ft, type, sale_date, price, latitude, longitude\n",
    "## these are different variables. Some of them are in the same group. \n",
    "## street, city, zip, state,latitude, longitude are in group one\n",
    "## beds is group 2.\n",
    "## baths is group 3.\n",
    "## sq__ft is group 4.\n",
    "## typeis group 5. \n",
    "## sale_date is group 6.\n",
    "\n",
    "#--------------------------------------#\n",
    "#          import data\n",
    "#--------------------------------------#\n",
    "\n",
    "%matplotlib inline\n",
    "from matplotlib import pyplot as plt\n",
    "import pandas as pd\n",
    "import numpy as np\n",
    "\n",
    "new_data = pd.read_csv('sacramento_real_estate_transactions.csv', sep=',')\n",
    "new_data  = new_data.loc[new_data['sq__ft'] > 0]\n",
    "new_data  = new_data.loc[new_data['beds'] > 0]\n",
    "new_data  = new_data.loc[new_data['baths'] > 0]\n",
    "new_data  = new_data.loc[new_data['price'] > 10000]\n",
    "new_data  = new_data.loc[new_data['type'] != 'Unknown']\n",
    "new_data.shape\n",
    "\n",
    "#--------------------------------------#\n",
    "#        Seprate data and target (price)\n",
    "#--------------------------------------#\n",
    "\n",
    "targets = pd.DataFrame(new_data['price'], columns=[\"price\"])\n",
    "df = new_data.drop('price', axis=1) \n",
    "df.head()\n",
    "#--------------------------------------#\n",
    "#        1) model one variable\n",
    "#--------------------------------------#\n",
    "\n",
    "import statsmodels.api as sm\n",
    "\n",
    "X = df[\"sq__ft\"]\n",
    "y = targets[\"price\"]\n",
    "X = sm.add_constant(X)\n",
    "\n",
    "# Note the difference in argument order\n",
    "model = sm.OLS(y, X).fit()\n",
    "predictions = model.predict(X)\n",
    "\n",
    "# Print out the statistics\n",
    "model.summary()\n",
    "\n",
    "#--------------------------------------#\n",
    "#        2) model two variable\n",
    "#--------------------------------------#\n",
    "\n",
    "X = df[[\"sq__ft\", \"zip\"]]\n",
    "y = targets[\"price\"]\n",
    "X = sm.add_constant(X)\n",
    "\n",
    "model = sm.OLS(y, X).fit()\n",
    "predictions = model.predict(X)\n",
    "\n",
    "model.summary()\n",
    "\n",
    "#--------------------------------------#\n",
    "#        3) create dummy variable\n",
    "#--------------------------------------#\n",
    "#raw_data = {'type': ['Condo', 'Multi-Family', 'Residential', 'Unknown']}\n",
    "\n",
    "df1 = pd.DataFrame(new_data['type'], columns=[\"type\"])\n",
    "df_type = pd.get_dummies(df['type'],drop_first=True)\n",
    "df_new = pd.concat([new_data, df_type], axis=1)\n",
    "df_new\n",
    "\n",
    "#--------------------------------------#\n",
    "#        3) model with dummy variable\n",
    "#--------------------------------------#\n",
    "X = df_new[[\"sq__ft\", \"zip\", \"Multi-Family\", \"Residential\"]]\n",
    "y = targets[\"price\"]\n",
    "X = sm.add_constant(X)\n",
    "\n",
    "model = sm.OLS(y, X).fit()\n",
    "predictions = model.predict(X)\n",
    "\n",
    "model.summary()\n"
   ]
  },
  {
   "cell_type": "markdown",
   "metadata": {},
   "source": [
    "Problem 2. Plot the residuals comparing your MLR model to the true data points.\n"
   ]
  },
  {
   "cell_type": "code",
   "execution_count": 70,
   "metadata": {
    "collapsed": false
   },
   "outputs": [
    {
     "data": {
      "image/png": "[encoded data removed]",
      "text/plain": [
       "<matplotlib.figure.Figure at 0x116611e50>"
      ]
     },
     "metadata": {},
     "output_type": "display_data"
    },
    {
     "name": "stdout",
     "output_type": "stream",
     "text": [
      "MSE: 1.62708489643e+12\n"
     ]
    }
   ],
   "source": [
    "## Problem 2. \n",
    "plt.scatter(predictions, y, s=30, c='r', marker='+', zorder=10)\n",
    "plt.xlabel(\"Predicted Values from sq__ft,zip,Multi-Family,Residential\")\n",
    "plt.ylabel(\"Actual Values price\")\n",
    "plt.show()\n",
    "print \"MSE:\", model.mse_model\n"
   ]
  },
  {
   "cell_type": "markdown",
   "metadata": {},
   "source": [
    "Problem 3. List the five assumptions for an MLR model. Indicate which ones are the same as the assumptions for an SLR model. \n"
   ]
  },
  {
   "cell_type": "code",
   "execution_count": null,
   "metadata": {
    "collapsed": true
   },
   "outputs": [],
   "source": [
    "## Problem 3.\n",
    "#Linearity: Y must have an approximately linear relationship with each independent X_i.\n",
    "#Independence: Errors (residuals) e_i and e_j must be independent of one another for any i != j.\n",
    "#Normality: The errors (residuals) follow a Normal distribution.\n",
    "#Equality of Variances: The errors (residuals) should have a roughly consistent pattern, regardless of the value of the X_i. (There should be no discernable relationship between X_1 and the residuals.)\n",
    "#Independence Part 2: The independent variables X_i and X_j must be independent of one another for any i != j.\n",
    "\n",
    "\n",
    "## all of them except the last one are the same as the assumptions for an SLR"
   ]
  },
  {
   "cell_type": "markdown",
   "metadata": {},
   "source": [
    "Problem 4. Pick at least two assumptions and articulate whether or not you believe them to be met and why.\n"
   ]
  },
  {
   "cell_type": "code",
   "execution_count": null,
   "metadata": {
    "collapsed": true
   },
   "outputs": [],
   "source": [
    "## Problem 4.\n",
    "#linearity- all the coefficient are linear.\n",
    "\n",
    "#independence - type of the house are independent from the zip code and square feet\n"
   ]
  },
  {
   "cell_type": "markdown",
   "metadata": {},
   "source": [
    "Problem 5. Interpret the y-intercept and at least two of the independent variables."
   ]
  },
  {
   "cell_type": "code",
   "execution_count": null,
   "metadata": {
    "collapsed": true
   },
   "outputs": [],
   "source": [
    "## Problem 5.\n",
    "\n",
    "Y-interception is 2.033e+07\n",
    "if all the independent variables are zero(sq__ft,zip, residuals,Multi-Family) the price is Y-interception. It is high and does not make sendnse\n",
    "\n",
    "\n"
   ]
  },
  {
   "cell_type": "markdown",
   "metadata": {},
   "source": [
    "Problem 6. Generate a table showing the point estimates, standard errors, t-scores, p-values, and 95% confidence intervals for the model you built. Write a few sentences interpreting some of the output.\n",
    "\n",
    "(Hint: scikit-learn does not have this functionality built in, but statsmodels does.)"
   ]
  },
  {
   "cell_type": "code",
   "execution_count": 80,
   "metadata": {
    "collapsed": false
   },
   "outputs": [],
   "source": [
    "## Problem 6.\n",
    "#showed above\n",
    "\n"
   ]
  },
  {
   "cell_type": "markdown",
   "metadata": {},
   "source": [
    "BONUS. You work for a real estate agency. You are asked to prepare an executive summary for your very busy boss highlighting the most important findings from your MLR model. Convey these findings in no more than two paragraphs. Be sure to briefly address any potential shortcomings of your model."
   ]
  },
  {
   "cell_type": "code",
   "execution_count": null,
   "metadata": {
    "collapsed": true
   },
   "outputs": [],
   "source": [
    "## BONUS."
   ]
  }
 ],
 "metadata": {
  "anaconda-cloud": {},
  "kernelspec": {
   "display_name": "Python [conda env:py27]",
   "language": "python",
   "name": "conda-env-py27-py"
  },
  "language_info": {
   "codemirror_mode": {
    "name": "ipython",
    "version": 2
   },
   "file_extension": ".py",
   "mimetype": "text/x-python",
   "name": "python",
   "nbconvert_exporter": "python",
   "pygments_lexer": "ipython2",
   "version": "2.7.12"
  }
 },
 "nbformat": 4,
 "nbformat_minor": 1
}
