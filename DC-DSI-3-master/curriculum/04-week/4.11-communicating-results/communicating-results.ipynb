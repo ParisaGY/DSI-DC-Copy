{
 "cells": [
  {
   "cell_type": "markdown",
   "metadata": {},
   "source": [
    "# Communicating Results\n",
    "## Set up data"
   ]
  },
  {
   "cell_type": "code",
   "execution_count": 177,
   "metadata": {
    "collapsed": false
   },
   "outputs": [],
   "source": [
    "import pandas as pd\n",
    "import numpy as np\n",
    "import matplotlib.pyplot as plt\n",
    "% matplotlib inline\n",
    "\n",
    "df = pd.read_csv('cereal.csv', sep=';')\n",
    "\n",
    "#to demonstrate continuous and categorical predictions, we will keep rating numerical, as well as make a ranked classification system\n",
    "\n",
    "df.rating.describe()\n",
    "\n",
    "df['rate_class'] = pd.cut(df.rating, 2, labels=['bad','good'])"
   ]
  },
  {
   "cell_type": "code",
   "execution_count": 178,
   "metadata": {
    "collapsed": false
   },
   "outputs": [
    {
     "data": {
      "text/plain": [
       "bad     63\n",
       "good    11\n",
       "dtype: int64"
      ]
     },
     "execution_count": 178,
     "metadata": {},
     "output_type": "execute_result"
    }
   ],
   "source": [
    "df.rate_class.value_counts()"
   ]
  },
  {
   "cell_type": "code",
   "execution_count": 179,
   "metadata": {
    "collapsed": false
   },
   "outputs": [
    {
     "data": {
      "text/html": [
       "<div>\n",
       "<table border=\"1\" class=\"dataframe\">\n",
       "  <thead>\n",
       "    <tr style=\"text-align: right;\">\n",
       "      <th></th>\n",
       "      <th>name</th>\n",
       "      <th>mfr</th>\n",
       "      <th>type</th>\n",
       "      <th>calories</th>\n",
       "      <th>protein</th>\n",
       "      <th>fat</th>\n",
       "      <th>sodium</th>\n",
       "      <th>fiber</th>\n",
       "      <th>carbo</th>\n",
       "      <th>sugars</th>\n",
       "      <th>potass</th>\n",
       "      <th>vitamins</th>\n",
       "      <th>shelf</th>\n",
       "      <th>weight</th>\n",
       "      <th>cups</th>\n",
       "      <th>rating</th>\n",
       "      <th>rate_class</th>\n",
       "    </tr>\n",
       "  </thead>\n",
       "  <tbody>\n",
       "    <tr>\n",
       "      <th>0</th>\n",
       "      <td>100%Bran</td>\n",
       "      <td>N</td>\n",
       "      <td>C</td>\n",
       "      <td>70</td>\n",
       "      <td>4</td>\n",
       "      <td>1</td>\n",
       "      <td>130</td>\n",
       "      <td>10.0</td>\n",
       "      <td>5.0</td>\n",
       "      <td>6</td>\n",
       "      <td>280</td>\n",
       "      <td>25</td>\n",
       "      <td>3</td>\n",
       "      <td>1.0</td>\n",
       "      <td>0.33</td>\n",
       "      <td>68.402973</td>\n",
       "      <td>good</td>\n",
       "    </tr>\n",
       "    <tr>\n",
       "      <th>1</th>\n",
       "      <td>100%NaturalBran</td>\n",
       "      <td>Q</td>\n",
       "      <td>C</td>\n",
       "      <td>120</td>\n",
       "      <td>3</td>\n",
       "      <td>5</td>\n",
       "      <td>15</td>\n",
       "      <td>2.0</td>\n",
       "      <td>8.0</td>\n",
       "      <td>8</td>\n",
       "      <td>135</td>\n",
       "      <td>0</td>\n",
       "      <td>3</td>\n",
       "      <td>1.0</td>\n",
       "      <td>1.00</td>\n",
       "      <td>33.983679</td>\n",
       "      <td>bad</td>\n",
       "    </tr>\n",
       "    <tr>\n",
       "      <th>2</th>\n",
       "      <td>All-Bran</td>\n",
       "      <td>K</td>\n",
       "      <td>C</td>\n",
       "      <td>70</td>\n",
       "      <td>4</td>\n",
       "      <td>1</td>\n",
       "      <td>260</td>\n",
       "      <td>9.0</td>\n",
       "      <td>7.0</td>\n",
       "      <td>5</td>\n",
       "      <td>320</td>\n",
       "      <td>25</td>\n",
       "      <td>3</td>\n",
       "      <td>1.0</td>\n",
       "      <td>0.33</td>\n",
       "      <td>59.425505</td>\n",
       "      <td>good</td>\n",
       "    </tr>\n",
       "    <tr>\n",
       "      <th>3</th>\n",
       "      <td>All-BranwithExtraFiber</td>\n",
       "      <td>K</td>\n",
       "      <td>C</td>\n",
       "      <td>50</td>\n",
       "      <td>4</td>\n",
       "      <td>0</td>\n",
       "      <td>140</td>\n",
       "      <td>14.0</td>\n",
       "      <td>8.0</td>\n",
       "      <td>0</td>\n",
       "      <td>330</td>\n",
       "      <td>25</td>\n",
       "      <td>3</td>\n",
       "      <td>1.0</td>\n",
       "      <td>0.50</td>\n",
       "      <td>93.704912</td>\n",
       "      <td>good</td>\n",
       "    </tr>\n",
       "    <tr>\n",
       "      <th>4</th>\n",
       "      <td>AppleCinnamonCheerios</td>\n",
       "      <td>G</td>\n",
       "      <td>C</td>\n",
       "      <td>110</td>\n",
       "      <td>2</td>\n",
       "      <td>2</td>\n",
       "      <td>180</td>\n",
       "      <td>1.5</td>\n",
       "      <td>10.5</td>\n",
       "      <td>10</td>\n",
       "      <td>70</td>\n",
       "      <td>25</td>\n",
       "      <td>1</td>\n",
       "      <td>1.0</td>\n",
       "      <td>0.75</td>\n",
       "      <td>29.509541</td>\n",
       "      <td>bad</td>\n",
       "    </tr>\n",
       "  </tbody>\n",
       "</table>\n",
       "</div>"
      ],
      "text/plain": [
       "                     name mfr type  calories  protein  fat  sodium  fiber  \\\n",
       "0                100%Bran   N    C        70        4    1     130   10.0   \n",
       "1         100%NaturalBran   Q    C       120        3    5      15    2.0   \n",
       "2                All-Bran   K    C        70        4    1     260    9.0   \n",
       "3  All-BranwithExtraFiber   K    C        50        4    0     140   14.0   \n",
       "4   AppleCinnamonCheerios   G    C       110        2    2     180    1.5   \n",
       "\n",
       "   carbo  sugars  potass  vitamins  shelf  weight  cups     rating rate_class  \n",
       "0    5.0       6     280        25      3     1.0  0.33  68.402973       good  \n",
       "1    8.0       8     135         0      3     1.0  1.00  33.983679        bad  \n",
       "2    7.0       5     320        25      3     1.0  0.33  59.425505       good  \n",
       "3    8.0       0     330        25      3     1.0  0.50  93.704912       good  \n",
       "4   10.5      10      70        25      1     1.0  0.75  29.509541        bad  "
      ]
     },
     "execution_count": 179,
     "metadata": {},
     "output_type": "execute_result"
    }
   ],
   "source": [
    "df.head()"
   ]
  },
  {
   "cell_type": "code",
   "execution_count": 180,
   "metadata": {
    "collapsed": false
   },
   "outputs": [
    {
     "data": {
      "text/plain": [
       "74"
      ]
     },
     "execution_count": 180,
     "metadata": {},
     "output_type": "execute_result"
    }
   ],
   "source": [
    "df.isnull().sum() #no nulls\n",
    "df.dtypes #all seem okay\n",
    "len(df)"
   ]
  },
  {
   "cell_type": "markdown",
   "metadata": {},
   "source": [
    "## Build models"
   ]
  },
  {
   "cell_type": "code",
   "execution_count": 189,
   "metadata": {
    "collapsed": false
   },
   "outputs": [],
   "source": [
    "#import models\n",
    "from sklearn.linear_model import LinearRegression, LogisticRegression\n",
    "\n",
    "linreg = LinearRegression()\n",
    "logreg = LogisticRegression()\n",
    "\n",
    "#split data for training/testing\n",
    "from sklearn.cross_validation import train_test_split\n",
    "\n",
    "cols = list(df.columns)\n",
    "#for simplicity's sake, we will remove columns with object type\n",
    "cols.remove('name')\n",
    "cols.remove('mfr')\n",
    "cols.remove('type')\n",
    "#remove our target variables\n",
    "cols.remove('rating')\n",
    "cols.remove('rate_class')\n",
    "\n",
    "#define features and targets\n",
    "X = df[cols]\n",
    "y_lin = df.rating\n",
    "y_log = df.rate_class\n",
    "\n",
    "#split data\n",
    "X_train_lin, X_test_lin, y_train_lin, y_test_lin = train_test_split(X, y_lin)\n",
    "X_train_log, X_test_log, y_train_log, y_test_log = train_test_split(X, y_log, train_size=0.5)\n",
    "\n",
    "#train models\n",
    "linreg.fit(X_train_lin, y_train_lin)\n",
    "logreg.fit(X_train_log, y_train_log)\n",
    "\n",
    "#get predictions from test data\n",
    "y_pred_lin = linreg.predict(X_test_lin)\n",
    "\n",
    "y_pred_log = logreg.predict(X_test_log)\n",
    "y_probs_log = logreg.predict_proba(X_test_log)"
   ]
  },
  {
   "cell_type": "code",
   "execution_count": null,
   "metadata": {
    "collapsed": false
   },
   "outputs": [],
   "source": []
  },
  {
   "cell_type": "markdown",
   "metadata": {},
   "source": [
    "## Regression Metrics"
   ]
  },
  {
   "cell_type": "markdown",
   "metadata": {},
   "source": [
    "#### .score"
   ]
  },
  {
   "cell_type": "code",
   "execution_count": 191,
   "metadata": {
    "collapsed": false
   },
   "outputs": [
    {
     "name": "stdout",
     "output_type": "stream",
     "text": [
      "linear regression score: \n",
      "1.0\n",
      "\n",
      "logistic regression score: \n",
      "0.891891891892\n"
     ]
    }
   ],
   "source": [
    "print 'linear regression score: '\n",
    "print linreg.score(X_test_lin, y_test_lin)\n",
    "print\n",
    "print 'logistic regression score: '\n",
    "print logreg.score(X_test_log, y_test_log)"
   ]
  },
  {
   "cell_type": "markdown",
   "metadata": {},
   "source": [
    "#### cross validation score"
   ]
  },
  {
   "cell_type": "code",
   "execution_count": 193,
   "metadata": {
    "collapsed": false
   },
   "outputs": [
    {
     "name": "stdout",
     "output_type": "stream",
     "text": [
      "linear regression cross-val score: \n",
      "mse: -1.34686834193e-13\n",
      "rmse: 3.66997049298e-07\n",
      "\n",
      "logistic regression cross-val score: \n",
      "0.933531746032\n"
     ]
    }
   ],
   "source": [
    "from sklearn.cross_validation import cross_val_score\n",
    "\n",
    "#linear regression - use error (need to define type)\n",
    "#note - RMSE is not an accuracy metric in cross_val_score. Considering taking square root before explaining to clients.\n",
    "#note - need to make mse non-negative - this is where numpy behaves oddly, making mse negative\n",
    "\n",
    "mse = cross_val_score(linreg, X, y_lin, scoring='mean_squared_error', cv=10).mean() \n",
    "rmse = np.sqrt(abs(mse)) \n",
    "\n",
    "print 'linear regression cross-val score: '\n",
    "print 'mse: ' + str(mse)\n",
    "print 'rmse: ' + str(rmse)\n",
    "\n",
    "#logistic regression - use accuracy (can choose other metrics)\n",
    "print\n",
    "print 'logistic regression cross-val score: '\n",
    "print cross_val_score(logreg, X, y_log, scoring='accuracy', cv=10).mean()\n"
   ]
  },
  {
   "cell_type": "markdown",
   "metadata": {},
   "source": [
    "## Classification Metrics"
   ]
  },
  {
   "cell_type": "code",
   "execution_count": 252,
   "metadata": {
    "collapsed": false
   },
   "outputs": [
    {
     "data": {
      "text/html": [
       "<div>\n",
       "<table border=\"1\" class=\"dataframe\">\n",
       "  <thead>\n",
       "    <tr style=\"text-align: right;\">\n",
       "      <th></th>\n",
       "      <th>Predicted Neg</th>\n",
       "      <th>Predicted Pos</th>\n",
       "    </tr>\n",
       "  </thead>\n",
       "  <tbody>\n",
       "    <tr>\n",
       "      <th>Actual Pos</th>\n",
       "      <td>FN</td>\n",
       "      <td>TP</td>\n",
       "    </tr>\n",
       "    <tr>\n",
       "      <th>Actual Neg</th>\n",
       "      <td>TN</td>\n",
       "      <td>FP</td>\n",
       "    </tr>\n",
       "  </tbody>\n",
       "</table>\n",
       "</div>"
      ],
      "text/plain": [
       "           Predicted Neg Predicted Pos\n",
       "Actual Pos            FN            TP\n",
       "Actual Neg            TN            FP"
      ]
     },
     "execution_count": 252,
     "metadata": {},
     "output_type": "execute_result"
    }
   ],
   "source": [
    "pd.DataFrame({'Predicted Neg':['FN','TN'],'Predicted Pos':['TP','FP']}, index=['Actual Pos','Actual Neg'])"
   ]
  },
  {
   "cell_type": "markdown",
   "metadata": {},
   "source": [
    "### TPR / FPR \n",
    "- True Positive Rate: True Positives (Predicted positives that are actually positive) / Total Actual Positives\n",
    "    - TP / AP (aka FN + TP)\n",
    "    - Same as recall\n",
    "- False Positive Rate: False Positives (Predicted positives that are actually negative) / Total Actual Negatives\n",
    "    - FP / AN (aka TN + FP)\n",
    "    - Same as (1 - Specificity)\n",
    "    \n",
    "### Sensitivity / Specificity\n",
    "- Sensitivity: True Positives / Total Actual Positives\n",
    "    - TP / AP (aka FN + TP)\n",
    "    - Same as TPR\n",
    "- Specificity: True Negatives / Total Actual Negatives\n",
    "    - TN / AN (aka TN + FP)\n",
    "    - Same as (1 - FPR)\n",
    "\n",
    "### Precision/Recall\n",
    "- Recall: True Positives / Total Actual Positives\n",
    "    - TP / AP (aka FN + TP)\n",
    "    - Same as TPR/sensitivity\n",
    "- Precision: True Positives / Total Predicted Positives\n",
    "    - TP / PP (aka TP + FP)\n",
    "\n",
    "### Accuracy\n",
    "- Correct Predictions (TP + TN) / Total Predictions (TP + TN + FP + FN)\n",
    "\n",
    "### F1 Score\n",
    "- Harmonic mean of precision and recall\n",
    "- 2 / (1/prec)+(1/recall)"
   ]
  },
  {
   "cell_type": "markdown",
   "metadata": {},
   "source": [
    "![img]('confmatrix.png')"
   ]
  },
  {
   "cell_type": "markdown",
   "metadata": {},
   "source": [
    "#### Confusion Matrix"
   ]
  },
  {
   "cell_type": "code",
   "execution_count": 266,
   "metadata": {
    "collapsed": false
   },
   "outputs": [
    {
     "name": "stdout",
     "output_type": "stream",
     "text": [
      "logistic regression confusion matrix: \n"
     ]
    },
    {
     "data": {
      "text/html": [
       "<div>\n",
       "<table border=\"1\" class=\"dataframe\">\n",
       "  <thead>\n",
       "    <tr style=\"text-align: right;\">\n",
       "      <th></th>\n",
       "      <th>bad PRED</th>\n",
       "      <th>good PRED</th>\n",
       "    </tr>\n",
       "  </thead>\n",
       "  <tbody>\n",
       "    <tr>\n",
       "      <th>bad TRUE</th>\n",
       "      <td>29</td>\n",
       "      <td>1</td>\n",
       "    </tr>\n",
       "    <tr>\n",
       "      <th>good TRUE</th>\n",
       "      <td>3</td>\n",
       "      <td>4</td>\n",
       "    </tr>\n",
       "  </tbody>\n",
       "</table>\n",
       "</div>"
      ],
      "text/plain": [
       "           bad PRED  good PRED\n",
       "bad TRUE         29          1\n",
       "good TRUE         3          4"
      ]
     },
     "execution_count": 266,
     "metadata": {},
     "output_type": "execute_result"
    }
   ],
   "source": [
    "#only for classification\n",
    "from sklearn.metrics import confusion_matrix\n",
    "\n",
    "#make confusion matrix\n",
    "cm = confusion_matrix(y_test_log, y_pred_log)\n",
    "\n",
    "#make it into a pretty data frame\n",
    "print 'logistic regression confusion matrix: '\n",
    "cm_df = pd.DataFrame(cm, columns=(logreg.classes_ + ' PRED'), index=(logreg.classes_ + ' TRUE'))\n",
    "\n",
    "cm_df"
   ]
  },
  {
   "cell_type": "markdown",
   "metadata": {},
   "source": [
    "#### Classification Report"
   ]
  },
  {
   "cell_type": "code",
   "execution_count": 195,
   "metadata": {
    "collapsed": false
   },
   "outputs": [
    {
     "name": "stdout",
     "output_type": "stream",
     "text": [
      "logistic regression classification report: \n",
      "             precision    recall  f1-score   support\n",
      "\n",
      "        bad       0.91      0.97      0.94        30\n",
      "       good       0.80      0.57      0.67         7\n",
      "\n",
      "avg / total       0.89      0.89      0.88        37\n",
      "\n"
     ]
    }
   ],
   "source": [
    "#only for classification\n",
    "from sklearn.metrics import classification_report\n",
    "\n",
    "print 'logistic regression classification report: '\n",
    "cr = classification_report(y_test_log, y_pred_log)\n",
    "print cr\n"
   ]
  },
  {
   "cell_type": "markdown",
   "metadata": {},
   "source": [
    "#### Accuracy Score\n",
    "\n",
    "Only for classification"
   ]
  },
  {
   "cell_type": "code",
   "execution_count": 256,
   "metadata": {
    "collapsed": false
   },
   "outputs": [
    {
     "name": "stdout",
     "output_type": "stream",
     "text": [
      "logistic regression accuracy score: \n",
      "0.891891891892\n",
      "33\n"
     ]
    }
   ],
   "source": [
    "from sklearn.metrics import accuracy_score\n",
    "\n",
    "print 'logistic regression accuracy score: '\n",
    "print accuracy_score(y_test_log, y_pred_log) #gives ratio of true positives\n",
    "print accuracy_score(y_test_log, y_pred_log, normalize=False) #gives count of true positives\n",
    "\n",
    "#score is the same as .score for logistic regression model"
   ]
  },
  {
   "cell_type": "markdown",
   "metadata": {},
   "source": [
    "### ROC-AUC Scores and Curve\n",
    "Compares TPR (SENSITIVITY) and FPR (1-SPECIFICITY)\n",
    "\n",
    "Compares our correct predictions (both pos. and neg.) to total actual values\n",
    "\n",
    "Works on binary classification only (although could plot multiple curves on same graph for multiclass problems)"
   ]
  },
  {
   "cell_type": "code",
   "execution_count": 253,
   "metadata": {
    "collapsed": false
   },
   "outputs": [
    {
     "data": {
      "text/plain": [
       "<matplotlib.text.Text at 0x11b9e6650>"
      ]
     },
     "execution_count": 253,
     "metadata": {},
     "output_type": "execute_result"
    },
    {
     "data": {
      "image/png": "[encoded data removed]",
      "text/plain": [
       "<matplotlib.figure.Figure at 0x11a9f2d10>"
      ]
     },
     "metadata": {},
     "output_type": "display_data"
    }
   ],
   "source": [
    "from sklearn.metrics import roc_auc_score, roc_curve, auc\n",
    "\n",
    "#to use the roc curve, you will need to use only the second column of our y_probs array\n",
    "#this is easy if you transpose it and take the second item (index 1)\n",
    "y_scores = y_probs_log.T[1]\n",
    "\n",
    "#get parameters for plotting\n",
    "FPR, TPR, threshold = roc_curve(y_test_log, y_scores, pos_label='good')\n",
    "plt.plot(FPR, TPR)\n",
    "plt.title('ROC Curve')\n",
    "plt.xlabel('False Positives')\n",
    "plt.ylabel('True Positives')"
   ]
  },
  {
   "cell_type": "code",
   "execution_count": 254,
   "metadata": {
    "collapsed": false
   },
   "outputs": [
    {
     "data": {
      "text/plain": [
       "0.89523809523809517"
      ]
     },
     "execution_count": 254,
     "metadata": {},
     "output_type": "execute_result"
    }
   ],
   "source": [
    "#for roc_auc_score, we need our true values to be represented as binary (we managed this with pos_label above)\n",
    "y_test_binary = y_test_log == 'good'\n",
    "\n",
    "#get roc_auc_score\n",
    "roc_auc_score(y_test_binary, y_scores)\n",
    "\n",
    "#how close is it to 1.0? That would be perfect\n",
    "#see if adjusting your model can create a curve with higher AUC"
   ]
  },
  {
   "cell_type": "markdown",
   "metadata": {},
   "source": [
    "#### Precision-Recall Scores and Curve\n",
    "Compares PRECISION vs. RECALL\n",
    "\n",
    "Compares our True Positives to all positives (both total actual and total pred.)\n",
    "\n",
    "Again, binary classification only - with some meddling can do multiclass predictions"
   ]
  },
  {
   "cell_type": "code",
   "execution_count": 269,
   "metadata": {
    "collapsed": false
   },
   "outputs": [
    {
     "data": {
      "text/plain": [
       "<matplotlib.text.Text at 0x11c9e1050>"
      ]
     },
     "execution_count": 269,
     "metadata": {},
     "output_type": "execute_result"
    },
    {
     "data": {
      "image/png": "[encoded data removed]",
      "text/plain": [
       "<matplotlib.figure.Figure at 0x11c196790>"
      ]
     },
     "metadata": {},
     "output_type": "display_data"
    }
   ],
   "source": [
    "from sklearn.metrics import average_precision_score, precision_recall_curve\n",
    "\n",
    "precision, recall, threshold = precision_recall_curve(y_test_log, y_scores, pos_label='good')\n",
    "plt.plot(precision,recall)\n",
    "plt.title('Precision-Recall Curve')\n",
    "plt.xlabel('precision')\n",
    "plt.ylabel('recall')"
   ]
  },
  {
   "cell_type": "code",
   "execution_count": null,
   "metadata": {
    "collapsed": true
   },
   "outputs": [],
   "source": []
  }
 ],
 "metadata": {
  "kernelspec": {
   "display_name": "Python 2",
   "language": "python",
   "name": "python2"
  },
  "language_info": {
   "codemirror_mode": {
    "name": "ipython",
    "version": 2
   },
   "file_extension": ".py",
   "mimetype": "text/x-python",
   "name": "python",
   "nbconvert_exporter": "python",
   "pygments_lexer": "ipython2",
   "version": "2.7.11"
  }
 },
 "nbformat": 4,
 "nbformat_minor": 0
}
