{
 "cells": [
  {
   "cell_type": "code",
   "execution_count": 1,
   "metadata": {
    "collapsed": true
   },
   "outputs": [],
   "source": [
    "import sqlite3\n",
    "\n",
    "# Establishing our Database path.  If no database exists here, this will create one.\n",
    "sqlite_db = 'data/sql/test_db.sqlite'\n",
    "\n",
    "# Establishing the SQL Connection to our Database.  \n",
    "conn = sqlite3.connect(sqlite_db)\n",
    "\n",
    "c = conn.cursor()\n",
    "# Cursor objects allow you to keep track of which result set is which, \n",
    "# since it's possible to run multiple queries before you're done fetching the results of the first.\n",
    "# CURSORS seem to be a tool for iterating over tables row-by-row\n",
    "# This is a conceptual SQL object that is hard to give a very clear consise definition of."
   ]
  },
  {
   "cell_type": "code",
   "execution_count": 3,
   "metadata": {
    "collapsed": false
   },
   "outputs": [],
   "source": [
    "# We can use the 'execute' fucntion on our Database Connection (With Cursor) to execute a SQL Query.\n",
    "c.execute('CREATE TABLE houses1 (field1 INTEGER PRIMARY KEY, sqft INTEGER, bdrms INTEGER, age INTEGER, price INTEGER);')\n",
    "\n",
    "# sqlite.connect('data/sql/test_db.sqlite').cursor().execute()\n",
    "\n",
    "# Save (commit) the changes (Just like GitHub)\n",
    "conn.commit()"
   ]
  },
  {
   "cell_type": "code",
   "execution_count": 4,
   "metadata": {
    "collapsed": true
   },
   "outputs": [],
   "source": [
    "# We can create a tuple\n",
    "last_sale = (None, 4000, 5, 22, 619000)\n",
    "\n",
    "# We can insert said tuple into the database table using character substitution.\n",
    "c.execute('INSERT INTO houses1 VALUES (?, ?, ?, ?, ?)',last_sale)\n",
    "\n",
    "# Remember to commit the changes\n",
    "conn.commit()"
   ]
  },
  {
   "cell_type": "code",
   "execution_count": 6,
   "metadata": {
    "collapsed": true
   },
   "outputs": [],
   "source": [
    "# We can use the same logic to insert a whole list of tuples!\n",
    "# Tell me thats not helpful!\n",
    "recent_sales = [\n",
    "  (None, 2390, 4, 34, 319000),\n",
    "  (None, 1870, 3, 14, 289000),\n",
    "  (None, 1505, 3, 90, 269000),\n",
    "]\n",
    "\n",
    "c.executemany('INSERT INTO houses1 VALUES (?, ?, ?, ?, ?)', recent_sales)\n",
    "\n",
    "conn.commit()"
   ]
  },
  {
   "cell_type": "code",
   "execution_count": 9,
   "metadata": {
    "collapsed": false
   },
   "outputs": [],
   "source": [
    "import pandas as pd\n",
    "from pandas.io import sql\n",
    "\n",
    "cars = pd.read_csv('data/csv/car-names.csv', encoding = 'utf-8')\n",
    "\n",
    "# If you don't specify the type encoding as 'utf-8' you're going to have a bad time when you try to convert to SQL"
   ]
  },
  {
   "cell_type": "code",
   "execution_count": 10,
   "metadata": {
    "collapsed": false
   },
   "outputs": [
    {
     "data": {
      "text/html": [
       "<div>\n",
       "<table border=\"1\" class=\"dataframe\">\n",
       "  <thead>\n",
       "    <tr style=\"text-align: right;\">\n",
       "      <th></th>\n",
       "      <th>Id</th>\n",
       "      <th>Model</th>\n",
       "      <th>Make</th>\n",
       "    </tr>\n",
       "  </thead>\n",
       "  <tbody>\n",
       "    <tr>\n",
       "      <th>0</th>\n",
       "      <td>1</td>\n",
       "      <td>'chevrolet'</td>\n",
       "      <td>'chevrolet chevelle malibu'</td>\n",
       "    </tr>\n",
       "    <tr>\n",
       "      <th>1</th>\n",
       "      <td>2</td>\n",
       "      <td>'buick'</td>\n",
       "      <td>'buick skylark 320'</td>\n",
       "    </tr>\n",
       "    <tr>\n",
       "      <th>2</th>\n",
       "      <td>3</td>\n",
       "      <td>'plymouth'</td>\n",
       "      <td>'plymouth satellite'</td>\n",
       "    </tr>\n",
       "  </tbody>\n",
       "</table>\n",
       "</div>"
      ],
      "text/plain": [
       "   Id        Model                         Make\n",
       "0   1  'chevrolet'  'chevrolet chevelle malibu'\n",
       "1   2      'buick'          'buick skylark 320'\n",
       "2   3   'plymouth'         'plymouth satellite'"
      ]
     },
     "execution_count": 10,
     "metadata": {},
     "output_type": "execute_result"
    }
   ],
   "source": [
    "# Checking what our dataframe looks like\n",
    "cars.head(3)"
   ]
  },
  {
   "cell_type": "code",
   "execution_count": 11,
   "metadata": {
    "collapsed": false
   },
   "outputs": [
    {
     "name": "stdout",
     "output_type": "stream",
     "text": [
      "<class 'pandas.core.frame.DataFrame'>\n",
      "RangeIndex: 406 entries, 0 to 405\n",
      "Data columns (total 3 columns):\n",
      "Id       406 non-null int64\n",
      "Model    406 non-null object\n",
      "Make     406 non-null object\n",
      "dtypes: int64(1), object(2)\n",
      "memory usage: 9.6+ KB\n"
     ]
    }
   ],
   "source": [
    "# Checking for nulls in our data\n",
    "cars.info()\n"
   ]
  },
  {
   "cell_type": "code",
   "execution_count": 12,
   "metadata": {
    "collapsed": true
   },
   "outputs": [],
   "source": [
    "# Import Sqlite3 Library\n",
    "import sqlite3\n",
    "\n",
    "# Establishing the Connection to our Database.  If no database exists here, this will create one.\n",
    "connection = sqlite3.connect('data/sql/Cars.db.sqlite')\n",
    "\n",
    "# Keep in mind the directory your notebook is open in is the base directory for all of our SQL actions from here."
   ]
  },
  {
   "cell_type": "code",
   "execution_count": 13,
   "metadata": {
    "collapsed": true
   },
   "outputs": [],
   "source": [
    "# Converts a DataFrame into a SQL database\n",
    "cars.to_sql(name = 'car_names', con = connection, if_exists = 'replace', index = False)\n",
    "\n",
    "# name = name of the database useful if you have multiple tables in a SQL database\n",
    "# con = the connection path to where the data should be placed\n",
    "# if_exists = condition to pass if the database already exists."
   ]
  },
  {
   "cell_type": "code",
   "execution_count": 14,
   "metadata": {
    "collapsed": true
   },
   "outputs": [],
   "source": [
    "# Creating a Table for Order Breakdowns\n",
    "makers = pd.read_csv('data/csv/car-makers.csv', encoding = 'utf-8')\n",
    "\n",
    "connection = sqlite3.connect('data/sql/Cars.db.sqlite')\n",
    "\n",
    "makers.to_sql(name = 'car_makers', con = connection, if_exists = 'replace', index = False)"
   ]
  },
  {
   "cell_type": "code",
   "execution_count": 15,
   "metadata": {
    "collapsed": true
   },
   "outputs": [],
   "source": [
    "# Creating a Table for the Sales Targets\n",
    "data = pd.read_csv('data/csv/cars-data.csv',encoding = 'utf-8')\n",
    "\n",
    "connection = sqlite3.connect('data/sql/Cars.db.sqlite')\n",
    "\n",
    "data.to_sql(name = 'car_data', con = connection, if_exists = 'replace', index = False)"
   ]
  },
  {
   "cell_type": "code",
   "execution_count": 16,
   "metadata": {
    "collapsed": false
   },
   "outputs": [
    {
     "data": {
      "text/html": [
       "<div>\n",
       "<table border=\"1\" class=\"dataframe\">\n",
       "  <thead>\n",
       "    <tr style=\"text-align: right;\">\n",
       "      <th></th>\n",
       "      <th>Id</th>\n",
       "      <th>Model</th>\n",
       "      <th>Make</th>\n",
       "    </tr>\n",
       "  </thead>\n",
       "  <tbody>\n",
       "    <tr>\n",
       "      <th>0</th>\n",
       "      <td>1</td>\n",
       "      <td>'chevrolet'</td>\n",
       "      <td>'chevrolet chevelle malibu'</td>\n",
       "    </tr>\n",
       "    <tr>\n",
       "      <th>1</th>\n",
       "      <td>2</td>\n",
       "      <td>'buick'</td>\n",
       "      <td>'buick skylark 320'</td>\n",
       "    </tr>\n",
       "    <tr>\n",
       "      <th>2</th>\n",
       "      <td>3</td>\n",
       "      <td>'plymouth'</td>\n",
       "      <td>'plymouth satellite'</td>\n",
       "    </tr>\n",
       "    <tr>\n",
       "      <th>3</th>\n",
       "      <td>4</td>\n",
       "      <td>'amc'</td>\n",
       "      <td>'amc rebel sst'</td>\n",
       "    </tr>\n",
       "    <tr>\n",
       "      <th>4</th>\n",
       "      <td>5</td>\n",
       "      <td>'ford'</td>\n",
       "      <td>'ford torino'</td>\n",
       "    </tr>\n",
       "  </tbody>\n",
       "</table>\n",
       "</div>"
      ],
      "text/plain": [
       "   Id        Model                         Make\n",
       "0   1  'chevrolet'  'chevrolet chevelle malibu'\n",
       "1   2      'buick'          'buick skylark 320'\n",
       "2   3   'plymouth'         'plymouth satellite'\n",
       "3   4        'amc'              'amc rebel sst'\n",
       "4   5       'ford'                'ford torino'"
      ]
     },
     "execution_count": 16,
     "metadata": {},
     "output_type": "execute_result"
    }
   ],
   "source": [
    "#The SQL Sub-library from Pandas will allow us to run SQL queries within python.\n",
    "from pandas.io import sql\n",
    "# We already imported sqlite3, but it will also be needed for reading in SQL \n",
    "import sqlite3\n",
    "\n",
    "# Specifying the SQL Path to the SQL Database\n",
    "connection = sqlite3.connect('data/sql/Cars.db.sqlite')\n",
    "\n",
    "# This is our SQL Query\n",
    "query = 'select * from car_names'\n",
    "\n",
    "# Using the read_sql from the Pandas SQL library and setting it equal to a DF object.\n",
    "cars = sql.read_sql(query, con = connection)\n",
    "\n",
    "cars.head()"
   ]
  },
  {
   "cell_type": "code",
   "execution_count": 17,
   "metadata": {
    "collapsed": false
   },
   "outputs": [
    {
     "data": {
      "text/html": [
       "<div>\n",
       "<table border=\"1\" class=\"dataframe\">\n",
       "  <thead>\n",
       "    <tr style=\"text-align: right;\">\n",
       "      <th></th>\n",
       "      <th>Id</th>\n",
       "      <th>Model</th>\n",
       "      <th>Make</th>\n",
       "    </tr>\n",
       "  </thead>\n",
       "  <tbody>\n",
       "    <tr>\n",
       "      <th>0</th>\n",
       "      <td>1</td>\n",
       "      <td>'chevrolet'</td>\n",
       "      <td>'chevrolet chevelle malibu'</td>\n",
       "    </tr>\n",
       "    <tr>\n",
       "      <th>1</th>\n",
       "      <td>2</td>\n",
       "      <td>'buick'</td>\n",
       "      <td>'buick skylark 320'</td>\n",
       "    </tr>\n",
       "    <tr>\n",
       "      <th>2</th>\n",
       "      <td>3</td>\n",
       "      <td>'plymouth'</td>\n",
       "      <td>'plymouth satellite'</td>\n",
       "    </tr>\n",
       "    <tr>\n",
       "      <th>3</th>\n",
       "      <td>4</td>\n",
       "      <td>'amc'</td>\n",
       "      <td>'amc rebel sst'</td>\n",
       "    </tr>\n",
       "    <tr>\n",
       "      <th>4</th>\n",
       "      <td>5</td>\n",
       "      <td>'ford'</td>\n",
       "      <td>'ford torino'</td>\n",
       "    </tr>\n",
       "  </tbody>\n",
       "</table>\n",
       "</div>"
      ],
      "text/plain": [
       "   Id        Model                         Make\n",
       "0   1  'chevrolet'  'chevrolet chevelle malibu'\n",
       "1   2      'buick'          'buick skylark 320'\n",
       "2   3   'plymouth'         'plymouth satellite'\n",
       "3   4        'amc'              'amc rebel sst'\n",
       "4   5       'ford'                'ford torino'"
      ]
     },
     "execution_count": 17,
     "metadata": {},
     "output_type": "execute_result"
    }
   ],
   "source": [
    "sql.read_sql('select * from car_names', connection).head()\n",
    "\n",
    "#If we 'shift+tab' we can see that the read_sql function takes the arguments 'sql' and 'con'\n",
    "\n",
    "#sql = Our SQL query as a string\n",
    "#con = is the connection path to our SQL Database"
   ]
  },
  {
   "cell_type": "code",
   "execution_count": 18,
   "metadata": {
    "collapsed": true
   },
   "outputs": [],
   "source": [
    "# In the case that typing out sql.read_sql() is a little too much,\n",
    "# we'll create a function shortcut.\n",
    "\n",
    "\n",
    "CARS = sqlite3.connect('data/sql/Cars.db.sqlite')\n",
    "\n",
    "\n",
    "def Q(query, db=CARS):\n",
    "    return sql.read_sql(query, db)"
   ]
  },
  {
   "cell_type": "code",
   "execution_count": 19,
   "metadata": {
    "collapsed": false
   },
   "outputs": [
    {
     "data": {
      "text/html": [
       "<div>\n",
       "<table border=\"1\" class=\"dataframe\">\n",
       "  <thead>\n",
       "    <tr style=\"text-align: right;\">\n",
       "      <th></th>\n",
       "      <th>Id</th>\n",
       "      <th>Model</th>\n",
       "      <th>Make</th>\n",
       "    </tr>\n",
       "  </thead>\n",
       "  <tbody>\n",
       "    <tr>\n",
       "      <th>0</th>\n",
       "      <td>1</td>\n",
       "      <td>'chevrolet'</td>\n",
       "      <td>'chevrolet chevelle malibu'</td>\n",
       "    </tr>\n",
       "    <tr>\n",
       "      <th>1</th>\n",
       "      <td>2</td>\n",
       "      <td>'buick'</td>\n",
       "      <td>'buick skylark 320'</td>\n",
       "    </tr>\n",
       "    <tr>\n",
       "      <th>2</th>\n",
       "      <td>3</td>\n",
       "      <td>'plymouth'</td>\n",
       "      <td>'plymouth satellite'</td>\n",
       "    </tr>\n",
       "    <tr>\n",
       "      <th>3</th>\n",
       "      <td>4</td>\n",
       "      <td>'amc'</td>\n",
       "      <td>'amc rebel sst'</td>\n",
       "    </tr>\n",
       "    <tr>\n",
       "      <th>4</th>\n",
       "      <td>5</td>\n",
       "      <td>'ford'</td>\n",
       "      <td>'ford torino'</td>\n",
       "    </tr>\n",
       "  </tbody>\n",
       "</table>\n",
       "</div>"
      ],
      "text/plain": [
       "   Id        Model                         Make\n",
       "0   1  'chevrolet'  'chevrolet chevelle malibu'\n",
       "1   2      'buick'          'buick skylark 320'\n",
       "2   3   'plymouth'         'plymouth satellite'\n",
       "3   4        'amc'              'amc rebel sst'\n",
       "4   5       'ford'                'ford torino'"
      ]
     },
     "execution_count": 19,
     "metadata": {},
     "output_type": "execute_result"
    }
   ],
   "source": [
    "\n",
    "Q('select * from car_names limit 5')"
   ]
  },
  {
   "cell_type": "code",
   "execution_count": 20,
   "metadata": {
    "collapsed": false
   },
   "outputs": [
    {
     "data": {
      "text/plain": [
       "<sqlite3.Cursor at 0x1122ba110>"
      ]
     },
     "execution_count": 20,
     "metadata": {},
     "output_type": "execute_result"
    }
   ],
   "source": [
    "new_car = (None, 'Ferrari','The Ferrari')\n",
    "CARS.execute('INSERT INTO car_names VALUES (?, ?, ?)',new_car)"
   ]
  },
  {
   "cell_type": "code",
   "execution_count": 21,
   "metadata": {
    "collapsed": false
   },
   "outputs": [
    {
     "data": {
      "text/plain": [
       "<sqlite3.Cursor at 0x1122ba0a0>"
      ]
     },
     "execution_count": 21,
     "metadata": {},
     "output_type": "execute_result"
    }
   ],
   "source": [
    "new_car = [None, 'Testla', None]\n",
    "CARS.execute('INSERT INTO car_names VALUES (?, ?, ?)',new_car)"
   ]
  },
  {
   "cell_type": "code",
   "execution_count": 22,
   "metadata": {
    "collapsed": false
   },
   "outputs": [
    {
     "data": {
      "text/html": [
       "<div>\n",
       "<table border=\"1\" class=\"dataframe\">\n",
       "  <thead>\n",
       "    <tr style=\"text-align: right;\">\n",
       "      <th></th>\n",
       "      <th>Id</th>\n",
       "      <th>Model</th>\n",
       "      <th>Make</th>\n",
       "    </tr>\n",
       "  </thead>\n",
       "  <tbody>\n",
       "    <tr>\n",
       "      <th>0</th>\n",
       "      <td>None</td>\n",
       "      <td>Testla</td>\n",
       "      <td>None</td>\n",
       "    </tr>\n",
       "  </tbody>\n",
       "</table>\n",
       "</div>"
      ],
      "text/plain": [
       "     Id   Model  Make\n",
       "0  None  Testla  None"
      ]
     },
     "execution_count": 22,
     "metadata": {},
     "output_type": "execute_result"
    }
   ],
   "source": [
    "Q('SELECT * FROM car_names WHERE car_names.\"Model\" = \"Testla\"')"
   ]
  },
  {
   "cell_type": "code",
   "execution_count": 23,
   "metadata": {
    "collapsed": false
   },
   "outputs": [
    {
     "data": {
      "text/html": [
       "<div>\n",
       "<table border=\"1\" class=\"dataframe\">\n",
       "  <thead>\n",
       "    <tr style=\"text-align: right;\">\n",
       "      <th></th>\n",
       "      <th>Id</th>\n",
       "      <th>Maker</th>\n",
       "      <th>FullName</th>\n",
       "      <th>Country</th>\n",
       "    </tr>\n",
       "  </thead>\n",
       "  <tbody>\n",
       "    <tr>\n",
       "      <th>0</th>\n",
       "      <td>1</td>\n",
       "      <td>'amc'</td>\n",
       "      <td>'American Motor Company'</td>\n",
       "      <td>1</td>\n",
       "    </tr>\n",
       "    <tr>\n",
       "      <th>1</th>\n",
       "      <td>2</td>\n",
       "      <td>'volkswagen'</td>\n",
       "      <td>'Volkswagen'</td>\n",
       "      <td>2</td>\n",
       "    </tr>\n",
       "    <tr>\n",
       "      <th>2</th>\n",
       "      <td>3</td>\n",
       "      <td>'bmw'</td>\n",
       "      <td>'BMW'</td>\n",
       "      <td>2</td>\n",
       "    </tr>\n",
       "    <tr>\n",
       "      <th>3</th>\n",
       "      <td>4</td>\n",
       "      <td>'gm'</td>\n",
       "      <td>'General Motors'</td>\n",
       "      <td>1</td>\n",
       "    </tr>\n",
       "    <tr>\n",
       "      <th>4</th>\n",
       "      <td>5</td>\n",
       "      <td>'ford'</td>\n",
       "      <td>'Ford Motor Company'</td>\n",
       "      <td>1</td>\n",
       "    </tr>\n",
       "  </tbody>\n",
       "</table>\n",
       "</div>"
      ],
      "text/plain": [
       "   Id         Maker                  FullName Country\n",
       "0   1         'amc'  'American Motor Company'       1\n",
       "1   2  'volkswagen'              'Volkswagen'       2\n",
       "2   3         'bmw'                     'BMW'       2\n",
       "3   4          'gm'          'General Motors'       1\n",
       "4   5        'ford'      'Ford Motor Company'       1"
      ]
     },
     "execution_count": 23,
     "metadata": {},
     "output_type": "execute_result"
    }
   ],
   "source": [
    "Q('select * from car_makers limit 5')"
   ]
  },
  {
   "cell_type": "code",
   "execution_count": 24,
   "metadata": {
    "collapsed": false
   },
   "outputs": [
    {
     "data": {
      "text/html": [
       "<div>\n",
       "<table border=\"1\" class=\"dataframe\">\n",
       "  <thead>\n",
       "    <tr style=\"text-align: right;\">\n",
       "      <th></th>\n",
       "      <th>Id</th>\n",
       "      <th>MPG</th>\n",
       "      <th>Cylinders</th>\n",
       "      <th>Edispl</th>\n",
       "      <th>Horsepower</th>\n",
       "      <th>Weight</th>\n",
       "      <th>Accelerate</th>\n",
       "      <th>Year</th>\n",
       "    </tr>\n",
       "  </thead>\n",
       "  <tbody>\n",
       "    <tr>\n",
       "      <th>0</th>\n",
       "      <td>1</td>\n",
       "      <td>18</td>\n",
       "      <td>8</td>\n",
       "      <td>307.0</td>\n",
       "      <td>130</td>\n",
       "      <td>3504</td>\n",
       "      <td>12.0</td>\n",
       "      <td>1970</td>\n",
       "    </tr>\n",
       "    <tr>\n",
       "      <th>1</th>\n",
       "      <td>2</td>\n",
       "      <td>15</td>\n",
       "      <td>8</td>\n",
       "      <td>350.0</td>\n",
       "      <td>165</td>\n",
       "      <td>3693</td>\n",
       "      <td>11.5</td>\n",
       "      <td>1970</td>\n",
       "    </tr>\n",
       "    <tr>\n",
       "      <th>2</th>\n",
       "      <td>3</td>\n",
       "      <td>18</td>\n",
       "      <td>8</td>\n",
       "      <td>318.0</td>\n",
       "      <td>150</td>\n",
       "      <td>3436</td>\n",
       "      <td>11.0</td>\n",
       "      <td>1970</td>\n",
       "    </tr>\n",
       "    <tr>\n",
       "      <th>3</th>\n",
       "      <td>4</td>\n",
       "      <td>16</td>\n",
       "      <td>8</td>\n",
       "      <td>304.0</td>\n",
       "      <td>150</td>\n",
       "      <td>3433</td>\n",
       "      <td>12.0</td>\n",
       "      <td>1970</td>\n",
       "    </tr>\n",
       "    <tr>\n",
       "      <th>4</th>\n",
       "      <td>5</td>\n",
       "      <td>17</td>\n",
       "      <td>8</td>\n",
       "      <td>302.0</td>\n",
       "      <td>140</td>\n",
       "      <td>3449</td>\n",
       "      <td>10.5</td>\n",
       "      <td>1970</td>\n",
       "    </tr>\n",
       "  </tbody>\n",
       "</table>\n",
       "</div>"
      ],
      "text/plain": [
       "   Id MPG  Cylinders  Edispl Horsepower  Weight  Accelerate  Year\n",
       "0   1  18          8   307.0        130    3504        12.0  1970\n",
       "1   2  15          8   350.0        165    3693        11.5  1970\n",
       "2   3  18          8   318.0        150    3436        11.0  1970\n",
       "3   4  16          8   304.0        150    3433        12.0  1970\n",
       "4   5  17          8   302.0        140    3449        10.5  1970"
      ]
     },
     "execution_count": 24,
     "metadata": {},
     "output_type": "execute_result"
    }
   ],
   "source": [
    "Q('select * from car_data limit 5')"
   ]
  },
  {
   "cell_type": "code",
   "execution_count": 25,
   "metadata": {
    "collapsed": false
   },
   "outputs": [
    {
     "data": {
      "text/html": [
       "<div>\n",
       "<table border=\"1\" class=\"dataframe\">\n",
       "  <thead>\n",
       "    <tr style=\"text-align: right;\">\n",
       "      <th></th>\n",
       "      <th>Make</th>\n",
       "      <th>MPG</th>\n",
       "      <th>Horsepower</th>\n",
       "      <th>Year</th>\n",
       "    </tr>\n",
       "  </thead>\n",
       "  <tbody>\n",
       "    <tr>\n",
       "      <th>0</th>\n",
       "      <td>'chevrolet chevelle malibu'</td>\n",
       "      <td>18</td>\n",
       "      <td>130</td>\n",
       "      <td>1970</td>\n",
       "    </tr>\n",
       "    <tr>\n",
       "      <th>1</th>\n",
       "      <td>'buick skylark 320'</td>\n",
       "      <td>15</td>\n",
       "      <td>165</td>\n",
       "      <td>1970</td>\n",
       "    </tr>\n",
       "    <tr>\n",
       "      <th>2</th>\n",
       "      <td>'plymouth satellite'</td>\n",
       "      <td>18</td>\n",
       "      <td>150</td>\n",
       "      <td>1970</td>\n",
       "    </tr>\n",
       "    <tr>\n",
       "      <th>3</th>\n",
       "      <td>'amc rebel sst'</td>\n",
       "      <td>16</td>\n",
       "      <td>150</td>\n",
       "      <td>1970</td>\n",
       "    </tr>\n",
       "    <tr>\n",
       "      <th>4</th>\n",
       "      <td>'ford torino'</td>\n",
       "      <td>17</td>\n",
       "      <td>140</td>\n",
       "      <td>1970</td>\n",
       "    </tr>\n",
       "  </tbody>\n",
       "</table>\n",
       "</div>"
      ],
      "text/plain": [
       "                          Make MPG Horsepower  Year\n",
       "0  'chevrolet chevelle malibu'  18        130  1970\n",
       "1          'buick skylark 320'  15        165  1970\n",
       "2         'plymouth satellite'  18        150  1970\n",
       "3              'amc rebel sst'  16        150  1970\n",
       "4                'ford torino'  17        140  1970"
      ]
     },
     "execution_count": 25,
     "metadata": {},
     "output_type": "execute_result"
    }
   ],
   "source": [
    "inner_join = Q('SELECT car_names.\"Make\", car_data.\"MPG\", car_data.\"Horsepower\", car_data.\"Year\" '\n",
    "'FROM car_names '\n",
    "'INNER JOIN car_data '\n",
    "'ON car_names.\"Id\"=car_data.\"Id\"')\n",
    "inner_join.head()"
   ]
  },
  {
   "cell_type": "code",
   "execution_count": 26,
   "metadata": {
    "collapsed": false
   },
   "outputs": [
    {
     "name": "stdout",
     "output_type": "stream",
     "text": [
      "<class 'pandas.core.frame.DataFrame'>\n",
      "RangeIndex: 406 entries, 0 to 405\n",
      "Data columns (total 4 columns):\n",
      "Make          406 non-null object\n",
      "MPG           406 non-null object\n",
      "Horsepower    406 non-null object\n",
      "Year          406 non-null int64\n",
      "dtypes: int64(1), object(3)\n",
      "memory usage: 12.8+ KB\n"
     ]
    }
   ],
   "source": [
    "inner_join.info()"
   ]
  },
  {
   "cell_type": "code",
   "execution_count": 27,
   "metadata": {
    "collapsed": false
   },
   "outputs": [
    {
     "data": {
      "text/html": [
       "<div>\n",
       "<table border=\"1\" class=\"dataframe\">\n",
       "  <thead>\n",
       "    <tr style=\"text-align: right;\">\n",
       "      <th></th>\n",
       "      <th>Make</th>\n",
       "      <th>MPG</th>\n",
       "      <th>Horsepower</th>\n",
       "      <th>Year</th>\n",
       "    </tr>\n",
       "  </thead>\n",
       "  <tbody>\n",
       "    <tr>\n",
       "      <th>0</th>\n",
       "      <td>'chevrolet chevelle malibu'</td>\n",
       "      <td>18</td>\n",
       "      <td>130</td>\n",
       "      <td>1970.0</td>\n",
       "    </tr>\n",
       "    <tr>\n",
       "      <th>1</th>\n",
       "      <td>'buick skylark 320'</td>\n",
       "      <td>15</td>\n",
       "      <td>165</td>\n",
       "      <td>1970.0</td>\n",
       "    </tr>\n",
       "    <tr>\n",
       "      <th>2</th>\n",
       "      <td>'plymouth satellite'</td>\n",
       "      <td>18</td>\n",
       "      <td>150</td>\n",
       "      <td>1970.0</td>\n",
       "    </tr>\n",
       "    <tr>\n",
       "      <th>3</th>\n",
       "      <td>'amc rebel sst'</td>\n",
       "      <td>16</td>\n",
       "      <td>150</td>\n",
       "      <td>1970.0</td>\n",
       "    </tr>\n",
       "    <tr>\n",
       "      <th>4</th>\n",
       "      <td>'ford torino'</td>\n",
       "      <td>17</td>\n",
       "      <td>140</td>\n",
       "      <td>1970.0</td>\n",
       "    </tr>\n",
       "  </tbody>\n",
       "</table>\n",
       "</div>"
      ],
      "text/plain": [
       "                          Make MPG Horsepower    Year\n",
       "0  'chevrolet chevelle malibu'  18        130  1970.0\n",
       "1          'buick skylark 320'  15        165  1970.0\n",
       "2         'plymouth satellite'  18        150  1970.0\n",
       "3              'amc rebel sst'  16        150  1970.0\n",
       "4                'ford torino'  17        140  1970.0"
      ]
     },
     "execution_count": 27,
     "metadata": {},
     "output_type": "execute_result"
    }
   ],
   "source": [
    "left_join = Q('SELECT car_names.\"Make\", car_data.\"MPG\", car_data.\"Horsepower\", car_data.\"Year\" '\n",
    "'FROM car_names '\n",
    "'LEFT JOIN car_data '\n",
    "'ON car_names.\"Id\"=car_data.\"Id\"')\n",
    "left_join.head()"
   ]
  },
  {
   "cell_type": "code",
   "execution_count": 28,
   "metadata": {
    "collapsed": false
   },
   "outputs": [
    {
     "name": "stdout",
     "output_type": "stream",
     "text": [
      "<class 'pandas.core.frame.DataFrame'>\n",
      "RangeIndex: 408 entries, 0 to 407\n",
      "Data columns (total 4 columns):\n",
      "Make          407 non-null object\n",
      "MPG           406 non-null object\n",
      "Horsepower    406 non-null object\n",
      "Year          406 non-null float64\n",
      "dtypes: float64(1), object(3)\n",
      "memory usage: 12.8+ KB\n"
     ]
    }
   ],
   "source": [
    "left_join.info()"
   ]
  },
  {
   "cell_type": "code",
   "execution_count": null,
   "metadata": {
    "collapsed": true
   },
   "outputs": [],
   "source": []
  },
  {
   "cell_type": "code",
   "execution_count": null,
   "metadata": {
    "collapsed": true
   },
   "outputs": [],
   "source": []
  },
  {
   "cell_type": "code",
   "execution_count": null,
   "metadata": {
    "collapsed": true
   },
   "outputs": [],
   "source": []
  },
  {
   "cell_type": "code",
   "execution_count": null,
   "metadata": {
    "collapsed": true
   },
   "outputs": [],
   "source": []
  },
  {
   "cell_type": "code",
   "execution_count": null,
   "metadata": {
    "collapsed": true
   },
   "outputs": [],
   "source": []
  }
 ],
 "metadata": {
  "anaconda-cloud": {},
  "kernelspec": {
   "display_name": "Python [conda env:py27]",
   "language": "python",
   "name": "conda-env-py27-py"
  },
  "language_info": {
   "codemirror_mode": {
    "name": "ipython",
    "version": 2
   },
   "file_extension": ".py",
   "mimetype": "text/x-python",
   "name": "python",
   "nbconvert_exporter": "python",
   "pygments_lexer": "ipython2",
   "version": "2.7.12"
  }
 },
 "nbformat": 4,
 "nbformat_minor": 1
}
