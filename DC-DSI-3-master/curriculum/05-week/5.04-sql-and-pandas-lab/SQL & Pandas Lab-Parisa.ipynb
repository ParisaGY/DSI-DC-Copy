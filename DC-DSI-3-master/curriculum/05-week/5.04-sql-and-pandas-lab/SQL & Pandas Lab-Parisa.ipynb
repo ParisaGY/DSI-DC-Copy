{
 "cells": [
  {
   "cell_type": "markdown",
   "metadata": {},
   "source": [
    "# SQL with Python and Pandas Lab\n",
    "Today we learned about relational databases and the language most use to query them, SQL.  In this lab we are going to practice converting information to a SQL DB, querying the data and then analyzing it with Python and just Python."
   ]
  },
  {
   "cell_type": "markdown",
   "metadata": {},
   "source": [
    "## Read in the EuroMart CSV Data\n",
    "- 'EuroMart-ListOfOrders.csv'\n",
    "- 'EuroMart-OrderBreakdown.csv'\n",
    "- 'EuroMart-SalesTargets.csv'"
   ]
  },
  {
   "cell_type": "code",
   "execution_count": 92,
   "metadata": {
    "collapsed": true
   },
   "outputs": [],
   "source": [
    "import sqlite3\n"
   ]
  },
  {
   "cell_type": "code",
   "execution_count": null,
   "metadata": {
    "collapsed": true
   },
   "outputs": [],
   "source": []
  },
  {
   "cell_type": "code",
   "execution_count": 93,
   "metadata": {
    "collapsed": true
   },
   "outputs": [],
   "source": [
    "import pandas as pd\n",
    "from pandas.io import sql\n",
    "\n",
    "ListOfOrders = pd.read_csv('data/csv/EuroMart-ListOfOrders.csv', encoding = 'utf-8')\n",
    "OrderBreakdown = pd.read_csv('data/csv/EuroMart-OrderBreakdown.csv', encoding = 'utf-8')\n",
    "SalesTargets = pd.read_csv('data/csv/EuroMart-SalesTargets.csv', encoding = 'utf-8')\n"
   ]
  },
  {
   "cell_type": "code",
   "execution_count": null,
   "metadata": {
    "collapsed": true
   },
   "outputs": [],
   "source": []
  },
  {
   "cell_type": "code",
   "execution_count": 94,
   "metadata": {
    "collapsed": false
   },
   "outputs": [
    {
     "name": "stdout",
     "output_type": "stream",
     "text": [
      "<class 'pandas.core.frame.DataFrame'>\n",
      "RangeIndex: 4117 entries, 0 to 4116\n",
      "Data columns (total 10 columns):\n",
      "Order ID         4117 non-null object\n",
      "Order Date       4117 non-null object\n",
      "Customer Name    4117 non-null object\n",
      "City             4117 non-null object\n",
      "Country          4117 non-null object\n",
      "Region           4117 non-null object\n",
      "Segment          4117 non-null object\n",
      "Ship Date        4117 non-null object\n",
      "Ship Mode        4117 non-null object\n",
      "State            4117 non-null object\n",
      "dtypes: object(10)\n",
      "memory usage: 321.7+ KB\n"
     ]
    }
   ],
   "source": [
    "ListOfOrders.info()"
   ]
  },
  {
   "cell_type": "code",
   "execution_count": null,
   "metadata": {
    "collapsed": true
   },
   "outputs": [],
   "source": []
  },
  {
   "cell_type": "code",
   "execution_count": 95,
   "metadata": {
    "collapsed": false
   },
   "outputs": [
    {
     "name": "stdout",
     "output_type": "stream",
     "text": [
      "<class 'pandas.core.frame.DataFrame'>\n",
      "RangeIndex: 8047 entries, 0 to 8046\n",
      "Data columns (total 8 columns):\n",
      "Order ID        8047 non-null object\n",
      "Product Name    8047 non-null object\n",
      "Discount        8047 non-null float64\n",
      "Sales           8047 non-null object\n",
      "Profit          8047 non-null object\n",
      "Quantity        8047 non-null int64\n",
      "Category        8047 non-null object\n",
      "Sub-Category    8047 non-null object\n",
      "dtypes: float64(1), int64(1), object(6)\n",
      "memory usage: 503.0+ KB\n"
     ]
    }
   ],
   "source": [
    "OrderBreakdown.info()"
   ]
  },
  {
   "cell_type": "code",
   "execution_count": null,
   "metadata": {
    "collapsed": true
   },
   "outputs": [],
   "source": []
  },
  {
   "cell_type": "code",
   "execution_count": 96,
   "metadata": {
    "collapsed": false
   },
   "outputs": [
    {
     "name": "stdout",
     "output_type": "stream",
     "text": [
      "<class 'pandas.core.frame.DataFrame'>\n",
      "RangeIndex: 144 entries, 0 to 143\n",
      "Data columns (total 3 columns):\n",
      "Month of Order Date    144 non-null object\n",
      "Category               144 non-null object\n",
      "Target                 144 non-null object\n",
      "dtypes: object(3)\n",
      "memory usage: 3.4+ KB\n"
     ]
    }
   ],
   "source": [
    "SalesTargets.info()"
   ]
  },
  {
   "cell_type": "code",
   "execution_count": null,
   "metadata": {
    "collapsed": true
   },
   "outputs": [],
   "source": []
  },
  {
   "cell_type": "code",
   "execution_count": 97,
   "metadata": {
    "collapsed": false
   },
   "outputs": [
    {
     "data": {
      "text/html": [
       "<div>\n",
       "<table border=\"1\" class=\"dataframe\">\n",
       "  <thead>\n",
       "    <tr style=\"text-align: right;\">\n",
       "      <th></th>\n",
       "      <th>Order ID</th>\n",
       "      <th>Order Date</th>\n",
       "      <th>Customer Name</th>\n",
       "      <th>City</th>\n",
       "      <th>Country</th>\n",
       "      <th>Region</th>\n",
       "      <th>Segment</th>\n",
       "      <th>Ship Date</th>\n",
       "      <th>Ship Mode</th>\n",
       "      <th>State</th>\n",
       "    </tr>\n",
       "  </thead>\n",
       "  <tbody>\n",
       "    <tr>\n",
       "      <th>0</th>\n",
       "      <td>BN-2011-7407039</td>\n",
       "      <td>1/1/2011</td>\n",
       "      <td>Ruby Patel</td>\n",
       "      <td>Stockholm</td>\n",
       "      <td>Sweden</td>\n",
       "      <td>North</td>\n",
       "      <td>Home Office</td>\n",
       "      <td>1/5/2011</td>\n",
       "      <td>Economy Plus</td>\n",
       "      <td>Stockholm</td>\n",
       "    </tr>\n",
       "    <tr>\n",
       "      <th>1</th>\n",
       "      <td>AZ-2011-9050313</td>\n",
       "      <td>1/3/2011</td>\n",
       "      <td>Summer Hayward</td>\n",
       "      <td>Southport</td>\n",
       "      <td>United Kingdom</td>\n",
       "      <td>North</td>\n",
       "      <td>Consumer</td>\n",
       "      <td>1/7/2011</td>\n",
       "      <td>Economy</td>\n",
       "      <td>England</td>\n",
       "    </tr>\n",
       "    <tr>\n",
       "      <th>2</th>\n",
       "      <td>AZ-2011-6674300</td>\n",
       "      <td>1/4/2011</td>\n",
       "      <td>Devin Huddleston</td>\n",
       "      <td>Valence</td>\n",
       "      <td>France</td>\n",
       "      <td>Central</td>\n",
       "      <td>Consumer</td>\n",
       "      <td>1/8/2011</td>\n",
       "      <td>Economy</td>\n",
       "      <td>Auvergne-Rhône-Alpes</td>\n",
       "    </tr>\n",
       "    <tr>\n",
       "      <th>3</th>\n",
       "      <td>BN-2011-2819714</td>\n",
       "      <td>1/4/2011</td>\n",
       "      <td>Mary Parker</td>\n",
       "      <td>Birmingham</td>\n",
       "      <td>United Kingdom</td>\n",
       "      <td>North</td>\n",
       "      <td>Corporate</td>\n",
       "      <td>1/9/2011</td>\n",
       "      <td>Economy</td>\n",
       "      <td>England</td>\n",
       "    </tr>\n",
       "    <tr>\n",
       "      <th>4</th>\n",
       "      <td>AZ-2011-617423</td>\n",
       "      <td>1/5/2011</td>\n",
       "      <td>Daniel Burke</td>\n",
       "      <td>Echirolles</td>\n",
       "      <td>France</td>\n",
       "      <td>Central</td>\n",
       "      <td>Home Office</td>\n",
       "      <td>1/7/2011</td>\n",
       "      <td>Priority</td>\n",
       "      <td>Auvergne-Rhône-Alpes</td>\n",
       "    </tr>\n",
       "  </tbody>\n",
       "</table>\n",
       "</div>"
      ],
      "text/plain": [
       "          Order ID Order Date     Customer Name        City         Country  \\\n",
       "0  BN-2011-7407039   1/1/2011        Ruby Patel   Stockholm          Sweden   \n",
       "1  AZ-2011-9050313   1/3/2011    Summer Hayward   Southport  United Kingdom   \n",
       "2  AZ-2011-6674300   1/4/2011  Devin Huddleston     Valence          France   \n",
       "3  BN-2011-2819714   1/4/2011       Mary Parker  Birmingham  United Kingdom   \n",
       "4   AZ-2011-617423   1/5/2011      Daniel Burke  Echirolles          France   \n",
       "\n",
       "    Region      Segment Ship Date     Ship Mode                 State  \n",
       "0    North  Home Office  1/5/2011  Economy Plus             Stockholm  \n",
       "1    North     Consumer  1/7/2011       Economy               England  \n",
       "2  Central     Consumer  1/8/2011       Economy  Auvergne-Rhône-Alpes  \n",
       "3    North    Corporate  1/9/2011       Economy               England  \n",
       "4  Central  Home Office  1/7/2011      Priority  Auvergne-Rhône-Alpes  "
      ]
     },
     "execution_count": 97,
     "metadata": {},
     "output_type": "execute_result"
    }
   ],
   "source": [
    "ListOfOrders.head()"
   ]
  },
  {
   "cell_type": "code",
   "execution_count": null,
   "metadata": {
    "collapsed": true
   },
   "outputs": [],
   "source": []
  },
  {
   "cell_type": "code",
   "execution_count": 98,
   "metadata": {
    "collapsed": false
   },
   "outputs": [
    {
     "data": {
      "text/html": [
       "<div>\n",
       "<table border=\"1\" class=\"dataframe\">\n",
       "  <thead>\n",
       "    <tr style=\"text-align: right;\">\n",
       "      <th></th>\n",
       "      <th>Order ID</th>\n",
       "      <th>Product Name</th>\n",
       "      <th>Discount</th>\n",
       "      <th>Sales</th>\n",
       "      <th>Profit</th>\n",
       "      <th>Quantity</th>\n",
       "      <th>Category</th>\n",
       "      <th>Sub-Category</th>\n",
       "    </tr>\n",
       "  </thead>\n",
       "  <tbody>\n",
       "    <tr>\n",
       "      <th>0</th>\n",
       "      <td>BN-2011-7407039</td>\n",
       "      <td>Enermax Note Cards, Premium</td>\n",
       "      <td>0.5</td>\n",
       "      <td>$45.00</td>\n",
       "      <td>-$26.00</td>\n",
       "      <td>3</td>\n",
       "      <td>Office Supplies</td>\n",
       "      <td>Paper</td>\n",
       "    </tr>\n",
       "    <tr>\n",
       "      <th>1</th>\n",
       "      <td>AZ-2011-9050313</td>\n",
       "      <td>Dania Corner Shelving, Traditional</td>\n",
       "      <td>0.0</td>\n",
       "      <td>$854.00</td>\n",
       "      <td>$290.00</td>\n",
       "      <td>7</td>\n",
       "      <td>Furniture</td>\n",
       "      <td>Bookcases</td>\n",
       "    </tr>\n",
       "    <tr>\n",
       "      <th>2</th>\n",
       "      <td>AZ-2011-6674300</td>\n",
       "      <td>Binney &amp; Smith Sketch Pad, Easy-Erase</td>\n",
       "      <td>0.0</td>\n",
       "      <td>$140.00</td>\n",
       "      <td>$21.00</td>\n",
       "      <td>3</td>\n",
       "      <td>Office Supplies</td>\n",
       "      <td>Art</td>\n",
       "    </tr>\n",
       "    <tr>\n",
       "      <th>3</th>\n",
       "      <td>BN-2011-2819714</td>\n",
       "      <td>Boston Markers, Easy-Erase</td>\n",
       "      <td>0.5</td>\n",
       "      <td>$27.00</td>\n",
       "      <td>-$22.00</td>\n",
       "      <td>2</td>\n",
       "      <td>Office Supplies</td>\n",
       "      <td>Art</td>\n",
       "    </tr>\n",
       "    <tr>\n",
       "      <th>4</th>\n",
       "      <td>BN-2011-2819714</td>\n",
       "      <td>Eldon Folders, Single Width</td>\n",
       "      <td>0.5</td>\n",
       "      <td>$17.00</td>\n",
       "      <td>-$1.00</td>\n",
       "      <td>2</td>\n",
       "      <td>Office Supplies</td>\n",
       "      <td>Storage</td>\n",
       "    </tr>\n",
       "    <tr>\n",
       "      <th>5</th>\n",
       "      <td>AZ-2011-617423</td>\n",
       "      <td>Binney &amp; Smith Pencil Sharpener, Water Color</td>\n",
       "      <td>0.0</td>\n",
       "      <td>$90.00</td>\n",
       "      <td>$21.00</td>\n",
       "      <td>3</td>\n",
       "      <td>Office Supplies</td>\n",
       "      <td>Art</td>\n",
       "    </tr>\n",
       "    <tr>\n",
       "      <th>6</th>\n",
       "      <td>AZ-2011-617423</td>\n",
       "      <td>Sanford Canvas, Fluorescent</td>\n",
       "      <td>0.0</td>\n",
       "      <td>$207.00</td>\n",
       "      <td>$77.00</td>\n",
       "      <td>4</td>\n",
       "      <td>Office Supplies</td>\n",
       "      <td>Art</td>\n",
       "    </tr>\n",
       "    <tr>\n",
       "      <th>7</th>\n",
       "      <td>AZ-2011-2918397</td>\n",
       "      <td>Bush Floating Shelf Set, Pine</td>\n",
       "      <td>0.1</td>\n",
       "      <td>$155.00</td>\n",
       "      <td>$36.00</td>\n",
       "      <td>1</td>\n",
       "      <td>Furniture</td>\n",
       "      <td>Bookcases</td>\n",
       "    </tr>\n",
       "    <tr>\n",
       "      <th>8</th>\n",
       "      <td>AZ-2011-2918397</td>\n",
       "      <td>Accos Thumb Tacks, Assorted Sizes</td>\n",
       "      <td>0.0</td>\n",
       "      <td>$33.00</td>\n",
       "      <td>$2.00</td>\n",
       "      <td>3</td>\n",
       "      <td>Office Supplies</td>\n",
       "      <td>Fasteners</td>\n",
       "    </tr>\n",
       "    <tr>\n",
       "      <th>9</th>\n",
       "      <td>AZ-2011-2918397</td>\n",
       "      <td>Smead Lockers, Industrial</td>\n",
       "      <td>0.1</td>\n",
       "      <td>$716.00</td>\n",
       "      <td>$143.00</td>\n",
       "      <td>4</td>\n",
       "      <td>Office Supplies</td>\n",
       "      <td>Storage</td>\n",
       "    </tr>\n",
       "  </tbody>\n",
       "</table>\n",
       "</div>"
      ],
      "text/plain": [
       "          Order ID                                  Product Name  Discount  \\\n",
       "0  BN-2011-7407039                   Enermax Note Cards, Premium       0.5   \n",
       "1  AZ-2011-9050313            Dania Corner Shelving, Traditional       0.0   \n",
       "2  AZ-2011-6674300         Binney & Smith Sketch Pad, Easy-Erase       0.0   \n",
       "3  BN-2011-2819714                    Boston Markers, Easy-Erase       0.5   \n",
       "4  BN-2011-2819714                   Eldon Folders, Single Width       0.5   \n",
       "5   AZ-2011-617423  Binney & Smith Pencil Sharpener, Water Color       0.0   \n",
       "6   AZ-2011-617423                   Sanford Canvas, Fluorescent       0.0   \n",
       "7  AZ-2011-2918397                 Bush Floating Shelf Set, Pine       0.1   \n",
       "8  AZ-2011-2918397             Accos Thumb Tacks, Assorted Sizes       0.0   \n",
       "9  AZ-2011-2918397                     Smead Lockers, Industrial       0.1   \n",
       "\n",
       "     Sales   Profit  Quantity         Category Sub-Category  \n",
       "0   $45.00  -$26.00         3  Office Supplies        Paper  \n",
       "1  $854.00  $290.00         7        Furniture    Bookcases  \n",
       "2  $140.00   $21.00         3  Office Supplies          Art  \n",
       "3   $27.00  -$22.00         2  Office Supplies          Art  \n",
       "4   $17.00   -$1.00         2  Office Supplies      Storage  \n",
       "5   $90.00   $21.00         3  Office Supplies          Art  \n",
       "6  $207.00   $77.00         4  Office Supplies          Art  \n",
       "7  $155.00   $36.00         1        Furniture    Bookcases  \n",
       "8   $33.00    $2.00         3  Office Supplies    Fasteners  \n",
       "9  $716.00  $143.00         4  Office Supplies      Storage  "
      ]
     },
     "execution_count": 98,
     "metadata": {},
     "output_type": "execute_result"
    }
   ],
   "source": [
    "OrderBreakdown.head(10)\n"
   ]
  },
  {
   "cell_type": "code",
   "execution_count": null,
   "metadata": {
    "collapsed": true
   },
   "outputs": [],
   "source": []
  },
  {
   "cell_type": "code",
   "execution_count": 99,
   "metadata": {
    "collapsed": false
   },
   "outputs": [
    {
     "data": {
      "text/html": [
       "<div>\n",
       "<table border=\"1\" class=\"dataframe\">\n",
       "  <thead>\n",
       "    <tr style=\"text-align: right;\">\n",
       "      <th></th>\n",
       "      <th>Order ID</th>\n",
       "      <th>Product Name</th>\n",
       "      <th>Discount</th>\n",
       "      <th>Sales</th>\n",
       "      <th>Profit</th>\n",
       "      <th>Quantity</th>\n",
       "      <th>Category</th>\n",
       "      <th>Sub-Category</th>\n",
       "    </tr>\n",
       "  </thead>\n",
       "  <tbody>\n",
       "    <tr>\n",
       "      <th>0</th>\n",
       "      <td>BN-2011-7407039</td>\n",
       "      <td>Enermax Note Cards, Premium</td>\n",
       "      <td>0.5</td>\n",
       "      <td>$45.00</td>\n",
       "      <td>-$26.00</td>\n",
       "      <td>3</td>\n",
       "      <td>Office Supplies</td>\n",
       "      <td>Paper</td>\n",
       "    </tr>\n",
       "    <tr>\n",
       "      <th>1</th>\n",
       "      <td>AZ-2011-9050313</td>\n",
       "      <td>Dania Corner Shelving, Traditional</td>\n",
       "      <td>0.0</td>\n",
       "      <td>$854.00</td>\n",
       "      <td>$290.00</td>\n",
       "      <td>7</td>\n",
       "      <td>Furniture</td>\n",
       "      <td>Bookcases</td>\n",
       "    </tr>\n",
       "    <tr>\n",
       "      <th>2</th>\n",
       "      <td>AZ-2011-6674300</td>\n",
       "      <td>Binney &amp; Smith Sketch Pad, Easy-Erase</td>\n",
       "      <td>0.0</td>\n",
       "      <td>$140.00</td>\n",
       "      <td>$21.00</td>\n",
       "      <td>3</td>\n",
       "      <td>Office Supplies</td>\n",
       "      <td>Art</td>\n",
       "    </tr>\n",
       "    <tr>\n",
       "      <th>3</th>\n",
       "      <td>BN-2011-2819714</td>\n",
       "      <td>Boston Markers, Easy-Erase</td>\n",
       "      <td>0.5</td>\n",
       "      <td>$27.00</td>\n",
       "      <td>-$22.00</td>\n",
       "      <td>2</td>\n",
       "      <td>Office Supplies</td>\n",
       "      <td>Art</td>\n",
       "    </tr>\n",
       "    <tr>\n",
       "      <th>4</th>\n",
       "      <td>BN-2011-2819714</td>\n",
       "      <td>Eldon Folders, Single Width</td>\n",
       "      <td>0.5</td>\n",
       "      <td>$17.00</td>\n",
       "      <td>-$1.00</td>\n",
       "      <td>2</td>\n",
       "      <td>Office Supplies</td>\n",
       "      <td>Storage</td>\n",
       "    </tr>\n",
       "  </tbody>\n",
       "</table>\n",
       "</div>"
      ],
      "text/plain": [
       "          Order ID                           Product Name  Discount    Sales  \\\n",
       "0  BN-2011-7407039            Enermax Note Cards, Premium       0.5   $45.00   \n",
       "1  AZ-2011-9050313     Dania Corner Shelving, Traditional       0.0  $854.00   \n",
       "2  AZ-2011-6674300  Binney & Smith Sketch Pad, Easy-Erase       0.0  $140.00   \n",
       "3  BN-2011-2819714             Boston Markers, Easy-Erase       0.5   $27.00   \n",
       "4  BN-2011-2819714            Eldon Folders, Single Width       0.5   $17.00   \n",
       "\n",
       "    Profit  Quantity         Category Sub-Category  \n",
       "0  -$26.00         3  Office Supplies        Paper  \n",
       "1  $290.00         7        Furniture    Bookcases  \n",
       "2   $21.00         3  Office Supplies          Art  \n",
       "3  -$22.00         2  Office Supplies          Art  \n",
       "4   -$1.00         2  Office Supplies      Storage  "
      ]
     },
     "execution_count": 99,
     "metadata": {},
     "output_type": "execute_result"
    }
   ],
   "source": [
    "OrderBreakdown.head()"
   ]
  },
  {
   "cell_type": "code",
   "execution_count": null,
   "metadata": {
    "collapsed": true
   },
   "outputs": [],
   "source": []
  },
  {
   "cell_type": "code",
   "execution_count": 100,
   "metadata": {
    "collapsed": false
   },
   "outputs": [
    {
     "data": {
      "text/html": [
       "<div>\n",
       "<table border=\"1\" class=\"dataframe\">\n",
       "  <thead>\n",
       "    <tr style=\"text-align: right;\">\n",
       "      <th></th>\n",
       "      <th>Month of Order Date</th>\n",
       "      <th>Category</th>\n",
       "      <th>Target</th>\n",
       "    </tr>\n",
       "  </thead>\n",
       "  <tbody>\n",
       "    <tr>\n",
       "      <th>0</th>\n",
       "      <td>Jan-11</td>\n",
       "      <td>Furniture</td>\n",
       "      <td>$10,000.00</td>\n",
       "    </tr>\n",
       "    <tr>\n",
       "      <th>1</th>\n",
       "      <td>Feb-11</td>\n",
       "      <td>Furniture</td>\n",
       "      <td>$10,100.00</td>\n",
       "    </tr>\n",
       "    <tr>\n",
       "      <th>2</th>\n",
       "      <td>Mar-11</td>\n",
       "      <td>Furniture</td>\n",
       "      <td>$10,300.00</td>\n",
       "    </tr>\n",
       "    <tr>\n",
       "      <th>3</th>\n",
       "      <td>Apr-11</td>\n",
       "      <td>Furniture</td>\n",
       "      <td>$10,400.00</td>\n",
       "    </tr>\n",
       "    <tr>\n",
       "      <th>4</th>\n",
       "      <td>May-11</td>\n",
       "      <td>Furniture</td>\n",
       "      <td>$10,500.00</td>\n",
       "    </tr>\n",
       "  </tbody>\n",
       "</table>\n",
       "</div>"
      ],
      "text/plain": [
       "  Month of Order Date   Category      Target\n",
       "0              Jan-11  Furniture  $10,000.00\n",
       "1              Feb-11  Furniture  $10,100.00\n",
       "2              Mar-11  Furniture  $10,300.00\n",
       "3              Apr-11  Furniture  $10,400.00\n",
       "4              May-11  Furniture  $10,500.00"
      ]
     },
     "execution_count": 100,
     "metadata": {},
     "output_type": "execute_result"
    }
   ],
   "source": [
    "SalesTargets.head()"
   ]
  },
  {
   "cell_type": "code",
   "execution_count": null,
   "metadata": {
    "collapsed": true
   },
   "outputs": [],
   "source": []
  },
  {
   "cell_type": "markdown",
   "metadata": {},
   "source": [
    "## Create a SQL Database called 'EuroMart' and save the three dataframes as SQL tables. "
   ]
  },
  {
   "cell_type": "code",
   "execution_count": 101,
   "metadata": {
    "collapsed": false
   },
   "outputs": [],
   "source": [
    "connection = sqlite3.connect('data/sql/test.db.sqlite')\n",
    "ListOfOrders.to_sql(name = 'ListOfOrders', con = connection, if_exists = 'replace', index = False)\n",
    "connection = sqlite3.connect('data/sql/test.db.sqlite')\n",
    "OrderBreakdown.to_sql(name = 'OrderBreakdown', con = connection, if_exists = 'replace', index = False)\n",
    "connection = sqlite3.connect('data/sql/test.db.sqlite')\n",
    "SalesTargets.to_sql(name = 'SalesTargets', con = connection, if_exists = 'replace', index = False)"
   ]
  },
  {
   "cell_type": "code",
   "execution_count": null,
   "metadata": {
    "collapsed": true
   },
   "outputs": [],
   "source": []
  },
  {
   "cell_type": "markdown",
   "metadata": {},
   "source": [
    "### 1. How many orders has each Customer placed? "
   ]
  },
  {
   "cell_type": "code",
   "execution_count": 109,
   "metadata": {
    "collapsed": false
   },
   "outputs": [
    {
     "data": {
      "text/html": [
       "<div>\n",
       "<table border=\"1\" class=\"dataframe\">\n",
       "  <thead>\n",
       "    <tr style=\"text-align: right;\">\n",
       "      <th></th>\n",
       "      <th>Order ID</th>\n",
       "    </tr>\n",
       "    <tr>\n",
       "      <th>Customer Name</th>\n",
       "      <th></th>\n",
       "    </tr>\n",
       "  </thead>\n",
       "  <tbody>\n",
       "    <tr>\n",
       "      <th>Aaron Bootman</th>\n",
       "      <td>11</td>\n",
       "    </tr>\n",
       "    <tr>\n",
       "      <th>Aaron Cunningham</th>\n",
       "      <td>8</td>\n",
       "    </tr>\n",
       "    <tr>\n",
       "      <th>Aaron Davey</th>\n",
       "      <td>4</td>\n",
       "    </tr>\n",
       "    <tr>\n",
       "      <th>Aaron Macrossan</th>\n",
       "      <td>1</td>\n",
       "    </tr>\n",
       "    <tr>\n",
       "      <th>Abbie Perry</th>\n",
       "      <td>4</td>\n",
       "    </tr>\n",
       "    <tr>\n",
       "      <th>Abby Colebe</th>\n",
       "      <td>3</td>\n",
       "    </tr>\n",
       "    <tr>\n",
       "      <th>Abby Mei</th>\n",
       "      <td>6</td>\n",
       "    </tr>\n",
       "    <tr>\n",
       "      <th>Abby Muramats</th>\n",
       "      <td>5</td>\n",
       "    </tr>\n",
       "    <tr>\n",
       "      <th>Abigail Humffray</th>\n",
       "      <td>5</td>\n",
       "    </tr>\n",
       "    <tr>\n",
       "      <th>Ada Dalton</th>\n",
       "      <td>4</td>\n",
       "    </tr>\n",
       "    <tr>\n",
       "      <th>Adam Bentley</th>\n",
       "      <td>3</td>\n",
       "    </tr>\n",
       "    <tr>\n",
       "      <th>Adam Gibbs</th>\n",
       "      <td>4</td>\n",
       "    </tr>\n",
       "    <tr>\n",
       "      <th>Adam Harte</th>\n",
       "      <td>8</td>\n",
       "    </tr>\n",
       "    <tr>\n",
       "      <th>Adam Peacock</th>\n",
       "      <td>4</td>\n",
       "    </tr>\n",
       "    <tr>\n",
       "      <th>Adam Walpole</th>\n",
       "      <td>7</td>\n",
       "    </tr>\n",
       "    <tr>\n",
       "      <th>Aidan Hayward</th>\n",
       "      <td>7</td>\n",
       "    </tr>\n",
       "    <tr>\n",
       "      <th>Aidan Rowe</th>\n",
       "      <td>8</td>\n",
       "    </tr>\n",
       "    <tr>\n",
       "      <th>Alana Tyson</th>\n",
       "      <td>4</td>\n",
       "    </tr>\n",
       "    <tr>\n",
       "      <th>Alana Zahel</th>\n",
       "      <td>7</td>\n",
       "    </tr>\n",
       "    <tr>\n",
       "      <th>Alannah Callaway</th>\n",
       "      <td>5</td>\n",
       "    </tr>\n",
       "    <tr>\n",
       "      <th>Alannah Langridge</th>\n",
       "      <td>9</td>\n",
       "    </tr>\n",
       "    <tr>\n",
       "      <th>Alex Greenwood</th>\n",
       "      <td>7</td>\n",
       "    </tr>\n",
       "    <tr>\n",
       "      <th>Alexander Bennett</th>\n",
       "      <td>6</td>\n",
       "    </tr>\n",
       "    <tr>\n",
       "      <th>Alexander Bond</th>\n",
       "      <td>4</td>\n",
       "    </tr>\n",
       "    <tr>\n",
       "      <th>Alexandra Macdonald</th>\n",
       "      <td>10</td>\n",
       "    </tr>\n",
       "    <tr>\n",
       "      <th>Alexandra Mahmood</th>\n",
       "      <td>1</td>\n",
       "    </tr>\n",
       "    <tr>\n",
       "      <th>Alexandra Portus</th>\n",
       "      <td>5</td>\n",
       "    </tr>\n",
       "    <tr>\n",
       "      <th>Alexandra Whitehouse</th>\n",
       "      <td>7</td>\n",
       "    </tr>\n",
       "    <tr>\n",
       "      <th>Alexis Code</th>\n",
       "      <td>8</td>\n",
       "    </tr>\n",
       "    <tr>\n",
       "      <th>Alexis O'Flaherty</th>\n",
       "      <td>3</td>\n",
       "    </tr>\n",
       "    <tr>\n",
       "      <th>...</th>\n",
       "      <td>...</td>\n",
       "    </tr>\n",
       "    <tr>\n",
       "      <th>Tyson Jonathan</th>\n",
       "      <td>9</td>\n",
       "    </tr>\n",
       "    <tr>\n",
       "      <th>Vaughn Gibbs</th>\n",
       "      <td>5</td>\n",
       "    </tr>\n",
       "    <tr>\n",
       "      <th>Victor Kron</th>\n",
       "      <td>5</td>\n",
       "    </tr>\n",
       "    <tr>\n",
       "      <th>Victoria Bell</th>\n",
       "      <td>3</td>\n",
       "    </tr>\n",
       "    <tr>\n",
       "      <th>Victoria Burke</th>\n",
       "      <td>4</td>\n",
       "    </tr>\n",
       "    <tr>\n",
       "      <th>Viola Watson</th>\n",
       "      <td>5</td>\n",
       "    </tr>\n",
       "    <tr>\n",
       "      <th>Walter Aguilar</th>\n",
       "      <td>7</td>\n",
       "    </tr>\n",
       "    <tr>\n",
       "      <th>Walter Coley</th>\n",
       "      <td>6</td>\n",
       "    </tr>\n",
       "    <tr>\n",
       "      <th>Wanda Wingert</th>\n",
       "      <td>3</td>\n",
       "    </tr>\n",
       "    <tr>\n",
       "      <th>Will Poynton</th>\n",
       "      <td>7</td>\n",
       "    </tr>\n",
       "    <tr>\n",
       "      <th>William Horton</th>\n",
       "      <td>5</td>\n",
       "    </tr>\n",
       "    <tr>\n",
       "      <th>William Jolly</th>\n",
       "      <td>5</td>\n",
       "    </tr>\n",
       "    <tr>\n",
       "      <th>William Martin</th>\n",
       "      <td>3</td>\n",
       "    </tr>\n",
       "    <tr>\n",
       "      <th>William Reichert</th>\n",
       "      <td>4</td>\n",
       "    </tr>\n",
       "    <tr>\n",
       "      <th>William Somerville</th>\n",
       "      <td>5</td>\n",
       "    </tr>\n",
       "    <tr>\n",
       "      <th>Winnie Moss</th>\n",
       "      <td>6</td>\n",
       "    </tr>\n",
       "    <tr>\n",
       "      <th>Wynona Janelle</th>\n",
       "      <td>4</td>\n",
       "    </tr>\n",
       "    <tr>\n",
       "      <th>Xavier Burford</th>\n",
       "      <td>6</td>\n",
       "    </tr>\n",
       "    <tr>\n",
       "      <th>Xavier Martindale</th>\n",
       "      <td>3</td>\n",
       "    </tr>\n",
       "    <tr>\n",
       "      <th>Xavier Synan</th>\n",
       "      <td>5</td>\n",
       "    </tr>\n",
       "    <tr>\n",
       "      <th>Yasmin Bradley</th>\n",
       "      <td>3</td>\n",
       "    </tr>\n",
       "    <tr>\n",
       "      <th>Yasmin Higgins</th>\n",
       "      <td>2</td>\n",
       "    </tr>\n",
       "    <tr>\n",
       "      <th>Zachary Disher</th>\n",
       "      <td>7</td>\n",
       "    </tr>\n",
       "    <tr>\n",
       "      <th>Zachary Warner</th>\n",
       "      <td>9</td>\n",
       "    </tr>\n",
       "    <tr>\n",
       "      <th>Zara Jennings</th>\n",
       "      <td>2</td>\n",
       "    </tr>\n",
       "    <tr>\n",
       "      <th>Zara Loton</th>\n",
       "      <td>3</td>\n",
       "    </tr>\n",
       "    <tr>\n",
       "      <th>Zara Money</th>\n",
       "      <td>5</td>\n",
       "    </tr>\n",
       "    <tr>\n",
       "      <th>Zoe Lanigan</th>\n",
       "      <td>4</td>\n",
       "    </tr>\n",
       "    <tr>\n",
       "      <th>Zoe Lowin</th>\n",
       "      <td>4</td>\n",
       "    </tr>\n",
       "    <tr>\n",
       "      <th>Zona Meyer</th>\n",
       "      <td>8</td>\n",
       "    </tr>\n",
       "  </tbody>\n",
       "</table>\n",
       "<p>792 rows × 1 columns</p>\n",
       "</div>"
      ],
      "text/plain": [
       "                      Order ID\n",
       "Customer Name                 \n",
       "Aaron Bootman               11\n",
       "Aaron Cunningham             8\n",
       "Aaron Davey                  4\n",
       "Aaron Macrossan              1\n",
       "Abbie Perry                  4\n",
       "Abby Colebe                  3\n",
       "Abby Mei                     6\n",
       "Abby Muramats                5\n",
       "Abigail Humffray             5\n",
       "Ada Dalton                   4\n",
       "Adam Bentley                 3\n",
       "Adam Gibbs                   4\n",
       "Adam Harte                   8\n",
       "Adam Peacock                 4\n",
       "Adam Walpole                 7\n",
       "Aidan Hayward                7\n",
       "Aidan Rowe                   8\n",
       "Alana Tyson                  4\n",
       "Alana Zahel                  7\n",
       "Alannah Callaway             5\n",
       "Alannah Langridge            9\n",
       "Alex Greenwood               7\n",
       "Alexander Bennett            6\n",
       "Alexander Bond               4\n",
       "Alexandra Macdonald         10\n",
       "Alexandra Mahmood            1\n",
       "Alexandra Portus             5\n",
       "Alexandra Whitehouse         7\n",
       "Alexis Code                  8\n",
       "Alexis O'Flaherty            3\n",
       "...                        ...\n",
       "Tyson Jonathan               9\n",
       "Vaughn Gibbs                 5\n",
       "Victor Kron                  5\n",
       "Victoria Bell                3\n",
       "Victoria Burke               4\n",
       "Viola Watson                 5\n",
       "Walter Aguilar               7\n",
       "Walter Coley                 6\n",
       "Wanda Wingert                3\n",
       "Will Poynton                 7\n",
       "William Horton               5\n",
       "William Jolly                5\n",
       "William Martin               3\n",
       "William Reichert             4\n",
       "William Somerville           5\n",
       "Winnie Moss                  6\n",
       "Wynona Janelle               4\n",
       "Xavier Burford               6\n",
       "Xavier Martindale            3\n",
       "Xavier Synan                 5\n",
       "Yasmin Bradley               3\n",
       "Yasmin Higgins               2\n",
       "Zachary Disher               7\n",
       "Zachary Warner               9\n",
       "Zara Jennings                2\n",
       "Zara Loton                   3\n",
       "Zara Money                   5\n",
       "Zoe Lanigan                  4\n",
       "Zoe Lowin                    4\n",
       "Zona Meyer                   8\n",
       "\n",
       "[792 rows x 1 columns]"
      ]
     },
     "execution_count": 109,
     "metadata": {},
     "output_type": "execute_result"
    }
   ],
   "source": [
    "connection = sqlite3.connect('data/sql/test.db.sqlite')\n",
    "query1 = 'SELECT `Customer Name`,`Order ID` FROM ListOfOrders'\n",
    "q_order = sql.read_sql(query1, con = connection)\n",
    "\n",
    "\n",
    "q_order.groupby('Customer Name').count()\n"
   ]
  },
  {
   "cell_type": "code",
   "execution_count": null,
   "metadata": {
    "collapsed": true
   },
   "outputs": [],
   "source": []
  },
  {
   "cell_type": "code",
   "execution_count": null,
   "metadata": {
    "collapsed": true
   },
   "outputs": [],
   "source": []
  },
  {
   "cell_type": "markdown",
   "metadata": {},
   "source": [
    "##### *If you're doubting your output check using Pandas"
   ]
  },
  {
   "cell_type": "markdown",
   "metadata": {},
   "source": [
    "### 2. Create a Query to return a table of only Geographic features from the List of Orders Table."
   ]
  },
  {
   "cell_type": "code",
   "execution_count": 26,
   "metadata": {
    "collapsed": false
   },
   "outputs": [
    {
     "data": {
      "text/html": [
       "<div>\n",
       "<table border=\"1\" class=\"dataframe\">\n",
       "  <thead>\n",
       "    <tr style=\"text-align: right;\">\n",
       "      <th></th>\n",
       "      <th>City</th>\n",
       "      <th>State</th>\n",
       "      <th>Region</th>\n",
       "      <th>Country</th>\n",
       "    </tr>\n",
       "  </thead>\n",
       "  <tbody>\n",
       "    <tr>\n",
       "      <th>0</th>\n",
       "      <td>Stockholm</td>\n",
       "      <td>Stockholm</td>\n",
       "      <td>North</td>\n",
       "      <td>Sweden</td>\n",
       "    </tr>\n",
       "    <tr>\n",
       "      <th>1</th>\n",
       "      <td>Southport</td>\n",
       "      <td>England</td>\n",
       "      <td>North</td>\n",
       "      <td>United Kingdom</td>\n",
       "    </tr>\n",
       "    <tr>\n",
       "      <th>2</th>\n",
       "      <td>Valence</td>\n",
       "      <td>Auvergne-Rhône-Alpes</td>\n",
       "      <td>Central</td>\n",
       "      <td>France</td>\n",
       "    </tr>\n",
       "    <tr>\n",
       "      <th>3</th>\n",
       "      <td>Birmingham</td>\n",
       "      <td>England</td>\n",
       "      <td>North</td>\n",
       "      <td>United Kingdom</td>\n",
       "    </tr>\n",
       "    <tr>\n",
       "      <th>4</th>\n",
       "      <td>Echirolles</td>\n",
       "      <td>Auvergne-Rhône-Alpes</td>\n",
       "      <td>Central</td>\n",
       "      <td>France</td>\n",
       "    </tr>\n",
       "  </tbody>\n",
       "</table>\n",
       "</div>"
      ],
      "text/plain": [
       "         City                 State   Region         Country\n",
       "0   Stockholm             Stockholm    North          Sweden\n",
       "1   Southport               England    North  United Kingdom\n",
       "2     Valence  Auvergne-Rhône-Alpes  Central          France\n",
       "3  Birmingham               England    North  United Kingdom\n",
       "4  Echirolles  Auvergne-Rhône-Alpes  Central          France"
      ]
     },
     "execution_count": 26,
     "metadata": {},
     "output_type": "execute_result"
    }
   ],
   "source": [
    "\n",
    "query3= 'SELECT City,State,Region,Country FROM ListOfOrders'\n",
    "connection = sqlite3.connect('data/sql/test.db.sqlite')\n",
    "q_order = sql.read_sql(query3, con = connection)\n",
    "\n",
    "q_order.head()"
   ]
  },
  {
   "cell_type": "code",
   "execution_count": null,
   "metadata": {
    "collapsed": true
   },
   "outputs": [],
   "source": []
  },
  {
   "cell_type": "markdown",
   "metadata": {},
   "source": [
    "### 3. Create a Query to return a table with all of the orders that had a negative profit from the Order Breakdown Table."
   ]
  },
  {
   "cell_type": "code",
   "execution_count": 29,
   "metadata": {
    "collapsed": true
   },
   "outputs": [],
   "source": [
    "query4= 'SELECT Profit,`Order ID` FROM OrderBreakdown'\n",
    "connection = sqlite3.connect('data/sql/test.db.sqlite')\n",
    "q_order = sql.read_sql(query4, con = connection)\n"
   ]
  },
  {
   "cell_type": "code",
   "execution_count": null,
   "metadata": {
    "collapsed": true
   },
   "outputs": [],
   "source": []
  },
  {
   "cell_type": "code",
   "execution_count": 32,
   "metadata": {
    "collapsed": false
   },
   "outputs": [
    {
     "data": {
      "text/html": [
       "<div>\n",
       "<table border=\"1\" class=\"dataframe\">\n",
       "  <thead>\n",
       "    <tr style=\"text-align: right;\">\n",
       "      <th></th>\n",
       "      <th>Profit</th>\n",
       "      <th>Order ID</th>\n",
       "    </tr>\n",
       "  </thead>\n",
       "  <tbody>\n",
       "    <tr>\n",
       "      <th>0</th>\n",
       "      <td>-26.0</td>\n",
       "      <td>BN-2011-7407039</td>\n",
       "    </tr>\n",
       "    <tr>\n",
       "      <th>1</th>\n",
       "      <td>290.0</td>\n",
       "      <td>AZ-2011-9050313</td>\n",
       "    </tr>\n",
       "    <tr>\n",
       "      <th>2</th>\n",
       "      <td>21.0</td>\n",
       "      <td>AZ-2011-6674300</td>\n",
       "    </tr>\n",
       "    <tr>\n",
       "      <th>3</th>\n",
       "      <td>-22.0</td>\n",
       "      <td>BN-2011-2819714</td>\n",
       "    </tr>\n",
       "    <tr>\n",
       "      <th>4</th>\n",
       "      <td>-1.0</td>\n",
       "      <td>BN-2011-2819714</td>\n",
       "    </tr>\n",
       "    <tr>\n",
       "      <th>5</th>\n",
       "      <td>21.0</td>\n",
       "      <td>AZ-2011-617423</td>\n",
       "    </tr>\n",
       "    <tr>\n",
       "      <th>6</th>\n",
       "      <td>77.0</td>\n",
       "      <td>AZ-2011-617423</td>\n",
       "    </tr>\n",
       "    <tr>\n",
       "      <th>7</th>\n",
       "      <td>36.0</td>\n",
       "      <td>AZ-2011-2918397</td>\n",
       "    </tr>\n",
       "    <tr>\n",
       "      <th>8</th>\n",
       "      <td>2.0</td>\n",
       "      <td>AZ-2011-2918397</td>\n",
       "    </tr>\n",
       "    <tr>\n",
       "      <th>9</th>\n",
       "      <td>143.0</td>\n",
       "      <td>AZ-2011-2918397</td>\n",
       "    </tr>\n",
       "  </tbody>\n",
       "</table>\n",
       "</div>"
      ],
      "text/plain": [
       "   Profit         Order ID\n",
       "0   -26.0  BN-2011-7407039\n",
       "1   290.0  AZ-2011-9050313\n",
       "2    21.0  AZ-2011-6674300\n",
       "3   -22.0  BN-2011-2819714\n",
       "4    -1.0  BN-2011-2819714\n",
       "5    21.0   AZ-2011-617423\n",
       "6    77.0   AZ-2011-617423\n",
       "7    36.0  AZ-2011-2918397\n",
       "8     2.0  AZ-2011-2918397\n",
       "9   143.0  AZ-2011-2918397"
      ]
     },
     "execution_count": 32,
     "metadata": {},
     "output_type": "execute_result"
    }
   ],
   "source": [
    "q_order['Profit'] = q_order['Profit'].str.replace(',', '')\n",
    "q_order['Profit'] = q_order['Profit'].str.replace('$', '')\n",
    "q_order['Profit']= q_order['Profit'].astype(float)\n",
    "q_order.head(10)"
   ]
  },
  {
   "cell_type": "code",
   "execution_count": 39,
   "metadata": {
    "collapsed": false
   },
   "outputs": [
    {
     "data": {
      "text/html": [
       "<div>\n",
       "<table border=\"1\" class=\"dataframe\">\n",
       "  <thead>\n",
       "    <tr style=\"text-align: right;\">\n",
       "      <th></th>\n",
       "      <th>Profit</th>\n",
       "      <th>Order ID</th>\n",
       "    </tr>\n",
       "  </thead>\n",
       "  <tbody>\n",
       "    <tr>\n",
       "      <th>0</th>\n",
       "      <td>-26.0</td>\n",
       "      <td>BN-2011-7407039</td>\n",
       "    </tr>\n",
       "    <tr>\n",
       "      <th>1</th>\n",
       "      <td>-22.0</td>\n",
       "      <td>BN-2011-2819714</td>\n",
       "    </tr>\n",
       "    <tr>\n",
       "      <th>2</th>\n",
       "      <td>-1.0</td>\n",
       "      <td>BN-2011-2819714</td>\n",
       "    </tr>\n",
       "    <tr>\n",
       "      <th>3</th>\n",
       "      <td>-1012.0</td>\n",
       "      <td>BN-2011-3248724</td>\n",
       "    </tr>\n",
       "    <tr>\n",
       "      <th>4</th>\n",
       "      <td>-56.0</td>\n",
       "      <td>BN-2011-3248724</td>\n",
       "    </tr>\n",
       "    <tr>\n",
       "      <th>5</th>\n",
       "      <td>-342.0</td>\n",
       "      <td>AZ-2011-6439906</td>\n",
       "    </tr>\n",
       "    <tr>\n",
       "      <th>6</th>\n",
       "      <td>-6.0</td>\n",
       "      <td>AZ-2011-2222024</td>\n",
       "    </tr>\n",
       "    <tr>\n",
       "      <th>7</th>\n",
       "      <td>-3.0</td>\n",
       "      <td>BN-2011-4913858</td>\n",
       "    </tr>\n",
       "    <tr>\n",
       "      <th>8</th>\n",
       "      <td>-12.0</td>\n",
       "      <td>BN-2011-4913858</td>\n",
       "    </tr>\n",
       "    <tr>\n",
       "      <th>9</th>\n",
       "      <td>-38.0</td>\n",
       "      <td>BN-2011-4913858</td>\n",
       "    </tr>\n",
       "  </tbody>\n",
       "</table>\n",
       "</div>"
      ],
      "text/plain": [
       "   Profit         Order ID\n",
       "0   -26.0  BN-2011-7407039\n",
       "1   -22.0  BN-2011-2819714\n",
       "2    -1.0  BN-2011-2819714\n",
       "3 -1012.0  BN-2011-3248724\n",
       "4   -56.0  BN-2011-3248724\n",
       "5  -342.0  AZ-2011-6439906\n",
       "6    -6.0  AZ-2011-2222024\n",
       "7    -3.0  BN-2011-4913858\n",
       "8   -12.0  BN-2011-4913858\n",
       "9   -38.0  BN-2011-4913858"
      ]
     },
     "execution_count": 39,
     "metadata": {},
     "output_type": "execute_result"
    }
   ],
   "source": [
    "\n",
    "q_order.to_sql(name = 'q_order_2', con = connection, if_exists = 'replace', index = False)\n",
    "query4= 'SELECT Profit,`Order ID` FROM q_order_2 WHERE (Profit <0)'\n",
    "connection = sqlite3.connect('data/sql/test.db.sqlite')\n",
    "q_order = sql.read_sql(query4, con = connection)\n",
    "\n",
    "q_order.head(10)\n"
   ]
  },
  {
   "cell_type": "markdown",
   "metadata": {},
   "source": [
    "### 4. Construct a query to return a table with the Customer Name and Product Name.  \n",
    "(This will require a Join)"
   ]
  },
  {
   "cell_type": "code",
   "execution_count": 40,
   "metadata": {
    "collapsed": false
   },
   "outputs": [
    {
     "data": {
      "text/html": [
       "<div>\n",
       "<table border=\"1\" class=\"dataframe\">\n",
       "  <thead>\n",
       "    <tr style=\"text-align: right;\">\n",
       "      <th></th>\n",
       "      <th>Product Name</th>\n",
       "      <th>Customer Name</th>\n",
       "    </tr>\n",
       "  </thead>\n",
       "  <tbody>\n",
       "    <tr>\n",
       "      <th>0</th>\n",
       "      <td>Enermax Note Cards, Premium</td>\n",
       "      <td>Ruby Patel</td>\n",
       "    </tr>\n",
       "    <tr>\n",
       "      <th>1</th>\n",
       "      <td>Dania Corner Shelving, Traditional</td>\n",
       "      <td>Summer Hayward</td>\n",
       "    </tr>\n",
       "    <tr>\n",
       "      <th>2</th>\n",
       "      <td>Binney &amp; Smith Sketch Pad, Easy-Erase</td>\n",
       "      <td>Devin Huddleston</td>\n",
       "    </tr>\n",
       "    <tr>\n",
       "      <th>3</th>\n",
       "      <td>Boston Markers, Easy-Erase</td>\n",
       "      <td>Mary Parker</td>\n",
       "    </tr>\n",
       "    <tr>\n",
       "      <th>4</th>\n",
       "      <td>Eldon Folders, Single Width</td>\n",
       "      <td>Mary Parker</td>\n",
       "    </tr>\n",
       "    <tr>\n",
       "      <th>5</th>\n",
       "      <td>Binney &amp; Smith Pencil Sharpener, Water Color</td>\n",
       "      <td>Daniel Burke</td>\n",
       "    </tr>\n",
       "    <tr>\n",
       "      <th>6</th>\n",
       "      <td>Sanford Canvas, Fluorescent</td>\n",
       "      <td>Daniel Burke</td>\n",
       "    </tr>\n",
       "    <tr>\n",
       "      <th>7</th>\n",
       "      <td>Accos Thumb Tacks, Assorted Sizes</td>\n",
       "      <td>Fredrick Beveridge</td>\n",
       "    </tr>\n",
       "    <tr>\n",
       "      <th>8</th>\n",
       "      <td>Bush Floating Shelf Set, Pine</td>\n",
       "      <td>Fredrick Beveridge</td>\n",
       "    </tr>\n",
       "    <tr>\n",
       "      <th>9</th>\n",
       "      <td>Smead Lockers, Industrial</td>\n",
       "      <td>Fredrick Beveridge</td>\n",
       "    </tr>\n",
       "  </tbody>\n",
       "</table>\n",
       "</div>"
      ],
      "text/plain": [
       "                                   Product Name       Customer Name\n",
       "0                   Enermax Note Cards, Premium          Ruby Patel\n",
       "1            Dania Corner Shelving, Traditional      Summer Hayward\n",
       "2         Binney & Smith Sketch Pad, Easy-Erase    Devin Huddleston\n",
       "3                    Boston Markers, Easy-Erase         Mary Parker\n",
       "4                   Eldon Folders, Single Width         Mary Parker\n",
       "5  Binney & Smith Pencil Sharpener, Water Color        Daniel Burke\n",
       "6                   Sanford Canvas, Fluorescent        Daniel Burke\n",
       "7             Accos Thumb Tacks, Assorted Sizes  Fredrick Beveridge\n",
       "8                 Bush Floating Shelf Set, Pine  Fredrick Beveridge\n",
       "9                     Smead Lockers, Industrial  Fredrick Beveridge"
      ]
     },
     "execution_count": 40,
     "metadata": {},
     "output_type": "execute_result"
    }
   ],
   "source": [
    "query4= 'SELECT `Product Name`,`Customer Name` FROM ListOfOrders,OrderBreakdown where ListOfOrders.`Order ID` = OrderBreakdown.`Order ID`'\n",
    "connection = sqlite3.connect('data/sql/test.db.sqlite')\n",
    "q_order = sql.read_sql(query4, con = connection)\n",
    "\n",
    "q_order.head(10)\n",
    "\n"
   ]
  },
  {
   "cell_type": "code",
   "execution_count": null,
   "metadata": {
    "collapsed": true
   },
   "outputs": [],
   "source": []
  },
  {
   "cell_type": "markdown",
   "metadata": {},
   "source": [
    "##### From this point on you'll probably be combining SQL and Pandas, in that you would use SQL querys to gather the relevant information and use Pandas to analyze it."
   ]
  },
  {
   "cell_type": "markdown",
   "metadata": {},
   "source": [
    "### 5.  How many orders for \"Office Supplies\" (Category) has Sweeden made?"
   ]
  },
  {
   "cell_type": "code",
   "execution_count": 47,
   "metadata": {
    "collapsed": false
   },
   "outputs": [
    {
     "data": {
      "text/plain": [
       "Country         Category       \n",
       "Austria         Office Supplies     177\n",
       "                Technology           47\n",
       "                Furniture            40\n",
       "Belgium         Office Supplies      96\n",
       "                Furniture            20\n",
       "                Technology           19\n",
       "Denmark         Office Supplies      39\n",
       "                Technology           12\n",
       "                Furniture             9\n",
       "Finland         Office Supplies      38\n",
       "                Furniture            16\n",
       "                Technology           10\n",
       "France          Office Supplies    1231\n",
       "                Technology          386\n",
       "                Furniture           299\n",
       "Germany         Office Supplies    1065\n",
       "                Technology          311\n",
       "                Furniture           264\n",
       "Ireland         Office Supplies      67\n",
       "                Technology           21\n",
       "                Furniture            12\n",
       "Italy           Office Supplies     656\n",
       "                Technology          187\n",
       "                Furniture           136\n",
       "Netherlands     Office Supplies     242\n",
       "                Furniture            76\n",
       "                Technology           75\n",
       "Norway          Office Supplies      46\n",
       "                Technology           18\n",
       "                Furniture             6\n",
       "Portugal        Office Supplies      47\n",
       "                Technology           13\n",
       "                Furniture            10\n",
       "Spain           Office Supplies     503\n",
       "                Technology          135\n",
       "                Furniture           123\n",
       "Sweden          Office Supplies     133\n",
       "                Furniture            36\n",
       "                Technology           34\n",
       "Switzerland     Office Supplies      54\n",
       "                Technology           13\n",
       "                Furniture            11\n",
       "United Kingdom  Office Supplies     892\n",
       "                Technology          242\n",
       "                Furniture           180\n",
       "Name: Category, dtype: int64"
      ]
     },
     "execution_count": 47,
     "metadata": {},
     "output_type": "execute_result"
    }
   ],
   "source": [
    "query5= 'SELECT `Category`,`Country` FROM ListOfOrders,OrderBreakdown where (ListOfOrders.`Order ID` = OrderBreakdown.`Order ID`)'\n",
    "connection = sqlite3.connect('data/sql/test.db.sqlite')\n",
    "q_order = sql.read_sql(query5, con = connection)\n",
    "\n",
    "\n",
    "\n",
    "q_order.groupby('Country').Category.value_counts()"
   ]
  },
  {
   "cell_type": "markdown",
   "metadata": {},
   "source": [
    "### 6. What was the total sales for products that have been discounted? "
   ]
  },
  {
   "cell_type": "code",
   "execution_count": 60,
   "metadata": {
    "collapsed": false
   },
   "outputs": [
    {
     "data": {
      "text/html": [
       "<div>\n",
       "<table border=\"1\" class=\"dataframe\">\n",
       "  <thead>\n",
       "    <tr style=\"text-align: right;\">\n",
       "      <th></th>\n",
       "      <th>Order ID</th>\n",
       "      <th>Product Name</th>\n",
       "      <th>Discount</th>\n",
       "      <th>Sales</th>\n",
       "      <th>Profit</th>\n",
       "      <th>Quantity</th>\n",
       "      <th>Category</th>\n",
       "      <th>Sub-Category</th>\n",
       "    </tr>\n",
       "  </thead>\n",
       "  <tbody>\n",
       "    <tr>\n",
       "      <th>0</th>\n",
       "      <td>BN-2011-7407039</td>\n",
       "      <td>Enermax Note Cards, Premium</td>\n",
       "      <td>0.5</td>\n",
       "      <td>45.00</td>\n",
       "      <td>-$26.00</td>\n",
       "      <td>3</td>\n",
       "      <td>Office Supplies</td>\n",
       "      <td>Paper</td>\n",
       "    </tr>\n",
       "    <tr>\n",
       "      <th>1</th>\n",
       "      <td>AZ-2011-9050313</td>\n",
       "      <td>Dania Corner Shelving, Traditional</td>\n",
       "      <td>0.0</td>\n",
       "      <td>854.00</td>\n",
       "      <td>290.00</td>\n",
       "      <td>7</td>\n",
       "      <td>Furniture</td>\n",
       "      <td>Bookcases</td>\n",
       "    </tr>\n",
       "    <tr>\n",
       "      <th>2</th>\n",
       "      <td>AZ-2011-6674300</td>\n",
       "      <td>Binney &amp; Smith Sketch Pad, Easy-Erase</td>\n",
       "      <td>0.0</td>\n",
       "      <td>140.00</td>\n",
       "      <td>21.00</td>\n",
       "      <td>3</td>\n",
       "      <td>Office Supplies</td>\n",
       "      <td>Art</td>\n",
       "    </tr>\n",
       "    <tr>\n",
       "      <th>3</th>\n",
       "      <td>BN-2011-2819714</td>\n",
       "      <td>Boston Markers, Easy-Erase</td>\n",
       "      <td>0.5</td>\n",
       "      <td>27.00</td>\n",
       "      <td>-$22.00</td>\n",
       "      <td>2</td>\n",
       "      <td>Office Supplies</td>\n",
       "      <td>Art</td>\n",
       "    </tr>\n",
       "    <tr>\n",
       "      <th>4</th>\n",
       "      <td>BN-2011-2819714</td>\n",
       "      <td>Eldon Folders, Single Width</td>\n",
       "      <td>0.5</td>\n",
       "      <td>17.00</td>\n",
       "      <td>-$1.00</td>\n",
       "      <td>2</td>\n",
       "      <td>Office Supplies</td>\n",
       "      <td>Storage</td>\n",
       "    </tr>\n",
       "  </tbody>\n",
       "</table>\n",
       "</div>"
      ],
      "text/plain": [
       "          Order ID                           Product Name  Discount   Sales  \\\n",
       "0  BN-2011-7407039            Enermax Note Cards, Premium       0.5   45.00   \n",
       "1  AZ-2011-9050313     Dania Corner Shelving, Traditional       0.0  854.00   \n",
       "2  AZ-2011-6674300  Binney & Smith Sketch Pad, Easy-Erase       0.0  140.00   \n",
       "3  BN-2011-2819714             Boston Markers, Easy-Erase       0.5   27.00   \n",
       "4  BN-2011-2819714            Eldon Folders, Single Width       0.5   17.00   \n",
       "\n",
       "    Profit  Quantity         Category Sub-Category  \n",
       "0  -$26.00         3  Office Supplies        Paper  \n",
       "1   290.00         7        Furniture    Bookcases  \n",
       "2    21.00         3  Office Supplies          Art  \n",
       "3  -$22.00         2  Office Supplies          Art  \n",
       "4   -$1.00         2  Office Supplies      Storage  "
      ]
     },
     "execution_count": 60,
     "metadata": {},
     "output_type": "execute_result"
    }
   ],
   "source": [
    "OrderBreakdown.head()"
   ]
  },
  {
   "cell_type": "code",
   "execution_count": 48,
   "metadata": {
    "collapsed": false
   },
   "outputs": [
    {
     "data": {
      "text/plain": [
       "Product Name\n",
       "Acco 3-Hole Punch, Clear                      148.0\n",
       "Acco 3-Hole Punch, Durable                    215.0\n",
       "Acco 3-Hole Punch, Economy                    217.0\n",
       "Acco 3-Hole Punch, Recycled                   168.0\n",
       "Acco Binder Covers, Clear                      32.0\n",
       "Acco Binder Covers, Durable                   104.0\n",
       "Acco Binder Covers, Economy                    77.0\n",
       "Acco Binder Covers, Recycled                   34.0\n",
       "Acco Binder, Clear                             39.0\n",
       "Acco Binder, Durable                           58.0\n",
       "Acco Binding Machine, Durable                 284.0\n",
       "Acco Binding Machine, Economy                 154.0\n",
       "Acco Binding Machine, Recycled                437.0\n",
       "Acco Hole Reinforcements, Clear                24.0\n",
       "Acco Hole Reinforcements, Durable              93.0\n",
       "Acco Hole Reinforcements, Recycled             20.0\n",
       "Acco Index Tab, Clear                          55.0\n",
       "Acco Index Tab, Durable                         9.0\n",
       "Acco Index Tab, Economy                        35.0\n",
       "Accos Clamps, 12 Pack                          47.0\n",
       "Accos Clamps, Assorted Sizes                   17.0\n",
       "Accos Clamps, Metal                            29.0\n",
       "Accos Paper Clips, Assorted Sizes               6.0\n",
       "Accos Push Pins, 12 Pack                       14.0\n",
       "Accos Push Pins, Assorted Sizes                18.0\n",
       "Accos Push Pins, Bulk Pack                     15.0\n",
       "Accos Push Pins, Metal                         22.0\n",
       "Accos Rubber Bands, 12 Pack                    43.0\n",
       "Accos Rubber Bands, Bulk Pack                  30.0\n",
       "Accos Rubber Bands, Metal                      15.0\n",
       "                                              ...  \n",
       "Tenex Trays, Industrial                       739.0\n",
       "Tenex Trays, Single Width                     788.0\n",
       "Tenex Trays, Wire Frame                       757.0\n",
       "Wilson Jones 3-Hole Punch, Durable            112.0\n",
       "Wilson Jones 3-Hole Punch, Economy            384.0\n",
       "Wilson Jones Binder Covers, Clear              16.0\n",
       "Wilson Jones Binder Covers, Durable            69.0\n",
       "Wilson Jones Binder Covers, Economy            62.0\n",
       "Wilson Jones Binder Covers, Recycled           12.0\n",
       "Wilson Jones Binder, Durable                   29.0\n",
       "Wilson Jones Binder, Economy                   40.0\n",
       "Wilson Jones Binder, Recycled                  74.0\n",
       "Wilson Jones Binding Machine, Clear           218.0\n",
       "Wilson Jones Binding Machine, Durable         151.0\n",
       "Wilson Jones Binding Machine, Economy         269.0\n",
       "Wilson Jones Binding Machine, Recycled        173.0\n",
       "Wilson Jones Hole Reinforcements, Clear        14.0\n",
       "Wilson Jones Hole Reinforcements, Durable      18.0\n",
       "Wilson Jones Hole Reinforcements, Economy      14.0\n",
       "Wilson Jones Hole Reinforcements, Recycled      7.0\n",
       "Wilson Jones Index Tab, Clear                  12.0\n",
       "Wilson Jones Index Tab, Durable                16.0\n",
       "Wilson Jones Index Tab, Recycled               27.0\n",
       "Xerox Computer Printout Paper, 8.5 x 11        30.0\n",
       "Xerox Computer Printout Paper, Premium         71.0\n",
       "Xerox Computer Printout Paper, Recycled       106.0\n",
       "Xerox Message Books, 8.5 x 11                 154.0\n",
       "Xerox Message Books, Premium                   55.0\n",
       "Xerox Note Cards, Premium                      13.0\n",
       "Xerox Note Cards, Recycled                     52.0\n",
       "Name: Sales, dtype: float64"
      ]
     },
     "execution_count": 48,
     "metadata": {},
     "output_type": "execute_result"
    }
   ],
   "source": [
    "query6= 'SELECT Discount,`Product Name`,Sales FROM OrderBreakdown WHERE (Discount >0)'\n",
    "connection = sqlite3.connect('data/sql/test.db.sqlite')\n",
    "q_order = sql.read_sql(query6, con = connection)\n",
    "\n",
    "\n",
    "q_order['Sales'] = q_order['Sales'].str.replace(',', '')\n",
    "q_order['Sales'] = q_order['Sales'].str.replace('$', '')\n",
    "q_order['Sales']= q_order['Sales'].astype(float)\n",
    "\n",
    "\n",
    "\n",
    "q_order.groupby(['Product Name']).Sales.sum()\n"
   ]
  },
  {
   "cell_type": "markdown",
   "metadata": {},
   "source": [
    "### 7. What is the total quantity of objects sold for each country?"
   ]
  },
  {
   "cell_type": "code",
   "execution_count": 99,
   "metadata": {
    "collapsed": false
   },
   "outputs": [
    {
     "data": {
      "text/plain": [
       "Country\n",
       "Austria            973\n",
       "Belgium            532\n",
       "Denmark            204\n",
       "Finland            201\n",
       "France            7329\n",
       "Germany           6179\n",
       "Ireland            392\n",
       "Italy             3612\n",
       "Netherlands       1526\n",
       "Norway             261\n",
       "Portugal           286\n",
       "Spain             2881\n",
       "Sweden             753\n",
       "Switzerland        308\n",
       "United Kingdom    4917\n",
       "Name: Quantity, dtype: int64"
      ]
     },
     "execution_count": 99,
     "metadata": {},
     "output_type": "execute_result"
    }
   ],
   "source": [
    "\n",
    "query7= 'SELECT `Country`,`Quantity` FROM ListOfOrders,OrderBreakdown where ListOfOrders.`Order ID` = OrderBreakdown.`Order ID`'\n",
    "connection = sqlite3.connect('data/sql/test.db.sqlite')\n",
    "q_order = sql.read_sql(query7, con = connection)\n",
    "\n",
    "q_order.head(10)\n",
    "\n",
    "q_order.groupby(['Country']).Quantity.sum()\n",
    "\n",
    "\n",
    "\n",
    "\n"
   ]
  },
  {
   "cell_type": "markdown",
   "metadata": {},
   "source": [
    "### 8. In what Countries are profits lowest? (Report lowest 5-10)"
   ]
  },
  {
   "cell_type": "code",
   "execution_count": 111,
   "metadata": {
    "collapsed": false
   },
   "outputs": [
    {
     "name": "stderr",
     "output_type": "stream",
     "text": [
      "/anaconda/envs/py27/lib/python2.7/site-packages/ipykernel/__main__.py:9: FutureWarning: order is deprecated, use sort_values(...)\n"
     ]
    },
    {
     "data": {
      "text/plain": [
       "Country\n",
       "Netherlands      -37188.0\n",
       "Sweden           -17524.0\n",
       "Portugal          -8704.0\n",
       "Ireland           -6886.0\n",
       "Denmark           -3608.0\n",
       "Finland            3908.0\n",
       "Norway             5167.0\n",
       "Switzerland        7234.0\n",
       "Belgium            9912.0\n",
       "Italy             15802.0\n",
       "Austria           21332.0\n",
       "Spain             47067.0\n",
       "France            70067.0\n",
       "Germany           86279.0\n",
       "United Kingdom    90382.0\n",
       "Name: Profit, dtype: float64"
      ]
     },
     "execution_count": 111,
     "metadata": {},
     "output_type": "execute_result"
    }
   ],
   "source": [
    "query8= 'SELECT `Country`,`Profit` FROM ListOfOrders,OrderBreakdown where ListOfOrders.`Order ID` = OrderBreakdown.`Order ID`'\n",
    "connection = sqlite3.connect('data/sql/test.db.sqlite')\n",
    "q_order = sql.read_sql(query8, con = connection)\n",
    "\n",
    "q_order['Profit'] = q_order['Profit'].str.replace(',', '')\n",
    "q_order['Profit'] = q_order['Profit'].str.replace('$', '')\n",
    "q_order['Profit'] = q_order['Profit'].astype(float)\n",
    "\n",
    "q_order.groupby('Country').Profit.sum().order()\n",
    "\n"
   ]
  },
  {
   "cell_type": "code",
   "execution_count": null,
   "metadata": {
    "collapsed": true
   },
   "outputs": [],
   "source": []
  },
  {
   "cell_type": "code",
   "execution_count": null,
   "metadata": {
    "collapsed": true
   },
   "outputs": [],
   "source": []
  },
  {
   "cell_type": "markdown",
   "metadata": {},
   "source": [
    "### 9. What Counties have the best and worst Sales to Profit Ratios?\n",
    "(Total Sales divided by Total Profits.)\n",
    "Essentially this is saying for every dollar of product sold, how much is profit"
   ]
  },
  {
   "cell_type": "code",
   "execution_count": 115,
   "metadata": {
    "collapsed": false
   },
   "outputs": [
    {
     "data": {
      "text/html": [
       "<div>\n",
       "<table border=\"1\" class=\"dataframe\">\n",
       "  <thead>\n",
       "    <tr style=\"text-align: right;\">\n",
       "      <th></th>\n",
       "      <th>Country</th>\n",
       "      <th>Sales</th>\n",
       "      <th>Profit</th>\n",
       "      <th>ratio</th>\n",
       "    </tr>\n",
       "  </thead>\n",
       "  <tbody>\n",
       "    <tr>\n",
       "      <th>0</th>\n",
       "      <td>Sweden</td>\n",
       "      <td>45.0</td>\n",
       "      <td>-26.0</td>\n",
       "      <td>-1.730769</td>\n",
       "    </tr>\n",
       "    <tr>\n",
       "      <th>1</th>\n",
       "      <td>United Kingdom</td>\n",
       "      <td>854.0</td>\n",
       "      <td>290.0</td>\n",
       "      <td>2.944828</td>\n",
       "    </tr>\n",
       "    <tr>\n",
       "      <th>2</th>\n",
       "      <td>France</td>\n",
       "      <td>140.0</td>\n",
       "      <td>21.0</td>\n",
       "      <td>6.666667</td>\n",
       "    </tr>\n",
       "    <tr>\n",
       "      <th>3</th>\n",
       "      <td>United Kingdom</td>\n",
       "      <td>17.0</td>\n",
       "      <td>-1.0</td>\n",
       "      <td>-17.000000</td>\n",
       "    </tr>\n",
       "    <tr>\n",
       "      <th>4</th>\n",
       "      <td>United Kingdom</td>\n",
       "      <td>27.0</td>\n",
       "      <td>-22.0</td>\n",
       "      <td>-1.227273</td>\n",
       "    </tr>\n",
       "  </tbody>\n",
       "</table>\n",
       "</div>"
      ],
      "text/plain": [
       "          Country  Sales  Profit      ratio\n",
       "0          Sweden   45.0   -26.0  -1.730769\n",
       "1  United Kingdom  854.0   290.0   2.944828\n",
       "2          France  140.0    21.0   6.666667\n",
       "3  United Kingdom   17.0    -1.0 -17.000000\n",
       "4  United Kingdom   27.0   -22.0  -1.227273"
      ]
     },
     "execution_count": 115,
     "metadata": {},
     "output_type": "execute_result"
    }
   ],
   "source": [
    "query9= 'SELECT `Country`,Sales,`Profit` FROM ListOfOrders,OrderBreakdown where ListOfOrders.`Order ID` = OrderBreakdown.`Order ID`'\n",
    "connection = sqlite3.connect('data/sql/test.db.sqlite')\n",
    "q_order = sql.read_sql(query9, con = connection)\n",
    "\n",
    "q_order['Profit'] = q_order['Profit'].str.replace(',', '')\n",
    "q_order['Profit'] = q_order['Profit'].str.replace('$', '')\n",
    "q_order['Profit'] = q_order['Profit'].astype(float)\n",
    "\n",
    "q_order['Sales'] = q_order['Sales'].str.replace(',', '')\n",
    "q_order['Sales'] = q_order['Sales'].str.replace('$', '')\n",
    "q_order['Sales'] = q_order['Sales'].astype(float)\n",
    "\n",
    "q_order['ratio'] = q_order['Sales']/q_order['Profit']\n",
    "q_order.head()\n",
    "\n",
    "q_order.groupby('Country').ratio.agg(['max'])\n",
    "q_order.groupby('Country').ratio.agg(['min'])"
   ]
  },
  {
   "cell_type": "code",
   "execution_count": null,
   "metadata": {
    "collapsed": true
   },
   "outputs": [],
   "source": []
  },
  {
   "cell_type": "code",
   "execution_count": null,
   "metadata": {
    "collapsed": true
   },
   "outputs": [],
   "source": []
  },
  {
   "cell_type": "code",
   "execution_count": null,
   "metadata": {
    "collapsed": true
   },
   "outputs": [],
   "source": []
  },
  {
   "cell_type": "code",
   "execution_count": null,
   "metadata": {
    "collapsed": true
   },
   "outputs": [],
   "source": []
  },
  {
   "cell_type": "markdown",
   "metadata": {},
   "source": [
    "### 10. What Shipping method is most common for 'Bookcases' (Sub Category)"
   ]
  },
  {
   "cell_type": "code",
   "execution_count": 61,
   "metadata": {
    "collapsed": false
   },
   "outputs": [
    {
     "data": {
      "text/plain": [
       "Sub-Category\n",
       "Accessories    Priority\n",
       "Appliances     Priority\n",
       "Art            Priority\n",
       "Binders        Priority\n",
       "Bookcases      Priority\n",
       "Chairs         Priority\n",
       "Copiers        Priority\n",
       "Envelopes      Priority\n",
       "Fasteners      Priority\n",
       "Furnishings    Priority\n",
       "Labels         Priority\n",
       "Machines       Priority\n",
       "Paper          Priority\n",
       "Phones         Priority\n",
       "Storage        Priority\n",
       "Supplies       Priority\n",
       "Tables         Priority\n",
       "Name: Ship_Mode, dtype: object"
      ]
     },
     "execution_count": 61,
     "metadata": {},
     "output_type": "execute_result"
    }
   ],
   "source": [
    "query10= 'SELECT `Sub-Category`,`Ship Mode` FROM ListOfOrders,OrderBreakdown where ListOfOrders.`Order ID` = OrderBreakdown.`Order ID`'\n",
    "connection = sqlite3.connect('data/sql/test.db.sqlite')\n",
    "q_order = sql.read_sql(query10, con = connection)\n",
    "\n",
    "q_order.head()\n",
    "q_order.rename(columns=lambda x: x.replace(' ', '_'), inplace=True)\n",
    "q_order.groupby('Sub-Category').Ship_Mode.max() \n"
   ]
  },
  {
   "cell_type": "markdown",
   "metadata": {},
   "source": [
    "### 11 .What city in the Orders table generated the highest net sales?  (List all the cities and countries in descending order by net sales.)"
   ]
  },
  {
   "cell_type": "code",
   "execution_count": 155,
   "metadata": {
    "collapsed": false
   },
   "outputs": [
    {
     "name": "stderr",
     "output_type": "stream",
     "text": [
      "/anaconda/envs/py27/lib/python2.7/site-packages/ipykernel/__main__.py:11: FutureWarning: sort(columns=....) is deprecated, use sort_values(by=.....)\n"
     ]
    },
    {
     "data": {
      "text/html": [
       "<div>\n",
       "<table border=\"1\" class=\"dataframe\">\n",
       "  <thead>\n",
       "    <tr style=\"text-align: right;\">\n",
       "      <th></th>\n",
       "      <th>sum</th>\n",
       "    </tr>\n",
       "    <tr>\n",
       "      <th>City</th>\n",
       "      <th></th>\n",
       "    </tr>\n",
       "  </thead>\n",
       "  <tbody>\n",
       "    <tr>\n",
       "      <th>London</th>\n",
       "      <td>69230.0</td>\n",
       "    </tr>\n",
       "    <tr>\n",
       "      <th>Berlin</th>\n",
       "      <td>52555.0</td>\n",
       "    </tr>\n",
       "    <tr>\n",
       "      <th>Vienna</th>\n",
       "      <td>51844.0</td>\n",
       "    </tr>\n",
       "    <tr>\n",
       "      <th>Madrid</th>\n",
       "      <td>44981.0</td>\n",
       "    </tr>\n",
       "    <tr>\n",
       "      <th>Paris</th>\n",
       "      <td>42245.0</td>\n",
       "    </tr>\n",
       "    <tr>\n",
       "      <th>Rome</th>\n",
       "      <td>28330.0</td>\n",
       "    </tr>\n",
       "    <tr>\n",
       "      <th>Barcelona</th>\n",
       "      <td>27405.0</td>\n",
       "    </tr>\n",
       "    <tr>\n",
       "      <th>Hamburg</th>\n",
       "      <td>23574.0</td>\n",
       "    </tr>\n",
       "    <tr>\n",
       "      <th>Marseille</th>\n",
       "      <td>21677.0</td>\n",
       "    </tr>\n",
       "    <tr>\n",
       "      <th>Turin</th>\n",
       "      <td>19829.0</td>\n",
       "    </tr>\n",
       "  </tbody>\n",
       "</table>\n",
       "</div>"
      ],
      "text/plain": [
       "               sum\n",
       "City              \n",
       "London     69230.0\n",
       "Berlin     52555.0\n",
       "Vienna     51844.0\n",
       "Madrid     44981.0\n",
       "Paris      42245.0\n",
       "Rome       28330.0\n",
       "Barcelona  27405.0\n",
       "Hamburg    23574.0\n",
       "Marseille  21677.0\n",
       "Turin      19829.0"
      ]
     },
     "execution_count": 155,
     "metadata": {},
     "output_type": "execute_result"
    }
   ],
   "source": [
    "query11= 'SELECT `City`,`Sales` FROM ListOfOrders,OrderBreakdown where ListOfOrders.`Order ID` = OrderBreakdown.`Order ID`'\n",
    "connection = sqlite3.connect('data/sql/test.db.sqlite')\n",
    "q_order = sql.read_sql(query11, con = connection)\n",
    "\n",
    "\n",
    "q_order['Sales'] = q_order['Sales'].str.replace(',', '')\n",
    "q_order['Sales'] = q_order['Sales'].str.replace('$', '')\n",
    "q_order['Sales'] = q_order['Sales'].astype(float)\n",
    "q_order.head()\n",
    "\n",
    "q_order.groupby('City').Sales.agg(['sum']).sort(['sum'], ascending=False)[0:10]"
   ]
  },
  {
   "cell_type": "markdown",
   "metadata": {},
   "source": [
    "### 12.1 .Create a Column called 'Shipping Delay' on the 'orders' table, which is the difference in days between 'Order Date' and 'Ship Date'."
   ]
  },
  {
   "cell_type": "code",
   "execution_count": 80,
   "metadata": {
    "collapsed": false
   },
   "outputs": [
    {
     "data": {
      "text/html": [
       "<div>\n",
       "<table border=\"1\" class=\"dataframe\">\n",
       "  <thead>\n",
       "    <tr style=\"text-align: right;\">\n",
       "      <th></th>\n",
       "      <th>Order ID</th>\n",
       "      <th>Order Date</th>\n",
       "      <th>Customer Name</th>\n",
       "      <th>City</th>\n",
       "      <th>Country</th>\n",
       "      <th>Region</th>\n",
       "      <th>Segment</th>\n",
       "      <th>Ship Date</th>\n",
       "      <th>Ship Mode</th>\n",
       "      <th>State</th>\n",
       "    </tr>\n",
       "  </thead>\n",
       "  <tbody>\n",
       "    <tr>\n",
       "      <th>0</th>\n",
       "      <td>BN-2011-7407039</td>\n",
       "      <td>1/1/2011</td>\n",
       "      <td>Ruby Patel</td>\n",
       "      <td>Stockholm</td>\n",
       "      <td>Sweden</td>\n",
       "      <td>North</td>\n",
       "      <td>Home Office</td>\n",
       "      <td>1/5/2011</td>\n",
       "      <td>Economy Plus</td>\n",
       "      <td>Stockholm</td>\n",
       "    </tr>\n",
       "    <tr>\n",
       "      <th>1</th>\n",
       "      <td>AZ-2011-9050313</td>\n",
       "      <td>1/3/2011</td>\n",
       "      <td>Summer Hayward</td>\n",
       "      <td>Southport</td>\n",
       "      <td>United Kingdom</td>\n",
       "      <td>North</td>\n",
       "      <td>Consumer</td>\n",
       "      <td>1/7/2011</td>\n",
       "      <td>Economy</td>\n",
       "      <td>England</td>\n",
       "    </tr>\n",
       "    <tr>\n",
       "      <th>2</th>\n",
       "      <td>AZ-2011-6674300</td>\n",
       "      <td>1/4/2011</td>\n",
       "      <td>Devin Huddleston</td>\n",
       "      <td>Valence</td>\n",
       "      <td>France</td>\n",
       "      <td>Central</td>\n",
       "      <td>Consumer</td>\n",
       "      <td>1/8/2011</td>\n",
       "      <td>Economy</td>\n",
       "      <td>Auvergne-Rhône-Alpes</td>\n",
       "    </tr>\n",
       "    <tr>\n",
       "      <th>3</th>\n",
       "      <td>BN-2011-2819714</td>\n",
       "      <td>1/4/2011</td>\n",
       "      <td>Mary Parker</td>\n",
       "      <td>Birmingham</td>\n",
       "      <td>United Kingdom</td>\n",
       "      <td>North</td>\n",
       "      <td>Corporate</td>\n",
       "      <td>1/9/2011</td>\n",
       "      <td>Economy</td>\n",
       "      <td>England</td>\n",
       "    </tr>\n",
       "    <tr>\n",
       "      <th>4</th>\n",
       "      <td>AZ-2011-617423</td>\n",
       "      <td>1/5/2011</td>\n",
       "      <td>Daniel Burke</td>\n",
       "      <td>Echirolles</td>\n",
       "      <td>France</td>\n",
       "      <td>Central</td>\n",
       "      <td>Home Office</td>\n",
       "      <td>1/7/2011</td>\n",
       "      <td>Priority</td>\n",
       "      <td>Auvergne-Rhône-Alpes</td>\n",
       "    </tr>\n",
       "  </tbody>\n",
       "</table>\n",
       "</div>"
      ],
      "text/plain": [
       "          Order ID Order Date     Customer Name        City         Country  \\\n",
       "0  BN-2011-7407039   1/1/2011        Ruby Patel   Stockholm          Sweden   \n",
       "1  AZ-2011-9050313   1/3/2011    Summer Hayward   Southport  United Kingdom   \n",
       "2  AZ-2011-6674300   1/4/2011  Devin Huddleston     Valence          France   \n",
       "3  BN-2011-2819714   1/4/2011       Mary Parker  Birmingham  United Kingdom   \n",
       "4   AZ-2011-617423   1/5/2011      Daniel Burke  Echirolles          France   \n",
       "\n",
       "    Region      Segment Ship Date     Ship Mode                 State  \n",
       "0    North  Home Office  1/5/2011  Economy Plus             Stockholm  \n",
       "1    North     Consumer  1/7/2011       Economy               England  \n",
       "2  Central     Consumer  1/8/2011       Economy  Auvergne-Rhône-Alpes  \n",
       "3    North    Corporate  1/9/2011       Economy               England  \n",
       "4  Central  Home Office  1/7/2011      Priority  Auvergne-Rhône-Alpes  "
      ]
     },
     "execution_count": 80,
     "metadata": {},
     "output_type": "execute_result"
    }
   ],
   "source": [
    "query12= 'SELECT * FROM ListOfOrders'\n",
    "connection = sqlite3.connect('data/sql/test.db.sqlite')\n",
    "q_order = sql.read_sql(query12, con = connection)\n",
    "\n",
    "q_order.head()"
   ]
  },
  {
   "cell_type": "code",
   "execution_count": 81,
   "metadata": {
    "collapsed": true
   },
   "outputs": [],
   "source": [
    "q_order['Seprate_date_Order']=pd.to_datetime(q_order['Order Date'])\n",
    "q_order['Seprate_date_Ship']=pd.to_datetime(q_order['Ship Date'])"
   ]
  },
  {
   "cell_type": "code",
   "execution_count": 82,
   "metadata": {
    "collapsed": false
   },
   "outputs": [
    {
     "data": {
      "text/html": [
       "<div>\n",
       "<table border=\"1\" class=\"dataframe\">\n",
       "  <thead>\n",
       "    <tr style=\"text-align: right;\">\n",
       "      <th></th>\n",
       "      <th>Order ID</th>\n",
       "      <th>Order Date</th>\n",
       "      <th>Customer Name</th>\n",
       "      <th>City</th>\n",
       "      <th>Country</th>\n",
       "      <th>Region</th>\n",
       "      <th>Segment</th>\n",
       "      <th>Ship Date</th>\n",
       "      <th>Ship Mode</th>\n",
       "      <th>State</th>\n",
       "      <th>Seprate_date_Order</th>\n",
       "      <th>Seprate_date_Ship</th>\n",
       "      <th>Delay</th>\n",
       "    </tr>\n",
       "  </thead>\n",
       "  <tbody>\n",
       "    <tr>\n",
       "      <th>0</th>\n",
       "      <td>BN-2011-7407039</td>\n",
       "      <td>1/1/2011</td>\n",
       "      <td>Ruby Patel</td>\n",
       "      <td>Stockholm</td>\n",
       "      <td>Sweden</td>\n",
       "      <td>North</td>\n",
       "      <td>Home Office</td>\n",
       "      <td>1/5/2011</td>\n",
       "      <td>Economy Plus</td>\n",
       "      <td>Stockholm</td>\n",
       "      <td>2011-01-01</td>\n",
       "      <td>2011-01-05</td>\n",
       "      <td>4 days 00:00:00.000000000</td>\n",
       "    </tr>\n",
       "    <tr>\n",
       "      <th>1</th>\n",
       "      <td>AZ-2011-9050313</td>\n",
       "      <td>1/3/2011</td>\n",
       "      <td>Summer Hayward</td>\n",
       "      <td>Southport</td>\n",
       "      <td>United Kingdom</td>\n",
       "      <td>North</td>\n",
       "      <td>Consumer</td>\n",
       "      <td>1/7/2011</td>\n",
       "      <td>Economy</td>\n",
       "      <td>England</td>\n",
       "      <td>2011-01-03</td>\n",
       "      <td>2011-01-07</td>\n",
       "      <td>4 days 00:00:00.000000000</td>\n",
       "    </tr>\n",
       "    <tr>\n",
       "      <th>2</th>\n",
       "      <td>AZ-2011-6674300</td>\n",
       "      <td>1/4/2011</td>\n",
       "      <td>Devin Huddleston</td>\n",
       "      <td>Valence</td>\n",
       "      <td>France</td>\n",
       "      <td>Central</td>\n",
       "      <td>Consumer</td>\n",
       "      <td>1/8/2011</td>\n",
       "      <td>Economy</td>\n",
       "      <td>Auvergne-Rhône-Alpes</td>\n",
       "      <td>2011-01-04</td>\n",
       "      <td>2011-01-08</td>\n",
       "      <td>4 days 00:00:00.000000000</td>\n",
       "    </tr>\n",
       "    <tr>\n",
       "      <th>3</th>\n",
       "      <td>BN-2011-2819714</td>\n",
       "      <td>1/4/2011</td>\n",
       "      <td>Mary Parker</td>\n",
       "      <td>Birmingham</td>\n",
       "      <td>United Kingdom</td>\n",
       "      <td>North</td>\n",
       "      <td>Corporate</td>\n",
       "      <td>1/9/2011</td>\n",
       "      <td>Economy</td>\n",
       "      <td>England</td>\n",
       "      <td>2011-01-04</td>\n",
       "      <td>2011-01-09</td>\n",
       "      <td>5 days 00:00:00.000000000</td>\n",
       "    </tr>\n",
       "    <tr>\n",
       "      <th>4</th>\n",
       "      <td>AZ-2011-617423</td>\n",
       "      <td>1/5/2011</td>\n",
       "      <td>Daniel Burke</td>\n",
       "      <td>Echirolles</td>\n",
       "      <td>France</td>\n",
       "      <td>Central</td>\n",
       "      <td>Home Office</td>\n",
       "      <td>1/7/2011</td>\n",
       "      <td>Priority</td>\n",
       "      <td>Auvergne-Rhône-Alpes</td>\n",
       "      <td>2011-01-05</td>\n",
       "      <td>2011-01-07</td>\n",
       "      <td>2 days 00:00:00.000000000</td>\n",
       "    </tr>\n",
       "  </tbody>\n",
       "</table>\n",
       "</div>"
      ],
      "text/plain": [
       "          Order ID Order Date     Customer Name        City         Country  \\\n",
       "0  BN-2011-7407039   1/1/2011        Ruby Patel   Stockholm          Sweden   \n",
       "1  AZ-2011-9050313   1/3/2011    Summer Hayward   Southport  United Kingdom   \n",
       "2  AZ-2011-6674300   1/4/2011  Devin Huddleston     Valence          France   \n",
       "3  BN-2011-2819714   1/4/2011       Mary Parker  Birmingham  United Kingdom   \n",
       "4   AZ-2011-617423   1/5/2011      Daniel Burke  Echirolles          France   \n",
       "\n",
       "    Region      Segment Ship Date     Ship Mode                 State  \\\n",
       "0    North  Home Office  1/5/2011  Economy Plus             Stockholm   \n",
       "1    North     Consumer  1/7/2011       Economy               England   \n",
       "2  Central     Consumer  1/8/2011       Economy  Auvergne-Rhône-Alpes   \n",
       "3    North    Corporate  1/9/2011       Economy               England   \n",
       "4  Central  Home Office  1/7/2011      Priority  Auvergne-Rhône-Alpes   \n",
       "\n",
       "  Seprate_date_Order Seprate_date_Ship                      Delay  \n",
       "0         2011-01-01        2011-01-05  4 days 00:00:00.000000000  \n",
       "1         2011-01-03        2011-01-07  4 days 00:00:00.000000000  \n",
       "2         2011-01-04        2011-01-08  4 days 00:00:00.000000000  \n",
       "3         2011-01-04        2011-01-09  5 days 00:00:00.000000000  \n",
       "4         2011-01-05        2011-01-07  2 days 00:00:00.000000000  "
      ]
     },
     "execution_count": 82,
     "metadata": {},
     "output_type": "execute_result"
    }
   ],
   "source": [
    "q_order['Delay']=(q_order['Seprate_date_Ship'] - q_order['Seprate_date_Order']).astype(str)\n",
    "\n",
    "\n",
    "q_order.head()"
   ]
  },
  {
   "cell_type": "code",
   "execution_count": 83,
   "metadata": {
    "collapsed": true
   },
   "outputs": [],
   "source": [
    "q_order['Delay'] = q_order['Delay'].str[:-23]\n"
   ]
  },
  {
   "cell_type": "code",
   "execution_count": 86,
   "metadata": {
    "collapsed": true
   },
   "outputs": [],
   "source": [
    "q_order['Delay'] = q_order['Delay'].astype(float)"
   ]
  },
  {
   "cell_type": "code",
   "execution_count": 87,
   "metadata": {
    "collapsed": false
   },
   "outputs": [
    {
     "data": {
      "text/html": [
       "<div>\n",
       "<table border=\"1\" class=\"dataframe\">\n",
       "  <thead>\n",
       "    <tr style=\"text-align: right;\">\n",
       "      <th></th>\n",
       "      <th>Order ID</th>\n",
       "      <th>Order Date</th>\n",
       "      <th>Customer Name</th>\n",
       "      <th>City</th>\n",
       "      <th>Country</th>\n",
       "      <th>Region</th>\n",
       "      <th>Segment</th>\n",
       "      <th>Ship Date</th>\n",
       "      <th>Ship Mode</th>\n",
       "      <th>State</th>\n",
       "      <th>Seprate_date_Order</th>\n",
       "      <th>Seprate_date_Ship</th>\n",
       "      <th>Delay</th>\n",
       "    </tr>\n",
       "  </thead>\n",
       "  <tbody>\n",
       "    <tr>\n",
       "      <th>0</th>\n",
       "      <td>BN-2011-7407039</td>\n",
       "      <td>1/1/2011</td>\n",
       "      <td>Ruby Patel</td>\n",
       "      <td>Stockholm</td>\n",
       "      <td>Sweden</td>\n",
       "      <td>North</td>\n",
       "      <td>Home Office</td>\n",
       "      <td>1/5/2011</td>\n",
       "      <td>Economy Plus</td>\n",
       "      <td>Stockholm</td>\n",
       "      <td>2011-01-01</td>\n",
       "      <td>2011-01-05</td>\n",
       "      <td>4.0</td>\n",
       "    </tr>\n",
       "    <tr>\n",
       "      <th>1</th>\n",
       "      <td>AZ-2011-9050313</td>\n",
       "      <td>1/3/2011</td>\n",
       "      <td>Summer Hayward</td>\n",
       "      <td>Southport</td>\n",
       "      <td>United Kingdom</td>\n",
       "      <td>North</td>\n",
       "      <td>Consumer</td>\n",
       "      <td>1/7/2011</td>\n",
       "      <td>Economy</td>\n",
       "      <td>England</td>\n",
       "      <td>2011-01-03</td>\n",
       "      <td>2011-01-07</td>\n",
       "      <td>4.0</td>\n",
       "    </tr>\n",
       "    <tr>\n",
       "      <th>2</th>\n",
       "      <td>AZ-2011-6674300</td>\n",
       "      <td>1/4/2011</td>\n",
       "      <td>Devin Huddleston</td>\n",
       "      <td>Valence</td>\n",
       "      <td>France</td>\n",
       "      <td>Central</td>\n",
       "      <td>Consumer</td>\n",
       "      <td>1/8/2011</td>\n",
       "      <td>Economy</td>\n",
       "      <td>Auvergne-Rhône-Alpes</td>\n",
       "      <td>2011-01-04</td>\n",
       "      <td>2011-01-08</td>\n",
       "      <td>4.0</td>\n",
       "    </tr>\n",
       "    <tr>\n",
       "      <th>3</th>\n",
       "      <td>BN-2011-2819714</td>\n",
       "      <td>1/4/2011</td>\n",
       "      <td>Mary Parker</td>\n",
       "      <td>Birmingham</td>\n",
       "      <td>United Kingdom</td>\n",
       "      <td>North</td>\n",
       "      <td>Corporate</td>\n",
       "      <td>1/9/2011</td>\n",
       "      <td>Economy</td>\n",
       "      <td>England</td>\n",
       "      <td>2011-01-04</td>\n",
       "      <td>2011-01-09</td>\n",
       "      <td>5.0</td>\n",
       "    </tr>\n",
       "    <tr>\n",
       "      <th>4</th>\n",
       "      <td>AZ-2011-617423</td>\n",
       "      <td>1/5/2011</td>\n",
       "      <td>Daniel Burke</td>\n",
       "      <td>Echirolles</td>\n",
       "      <td>France</td>\n",
       "      <td>Central</td>\n",
       "      <td>Home Office</td>\n",
       "      <td>1/7/2011</td>\n",
       "      <td>Priority</td>\n",
       "      <td>Auvergne-Rhône-Alpes</td>\n",
       "      <td>2011-01-05</td>\n",
       "      <td>2011-01-07</td>\n",
       "      <td>2.0</td>\n",
       "    </tr>\n",
       "  </tbody>\n",
       "</table>\n",
       "</div>"
      ],
      "text/plain": [
       "          Order ID Order Date     Customer Name        City         Country  \\\n",
       "0  BN-2011-7407039   1/1/2011        Ruby Patel   Stockholm          Sweden   \n",
       "1  AZ-2011-9050313   1/3/2011    Summer Hayward   Southport  United Kingdom   \n",
       "2  AZ-2011-6674300   1/4/2011  Devin Huddleston     Valence          France   \n",
       "3  BN-2011-2819714   1/4/2011       Mary Parker  Birmingham  United Kingdom   \n",
       "4   AZ-2011-617423   1/5/2011      Daniel Burke  Echirolles          France   \n",
       "\n",
       "    Region      Segment Ship Date     Ship Mode                 State  \\\n",
       "0    North  Home Office  1/5/2011  Economy Plus             Stockholm   \n",
       "1    North     Consumer  1/7/2011       Economy               England   \n",
       "2  Central     Consumer  1/8/2011       Economy  Auvergne-Rhône-Alpes   \n",
       "3    North    Corporate  1/9/2011       Economy               England   \n",
       "4  Central  Home Office  1/7/2011      Priority  Auvergne-Rhône-Alpes   \n",
       "\n",
       "  Seprate_date_Order Seprate_date_Ship  Delay  \n",
       "0         2011-01-01        2011-01-05    4.0  \n",
       "1         2011-01-03        2011-01-07    4.0  \n",
       "2         2011-01-04        2011-01-08    4.0  \n",
       "3         2011-01-04        2011-01-09    5.0  \n",
       "4         2011-01-05        2011-01-07    2.0  "
      ]
     },
     "execution_count": 87,
     "metadata": {},
     "output_type": "execute_result"
    }
   ],
   "source": [
    "q_order.head()"
   ]
  },
  {
   "cell_type": "markdown",
   "metadata": {},
   "source": [
    "### 12.2 Update your Orders table in your Sqlite DB to include the 'Shipping Delay' feature."
   ]
  },
  {
   "cell_type": "code",
   "execution_count": 88,
   "metadata": {
    "collapsed": false
   },
   "outputs": [],
   "source": [
    "connection = sqlite3.connect('data/sql/test.db.sqlite')\n",
    "q_order.to_sql(name = 'q_order_list', con = connection, if_exists = 'replace', index = False)\n"
   ]
  },
  {
   "cell_type": "markdown",
   "metadata": {},
   "source": [
    "### 12.3 Which Product Category has the highest average 'Shipping Delay'"
   ]
  },
  {
   "cell_type": "code",
   "execution_count": 89,
   "metadata": {
    "collapsed": false
   },
   "outputs": [
    {
     "name": "stderr",
     "output_type": "stream",
     "text": [
      "/anaconda/envs/py27/lib/python2.7/site-packages/ipykernel/__main__.py:6: FutureWarning: sort(columns=....) is deprecated, use sort_values(by=.....)\n"
     ]
    },
    {
     "data": {
      "text/html": [
       "<div>\n",
       "<table border=\"1\" class=\"dataframe\">\n",
       "  <thead>\n",
       "    <tr style=\"text-align: right;\">\n",
       "      <th></th>\n",
       "      <th>sum</th>\n",
       "    </tr>\n",
       "    <tr>\n",
       "      <th>Category</th>\n",
       "      <th></th>\n",
       "    </tr>\n",
       "  </thead>\n",
       "  <tbody>\n",
       "    <tr>\n",
       "      <th>Office Supplies</th>\n",
       "      <td>21012.0</td>\n",
       "    </tr>\n",
       "    <tr>\n",
       "      <th>Technology</th>\n",
       "      <td>6283.0</td>\n",
       "    </tr>\n",
       "    <tr>\n",
       "      <th>Furniture</th>\n",
       "      <td>4952.0</td>\n",
       "    </tr>\n",
       "  </tbody>\n",
       "</table>\n",
       "</div>"
      ],
      "text/plain": [
       "                     sum\n",
       "Category                \n",
       "Office Supplies  21012.0\n",
       "Technology        6283.0\n",
       "Furniture         4952.0"
      ]
     },
     "execution_count": 89,
     "metadata": {},
     "output_type": "execute_result"
    }
   ],
   "source": [
    "query13= 'SELECT `Category`,`Delay` FROM q_order_list,OrderBreakdown where (q_order_list.`Order ID` = OrderBreakdown.`Order ID` )'\n",
    "connection = sqlite3.connect('data/sql/test.db.sqlite')\n",
    "q_order = sql.read_sql(query13, con = connection)\n",
    "q_order.head()\n",
    "\n",
    "q_order.groupby('Category').Delay.agg(['sum']).sort(['sum'], ascending=False)[0:10]"
   ]
  },
  {
   "cell_type": "code",
   "execution_count": null,
   "metadata": {
    "collapsed": true
   },
   "outputs": [],
   "source": []
  },
  {
   "cell_type": "code",
   "execution_count": null,
   "metadata": {
    "collapsed": true
   },
   "outputs": [],
   "source": []
  },
  {
   "cell_type": "code",
   "execution_count": null,
   "metadata": {
    "collapsed": true
   },
   "outputs": [],
   "source": []
  },
  {
   "cell_type": "markdown",
   "metadata": {},
   "source": [
    "# Hard Mode:"
   ]
  },
  {
   "cell_type": "markdown",
   "metadata": {},
   "source": [
    "### 13. In what months and Categories were Sales Targets Exceeded?\n"
   ]
  },
  {
   "cell_type": "code",
   "execution_count": 215,
   "metadata": {
    "collapsed": false
   },
   "outputs": [
    {
     "ename": "DatabaseError",
     "evalue": "Execution failed on sql 'SELECT `Category`,Seprate_date_Order,Sales,Target FROM q_order,OrderBreakdown,ListOfOrders where q_order.`Order ID` = OrderBreakdown.`Order ID` AND AND SalesTargets.Category = OrderBreakdown.Category': near \"AND\": syntax error",
     "output_type": "error",
     "traceback": [
      "\u001b[0;31m---------------------------------------------------------------------------\u001b[0m",
      "\u001b[0;31mDatabaseError\u001b[0m                             Traceback (most recent call last)",
      "\u001b[0;32m<ipython-input-215-f2019b66778d>\u001b[0m in \u001b[0;36m<module>\u001b[0;34m()\u001b[0m\n\u001b[1;32m      1\u001b[0m \u001b[0mquery14\u001b[0m\u001b[0;34m=\u001b[0m \u001b[0;34m'SELECT `Category`,Seprate_date_Order,Sales,Target FROM q_order,OrderBreakdown,ListOfOrders where q_order.`Order ID` = OrderBreakdown.`Order ID` AND AND SalesTargets.Category = OrderBreakdown.Category'\u001b[0m\u001b[0;34m\u001b[0m\u001b[0m\n\u001b[1;32m      2\u001b[0m \u001b[0mconnection\u001b[0m \u001b[0;34m=\u001b[0m \u001b[0msqlite3\u001b[0m\u001b[0;34m.\u001b[0m\u001b[0mconnect\u001b[0m\u001b[0;34m(\u001b[0m\u001b[0;34m'data/sql/test.db.sqlite'\u001b[0m\u001b[0;34m)\u001b[0m\u001b[0;34m\u001b[0m\u001b[0m\n\u001b[0;32m----> 3\u001b[0;31m \u001b[0mq_order\u001b[0m \u001b[0;34m=\u001b[0m \u001b[0msql\u001b[0m\u001b[0;34m.\u001b[0m\u001b[0mread_sql\u001b[0m\u001b[0;34m(\u001b[0m\u001b[0mquery14\u001b[0m\u001b[0;34m,\u001b[0m \u001b[0mcon\u001b[0m \u001b[0;34m=\u001b[0m \u001b[0mconnection\u001b[0m\u001b[0;34m)\u001b[0m\u001b[0;34m\u001b[0m\u001b[0m\n\u001b[0m\u001b[1;32m      4\u001b[0m \u001b[0;34m\u001b[0m\u001b[0m\n\u001b[1;32m      5\u001b[0m \u001b[0mq_order\u001b[0m\u001b[0;34m[\u001b[0m\u001b[0;34m'Seprate_date_Order'\u001b[0m\u001b[0;34m]\u001b[0m\u001b[0;34m=\u001b[0m\u001b[0mpd\u001b[0m\u001b[0;34m.\u001b[0m\u001b[0mto_datetime\u001b[0m\u001b[0;34m(\u001b[0m\u001b[0mq_order\u001b[0m\u001b[0;34m[\u001b[0m\u001b[0;34m'Seprate_date_Order'\u001b[0m\u001b[0;34m]\u001b[0m\u001b[0;34m)\u001b[0m\u001b[0;34m\u001b[0m\u001b[0m\n",
      "\u001b[0;32m//anaconda/envs/py27/lib/python2.7/site-packages/pandas/io/sql.pyc\u001b[0m in \u001b[0;36mread_sql\u001b[0;34m(sql, con, index_col, coerce_float, params, parse_dates, columns, chunksize)\u001b[0m\n\u001b[1;32m    497\u001b[0m             \u001b[0msql\u001b[0m\u001b[0;34m,\u001b[0m \u001b[0mindex_col\u001b[0m\u001b[0;34m=\u001b[0m\u001b[0mindex_col\u001b[0m\u001b[0;34m,\u001b[0m \u001b[0mparams\u001b[0m\u001b[0;34m=\u001b[0m\u001b[0mparams\u001b[0m\u001b[0;34m,\u001b[0m\u001b[0;34m\u001b[0m\u001b[0m\n\u001b[1;32m    498\u001b[0m             \u001b[0mcoerce_float\u001b[0m\u001b[0;34m=\u001b[0m\u001b[0mcoerce_float\u001b[0m\u001b[0;34m,\u001b[0m \u001b[0mparse_dates\u001b[0m\u001b[0;34m=\u001b[0m\u001b[0mparse_dates\u001b[0m\u001b[0;34m,\u001b[0m\u001b[0;34m\u001b[0m\u001b[0m\n\u001b[0;32m--> 499\u001b[0;31m             chunksize=chunksize)\n\u001b[0m\u001b[1;32m    500\u001b[0m \u001b[0;34m\u001b[0m\u001b[0m\n\u001b[1;32m    501\u001b[0m     \u001b[0;32mtry\u001b[0m\u001b[0;34m:\u001b[0m\u001b[0;34m\u001b[0m\u001b[0m\n",
      "\u001b[0;32m//anaconda/envs/py27/lib/python2.7/site-packages/pandas/io/sql.pyc\u001b[0m in \u001b[0;36mread_query\u001b[0;34m(self, sql, index_col, coerce_float, params, parse_dates, chunksize)\u001b[0m\n\u001b[1;32m   1597\u001b[0m \u001b[0;34m\u001b[0m\u001b[0m\n\u001b[1;32m   1598\u001b[0m         \u001b[0margs\u001b[0m \u001b[0;34m=\u001b[0m \u001b[0m_convert_params\u001b[0m\u001b[0;34m(\u001b[0m\u001b[0msql\u001b[0m\u001b[0;34m,\u001b[0m \u001b[0mparams\u001b[0m\u001b[0;34m)\u001b[0m\u001b[0;34m\u001b[0m\u001b[0m\n\u001b[0;32m-> 1599\u001b[0;31m         \u001b[0mcursor\u001b[0m \u001b[0;34m=\u001b[0m \u001b[0mself\u001b[0m\u001b[0;34m.\u001b[0m\u001b[0mexecute\u001b[0m\u001b[0;34m(\u001b[0m\u001b[0;34m*\u001b[0m\u001b[0margs\u001b[0m\u001b[0;34m)\u001b[0m\u001b[0;34m\u001b[0m\u001b[0m\n\u001b[0m\u001b[1;32m   1600\u001b[0m         \u001b[0mcolumns\u001b[0m \u001b[0;34m=\u001b[0m \u001b[0;34m[\u001b[0m\u001b[0mcol_desc\u001b[0m\u001b[0;34m[\u001b[0m\u001b[0;36m0\u001b[0m\u001b[0;34m]\u001b[0m \u001b[0;32mfor\u001b[0m \u001b[0mcol_desc\u001b[0m \u001b[0;32min\u001b[0m \u001b[0mcursor\u001b[0m\u001b[0;34m.\u001b[0m\u001b[0mdescription\u001b[0m\u001b[0;34m]\u001b[0m\u001b[0;34m\u001b[0m\u001b[0m\n\u001b[1;32m   1601\u001b[0m \u001b[0;34m\u001b[0m\u001b[0m\n",
      "\u001b[0;32m//anaconda/envs/py27/lib/python2.7/site-packages/pandas/io/sql.pyc\u001b[0m in \u001b[0;36mexecute\u001b[0;34m(self, *args, **kwargs)\u001b[0m\n\u001b[1;32m   1574\u001b[0m             ex = DatabaseError(\n\u001b[1;32m   1575\u001b[0m                 \"Execution failed on sql '%s': %s\" % (args[0], exc))\n\u001b[0;32m-> 1576\u001b[0;31m             \u001b[0mraise_with_traceback\u001b[0m\u001b[0;34m(\u001b[0m\u001b[0mex\u001b[0m\u001b[0;34m)\u001b[0m\u001b[0;34m\u001b[0m\u001b[0m\n\u001b[0m\u001b[1;32m   1577\u001b[0m \u001b[0;34m\u001b[0m\u001b[0m\n\u001b[1;32m   1578\u001b[0m     \u001b[0;34m@\u001b[0m\u001b[0mstaticmethod\u001b[0m\u001b[0;34m\u001b[0m\u001b[0m\n",
      "\u001b[0;32m//anaconda/envs/py27/lib/python2.7/site-packages/pandas/io/sql.pyc\u001b[0m in \u001b[0;36mexecute\u001b[0;34m(self, *args, **kwargs)\u001b[0m\n\u001b[1;32m   1562\u001b[0m                 \u001b[0mcur\u001b[0m\u001b[0;34m.\u001b[0m\u001b[0mexecute\u001b[0m\u001b[0;34m(\u001b[0m\u001b[0;34m*\u001b[0m\u001b[0margs\u001b[0m\u001b[0;34m,\u001b[0m \u001b[0;34m**\u001b[0m\u001b[0mkwargs\u001b[0m\u001b[0;34m)\u001b[0m\u001b[0;34m\u001b[0m\u001b[0m\n\u001b[1;32m   1563\u001b[0m             \u001b[0;32melse\u001b[0m\u001b[0;34m:\u001b[0m\u001b[0;34m\u001b[0m\u001b[0m\n\u001b[0;32m-> 1564\u001b[0;31m                 \u001b[0mcur\u001b[0m\u001b[0;34m.\u001b[0m\u001b[0mexecute\u001b[0m\u001b[0;34m(\u001b[0m\u001b[0;34m*\u001b[0m\u001b[0margs\u001b[0m\u001b[0;34m)\u001b[0m\u001b[0;34m\u001b[0m\u001b[0m\n\u001b[0m\u001b[1;32m   1565\u001b[0m             \u001b[0;32mreturn\u001b[0m \u001b[0mcur\u001b[0m\u001b[0;34m\u001b[0m\u001b[0m\n\u001b[1;32m   1566\u001b[0m         \u001b[0;32mexcept\u001b[0m \u001b[0mException\u001b[0m \u001b[0;32mas\u001b[0m \u001b[0mexc\u001b[0m\u001b[0;34m:\u001b[0m\u001b[0;34m\u001b[0m\u001b[0m\n",
      "\u001b[0;31mDatabaseError\u001b[0m: Execution failed on sql 'SELECT `Category`,Seprate_date_Order,Sales,Target FROM q_order,OrderBreakdown,ListOfOrders where q_order.`Order ID` = OrderBreakdown.`Order ID` AND AND SalesTargets.Category = OrderBreakdown.Category': near \"AND\": syntax error"
     ]
    }
   ],
   "source": [
    "query16= 'SELECT `Category`,Seprate_date_Order,Sales,Target FROM q_order,OrderBreakdown,ListOfOrders where q_order.`Order ID` = OrderBreakdown.`Order ID` AND SalesTargets.Category = OrderBreakdown.Category'\n",
    "connection = sqlite3.connect('data/sql/test.db.sqlite')\n",
    "q_order = sql.read_sql(query16, con = connection)\n",
    "\n",
    "query17= 'SELECT `Category`,Seprate_date_Order,Sales,Target FROM q_order,OrderBreakdown,ListOfOrders where q_order.`Order ID` = OrderBreakdown.`Order ID` AND AND SalesTargets.Category = OrderBreakdown.Category'\n",
    "connection = sqlite3.connect('data/sql/test.db.sqlite')\n",
    "q_order = sql.read_sql(query17, con = connection)\n",
    "\n",
    "\n",
    "\n",
    "q_order['Seprate_date_Order']=pd.to_datetime(q_order['Seprate_date_Order'])\n",
    "q_order['Month'] = q_order['Seprate_date_Order'].dt.month\n",
    "\n",
    "q_order.groupby('Month').Category.value_counts('Category') "
   ]
  },
  {
   "cell_type": "code",
   "execution_count": null,
   "metadata": {
    "collapsed": true
   },
   "outputs": [],
   "source": []
  },
  {
   "cell_type": "markdown",
   "metadata": {},
   "source": [
    "### 14. In what months and Categories did Sales fail to exceed their targets?"
   ]
  },
  {
   "cell_type": "code",
   "execution_count": null,
   "metadata": {
    "collapsed": true
   },
   "outputs": [],
   "source": []
  }
 ],
 "metadata": {
  "anaconda-cloud": {},
  "kernelspec": {
   "display_name": "Python 2",
   "language": "python",
   "name": "python2"
  },
  "language_info": {
   "codemirror_mode": {
    "name": "ipython",
    "version": 2
   },
   "file_extension": ".py",
   "mimetype": "text/x-python",
   "name": "python",
   "nbconvert_exporter": "python",
   "pygments_lexer": "ipython2",
   "version": "2.7.12"
  }
 },
 "nbformat": 4,
 "nbformat_minor": 1
}
