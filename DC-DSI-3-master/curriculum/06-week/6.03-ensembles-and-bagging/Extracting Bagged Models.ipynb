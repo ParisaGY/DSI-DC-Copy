{
 "cells": [
  {
   "cell_type": "code",
   "execution_count": 85,
   "metadata": {
    "collapsed": true
   },
   "outputs": [],
   "source": [
    "# Checking out some 'books' from the libraries.\n",
    "import pandas as pd\n",
    "import numpy as np\n",
    "from sklearn.datasets import load_breast_cancer\n",
    "\n",
    "data = load_breast_cancer()\n",
    "\n",
    "# Converting data into a dataframe structure \n",
    "X = pd.DataFrame(data['data'], columns=data['feature_names'])\n",
    "# Setting up our Y value as well\n",
    "y = pd.Series(data['target'])"
   ]
  },
  {
   "cell_type": "code",
   "execution_count": 2,
   "metadata": {
    "collapsed": true
   },
   "outputs": [],
   "source": [
    "# More Books!!\n",
    "from sklearn.tree import DecisionTreeClassifier\n",
    "from sklearn.ensemble import BaggingClassifier\n",
    "from sklearn.cross_validation import cross_val_score\n",
    "from sklearn.grid_search import GridSearchCV"
   ]
  },
  {
   "cell_type": "code",
   "execution_count": 5,
   "metadata": {
    "collapsed": false
   },
   "outputs": [],
   "source": [
    "# Train test split for fun\n",
    "from sklearn.cross_validation import train_test_split\n",
    "X_train, X_test, y_train, y_test = train_test_split(X,y, random_state = 5)\n"
   ]
  },
  {
   "cell_type": "code",
   "execution_count": 25,
   "metadata": {
    "collapsed": false
   },
   "outputs": [
    {
     "data": {
      "text/plain": [
       "BaggingClassifier(base_estimator=DecisionTreeClassifier(class_weight=None, criterion='gini', max_depth=None,\n",
       "            max_features=None, max_leaf_nodes=None, min_samples_leaf=1,\n",
       "            min_samples_split=2, min_weight_fraction_leaf=0.0,\n",
       "            presort=False, random_state=None, splitter='best'),\n",
       "         bootstrap=True, bootstrap_features=False, max_features=0.5,\n",
       "         max_samples=0.5, n_estimators=5, n_jobs=1, oob_score=False,\n",
       "         random_state=None, verbose=0, warm_start=False)"
      ]
     },
     "execution_count": 25,
     "metadata": {},
     "output_type": "execute_result"
    }
   ],
   "source": [
    "# Create our classifier and our bag\n",
    "DT = DecisionTreeClassifier()\n",
    "BC = BaggingClassifier(base_estimator = DT, n_estimators =5, max_features = 0.5, max_samples = 0.5)\n",
    "\n",
    "# Fitting the Bag\n",
    "BC.fit(X_train, y_train)"
   ]
  },
  {
   "cell_type": "code",
   "execution_count": 26,
   "metadata": {
    "collapsed": false
   },
   "outputs": [
    {
     "data": {
      "text/plain": [
       "DecisionTreeClassifier(class_weight=None, criterion='gini', max_depth=None,\n",
       "            max_features=None, max_leaf_nodes=None, min_samples_leaf=1,\n",
       "            min_samples_split=2, min_weight_fraction_leaf=0.0,\n",
       "            presort=False, random_state=None, splitter='best')"
      ]
     },
     "execution_count": 26,
     "metadata": {},
     "output_type": "execute_result"
    }
   ],
   "source": [
    "#  Getting our bags base model \n",
    "# We can only have one base model so our estimator models can not have varying parameters\n",
    "# The Random_state is more or less a reference seed.\n",
    "BC.base_estimator_"
   ]
  },
  {
   "cell_type": "code",
   "execution_count": 27,
   "metadata": {
    "collapsed": false
   },
   "outputs": [
    {
     "data": {
      "text/plain": [
       "[DecisionTreeClassifier(class_weight=None, criterion='gini', max_depth=None,\n",
       "             max_features=None, max_leaf_nodes=None, min_samples_leaf=1,\n",
       "             min_samples_split=2, min_weight_fraction_leaf=0.0,\n",
       "             presort=False, random_state=1873720024, splitter='best'),\n",
       " DecisionTreeClassifier(class_weight=None, criterion='gini', max_depth=None,\n",
       "             max_features=None, max_leaf_nodes=None, min_samples_leaf=1,\n",
       "             min_samples_split=2, min_weight_fraction_leaf=0.0,\n",
       "             presort=False, random_state=584153195, splitter='best'),\n",
       " DecisionTreeClassifier(class_weight=None, criterion='gini', max_depth=None,\n",
       "             max_features=None, max_leaf_nodes=None, min_samples_leaf=1,\n",
       "             min_samples_split=2, min_weight_fraction_leaf=0.0,\n",
       "             presort=False, random_state=2096301464, splitter='best'),\n",
       " DecisionTreeClassifier(class_weight=None, criterion='gini', max_depth=None,\n",
       "             max_features=None, max_leaf_nodes=None, min_samples_leaf=1,\n",
       "             min_samples_split=2, min_weight_fraction_leaf=0.0,\n",
       "             presort=False, random_state=1229394533, splitter='best'),\n",
       " DecisionTreeClassifier(class_weight=None, criterion='gini', max_depth=None,\n",
       "             max_features=None, max_leaf_nodes=None, min_samples_leaf=1,\n",
       "             min_samples_split=2, min_weight_fraction_leaf=0.0,\n",
       "             presort=False, random_state=1546850139, splitter='best')]"
      ]
     },
     "execution_count": 27,
     "metadata": {},
     "output_type": "execute_result"
    }
   ],
   "source": [
    "# Gettin the rest of our bags models.\n",
    "BC.estimators_"
   ]
  },
  {
   "cell_type": "code",
   "execution_count": 28,
   "metadata": {
    "collapsed": false
   },
   "outputs": [
    {
     "data": {
      "text/plain": [
       "[array([ 5, 29, 23, 10, 11, 17, 18,  3, 27, 12, 19, 22, 21, 15, 26]),\n",
       " array([16,  4,  0,  5, 12,  9,  3, 21, 22, 29,  7, 26,  1, 11, 10]),\n",
       " array([ 7, 16, 15,  5, 17, 20, 27, 28,  2, 22,  9, 19, 14,  0, 26]),\n",
       " array([17,  9,  7,  0, 24, 18,  5, 15, 20,  4, 28, 25, 13,  3,  1]),\n",
       " array([ 2, 18, 11, 16,  4, 25,  5, 22,  6,  7, 29, 21, 14, 28, 23])]"
      ]
     },
     "execution_count": 28,
     "metadata": {},
     "output_type": "execute_result"
    }
   ],
   "source": [
    "# Getting the features in each of our bagged models.\n",
    "# Pretty much their index values of the list of feature names\n",
    "BC.estimators_features_"
   ]
  },
  {
   "cell_type": "markdown",
   "metadata": {},
   "source": [
    "# Lets re-create on of our bagged models!!!!"
   ]
  },
  {
   "cell_type": "code",
   "execution_count": 35,
   "metadata": {
    "collapsed": false
   },
   "outputs": [
    {
     "data": {
      "text/plain": [
       "DecisionTreeClassifier(class_weight=None, criterion='gini', max_depth=None,\n",
       "            max_features=None, max_leaf_nodes=None, min_samples_leaf=1,\n",
       "            min_samples_split=2, min_weight_fraction_leaf=0.0,\n",
       "            presort=False, random_state=1873720024, splitter='best')"
      ]
     },
     "execution_count": 35,
     "metadata": {},
     "output_type": "execute_result"
    }
   ],
   "source": [
    "# What are the parameters for the first decision tree in our bag?\n",
    "BC.estimators_[0]"
   ]
  },
  {
   "cell_type": "code",
   "execution_count": 36,
   "metadata": {
    "collapsed": false
   },
   "outputs": [
    {
     "data": {
      "text/plain": [
       "array([ 5, 29, 23, 10, 11, 17, 18,  3, 27, 12, 19, 22, 21, 15, 26])"
      ]
     },
     "execution_count": 36,
     "metadata": {},
     "output_type": "execute_result"
    }
   ],
   "source": [
    "# What are the features used in the first model\n",
    "BC.estimators_features_[0]"
   ]
  },
  {
   "cell_type": "code",
   "execution_count": 33,
   "metadata": {
    "collapsed": false
   },
   "outputs": [],
   "source": [
    "# Creating a list of the selected features.\n",
    "sub_features = []\n",
    "for feature in BC.estimators_features_[0]:\n",
    "    sub_features.append(data['feature_names'][feature])\n"
   ]
  },
  {
   "cell_type": "code",
   "execution_count": null,
   "metadata": {
    "collapsed": true
   },
   "outputs": [],
   "source": []
  },
  {
   "cell_type": "code",
   "execution_count": 47,
   "metadata": {
    "collapsed": false
   },
   "outputs": [
    {
     "data": {
      "text/plain": [
       "426"
      ]
     },
     "execution_count": 47,
     "metadata": {},
     "output_type": "execute_result"
    }
   ],
   "source": [
    "# Getting how many samples our bagging estimator used.\n",
    "jab = len(BC.estimators_samples_[0])\n",
    "jab"
   ]
  },
  {
   "cell_type": "code",
   "execution_count": 51,
   "metadata": {
    "collapsed": false
   },
   "outputs": [],
   "source": [
    "# What are the samples used in the first model?\n",
    "samples = BC.estimators_samples_[0] \n",
    "\n",
    "# Creating a list to append the index of sample data that was use from x_train\n",
    "true_samples = []\n",
    "for bool_index in range(0,jab):\n",
    "\n",
    "    if samples[bool_index] == True:\n",
    "        true_samples.append(bool_index)"
   ]
  },
  {
   "cell_type": "code",
   "execution_count": 58,
   "metadata": {
    "collapsed": false
   },
   "outputs": [],
   "source": [
    "# Gotta set the X_train equal to a variable and reset the index\n",
    "data0  = X_train.reset_index(drop = True)\n",
    "\n",
    "#Using the True Samples from our DT to sub down x_train\n",
    "data02 = data0.ix[true_samples]"
   ]
  },
  {
   "cell_type": "code",
   "execution_count": 60,
   "metadata": {
    "collapsed": false
   },
   "outputs": [
    {
     "data": {
      "text/html": [
       "<div>\n",
       "<table border=\"1\" class=\"dataframe\">\n",
       "  <thead>\n",
       "    <tr style=\"text-align: right;\">\n",
       "      <th></th>\n",
       "      <th>mean radius</th>\n",
       "      <th>mean texture</th>\n",
       "      <th>mean perimeter</th>\n",
       "      <th>mean area</th>\n",
       "      <th>mean smoothness</th>\n",
       "      <th>mean compactness</th>\n",
       "      <th>mean concavity</th>\n",
       "      <th>mean concave points</th>\n",
       "      <th>mean symmetry</th>\n",
       "      <th>mean fractal dimension</th>\n",
       "      <th>...</th>\n",
       "      <th>worst radius</th>\n",
       "      <th>worst texture</th>\n",
       "      <th>worst perimeter</th>\n",
       "      <th>worst area</th>\n",
       "      <th>worst smoothness</th>\n",
       "      <th>worst compactness</th>\n",
       "      <th>worst concavity</th>\n",
       "      <th>worst concave points</th>\n",
       "      <th>worst symmetry</th>\n",
       "      <th>worst fractal dimension</th>\n",
       "    </tr>\n",
       "  </thead>\n",
       "  <tbody>\n",
       "    <tr>\n",
       "      <th>3</th>\n",
       "      <td>9.268</td>\n",
       "      <td>12.87</td>\n",
       "      <td>61.49</td>\n",
       "      <td>248.7</td>\n",
       "      <td>0.16340</td>\n",
       "      <td>0.22390</td>\n",
       "      <td>0.09730</td>\n",
       "      <td>0.05252</td>\n",
       "      <td>0.2378</td>\n",
       "      <td>0.09502</td>\n",
       "      <td>...</td>\n",
       "      <td>10.28</td>\n",
       "      <td>16.38</td>\n",
       "      <td>69.05</td>\n",
       "      <td>300.2</td>\n",
       "      <td>0.1902</td>\n",
       "      <td>0.3441</td>\n",
       "      <td>0.2099</td>\n",
       "      <td>0.10250</td>\n",
       "      <td>0.3038</td>\n",
       "      <td>0.12520</td>\n",
       "    </tr>\n",
       "    <tr>\n",
       "      <th>4</th>\n",
       "      <td>20.590</td>\n",
       "      <td>21.24</td>\n",
       "      <td>137.80</td>\n",
       "      <td>1320.0</td>\n",
       "      <td>0.10850</td>\n",
       "      <td>0.16440</td>\n",
       "      <td>0.21880</td>\n",
       "      <td>0.11210</td>\n",
       "      <td>0.1848</td>\n",
       "      <td>0.06222</td>\n",
       "      <td>...</td>\n",
       "      <td>23.86</td>\n",
       "      <td>30.76</td>\n",
       "      <td>163.20</td>\n",
       "      <td>1760.0</td>\n",
       "      <td>0.1464</td>\n",
       "      <td>0.3597</td>\n",
       "      <td>0.5179</td>\n",
       "      <td>0.21130</td>\n",
       "      <td>0.2480</td>\n",
       "      <td>0.08999</td>\n",
       "    </tr>\n",
       "    <tr>\n",
       "      <th>5</th>\n",
       "      <td>10.800</td>\n",
       "      <td>21.98</td>\n",
       "      <td>68.79</td>\n",
       "      <td>359.9</td>\n",
       "      <td>0.08801</td>\n",
       "      <td>0.05743</td>\n",
       "      <td>0.03614</td>\n",
       "      <td>0.01404</td>\n",
       "      <td>0.2016</td>\n",
       "      <td>0.05977</td>\n",
       "      <td>...</td>\n",
       "      <td>12.76</td>\n",
       "      <td>32.04</td>\n",
       "      <td>83.69</td>\n",
       "      <td>489.5</td>\n",
       "      <td>0.1303</td>\n",
       "      <td>0.1696</td>\n",
       "      <td>0.1927</td>\n",
       "      <td>0.07485</td>\n",
       "      <td>0.2965</td>\n",
       "      <td>0.07662</td>\n",
       "    </tr>\n",
       "    <tr>\n",
       "      <th>8</th>\n",
       "      <td>13.280</td>\n",
       "      <td>20.28</td>\n",
       "      <td>87.32</td>\n",
       "      <td>545.2</td>\n",
       "      <td>0.10410</td>\n",
       "      <td>0.14360</td>\n",
       "      <td>0.09847</td>\n",
       "      <td>0.06158</td>\n",
       "      <td>0.1974</td>\n",
       "      <td>0.06782</td>\n",
       "      <td>...</td>\n",
       "      <td>17.38</td>\n",
       "      <td>28.00</td>\n",
       "      <td>113.10</td>\n",
       "      <td>907.2</td>\n",
       "      <td>0.1530</td>\n",
       "      <td>0.3724</td>\n",
       "      <td>0.3664</td>\n",
       "      <td>0.14920</td>\n",
       "      <td>0.3739</td>\n",
       "      <td>0.10270</td>\n",
       "    </tr>\n",
       "    <tr>\n",
       "      <th>9</th>\n",
       "      <td>12.910</td>\n",
       "      <td>16.33</td>\n",
       "      <td>82.53</td>\n",
       "      <td>516.4</td>\n",
       "      <td>0.07941</td>\n",
       "      <td>0.05366</td>\n",
       "      <td>0.03873</td>\n",
       "      <td>0.02377</td>\n",
       "      <td>0.1829</td>\n",
       "      <td>0.05667</td>\n",
       "      <td>...</td>\n",
       "      <td>13.88</td>\n",
       "      <td>22.00</td>\n",
       "      <td>90.81</td>\n",
       "      <td>600.6</td>\n",
       "      <td>0.1097</td>\n",
       "      <td>0.1506</td>\n",
       "      <td>0.1764</td>\n",
       "      <td>0.08235</td>\n",
       "      <td>0.3024</td>\n",
       "      <td>0.06949</td>\n",
       "    </tr>\n",
       "  </tbody>\n",
       "</table>\n",
       "<p>5 rows × 30 columns</p>\n",
       "</div>"
      ],
      "text/plain": [
       "   mean radius  mean texture  mean perimeter  mean area  mean smoothness  \\\n",
       "3        9.268         12.87           61.49      248.7          0.16340   \n",
       "4       20.590         21.24          137.80     1320.0          0.10850   \n",
       "5       10.800         21.98           68.79      359.9          0.08801   \n",
       "8       13.280         20.28           87.32      545.2          0.10410   \n",
       "9       12.910         16.33           82.53      516.4          0.07941   \n",
       "\n",
       "   mean compactness  mean concavity  mean concave points  mean symmetry  \\\n",
       "3           0.22390         0.09730              0.05252         0.2378   \n",
       "4           0.16440         0.21880              0.11210         0.1848   \n",
       "5           0.05743         0.03614              0.01404         0.2016   \n",
       "8           0.14360         0.09847              0.06158         0.1974   \n",
       "9           0.05366         0.03873              0.02377         0.1829   \n",
       "\n",
       "   mean fractal dimension           ...             worst radius  \\\n",
       "3                 0.09502           ...                    10.28   \n",
       "4                 0.06222           ...                    23.86   \n",
       "5                 0.05977           ...                    12.76   \n",
       "8                 0.06782           ...                    17.38   \n",
       "9                 0.05667           ...                    13.88   \n",
       "\n",
       "   worst texture  worst perimeter  worst area  worst smoothness  \\\n",
       "3          16.38            69.05       300.2            0.1902   \n",
       "4          30.76           163.20      1760.0            0.1464   \n",
       "5          32.04            83.69       489.5            0.1303   \n",
       "8          28.00           113.10       907.2            0.1530   \n",
       "9          22.00            90.81       600.6            0.1097   \n",
       "\n",
       "   worst compactness  worst concavity  worst concave points  worst symmetry  \\\n",
       "3             0.3441           0.2099               0.10250          0.3038   \n",
       "4             0.3597           0.5179               0.21130          0.2480   \n",
       "5             0.1696           0.1927               0.07485          0.2965   \n",
       "8             0.3724           0.3664               0.14920          0.3739   \n",
       "9             0.1506           0.1764               0.08235          0.3024   \n",
       "\n",
       "   worst fractal dimension  \n",
       "3                  0.12520  \n",
       "4                  0.08999  \n",
       "5                  0.07662  \n",
       "8                  0.10270  \n",
       "9                  0.06949  \n",
       "\n",
       "[5 rows x 30 columns]"
      ]
     },
     "execution_count": 60,
     "metadata": {},
     "output_type": "execute_result"
    }
   ],
   "source": [
    "data02.head()"
   ]
  },
  {
   "cell_type": "code",
   "execution_count": null,
   "metadata": {
    "collapsed": true
   },
   "outputs": [],
   "source": [
    "# Getting the y_train sub sample used.\n",
    "target = pd.DataFrame(y_train)\n",
    "target.reset_index(inplace = True, drop =True)\n",
    "target2 = target.ix[true_samples]"
   ]
  },
  {
   "cell_type": "code",
   "execution_count": 34,
   "metadata": {
    "collapsed": true
   },
   "outputs": [],
   "source": [
    "# Setting the Decision Tree in our First base model of our bagged classifier.\n",
    "DTC0 = DecisionTreeClassifier(class_weight=None, criterion='gini', max_depth=None,\n",
    "            max_features=None, max_leaf_nodes=None, min_samples_leaf=1,\n",
    "            min_samples_split=2, min_weight_fraction_leaf=0.0,\n",
    "            presort=False, random_state=472506830, splitter='best')"
   ]
  },
  {
   "cell_type": "code",
   "execution_count": 81,
   "metadata": {
    "collapsed": false
   },
   "outputs": [],
   "source": [
    "# Setting the models X and Y values\n",
    "X0 = data2[sub_features]\n",
    "Y0 = target2[0]\n"
   ]
  },
  {
   "cell_type": "code",
   "execution_count": 83,
   "metadata": {
    "collapsed": false
   },
   "outputs": [
    {
     "data": {
      "text/plain": [
       "DecisionTreeClassifier(class_weight=None, criterion='gini', max_depth=None,\n",
       "            max_features=None, max_leaf_nodes=None, min_samples_leaf=1,\n",
       "            min_samples_split=2, min_weight_fraction_leaf=0.0,\n",
       "            presort=False, random_state=472506830, splitter='best')"
      ]
     },
     "execution_count": 83,
     "metadata": {},
     "output_type": "execute_result"
    }
   ],
   "source": [
    "# Fitting the model\n",
    "DTC0.fit(X0, Y0)"
   ]
  },
  {
   "cell_type": "code",
   "execution_count": 86,
   "metadata": {
    "collapsed": false
   },
   "outputs": [
    {
     "data": {
      "image/svg+xml": [
       "<?xml version=\"1.0\" encoding=\"UTF-8\" standalone=\"no\"?>\n",
       "<!DOCTYPE svg PUBLIC \"-//W3C//DTD SVG 1.1//EN\"\n",
       " \"http://www.w3.org/Graphics/SVG/1.1/DTD/svg11.dtd\">\n",
       "<!-- Generated by graphviz version 2.38.0 (20140413.2041)\n",
       " -->\n",
       "<!-- Title: Tree Pages: 1 -->\n",
       "<svg width=\"584pt\" height=\"458pt\"\n",
       " viewBox=\"0.00 0.00 584.04 458.00\" xmlns=\"http://www.w3.org/2000/svg\" xmlns:xlink=\"http://www.w3.org/1999/xlink\">\n",
       "<g id=\"graph0\" class=\"graph\" transform=\"scale(1 1) rotate(0) translate(4 454)\">\n",
       "<title>Tree</title>\n",
       "<polygon fill=\"white\" stroke=\"none\" points=\"-4,4 -4,-454 580.037,-454 580.037,4 -4,4\"/>\n",
       "<!-- 0 -->\n",
       "<g id=\"node1\" class=\"node\"><title>0</title>\n",
       "<polygon fill=\"none\" stroke=\"black\" points=\"446.754,-450 250.784,-450 250.784,-386 446.754,-386 446.754,-450\"/>\n",
       "<text text-anchor=\"middle\" x=\"348.769\" y=\"-434.8\" font-family=\"Times,serif\" font-size=\"14.00\">worst concave points &lt;= 0.1359</text>\n",
       "<text text-anchor=\"middle\" x=\"348.769\" y=\"-420.8\" font-family=\"Times,serif\" font-size=\"14.00\">gini = 0.457</text>\n",
       "<text text-anchor=\"middle\" x=\"348.769\" y=\"-406.8\" font-family=\"Times,serif\" font-size=\"14.00\">samples = 167</text>\n",
       "<text text-anchor=\"middle\" x=\"348.769\" y=\"-392.8\" font-family=\"Times,serif\" font-size=\"14.00\">value = [59, 108]</text>\n",
       "</g>\n",
       "<!-- 1 -->\n",
       "<g id=\"node2\" class=\"node\"><title>1</title>\n",
       "<polygon fill=\"none\" stroke=\"black\" points=\"341.474,-350 206.063,-350 206.063,-286 341.474,-286 341.474,-350\"/>\n",
       "<text text-anchor=\"middle\" x=\"273.769\" y=\"-334.8\" font-family=\"Times,serif\" font-size=\"14.00\">worst area &lt;= 957.45</text>\n",
       "<text text-anchor=\"middle\" x=\"273.769\" y=\"-320.8\" font-family=\"Times,serif\" font-size=\"14.00\">gini = 0.0695</text>\n",
       "<text text-anchor=\"middle\" x=\"273.769\" y=\"-306.8\" font-family=\"Times,serif\" font-size=\"14.00\">samples = 111</text>\n",
       "<text text-anchor=\"middle\" x=\"273.769\" y=\"-292.8\" font-family=\"Times,serif\" font-size=\"14.00\">value = [4, 107]</text>\n",
       "</g>\n",
       "<!-- 0&#45;&gt;1 -->\n",
       "<g id=\"edge1\" class=\"edge\"><title>0&#45;&gt;1</title>\n",
       "<path fill=\"none\" stroke=\"black\" d=\"M325.038,-385.992C318.267,-377.144 310.8,-367.388 303.709,-358.123\"/>\n",
       "<polygon fill=\"black\" stroke=\"black\" points=\"306.459,-355.957 297.602,-350.142 300.9,-360.211 306.459,-355.957\"/>\n",
       "<text text-anchor=\"middle\" x=\"294.307\" y=\"-370.724\" font-family=\"Times,serif\" font-size=\"14.00\">True</text>\n",
       "</g>\n",
       "<!-- 8 -->\n",
       "<g id=\"node9\" class=\"node\"><title>8</title>\n",
       "<polygon fill=\"none\" stroke=\"black\" points=\"487.974,-350 359.563,-350 359.563,-286 487.974,-286 487.974,-350\"/>\n",
       "<text text-anchor=\"middle\" x=\"423.769\" y=\"-334.8\" font-family=\"Times,serif\" font-size=\"14.00\">worst area &lt;= 495.2</text>\n",
       "<text text-anchor=\"middle\" x=\"423.769\" y=\"-320.8\" font-family=\"Times,serif\" font-size=\"14.00\">gini = 0.0351</text>\n",
       "<text text-anchor=\"middle\" x=\"423.769\" y=\"-306.8\" font-family=\"Times,serif\" font-size=\"14.00\">samples = 56</text>\n",
       "<text text-anchor=\"middle\" x=\"423.769\" y=\"-292.8\" font-family=\"Times,serif\" font-size=\"14.00\">value = [55, 1]</text>\n",
       "</g>\n",
       "<!-- 0&#45;&gt;8 -->\n",
       "<g id=\"edge8\" class=\"edge\"><title>0&#45;&gt;8</title>\n",
       "<path fill=\"none\" stroke=\"black\" d=\"M372.499,-385.992C379.27,-377.144 386.737,-367.388 393.828,-358.123\"/>\n",
       "<polygon fill=\"black\" stroke=\"black\" points=\"396.637,-360.211 399.935,-350.142 391.078,-355.957 396.637,-360.211\"/>\n",
       "<text text-anchor=\"middle\" x=\"403.23\" y=\"-370.724\" font-family=\"Times,serif\" font-size=\"14.00\">False</text>\n",
       "</g>\n",
       "<!-- 2 -->\n",
       "<g id=\"node3\" class=\"node\"><title>2</title>\n",
       "<polygon fill=\"none\" stroke=\"black\" points=\"219.754,-250 23.7836,-250 23.7836,-186 219.754,-186 219.754,-250\"/>\n",
       "<text text-anchor=\"middle\" x=\"121.769\" y=\"-234.8\" font-family=\"Times,serif\" font-size=\"14.00\">worst concave points &lt;= 0.1323</text>\n",
       "<text text-anchor=\"middle\" x=\"121.769\" y=\"-220.8\" font-family=\"Times,serif\" font-size=\"14.00\">gini = 0.0183</text>\n",
       "<text text-anchor=\"middle\" x=\"121.769\" y=\"-206.8\" font-family=\"Times,serif\" font-size=\"14.00\">samples = 108</text>\n",
       "<text text-anchor=\"middle\" x=\"121.769\" y=\"-192.8\" font-family=\"Times,serif\" font-size=\"14.00\">value = [1, 107]</text>\n",
       "</g>\n",
       "<!-- 1&#45;&gt;2 -->\n",
       "<g id=\"edge2\" class=\"edge\"><title>1&#45;&gt;2</title>\n",
       "<path fill=\"none\" stroke=\"black\" d=\"M225.675,-285.992C210.704,-276.34 194.056,-265.606 178.55,-255.609\"/>\n",
       "<polygon fill=\"black\" stroke=\"black\" points=\"180.372,-252.62 170.071,-250.142 176.579,-258.503 180.372,-252.62\"/>\n",
       "</g>\n",
       "<!-- 7 -->\n",
       "<g id=\"node8\" class=\"node\"><title>7</title>\n",
       "<polygon fill=\"none\" stroke=\"black\" points=\"329.307,-243 238.23,-243 238.23,-193 329.307,-193 329.307,-243\"/>\n",
       "<text text-anchor=\"middle\" x=\"283.769\" y=\"-227.8\" font-family=\"Times,serif\" font-size=\"14.00\">gini = 0.0</text>\n",
       "<text text-anchor=\"middle\" x=\"283.769\" y=\"-213.8\" font-family=\"Times,serif\" font-size=\"14.00\">samples = 3</text>\n",
       "<text text-anchor=\"middle\" x=\"283.769\" y=\"-199.8\" font-family=\"Times,serif\" font-size=\"14.00\">value = [3, 0]</text>\n",
       "</g>\n",
       "<!-- 1&#45;&gt;7 -->\n",
       "<g id=\"edge7\" class=\"edge\"><title>1&#45;&gt;7</title>\n",
       "<path fill=\"none\" stroke=\"black\" d=\"M276.933,-285.992C277.988,-275.646 279.171,-264.057 280.252,-253.465\"/>\n",
       "<polygon fill=\"black\" stroke=\"black\" points=\"283.757,-253.591 281.29,-243.288 276.793,-252.881 283.757,-253.591\"/>\n",
       "</g>\n",
       "<!-- 3 -->\n",
       "<g id=\"node4\" class=\"node\"><title>3</title>\n",
       "<polygon fill=\"none\" stroke=\"black\" points=\"105.307,-143 0.230435,-143 0.230435,-93 105.307,-93 105.307,-143\"/>\n",
       "<text text-anchor=\"middle\" x=\"52.7686\" y=\"-127.8\" font-family=\"Times,serif\" font-size=\"14.00\">gini = 0.0</text>\n",
       "<text text-anchor=\"middle\" x=\"52.7686\" y=\"-113.8\" font-family=\"Times,serif\" font-size=\"14.00\">samples = 106</text>\n",
       "<text text-anchor=\"middle\" x=\"52.7686\" y=\"-99.8\" font-family=\"Times,serif\" font-size=\"14.00\">value = [0, 106]</text>\n",
       "</g>\n",
       "<!-- 2&#45;&gt;3 -->\n",
       "<g id=\"edge3\" class=\"edge\"><title>2&#45;&gt;3</title>\n",
       "<path fill=\"none\" stroke=\"black\" d=\"M99.9365,-185.992C92.1968,-175 83.4693,-162.604 75.645,-151.491\"/>\n",
       "<polygon fill=\"black\" stroke=\"black\" points=\"78.4879,-149.449 69.869,-143.288 72.7643,-153.479 78.4879,-149.449\"/>\n",
       "</g>\n",
       "<!-- 4 -->\n",
       "<g id=\"node5\" class=\"node\"><title>4</title>\n",
       "<polygon fill=\"none\" stroke=\"black\" points=\"258.474,-150 123.063,-150 123.063,-86 258.474,-86 258.474,-150\"/>\n",
       "<text text-anchor=\"middle\" x=\"190.769\" y=\"-134.8\" font-family=\"Times,serif\" font-size=\"14.00\">radius error &lt;= 0.256</text>\n",
       "<text text-anchor=\"middle\" x=\"190.769\" y=\"-120.8\" font-family=\"Times,serif\" font-size=\"14.00\">gini = 0.5</text>\n",
       "<text text-anchor=\"middle\" x=\"190.769\" y=\"-106.8\" font-family=\"Times,serif\" font-size=\"14.00\">samples = 2</text>\n",
       "<text text-anchor=\"middle\" x=\"190.769\" y=\"-92.8\" font-family=\"Times,serif\" font-size=\"14.00\">value = [1, 1]</text>\n",
       "</g>\n",
       "<!-- 2&#45;&gt;4 -->\n",
       "<g id=\"edge4\" class=\"edge\"><title>2&#45;&gt;4</title>\n",
       "<path fill=\"none\" stroke=\"black\" d=\"M143.601,-185.992C149.767,-177.234 156.561,-167.585 163.025,-158.404\"/>\n",
       "<polygon fill=\"black\" stroke=\"black\" points=\"165.946,-160.334 168.842,-150.142 160.223,-156.304 165.946,-160.334\"/>\n",
       "</g>\n",
       "<!-- 5 -->\n",
       "<g id=\"node6\" class=\"node\"><title>5</title>\n",
       "<polygon fill=\"none\" stroke=\"black\" points=\"181.307,-50 90.2303,-50 90.2303,-0 181.307,-0 181.307,-50\"/>\n",
       "<text text-anchor=\"middle\" x=\"135.769\" y=\"-34.8\" font-family=\"Times,serif\" font-size=\"14.00\">gini = 0.0</text>\n",
       "<text text-anchor=\"middle\" x=\"135.769\" y=\"-20.8\" font-family=\"Times,serif\" font-size=\"14.00\">samples = 1</text>\n",
       "<text text-anchor=\"middle\" x=\"135.769\" y=\"-6.8\" font-family=\"Times,serif\" font-size=\"14.00\">value = [1, 0]</text>\n",
       "</g>\n",
       "<!-- 4&#45;&gt;5 -->\n",
       "<g id=\"edge5\" class=\"edge\"><title>4&#45;&gt;5</title>\n",
       "<path fill=\"none\" stroke=\"black\" d=\"M171.995,-85.9375C166.673,-77.133 160.865,-67.5239 155.49,-58.6297\"/>\n",
       "<polygon fill=\"black\" stroke=\"black\" points=\"158.46,-56.778 150.292,-50.0301 152.469,-60.3988 158.46,-56.778\"/>\n",
       "</g>\n",
       "<!-- 6 -->\n",
       "<g id=\"node7\" class=\"node\"><title>6</title>\n",
       "<polygon fill=\"none\" stroke=\"black\" points=\"291.307,-50 200.23,-50 200.23,-0 291.307,-0 291.307,-50\"/>\n",
       "<text text-anchor=\"middle\" x=\"245.769\" y=\"-34.8\" font-family=\"Times,serif\" font-size=\"14.00\">gini = 0.0</text>\n",
       "<text text-anchor=\"middle\" x=\"245.769\" y=\"-20.8\" font-family=\"Times,serif\" font-size=\"14.00\">samples = 1</text>\n",
       "<text text-anchor=\"middle\" x=\"245.769\" y=\"-6.8\" font-family=\"Times,serif\" font-size=\"14.00\">value = [0, 1]</text>\n",
       "</g>\n",
       "<!-- 4&#45;&gt;6 -->\n",
       "<g id=\"edge6\" class=\"edge\"><title>4&#45;&gt;6</title>\n",
       "<path fill=\"none\" stroke=\"black\" d=\"M209.543,-85.9375C214.864,-77.133 220.672,-67.5239 226.047,-58.6297\"/>\n",
       "<polygon fill=\"black\" stroke=\"black\" points=\"229.068,-60.3988 231.245,-50.0301 223.077,-56.778 229.068,-60.3988\"/>\n",
       "</g>\n",
       "<!-- 9 -->\n",
       "<g id=\"node10\" class=\"node\"><title>9</title>\n",
       "<polygon fill=\"none\" stroke=\"black\" points=\"459.307,-243 368.23,-243 368.23,-193 459.307,-193 459.307,-243\"/>\n",
       "<text text-anchor=\"middle\" x=\"413.769\" y=\"-227.8\" font-family=\"Times,serif\" font-size=\"14.00\">gini = 0.0</text>\n",
       "<text text-anchor=\"middle\" x=\"413.769\" y=\"-213.8\" font-family=\"Times,serif\" font-size=\"14.00\">samples = 1</text>\n",
       "<text text-anchor=\"middle\" x=\"413.769\" y=\"-199.8\" font-family=\"Times,serif\" font-size=\"14.00\">value = [0, 1]</text>\n",
       "</g>\n",
       "<!-- 8&#45;&gt;9 -->\n",
       "<g id=\"edge9\" class=\"edge\"><title>8&#45;&gt;9</title>\n",
       "<path fill=\"none\" stroke=\"black\" d=\"M420.604,-285.992C419.549,-275.646 418.366,-264.057 417.285,-253.465\"/>\n",
       "<polygon fill=\"black\" stroke=\"black\" points=\"420.744,-252.881 416.247,-243.288 413.78,-253.591 420.744,-252.881\"/>\n",
       "</g>\n",
       "<!-- 10 -->\n",
       "<g id=\"node11\" class=\"node\"><title>10</title>\n",
       "<polygon fill=\"none\" stroke=\"black\" points=\"575.807,-243 477.73,-243 477.73,-193 575.807,-193 575.807,-243\"/>\n",
       "<text text-anchor=\"middle\" x=\"526.769\" y=\"-227.8\" font-family=\"Times,serif\" font-size=\"14.00\">gini = 0.0</text>\n",
       "<text text-anchor=\"middle\" x=\"526.769\" y=\"-213.8\" font-family=\"Times,serif\" font-size=\"14.00\">samples = 55</text>\n",
       "<text text-anchor=\"middle\" x=\"526.769\" y=\"-199.8\" font-family=\"Times,serif\" font-size=\"14.00\">value = [55, 0]</text>\n",
       "</g>\n",
       "<!-- 8&#45;&gt;10 -->\n",
       "<g id=\"edge10\" class=\"edge\"><title>8&#45;&gt;10</title>\n",
       "<path fill=\"none\" stroke=\"black\" d=\"M456.358,-285.992C468.365,-274.568 481.964,-261.63 493.987,-250.19\"/>\n",
       "<polygon fill=\"black\" stroke=\"black\" points=\"496.41,-252.716 501.242,-243.288 491.584,-247.645 496.41,-252.716\"/>\n",
       "</g>\n",
       "</g>\n",
       "</svg>\n"
      ],
      "text/plain": [
       "<graphviz.files.Source at 0x114580910>"
      ]
     },
     "execution_count": 86,
     "metadata": {},
     "output_type": "execute_result"
    }
   ],
   "source": [
    "from sklearn.tree import export_graphviz\n",
    "with open('treeDT.dot', 'w') as dotfile:\n",
    "    export_graphviz(DTC0, dotfile, feature_names=sub_features)\n",
    "    \n",
    "import graphviz\n",
    "with open(\"treeDT.dot\") as f:\n",
    "    dot_graph = f.read()\n",
    "graphviz.Source(dot_graph) "
   ]
  },
  {
   "cell_type": "code",
   "execution_count": null,
   "metadata": {
    "collapsed": true
   },
   "outputs": [],
   "source": []
  }
 ],
 "metadata": {
  "anaconda-cloud": {},
  "kernelspec": {
   "display_name": "Python [default]",
   "language": "python",
   "name": "python2"
  },
  "language_info": {
   "codemirror_mode": {
    "name": "ipython",
    "version": 2
   },
   "file_extension": ".py",
   "mimetype": "text/x-python",
   "name": "python",
   "nbconvert_exporter": "python",
   "pygments_lexer": "ipython2",
   "version": "2.7.12"
  }
 },
 "nbformat": 4,
 "nbformat_minor": 1
}
