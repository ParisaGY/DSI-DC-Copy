{
 "cells": [
  {
   "cell_type": "code",
<<<<<<< HEAD
<<<<<<< HEAD
<<<<<<< HEAD
   "execution_count": 3,
=======
   "execution_count": 1,
>>>>>>> 096a8b4a38abd7f6def04957b7133aba88d06eab
=======
   "execution_count": 1,
>>>>>>> 036367a6aad4a887a3d52b3cad2d170153f71140
=======
   "execution_count": 3,
=======
   "execution_count": 1,
>>>>>>> 096a8b4a38abd7f6def04957b7133aba88d06eab
>>>>>>> d46954cd5e7783041a111cdd734fec00ff86db88
   "metadata": {
    "collapsed": false
   },
   "outputs": [],
   "source": [
    "import pandas as pd\n",
    "\n",
    "df = pd.read_csv('../assets/data/car.csv')"
   ]
  },
  {
   "cell_type": "code",
   "execution_count": 2,
   "metadata": {
<<<<<<< HEAD
<<<<<<< HEAD
=======
>>>>>>> d46954cd5e7783041a111cdd734fec00ff86db88
    "collapsed": true
   },
<<<<<<< HEAD
   "outputs": [],
   "source": []
  },
  {
   "cell_type": "code",
   "execution_count": 4,
   "metadata": {
<<<<<<< HEAD
    "collapsed": false
   },
=======
>>>>>>> 096a8b4a38abd7f6def04957b7133aba88d06eab
=======
    "collapsed": false
   },
>>>>>>> 036367a6aad4a887a3d52b3cad2d170153f71140
=======
    "collapsed": false
   },
=======
>>>>>>> 096a8b4a38abd7f6def04957b7133aba88d06eab
>>>>>>> d46954cd5e7783041a111cdd734fec00ff86db88
   "outputs": [
    {
     "data": {
      "text/html": [
       "<div>\n",
       "<table border=\"1\" class=\"dataframe\">\n",
       "  <thead>\n",
       "    <tr style=\"text-align: right;\">\n",
       "      <th></th>\n",
       "      <th>buying</th>\n",
       "      <th>maint</th>\n",
       "      <th>doors</th>\n",
       "      <th>persons</th>\n",
       "      <th>lug_boot</th>\n",
       "      <th>safety</th>\n",
       "      <th>acceptability</th>\n",
       "    </tr>\n",
       "  </thead>\n",
       "  <tbody>\n",
       "    <tr>\n",
       "      <th>0</th>\n",
       "      <td>vhigh</td>\n",
       "      <td>vhigh</td>\n",
       "      <td>2</td>\n",
       "      <td>2</td>\n",
       "      <td>small</td>\n",
       "      <td>low</td>\n",
       "      <td>unacc</td>\n",
       "    </tr>\n",
       "    <tr>\n",
       "      <th>1</th>\n",
       "      <td>vhigh</td>\n",
       "      <td>vhigh</td>\n",
       "      <td>2</td>\n",
       "      <td>2</td>\n",
       "      <td>small</td>\n",
       "      <td>med</td>\n",
       "      <td>unacc</td>\n",
       "    </tr>\n",
       "    <tr>\n",
       "      <th>2</th>\n",
       "      <td>vhigh</td>\n",
       "      <td>vhigh</td>\n",
       "      <td>2</td>\n",
       "      <td>2</td>\n",
       "      <td>small</td>\n",
       "      <td>high</td>\n",
       "      <td>unacc</td>\n",
       "    </tr>\n",
       "    <tr>\n",
       "      <th>3</th>\n",
       "      <td>vhigh</td>\n",
       "      <td>vhigh</td>\n",
       "      <td>2</td>\n",
       "      <td>2</td>\n",
       "      <td>med</td>\n",
       "      <td>low</td>\n",
       "      <td>unacc</td>\n",
       "    </tr>\n",
       "    <tr>\n",
       "      <th>4</th>\n",
       "      <td>vhigh</td>\n",
       "      <td>vhigh</td>\n",
       "      <td>2</td>\n",
       "      <td>2</td>\n",
       "      <td>med</td>\n",
       "      <td>med</td>\n",
       "      <td>unacc</td>\n",
       "    </tr>\n",
       "  </tbody>\n",
       "</table>\n",
       "</div>"
      ],
      "text/plain": [
       "  buying  maint doors persons lug_boot safety acceptability\n",
       "0  vhigh  vhigh     2       2    small    low         unacc\n",
       "1  vhigh  vhigh     2       2    small    med         unacc\n",
       "2  vhigh  vhigh     2       2    small   high         unacc\n",
       "3  vhigh  vhigh     2       2      med    low         unacc\n",
       "4  vhigh  vhigh     2       2      med    med         unacc"
      ]
     },
<<<<<<< HEAD
<<<<<<< HEAD
<<<<<<< HEAD
=======
>>>>>>> d46954cd5e7783041a111cdd734fec00ff86db88
     "execution_count": 4,
=======
     "execution_count": 2,
>>>>>>> 096a8b4a38abd7f6def04957b7133aba88d06eab
<<<<<<< HEAD
=======
     "execution_count": 2,
>>>>>>> 036367a6aad4a887a3d52b3cad2d170153f71140
=======
>>>>>>> d46954cd5e7783041a111cdd734fec00ff86db88
     "metadata": {},
     "output_type": "execute_result"
    }
   ],
   "source": [
    "df.head()"
   ]
  },
  {
<<<<<<< HEAD
<<<<<<< HEAD
=======
>>>>>>> d46954cd5e7783041a111cdd734fec00ff86db88
   "cell_type": "code",
   "execution_count": null,
   "metadata": {
    "collapsed": true
   },
   "outputs": [],
   "source": []
  },
  {
   "cell_type": "code",
   "execution_count": null,
   "metadata": {
    "collapsed": true
   },
   "outputs": [],
   "source": []
  },
  {
<<<<<<< HEAD
=======
>>>>>>> 036367a6aad4a887a3d52b3cad2d170153f71140
=======
>>>>>>> d46954cd5e7783041a111cdd734fec00ff86db88
   "cell_type": "markdown",
   "metadata": {},
   "source": [
    "Since most of the features are categorical text we will need to encode them as numbers using the ***LabelEncoder***."
   ]
  },
  {
   "cell_type": "code",
<<<<<<< HEAD
<<<<<<< HEAD
<<<<<<< HEAD
   "execution_count": 5,
=======
   "execution_count": 3,
>>>>>>> 096a8b4a38abd7f6def04957b7133aba88d06eab
   "metadata": {
    "collapsed": false
=======
=======
   "execution_count": 5,
=======
>>>>>>> d46954cd5e7783041a111cdd734fec00ff86db88
   "execution_count": 3,
>>>>>>> 096a8b4a38abd7f6def04957b7133aba88d06eab
   "metadata": {
<<<<<<< HEAD
    "collapsed": true
>>>>>>> 036367a6aad4a887a3d52b3cad2d170153f71140
=======
    "collapsed": false
>>>>>>> d46954cd5e7783041a111cdd734fec00ff86db88
   },
   "outputs": [],
   "source": [
    "from sklearn.preprocessing import LabelEncoder\n",
    "le = LabelEncoder()\n",
    "features = [c for c in df.columns if c != 'acceptability']\n",
    "for c in df.columns:\n",
    "    df[c] = le.fit_transform(df[c])\n",
    "\n",
    "X = df[features]\n",
    "y = df['acceptability']"
   ]
  },
  {
   "cell_type": "markdown",
   "metadata": {},
   "source": [
    "Notice that we overwrote the original features for simplicity, since we are not interested in doing a study on feature importance.\n",
    "\n",
    "**Check:** Is it correct to use the label encoder blindly like this?"
   ]
  },
  {
   "cell_type": "markdown",
   "metadata": {},
   "source": [
<<<<<<< HEAD
<<<<<<< HEAD
    "![answer](/Users/generalassembly/Documents/repo-DC-DSI-3/DC-DSI-3/curriculum/06-week/6.03-ensembles-and-bagging/assets/images/check1-answer.png)"
   ]
  },
  {
   "cell_type": "code",
   "execution_count": null,
   "metadata": {
    "collapsed": true
   },
   "outputs": [],
   "source": []
  },
  {
   "cell_type": "code",
   "execution_count": null,
   "metadata": {
    "collapsed": true
   },
   "outputs": [],
   "source": []
  },
  {
   "cell_type": "code",
   "execution_count": null,
   "metadata": {
    "collapsed": true
   },
   "outputs": [],
   "source": []
  },
  {
=======
    "![answer](../assets/images/check1-answer.png)"
   ]
  },
  {
>>>>>>> 036367a6aad4a887a3d52b3cad2d170153f71140
=======
    "![answer](/Users/generalassembly/Documents/repo-DC-DSI-3/DC-DSI-3/curriculum/06-week/6.03-ensembles-and-bagging/assets/images/check1-answer.png)"
   ]
  },
  {
   "cell_type": "code",
   "execution_count": null,
   "metadata": {
    "collapsed": true
   },
   "outputs": [],
   "source": []
  },
  {
   "cell_type": "code",
   "execution_count": null,
   "metadata": {
    "collapsed": true
   },
   "outputs": [],
   "source": []
  },
  {
   "cell_type": "code",
   "execution_count": null,
   "metadata": {
    "collapsed": true
   },
   "outputs": [],
   "source": []
  },
  {
>>>>>>> d46954cd5e7783041a111cdd734fec00ff86db88
   "cell_type": "markdown",
   "metadata": {},
   "source": [
    "The next step is to calculate the ```python cross_val_score``` on the two classifier:"
   ]
  },
  {
   "cell_type": "code",
<<<<<<< HEAD
<<<<<<< HEAD
<<<<<<< HEAD
=======
>>>>>>> d46954cd5e7783041a111cdd734fec00ff86db88
   "execution_count": 5,
=======
   "execution_count": 4,
>>>>>>> 096a8b4a38abd7f6def04957b7133aba88d06eab
<<<<<<< HEAD
=======
   "execution_count": 4,
>>>>>>> 036367a6aad4a887a3d52b3cad2d170153f71140
=======
>>>>>>> d46954cd5e7783041a111cdd734fec00ff86db88
   "metadata": {
    "collapsed": false
   },
   "outputs": [
    {
     "name": "stdout",
     "output_type": "stream",
     "text": [
      "KNN Score:\t0.643070305149\n",
<<<<<<< HEAD
<<<<<<< HEAD
<<<<<<< HEAD
      "Bagging Score:\t0.734947573599\n"
=======
      "Bagging Score:\t0.660938970292\n"
>>>>>>> 096a8b4a38abd7f6def04957b7133aba88d06eab
=======
      "Bagging Score:\t0.660938970292\n"
>>>>>>> 036367a6aad4a887a3d52b3cad2d170153f71140
=======
      "Bagging Score:\t0.734947573599\n"
=======
      "Bagging Score:\t0.660938970292\n"
>>>>>>> 096a8b4a38abd7f6def04957b7133aba88d06eab
>>>>>>> d46954cd5e7783041a111cdd734fec00ff86db88
     ]
    }
   ],
   "source": [
    "from sklearn.cross_validation import cross_val_score\n",
    "from sklearn.neighbors import KNeighborsClassifier\n",
    "from sklearn.ensemble import BaggingClassifier\n",
    "\n",
    "\n",
    "knn = KNeighborsClassifier()\n",
    "bagging = BaggingClassifier(base_estimator = knn, max_samples=0.5, max_features=0.5)\n",
<<<<<<< HEAD
<<<<<<< HEAD
    " \n",
=======
    "\n",
>>>>>>> 036367a6aad4a887a3d52b3cad2d170153f71140
=======
    " \n",
>>>>>>> d46954cd5e7783041a111cdd734fec00ff86db88
    "print \"KNN Score:\\t\", cross_val_score(knn, X, y, cv=5, n_jobs=-1).mean()\n",
    "print \"Bagging Score:\\t\", cross_val_score(bagging, X, y, cv=5, n_jobs=-1).mean()"
   ]
  },
  {
<<<<<<< HEAD
<<<<<<< HEAD
=======
>>>>>>> d46954cd5e7783041a111cdd734fec00ff86db88
   "cell_type": "code",
   "execution_count": null,
   "metadata": {
    "collapsed": true
   },
   "outputs": [],
   "source": []
  },
  {
<<<<<<< HEAD
=======
>>>>>>> 036367a6aad4a887a3d52b3cad2d170153f71140
=======
>>>>>>> d46954cd5e7783041a111cdd734fec00ff86db88
   "cell_type": "markdown",
   "metadata": {},
   "source": [
    "**Check**: Does bagging interfere with grid search? Are we leaking data and thus faking the cross val score?\n",
    "\n"
   ]
  },
  {
   "cell_type": "markdown",
   "metadata": {},
   "source": [
<<<<<<< HEAD
<<<<<<< HEAD
    "![answer2](../assets/images/check2-answer.png)\n",
    "../assets/data/car.csv"
=======
    "![answer2](../assets/images/check2-answer.png)"
>>>>>>> 036367a6aad4a887a3d52b3cad2d170153f71140
=======
    "![answer2](../assets/images/check2-answer.png)\n",
    "../assets/data/car.csv"
>>>>>>> d46954cd5e7783041a111cdd734fec00ff86db88
   ]
  },
  {
   "cell_type": "markdown",
   "metadata": {},
   "source": [
    "### Bagging Classifer details\n",
    "The BaggingClassifier meta-estimator has several parameters.\n",
    "\n",
    "**Check**: In pairs, look at the documentation for a detailed description of each and find out what ```python max_samples``` and ```python max_features``` do."
   ]
  },
  {
   "cell_type": "markdown",
   "metadata": {},
   "source": [
    "![answer3](../assets/images/check3-answer.png)"
   ]
  },
  {
   "cell_type": "markdown",
   "metadata": {},
   "source": [
    "### Of the Hypothesis Space problems we discussed earlier.  Which are solved by bagging?\n",
    "#### - Statistical?\n",
    "#### - Computational?\n",
    "#### - Representational?"
   ]
  },
  {
   "cell_type": "markdown",
   "metadata": {
    "collapsed": true
   },
   "source": [
    "### Questions from Class.\n",
    "\n",
    "\n",
    "\n"
   ]
  },
  {
   "cell_type": "markdown",
   "metadata": {},
   "source": [
    "\n"
   ]
  },
  {
   "cell_type": "markdown",
   "metadata": {},
   "source": [
    "#### Is it possible to create a model where the output is two independent features/Predictions.\n",
    "I don't think so.  While it is possible to use the same dataset with multiple y values it does not seem feasable to create a single model whose output is 2 separate predictive values because the model is based off a single algorithm and the coefficients have been weighted according to one predictor.  \n"
   ]
  },
  {
   "cell_type": "markdown",
   "metadata": {},
   "source": []
  },
  {
   "cell_type": "code",
   "execution_count": null,
   "metadata": {
    "collapsed": true
   },
   "outputs": [],
   "source": []
  }
 ],
 "metadata": {
  "anaconda-cloud": {},
  "kernelspec": {
<<<<<<< HEAD
<<<<<<< HEAD
   "display_name": "Python 2",
=======
   "display_name": "Python [default]",
>>>>>>> 036367a6aad4a887a3d52b3cad2d170153f71140
=======
   "display_name": "Python 2",
>>>>>>> d46954cd5e7783041a111cdd734fec00ff86db88
   "language": "python",
   "name": "python2"
  },
  "language_info": {
   "codemirror_mode": {
    "name": "ipython",
    "version": 2
   },
   "file_extension": ".py",
   "mimetype": "text/x-python",
   "name": "python",
   "nbconvert_exporter": "python",
   "pygments_lexer": "ipython2",
   "version": "2.7.12"
  }
 },
 "nbformat": 4,
 "nbformat_minor": 1
}
