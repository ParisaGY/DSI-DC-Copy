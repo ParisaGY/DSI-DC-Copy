{
 "cells": [
  {
   "cell_type": "markdown",
   "metadata": {},
   "source": [
    "# Monty Hall\n",
    "\n",
    "If you've ever heard of the \"Monty Hall Problem,\" it is a famous problem in statistics based on the game show \"Let's Make a Deal.\" (Monty Hall was the original host of this game show.) If you haven't heard of this game show, no worries.\n",
    "\n",
    "As part of \"Let's Make a Deal,\" there are three doors labeled \"A,\" \"B,\" and \"C.\" You are the contestant and are informed that behind exactly one door, there is a new car. Behind the other two doors are goats. Obviously, your goal as the contestant is to select the door with the car.\n",
    "\n",
    "The game goes as follows:\n",
    "1. You select a door.\n",
    "2. The game show host, knowing which door hides the car, opens one of the doors you do not select to reveal a goat. (Important: If you selected a door with a goat, the host picks the other door with a goat. If you started by selecting the door with the car, the host picks from the remaining two doors at random.)\n",
    "3. The host then asks you if you would like to stick with the door you originally picked, or if you would want to switch to the other remaining door."
   ]
  },
  {
   "cell_type": "markdown",
   "metadata": {},
   "source": [
    "Question 1: Suppose you pick a door. The host opens one of the remaining doors. You are then asked to stick with your original door or to switch to the remaining door. Based on your intuition, is it more advantageous to stick with your original door, to switch to the remaining door, or does your probability of success not change?"
   ]
  },
  {
   "cell_type": "code",
   "execution_count": null,
   "metadata": {
    "collapsed": true
   },
   "outputs": [],
   "source": [
    "## Answer 1: I choose to stick with my original door."
   ]
  },
  {
   "cell_type": "markdown",
   "metadata": {},
   "source": [
    "Now let's apply some Bayesian reasoning to this problem. Recall that the formula for Bayes' Rule, as applied to some data $y$ and an unknown parameter $\\theta$, is:\n",
    "\n",
    "$$P(\\theta|y) = \\frac{P(y|\\theta)P(\\theta)}{P(y)}$$\n",
    "\n",
    "Further recall that:\n",
    "- $P(\\theta)$ is the **prior probability** of $\\theta$.\n",
    "- $P(y|\\theta)$ is the **likelihood** of our data $y$ given $\\theta$.\n",
    "- $P(y)$ is the **marginal likelihood** of our data $y$.\n",
    "\n",
    "Our strategy here will be to find $P(\\theta|y)$ for $\\theta=A,B,C$ and decide which probability is highest."
   ]
  },
  {
   "cell_type": "markdown",
   "metadata": {},
   "source": [
    "For these scenarios, the data $y$ is that the host selects door B *and* that door B does not contain the car."
   ]
  },
  {
   "cell_type": "markdown",
   "metadata": {},
   "source": [
    "Question 2: Suppose you pick door A. The host opens door B to reveal a goat.\n",
    "\n",
    "For $P(\\theta=A|y=B)$, identify the prior $P(\\theta=A)$, the likelihood $P(y=B|\\theta=A)$, and the marginal likelihood $P(y=B)$. Then calculate the posterior $P(\\theta=A|y=B)$."
   ]
  },
  {
   "cell_type": "markdown",
   "metadata": {
    "collapsed": true
   },
   "source": [
    "#### Answer 2:\n",
    "#### y = B\n",
    "#### $\\theta$ =A,B,C "
   ]
  },
  {
   "cell_type": "code",
   "execution_count": null,
   "metadata": {
    "collapsed": true
   },
   "outputs": [],
   "source": [
    "## p(teta =A | y=B) = p(y=B | teta =A) . p (teta =A) / p(y=B)\n",
    "## (1/2*1/3)/(1/2)=1/3\n",
    "\n",
    "\n",
    "\n",
    "## p(y=B) = 1/2\n",
    "## p(teta =A) = 1/3\n",
    "## p(y=B | teta =A) =1/2"
   ]
  },
  {
   "cell_type": "markdown",
   "metadata": {},
   "source": [
    "Question 3: Is this surprising? Why or why not?"
   ]
  },
  {
   "cell_type": "code",
   "execution_count": null,
   "metadata": {
    "collapsed": true
   },
   "outputs": [],
   "source": [
    "## Answer 3: No.\n",
    "\n",
    "Under the standard assumptions, contestants who switch have a \n",
    "chance of winning the car, while contestants who stick to their initial choice have only a \n",
    "chance.\n"
   ]
  },
  {
   "cell_type": "markdown",
   "metadata": {},
   "source": [
    "Question 4: Suppose you pick door A. The host opens door B to reveal a goat.\n",
    "\n",
    "For $P(\\theta=B|y=B)$, identify the prior $P(\\theta=B)$, the likelihood $P(y=B|\\theta=B)$, and the marginal likelihood $P(y=B)$. Then calculate the posterior $P(\\theta=B|y=B)$."
   ]
  },
  {
   "cell_type": "code",
   "execution_count": 8,
   "metadata": {
    "collapsed": false
   },
   "outputs": [
    {
     "data": {
      "text/plain": [
       "0.037037037037037035"
      ]
     },
     "execution_count": 8,
     "metadata": {},
     "output_type": "execute_result"
    }
   ],
   "source": [
    "## p(teta =B | y=B) = p(y=B | teta =B) . p (teta =B) / p(y=B)\n",
    "## (0*1/3)/(1/2)=0\n",
    "\n",
    "\n",
    "\n",
    "## p(y=B) = 1/2\n",
    "## p(teta =B) = 1/3\n",
    "## p(y=B | teta =B) =0"
   ]
  },
  {
   "cell_type": "code",
   "execution_count": null,
   "metadata": {
    "collapsed": true
   },
   "outputs": [],
   "source": []
  },
  {
   "cell_type": "code",
   "execution_count": null,
   "metadata": {
    "collapsed": true
   },
   "outputs": [],
   "source": []
  },
  {
   "cell_type": "markdown",
   "metadata": {},
   "source": [
    "Question 5: Is this surprising? Why or why not?"
   ]
  },
  {
   "cell_type": "code",
   "execution_count": null,
   "metadata": {
    "collapsed": true
   },
   "outputs": [],
   "source": [
    "## Answer 5: ## it, the probability that the car is behind door B is 0."
   ]
  },
  {
   "cell_type": "markdown",
   "metadata": {},
   "source": [
    "Question 6: Suppose you pick door A. The host opens door B to reveal a goat.\n",
    "\n",
    "For $P(\\theta=C|y)$, identify the prior $P(\\theta=C)$, the likelihood $P(y|\\theta=C)$, and the marginal likelihood $P(y)$. Then calculate the posterior $P(\\theta=C|y)$."
   ]
  },
  {
   "cell_type": "code",
   "execution_count": null,
   "metadata": {
    "collapsed": true
   },
   "outputs": [],
   "source": [
    "## p(teta =C | y=B) = p(y=B | teta =C) . p (teta =C) / p(y=B)\n",
    "## (1*1/3)/(1/2)=2/3\n",
    "\n",
    "\n",
    "\n",
    "## p(y=B) = 1/2\n",
    "## p(teta =C) = 1/3\n",
    "## p(y=B | teta =C) =1"
   ]
  },
  {
   "cell_type": "markdown",
   "metadata": {},
   "source": [
    "Question 7: Is this surprising? Why or why not?"
   ]
  },
  {
   "cell_type": "code",
   "execution_count": null,
   "metadata": {
    "collapsed": true
   },
   "outputs": [],
   "source": [
    "## Answer 7: Yes. It shows if we switch the door the chance increase."
   ]
  },
  {
   "cell_type": "markdown",
   "metadata": {},
   "source": [
    "Question 8: Build a function called lets_make_a_deal that runs the Let's Make a Deal game by taking:\n",
    "- 'A', 'B', or 'C' as the input for the door\n",
    "- 'K' or 'S' as the input indicating \"keep\" or \"switch\" when asked\n",
    "\n",
    "The function should return:\n",
    "- 'win' if the contestant won.\n",
    "- 'lose' if the contestant lost.\n",
    "\n",
    "Note that you'll need to make sure that, before anything else, the computer selects a random entry."
   ]
  },
  {
   "cell_type": "code",
   "execution_count": 3,
   "metadata": {
    "collapsed": true
   },
   "outputs": [],
   "source": [
    "## Answer 8: \n",
    "import random \n",
    "def lets_make_a_deal(door,choice):\n",
    "    doors = ['A','B','C'] ## Set up our possible doors.\n",
    "    choices = ['No-switch','Switch'] ## Set up our possible choices: K = keep, S = switch.\n",
    "    car = random.choice(doors) ## Selects which door will have the car.\n",
    "    if door in doors and choice in choices: ## Ensures our inputs are valid.\n",
    "        if door == car and choice == 'No-switch': ## Chose correctly on first guess and kept first guess --> win.\n",
    "            return \"win\"\n",
    "        elif door != car and choice == 'switch': ## Chose incorrectly on first guess, switched to remaining option --> win.\n",
    "            return \"win\"\n",
    "        else: ## Chose correctly, then switched OR chose incorrectly, then kept --> lose.\n",
    "            return \"lose\"\n",
    "    else: ## If inputs are invalid, try again.\n",
    "        return \"Try again.\""
   ]
  },
  {
   "cell_type": "markdown",
   "metadata": {},
   "source": [
    "Question 9: Simulate 10,000 games where the person always switched. Report your results."
   ]
  },
  {
   "cell_type": "code",
   "execution_count": 4,
   "metadata": {
    "collapsed": false
   },
   "outputs": [
    {
     "data": {
      "text/plain": [
       "Counter({'lose': 10000})"
      ]
     },
     "execution_count": 4,
     "metadata": {},
     "output_type": "execute_result"
    }
   ],
   "source": [
    "## Answer 9:\n",
    "results = [] ## Set up empty list named \"results.\"\n",
    "for i in range(10000): ## 10,000 games.\n",
    "    results.append(lets_make_a_deal(random.choice(['A','B','C']),'Switch')) ## Append outcome of game to list \"results.\"\n",
    "    ## Note that we are randomly selecting 'A,' 'B,' or 'C.' You're welcome to try these results for just manually\n",
    "    ## selecting one option to be chosen for each attempt.\n",
    "\n",
    "from collections import Counter ## Allows us to use Counter() function below.\n",
    "Counter(results) ## Prints dictionary summarizing list \"results.\""
   ]
  },
  {
   "cell_type": "code",
   "execution_count": null,
   "metadata": {
    "collapsed": true
   },
   "outputs": [],
   "source": []
  }
 ],
 "metadata": {
  "anaconda-cloud": {},
  "kernelspec": {
   "display_name": "Python [conda env:py27]",
   "language": "python",
   "name": "conda-env-py27-py"
  },
  "language_info": {
   "codemirror_mode": {
    "name": "ipython",
    "version": 2
   },
   "file_extension": ".py",
   "mimetype": "text/x-python",
   "name": "python",
   "nbconvert_exporter": "python",
   "pygments_lexer": "ipython2",
   "version": "2.7.12"
  }
 },
 "nbformat": 4,
 "nbformat_minor": 1
}
