{
 "cells": [
  {
   "cell_type": "markdown",
   "metadata": {},
   "source": [
    "## Introduction\n",
    "\n",
    "Now that we've discussed A/B testing, we're going to walk through a business case. Get ready to optimize!\n",
    "\n",
    "You've recently started your own business, Your Name Here Corp. (aka YNHC). As head Data Scientist, your first goal is to get your sales conversion rate high enough to make some money, and gather enough data to build useful models.\n",
    "\n",
    "In this lab, you will be expected to design and analyze an A/B test. At the end you will need to deliver a short stakeholder presentation outlining your test design, findings, and next steps."
   ]
  },
  {
   "cell_type": "code",
   "execution_count": null,
   "metadata": {
    "collapsed": true
   },
   "outputs": [],
   "source": []
  },
  {
   "cell_type": "markdown",
   "metadata": {},
   "source": [
    "## Requirements\n",
    "\n",
    "+ Design an A/B test to optimize conversions on YNHC.com\n",
    "+ Analyze the (simulated) test results to determine a winning variant\n",
    "+ Create a stakeholders presentation describing design, analysis, and next steps\n",
    "\n",
    "Bonus:\n",
    "\n",
    "+ Perform the same analysis on [this dataset](./CTR_Sim.csv) used in week 8 (use the weekend/week delineation as your different variants)\n",
    "+ Create a proposal for a Multi-Variate test on YNHC.com"
   ]
  },
  {
   "cell_type": "code",
   "execution_count": null,
   "metadata": {
    "collapsed": true
   },
   "outputs": [],
   "source": []
  },
  {
   "cell_type": "markdown",
   "metadata": {},
   "source": [
    "## Part 1: Design\n",
    "\n",
    "For this section you'll be asked to design an A/B test. The process of designing a test like this requires business decisions. Be creative- feel free to fill in the blanks, creating an identity for Your Name Here Corp. The brand identity and subsequent customer base will help decide which elements you wish to test and how you will design your test variant. This will involve the following:\n",
    "\n",
    "\n",
    "\n",
    "\n"
   ]
  },
  {
   "cell_type": "markdown",
   "metadata": {},
   "source": [
    "#### 1.  Decide on an element you wish to change, and explain why you think it will lead to a higher conversion rate. You will be expected to create 2 variants to test.\n",
    "\n",
    "_As an online retailer, we are experimenting with using target advertisement on our landing page as opposed to our normal advertisement consisting of 'Daily Deals'. We believe that advertising items that are more relevant to specific users will cause more conversions as individuals are more likely to buy something that is relevent to them as opposed to something that has a price drop but is not as relevant._\n",
    "_There will be 2 separate landing pages to test._\n",
    ">- _a.)One with 'Daily Deals' advertisement._\n",
    ">- _b.)One with targeted advertisement._"
   ]
  },
  {
   "cell_type": "markdown",
   "metadata": {},
   "source": [
    "#### 2.  Create a chart like the one below to display the variants under test."
   ]
  },
  {
   "cell_type": "code",
   "execution_count": 1,
   "metadata": {
    "collapsed": false
   },
   "outputs": [
    {
     "data": {
      "text/html": [
       "<div>\n",
       "<table border=\"1\" class=\"dataframe\">\n",
       "  <thead>\n",
       "    <tr style=\"text-align: right;\">\n",
       "      <th></th>\n",
       "      <th>conversions</th>\n",
       "      <th>lands</th>\n",
       "      <th>targeted</th>\n",
       "      <th>conversion_ratio</th>\n",
       "    </tr>\n",
       "  </thead>\n",
       "  <tbody>\n",
       "    <tr>\n",
       "      <th>1</th>\n",
       "      <td>11</td>\n",
       "      <td>19</td>\n",
       "      <td>0</td>\n",
       "      <td>0.58</td>\n",
       "    </tr>\n",
       "    <tr>\n",
       "      <th>2</th>\n",
       "      <td>10</td>\n",
       "      <td>20</td>\n",
       "      <td>0</td>\n",
       "      <td>0.50</td>\n",
       "    </tr>\n",
       "    <tr>\n",
       "      <th>3</th>\n",
       "      <td>11</td>\n",
       "      <td>17</td>\n",
       "      <td>0</td>\n",
       "      <td>0.65</td>\n",
       "    </tr>\n",
       "  </tbody>\n",
       "</table>\n",
       "</div>"
      ],
      "text/plain": [
       "   conversions  lands  targeted  conversion_ratio\n",
       "1           11     19         0              0.58\n",
       "2           10     20         0              0.50\n",
       "3           11     17         0              0.65"
      ]
     },
     "execution_count": 1,
     "metadata": {},
     "output_type": "execute_result"
    }
   ],
   "source": [
    "# Usual import block\n",
    "import numpy as np\n",
    "import scipy.stats as stats\n",
    "import pylab as pl\n",
    "import matplotlib.pyplot as plt\n",
    "%matplotlib inline\n",
    "import pandas as pd\n",
    "\n",
    "#renamed the data when I imported it to reflect my A/B test\n",
    "cols = ['conversions','lands','targeted']\n",
    "# Targeted column is a boolean to represent if targeted ads were run or not.  1:True, they were run, 0:False, they were not\n",
    "ctr = pd.read_csv('CTR_sim.csv',names =cols )\n",
    "#get rid of those old column names that become column 1\n",
    "ctr.drop(labels = 0, inplace = True)\n",
    "\n",
    "# Because they became object columns because of the original labels i need to re-numeric them.\n",
    "ctr[['conversions','lands','targeted']] = ctr[['conversions','lands','targeted']].apply(pd.to_numeric)\n",
    "\n",
    "# Since conversions and lands can vary across days I'm going to create a conversion ratio column.\n",
    "ctr['conversion_ratio']= (ctr['conversions']/ctr['lands']).round(2)\n",
    "\n",
    "\n",
    "ctr.head(3)"
   ]
  },
  {
   "cell_type": "code",
   "execution_count": 2,
   "metadata": {
    "collapsed": false
   },
   "outputs": [
    {
     "data": {
      "image/png": "[encoded data removed]",
      "text/plain": [
       "<matplotlib.figure.Figure at 0x114cb1f10>"
      ]
     },
     "metadata": {},
     "output_type": "display_data"
    }
   ],
   "source": [
    "# Splitting my data up to graph it\n",
    "target = ctr[['conversions','lands','conversion_ratio']].where(ctr['targeted']==1)\n",
    "target.dropna(inplace = True)\n",
    "target.reset_index(inplace = True)\n",
    "\n",
    "b_deals = ctr[['conversions','lands','conversion_ratio']].where(ctr['targeted']==0)\n",
    "b_deals.dropna(inplace=True)\n",
    "b_deals.reset_index(inplace = True)\n",
    "\n",
    "# As T tests run best with equal sample sizes im dropping rows to make samples even.\n",
    "# Also my hypethetical test was equally balanced in that Targeted and Non-Targeted ads were run an equal number of times.\n",
    "b_deals.drop(b_deals.index[285:], inplace = True)\n",
    "\n",
    "import seaborn as sns\n",
    "# In Blue: Distribution of Conversion Ratios with Targeted Ads\n",
    "sns.distplot(target['conversion_ratio'], bins = 15)\n",
    "# In Green: Distribution of Conversion Ratios with Daily Deals Ads\n",
    "sns.distplot(b_deals['conversion_ratio'], bins = 13)\n",
    "plt.show()\n",
    "# I changed my bin numbers so that the bins had a relatively equal size, \n",
    "# *sigh* I wish bin_size was a argument...\n"
   ]
  },
  {
   "cell_type": "markdown",
   "metadata": {},
   "source": [
    "these distributions definitely look different."
   ]
  },
  {
   "cell_type": "markdown",
   "metadata": {},
   "source": [
    "#### 3.  Once completed, report in to your instructor. He will provide your test results for analysis."
   ]
  },
  {
   "cell_type": "markdown",
   "metadata": {},
   "source": [
    "I AM THE INSTRUCTOR"
   ]
  },
  {
   "cell_type": "markdown",
   "metadata": {},
   "source": [
    "## Part 2: Analysis\n",
    "\n",
    "Now that you've recieved your group's unique set of test results, you're ready to analyse. Using the skills covered in the last lesson, as well as some techniques covered in the last few weeks, produce a full analysis of your test results. In either an ipython notebook or an Excel spreadsheet, perform your analysis with complete documentation. This will be a part of your final deliverable.\n"
   ]
  },
  {
   "cell_type": "code",
   "execution_count": 3,
   "metadata": {
    "collapsed": false
   },
   "outputs": [],
   "source": [
    "# Imports if you only care about the AB Testing\n",
    "import numpy as np\n",
    "import scipy.stats as stats\n",
    "import pylab as pl\n",
    "%matplotlib inline\n",
    "\n",
    "a = b_deals['conversion_ratio']\n",
    "b = target['conversion_ratio']\n",
    "\n"
   ]
  },
  {
   "cell_type": "code",
   "execution_count": 4,
   "metadata": {
    "collapsed": false
   },
   "outputs": [
    {
     "data": {
      "text/plain": [
       "Ttest_indResult(statistic=20.029782453714503, pvalue=6.4497970263561775e-68)"
      ]
     },
     "execution_count": 4,
     "metadata": {},
     "output_type": "execute_result"
    }
   ],
   "source": [
    "stats.ttest_ind(b, a)\n",
    "\n",
    "\n",
    "# a,b caused a negative t-value\n",
    "\n"
   ]
  },
  {
   "cell_type": "markdown",
   "metadata": {},
   "source": [
    "![](t-values.png)"
   ]
  },
  {
   "cell_type": "markdown",
   "metadata": {},
   "source": [
    "**Degrees of freedom** are often broadly defined as the number of \"observations\" (pieces of information) in the data that are free to vary when estimating statistical parameters.\n",
    "I Think what this means is \" How many observations from our dataset are we ok with being a little off\".\n",
    "Low degrees of freedom implys that we are not ok with many observations varying, being that we believe that a low sample size can be representative of the population.  Such as if we're calculating a mean.  \n",
    "\n",
    "**P-Value**\n",
    "As the P-Value is (significantly) less than than 0.01 we can conclude with 99% confidence that the two samples did not come from the same population and thus there is a signification difference between A and B.  In other words, Having targeted ads on the landing page does result in higher conversion rates as opposed to the default landing page.\n",
    "\n",
    "**T-Score Statistic**\n",
    "The T-Value (20.029) is way above the range of Critical T-Values (Apart from when the Degrees of Freedom =1), this can also be used as a indicator that the there is a significant difference between A and B"
   ]
  },
  {
   "cell_type": "markdown",
   "metadata": {},
   "source": [
    "## Part 3: Deliverable\n",
    "\n",
    "In a markdown cell in your Jupyter notebook, describe your test design, the results, and analysis.\n",
    "\n",
    "The first part of your stakeholder's discussion will cover the design decisions made. Include any descriptions of the decisions made while designing the test. This section should answer questions such as:\n",
    "\n",
    "The second portion of your results should cover the results of your analysis. You should explain which tests you used, what they told you, and what you believe the best next steps are for YNHC.com.\n",
    "\n",
    "Which variant won?\n",
    "+ Based on the analysis done, what is your level of confidence in the results?\n",
    "+ How can these results inform business decisions?\n",
    "+ The final portion of your write-up should include a proposal for a future test. This one will be a Multi-Variate test. Include test design, description of potential benefits, and discussion about challenges in analysing the test's results."
   ]
  },
  {
   "cell_type": "code",
   "execution_count": null,
   "metadata": {
    "collapsed": true
   },
   "outputs": [],
   "source": []
  },
  {
   "cell_type": "markdown",
   "metadata": {},
   "source": [
    "According to our T-Test, having Targeted ads on our landing page creates a statistically significant increase in conversion rate.  I can say this with a 99% level of confidence.  \n",
    ">\"What does that mean?\" you may ask.\n",
    "\n",
    "Basically, I'm saying that if we ran this test 100 times over.  99 of 100 would come to the same conclussion that the Targeted Ads result in a better conversion rate than our current landing page.\n",
    "\n",
    "Going forward I am wondering if there is a way the we can have daily deal targeted ads.  If we develop a light algorith for targeting that can be quickly applied daily I would like to test if this would result in significantly higher conversion rates as well.  In this test, I would like to test a third variable being that It is possible that users may find ads on the landing page a nussance and I would also like to test the significance of not having any at all."
   ]
  },
  {
   "cell_type": "raw",
   "metadata": {},
   "source": []
  }
 ],
 "metadata": {
  "anaconda-cloud": {},
  "kernelspec": {
   "display_name": "Python 2",
   "language": "python",
   "name": "python2"
  },
  "language_info": {
   "codemirror_mode": {
    "name": "ipython",
    "version": 2
   },
   "file_extension": ".py",
   "mimetype": "text/x-python",
   "name": "python",
   "nbconvert_exporter": "python",
   "pygments_lexer": "ipython2",
   "version": "2.7.12"
  }
 },
 "nbformat": 4,
 "nbformat_minor": 1
}
