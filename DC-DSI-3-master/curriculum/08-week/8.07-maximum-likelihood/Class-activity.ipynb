{
 "cells": [
  {
   "cell_type": "code",
   "execution_count": 1,
   "metadata": {
    "collapsed": false
   },
   "outputs": [
    {
     "name": "stdout",
     "output_type": "stream",
     "text": [
      "Couldn't import dot_parser, loading of dot files will not be possible.\n",
      "Optimization terminated successfully.\n",
      "         Current function value: -16.268056\n",
      "         Iterations: 25\n",
      "         Function evaluations: 35\n",
      "         Gradient evaluations: 33\n",
      " fit_time: 0.03827199999999964\n",
      "      fun: -16.268055983356838\n",
      " hess_inv: array([[  2.70740442e-04,   5.64643465e-06,  -3.63733755e-06],\n",
      "       [  5.64643465e-06,   1.55620029e-03,  -1.54765235e-03],\n",
      "       [ -3.63733755e-06,  -1.54765235e-03,   2.09173517e-03]])\n",
      "      jac: array([ -1.02132412e-06,   5.30045738e-08,  -2.20204101e-08])\n",
      "  message: 'Optimization terminated successfully.'\n",
      "     nfev: 35\n",
      "      nit: 25\n",
      "     njev: 33\n",
      "   status: 0\n",
      "  success: True\n",
      "        x: {'a': 0.50326102095408443, 'b': 0.26183473637200916, 'sigma': 0.10727696454430381}\n"
     ]
    }
   ],
   "source": [
    "import numpy as np\n",
    "import mle\n",
    "\n",
    "# Define model\n",
    "x = mle.var('x', observed=True, vector=True)\n",
    "y = mle.var('y', observed=True, vector=True)\n",
    "\n",
    "a = mle.var('a')\n",
    "b = mle.var('b')\n",
    "sigma = mle.var('sigma')\n",
    "\n",
    "model = mle.Normal(y, a * x + b, sigma)\n",
    "\n",
    "# Generate data\n",
    "xs = np.linspace(0, 2, 20)\n",
    "ys = 0.5 * xs + 0.3 + np.random.normal(0, 0.1, 20)\n",
    "\n",
    "# Fit model to data\n",
    "result = model.fit({'x': xs, 'y': ys}, {'a': 1, 'b': 1, 'sigma': 1})\n",
    "print(result)"
   ]
  },
  {
   "cell_type": "code",
   "execution_count": null,
   "metadata": {
    "collapsed": true
   },
   "outputs": [],
   "source": []
  },
  {
   "cell_type": "code",
   "execution_count": null,
   "metadata": {
    "collapsed": true
   },
   "outputs": [],
   "source": []
  },
  {
   "cell_type": "code",
   "execution_count": null,
   "metadata": {
    "collapsed": true
   },
   "outputs": [],
   "source": []
  },
  {
   "cell_type": "code",
   "execution_count": null,
   "metadata": {
    "collapsed": true
   },
   "outputs": [],
   "source": []
  },
  {
   "cell_type": "code",
   "execution_count": null,
   "metadata": {
    "collapsed": true
   },
   "outputs": [],
   "source": []
  },
  {
   "cell_type": "code",
   "execution_count": null,
   "metadata": {
    "collapsed": true
   },
   "outputs": [],
   "source": []
  },
  {
   "cell_type": "code",
   "execution_count": null,
   "metadata": {
    "collapsed": true
   },
   "outputs": [],
   "source": []
  },
  {
   "cell_type": "code",
   "execution_count": null,
   "metadata": {
    "collapsed": true
   },
   "outputs": [],
   "source": []
  },
  {
   "cell_type": "code",
   "execution_count": null,
   "metadata": {
    "collapsed": true
   },
   "outputs": [],
   "source": []
  }
 ],
 "metadata": {
  "anaconda-cloud": {},
  "kernelspec": {
   "display_name": "Python [conda env:py27]",
   "language": "python",
   "name": "conda-env-py27-py"
  },
  "language_info": {
   "codemirror_mode": {
    "name": "ipython",
    "version": 2
   },
   "file_extension": ".py",
   "mimetype": "text/x-python",
   "name": "python",
   "nbconvert_exporter": "python",
   "pygments_lexer": "ipython2",
   "version": "2.7.12"
  }
 },
 "nbformat": 4,
 "nbformat_minor": 1
}
