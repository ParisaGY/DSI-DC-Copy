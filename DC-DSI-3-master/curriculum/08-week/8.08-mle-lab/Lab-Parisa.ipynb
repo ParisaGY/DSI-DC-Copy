{
 "cells": [
  {
   "cell_type": "markdown",
   "metadata": {},
   "source": [
    "## 1. Run the code from the readme here: https://github.com/ibab/python-mle. Did your optimization terminate successfully? What are the values of a, b, and sigma you got? How would you interpret these?\n"
   ]
  },
  {
   "cell_type": "code",
   "execution_count": null,
   "metadata": {
    "collapsed": true
   },
   "outputs": [],
   "source": [
    "## Optimization terminated successfully.\n",
    "## 'a': 0.48787552532135359, 'b': 0.26514097710318818, 'sigma': 0.079948365265365334"
   ]
  },
  {
   "cell_type": "code",
   "execution_count": 4,
   "metadata": {
    "collapsed": false
   },
   "outputs": [
    {
     "name": "stdout",
     "output_type": "stream",
     "text": [
      "Optimization terminated successfully.\n",
      "         Current function value: -15.128218\n",
      "         Iterations: 27\n",
      "         Function evaluations: 37\n",
      "         Gradient evaluations: 35\n",
      " fit_time: 0.008620000000000516\n",
      "      fun: -15.128218313776426\n",
      " hess_inv: array([[  2.97137604e-04,   1.65277670e-06,  -2.47008327e-05],\n",
      "       [  1.65277670e-06,   1.75028042e-03,  -1.74964538e-03],\n",
      "       [ -2.47008327e-05,  -1.74964538e-03,   2.34421531e-03]])\n",
      "      jac: array([ -2.31597829e-06,  -1.54452964e-06,  -1.56667029e-06])\n",
      "  message: 'Optimization terminated successfully.'\n",
      "     nfev: 37\n",
      "      nit: 27\n",
      "     njev: 35\n",
      "   status: 0\n",
      "  success: True\n",
      "        x: {'a': 0.54449032272500009, 'b': 0.27466917217023817, 'sigma': 0.11356845961619144}\n"
     ]
    }
   ],
   "source": [
    "import numpy as np\n",
    "import mle\n",
    "import pydot\n",
    "\n",
    "# Define model\n",
    "x = mle.var('x', observed=True, vector=True)\n",
    "y = mle.var('y', observed=True, vector=True)\n",
    "\n",
    "a = mle.var('a')\n",
    "b = mle.var('b')\n",
    "sigma = mle.var('sigma')\n",
    "\n",
    "model = mle.Normal(y, a * x + b, sigma)\n",
    "\n",
    "# Generate data\n",
    "xs = np.linspace(0, 2, 20)\n",
    "ys = 0.5 * xs + 0.3 + np.random.normal(0, 0.1, 20)\n",
    "\n",
    "# Fit model to data\n",
    "result = model.fit({'x': xs, 'y': ys}, {'a': 1, 'b': 1, 'sigma': 1})\n",
    "print(result)"
   ]
  },
  {
   "cell_type": "markdown",
   "metadata": {},
   "source": [
    "## 2. Expand upon this. Generate more variables with wider ranges. What do you notice about a, b, sigma, and any additional parameters you've created?\n"
   ]
  },
  {
   "cell_type": "code",
   "execution_count": null,
   "metadata": {
    "collapsed": true
   },
   "outputs": [],
   "source": []
  },
  {
   "cell_type": "code",
   "execution_count": null,
   "metadata": {
    "collapsed": true
   },
   "outputs": [],
   "source": []
  },
  {
   "cell_type": "code",
   "execution_count": null,
   "metadata": {
    "collapsed": true
   },
   "outputs": [],
   "source": []
  },
  {
   "cell_type": "code",
   "execution_count": null,
   "metadata": {
    "collapsed": true
   },
   "outputs": [],
   "source": []
  },
  {
   "cell_type": "code",
   "execution_count": null,
   "metadata": {
    "collapsed": true
   },
   "outputs": [],
   "source": []
  }
 ],
 "metadata": {
  "kernelspec": {
   "display_name": "Python [conda env:py27]",
   "language": "python",
   "name": "conda-env-py27-py"
  },
  "language_info": {
   "codemirror_mode": {
    "name": "ipython",
    "version": 2
   },
   "file_extension": ".py",
   "mimetype": "text/x-python",
   "name": "python",
   "nbconvert_exporter": "python",
   "pygments_lexer": "ipython2",
   "version": "2.7.12"
  }
 },
 "nbformat": 4,
 "nbformat_minor": 1
}
