{
 "cells": [
  {
   "cell_type": "code",
   "execution_count": null,
   "metadata": {
    "collapsed": true
   },
   "outputs": [],
   "source": [
    "## Our goal is to be able to impute missing data properly.\n",
    "\n",
    "## Deductive Imputation\n",
    "## Mean/Median/Mode Imputation\n",
    "## Regression Imputation\n",
    "## Stochastic Regression Imputation\n",
    "## Multiply-Stochastic Regression Imputation\n",
    "## Proper Multiply-Stochastic Regression Imputation"
   ]
  },
  {
   "cell_type": "code",
   "execution_count": null,
   "metadata": {
    "collapsed": true
   },
   "outputs": [],
   "source": [
    "def deductive_imputation():\n",
    "    for i in len(df):\n",
    "        if df['violent_crime'] == '':\n",
    "            if df['crime'][i] == 0:\n",
    "                df['violent_crime'][i] == 0"
   ]
  },
  {
   "cell_type": "code",
   "execution_count": null,
   "metadata": {
    "collapsed": true
   },
   "outputs": [],
   "source": [
    "def mean_imputation(df):\n",
    "    for col in df.columns:\n",
    "        for i in len(df):\n",
    "            if df[col][i] == '':\n",
    "                df[col][i] = df.col.mean()"
   ]
  },
  {
   "cell_type": "code",
   "execution_count": 1,
   "metadata": {
    "collapsed": false
   },
   "outputs": [
    {
     "ename": "SyntaxError",
     "evalue": "unexpected EOF while parsing (<ipython-input-1-cd43a2c80989>, line 1)",
     "output_type": "error",
     "traceback": [
      "\u001b[0;36m  File \u001b[0;32m\"<ipython-input-1-cd43a2c80989>\"\u001b[0;36m, line \u001b[0;32m1\u001b[0m\n\u001b[0;31m    def regression_imputation(col):\u001b[0m\n\u001b[0m                                   ^\u001b[0m\n\u001b[0;31mSyntaxError\u001b[0m\u001b[0;31m:\u001b[0m unexpected EOF while parsing\n"
     ]
    }
   ],
   "source": [
    "## Note: Here we are going to impute for only one column!\n",
    "\n",
    "variables = [[x1,x2,x3]]\n",
    "\n",
    "def regression_imputation(col,variables):\n",
    "    lm = LinearRegression()\n",
    "    ## set up linear model here\n",
    "    ## make sure that you use your observed data only!!\n",
    "    for i in len(col):\n",
    "        if col[i] == '':\n",
    "            col[i] = lm.predict(df[variables][i])"
   ]
  },
  {
   "cell_type": "code",
   "execution_count": null,
   "metadata": {
    "collapsed": true
   },
   "outputs": [],
   "source": [
    "## Note: Here we are going to impute for only one column!\n",
    "\n",
    "variables = [[x1,x2,x3]]\n",
    "\n",
    "def stochastic_regression_imputation(col,variables):\n",
    "    lm = LinearRegression()\n",
    "    ## set up linear model here\n",
    "    ## make sure that you use your observed data only!!\n",
    "    for i in len(col):\n",
    "        if col[i] == '':\n",
    "            col[i] = lm.predict(df[variables][i]) + np.random.normal(0,np.std(col,ddof=1))"
   ]
  },
  {
   "cell_type": "code",
   "execution_count": null,
   "metadata": {
    "collapsed": true
   },
   "outputs": [],
   "source": []
  },
  {
   "cell_type": "code",
   "execution_count": null,
   "metadata": {
    "collapsed": true
   },
   "outputs": [],
   "source": []
  }
 ],
 "metadata": {
  "anaconda-cloud": {},
  "kernelspec": {
   "display_name": "Python [conda env:py27]",
   "language": "python",
   "name": "conda-env-py27-py"
  },
  "language_info": {
   "codemirror_mode": {
    "name": "ipython",
    "version": 2
   },
   "file_extension": ".py",
   "mimetype": "text/x-python",
   "name": "python",
   "nbconvert_exporter": "python",
   "pygments_lexer": "ipython2",
   "version": "2.7.12"
  }
 },
 "nbformat": 4,
 "nbformat_minor": 1
}
