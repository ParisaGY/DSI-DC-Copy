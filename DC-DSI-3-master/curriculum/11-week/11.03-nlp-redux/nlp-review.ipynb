{
 "cells": [
  {
   "cell_type": "markdown",
   "metadata": {},
   "source": [
    "# Natural Language Processing (NLP)"
   ]
  },
  {
   "cell_type": "markdown",
   "metadata": {},
   "source": [
    "## Introduction\n",
    "\n",
    "\n",
    "*Adapted from [NLP Crash Course](http://files.meetup.com/7616132/DC-NLP-2013-09%20Charlie%20Greenbacker.pdf) by Charlie Greenbacker, [Introduction to NLP](http://spark-public.s3.amazonaws.com/nlp/slides/intro.pdf) by Dan Jurafsky, Kevin Markham's Data School Curriculum*"
   ]
  },
  {
   "cell_type": "markdown",
   "metadata": {},
   "source": [
    "### What is NLP?\n",
    "\n",
    "- Using computers to process (analyze, understand, generate) natural human languages\n",
    "- Most knowledge created by humans is unstructured text, and we need a way to make sense of it\n",
    "- Build probabilistic model using data about a language"
   ]
  },
  {
   "cell_type": "markdown",
   "metadata": {},
   "source": [
    "### What are some of the higher level task areas?\n",
    "\n",
    "- **Information retrieval**: Find relevant results and similar results\n",
    "    - [Google](https://www.google.com/)\n",
    "- **Information extraction**: Structured information from unstructured documents\n",
    "    - [Events from Gmail](https://support.google.com/calendar/answer/6084018?hl=en)\n",
    "- **Machine translation**: One language to another\n",
    "    - [Google Translate](https://translate.google.com/)\n",
    "- **Text simplification**: Preserve the meaning of text, but simplify the grammar and vocabulary\n",
    "    - [Rewordify](https://rewordify.com/)\n",
    "    - [Simple English Wikipedia](https://simple.wikipedia.org/wiki/Main_Page)\n",
    "- **Predictive text input**: Faster or easier typing\n",
    "    - [My application](https://justmarkham.shinyapps.io/textprediction/)\n",
    "    - [A much better application](https://farsite.shinyapps.io/swiftkey-cap/)\n",
    "- **Sentiment analysis**: Attitude of speaker\n",
    "    - [Hater News](http://haternews.herokuapp.com/)\n",
    "- **Automatic summarization**: Extractive or abstractive summarization\n",
    "    - [autotldr](https://www.reddit.com/r/technology/comments/35brc8/21_million_people_still_use_aol_dialup/cr2zzj0)\n",
    "- **Natural Language Generation**: Generate text from data\n",
    "    - [How a computer describes a sports match](http://www.bbc.com/news/technology-34204052)\n",
    "    - [Publishers withdraw more than 120 gibberish papers](http://www.nature.com/news/publishers-withdraw-more-than-120-gibberish-papers-1.14763)\n",
    "- **Speech recognition and generation**: Speech-to-text, text-to-speech\n",
    "    - [Google's Web Speech API demo](https://www.google.com/intl/en/chrome/demos/speech.html)\n",
    "    - [Vocalware Text-to-Speech demo](https://www.vocalware.com/index/demo)\n",
    "- **Question answering**: Determine the intent of the question, match query with knowledge base, evaluate hypotheses\n",
    "    - [How did supercomputer Watson beat Jeopardy champion Ken Jennings?](http://blog.ted.com/how-did-supercomputer-watson-beat-jeopardy-champion-ken-jennings-experts-discuss/)\n",
    "    - [IBM's Watson Trivia Challenge](http://www.nytimes.com/interactive/2010/06/16/magazine/watson-trivia-game.html)\n",
    "    - [The AI Behind Watson](http://www.aaai.org/Magazine/Watson/watson.php)"
   ]
  },
  {
   "cell_type": "markdown",
   "metadata": {},
   "source": [
    "### What are some of the lower level components?\n",
    "\n",
    "- **Tokenization**: breaking text into tokens (words, sentences, n-grams)\n",
    "- **Stopword removal**: a/an/the\n",
    "- **Stemming and lemmatization**: root word\n",
    "- **TF-IDF**: word importance\n",
    "- **Part-of-speech tagging**: noun/verb/adjective\n",
    "- **Named entity recognition**: person/organization/location\n",
    "- **Spelling correction**: \"New Yrok City\"\n",
    "- **Word sense disambiguation**: \"buy a mouse\"\n",
    "- **Segmentation**: \"New York City subway\"\n",
    "- **Language detection**: \"translate this page\"\n",
    "- **Machine learning**"
   ]
  },
  {
   "cell_type": "markdown",
   "metadata": {},
   "source": [
    "### Why is NLP hard?\n",
    "\n",
    "- **Ambiguity**:\n",
    "    - Hospitals are Sued by 7 Foot Doctors\n",
    "    - Juvenile Court to Try Shooting Defendant\n",
    "    - Local High School Dropouts Cut in Half\n",
    "- **Non-standard English**: text messages\n",
    "- **Idioms**: \"throw in the towel\"\n",
    "- **Newly coined words**: \"retweet\"\n",
    "- **Tricky entity names**: \"Where is A Bug's Life playing?\"\n",
    "- **World knowledge**: \"Mary and Sue are sisters\", \"Mary and Sue are mothers\"\n",
    "\n",
    "NLP requires an understanding of the **language** and the **world**."
   ]
  },
  {
   "cell_type": "markdown",
   "metadata": {},
   "source": [
    "## Part 1: Reading in the Yelp Reviews"
   ]
  },
  {
   "cell_type": "markdown",
   "metadata": {},
   "source": [
    "- \"corpus\" = collection of documents\n",
    "- \"corpora\" = plural form of corpus"
   ]
  },
  {
   "cell_type": "code",
   "execution_count": 2,
   "metadata": {
    "collapsed": false
   },
   "outputs": [],
   "source": [
    "import pandas as pd\n",
    "import numpy as np\n",
    "import scipy as sp\n",
    "from sklearn.cross_validation import train_test_split\n",
    "from sklearn.feature_extraction.text import CountVectorizer, TfidfVectorizer\n",
    "from sklearn.naive_bayes import MultinomialNB\n",
    "from sklearn.linear_model import LogisticRegression\n",
    "from sklearn import metrics\n",
    "from textblob import TextBlob, Word\n",
    "from nltk.stem.snowball import SnowballStemmer\n",
    "%matplotlib inline"
   ]
  },
  {
   "cell_type": "code",
   "execution_count": 7,
   "metadata": {
    "collapsed": true
   },
   "outputs": [],
   "source": [
    "url = 'yelp.csv'"
   ]
  },
  {
   "cell_type": "code",
   "execution_count": 4,
   "metadata": {
    "collapsed": true
   },
   "outputs": [],
   "source": [
    "yelp = pd.read_csv(url)"
   ]
  },
  {
   "cell_type": "code",
<<<<<<< HEAD
   "execution_count": 8,
=======
   "execution_count": 5,
   "metadata": {
    "collapsed": false
   },
   "outputs": [
    {
     "data": {
      "text/html": [
       "<div>\n",
       "<table border=\"1\" class=\"dataframe\">\n",
       "  <thead>\n",
       "    <tr style=\"text-align: right;\">\n",
       "      <th></th>\n",
       "      <th>business_id</th>\n",
       "      <th>date</th>\n",
       "      <th>review_id</th>\n",
       "      <th>stars</th>\n",
       "      <th>text</th>\n",
       "      <th>type</th>\n",
       "      <th>user_id</th>\n",
       "      <th>cool</th>\n",
       "      <th>useful</th>\n",
       "      <th>funny</th>\n",
       "    </tr>\n",
       "  </thead>\n",
       "  <tbody>\n",
       "    <tr>\n",
       "      <th>0</th>\n",
       "      <td>9yKzy9PApeiPPOUJEtnvkg</td>\n",
       "      <td>2011-01-26</td>\n",
       "      <td>fWKvX83p0-ka4JS3dc6E5A</td>\n",
       "      <td>5</td>\n",
       "      <td>My wife took me here on my birthday for breakf...</td>\n",
       "      <td>review</td>\n",
       "      <td>rLtl8ZkDX5vH5nAx9C3q5Q</td>\n",
       "      <td>2</td>\n",
       "      <td>5</td>\n",
       "      <td>0</td>\n",
       "    </tr>\n",
       "    <tr>\n",
       "      <th>1</th>\n",
       "      <td>ZRJwVLyzEJq1VAihDhYiow</td>\n",
       "      <td>2011-07-27</td>\n",
       "      <td>IjZ33sJrzXqU-0X6U8NwyA</td>\n",
       "      <td>5</td>\n",
       "      <td>I have no idea why some people give bad review...</td>\n",
       "      <td>review</td>\n",
       "      <td>0a2KyEL0d3Yb1V6aivbIuQ</td>\n",
       "      <td>0</td>\n",
       "      <td>0</td>\n",
       "      <td>0</td>\n",
       "    </tr>\n",
       "    <tr>\n",
       "      <th>2</th>\n",
       "      <td>6oRAC4uyJCsJl1X0WZpVSA</td>\n",
       "      <td>2012-06-14</td>\n",
       "      <td>IESLBzqUCLdSzSqm0eCSxQ</td>\n",
       "      <td>4</td>\n",
       "      <td>love the gyro plate. Rice is so good and I als...</td>\n",
       "      <td>review</td>\n",
       "      <td>0hT2KtfLiobPvh6cDC8JQg</td>\n",
       "      <td>0</td>\n",
       "      <td>1</td>\n",
       "      <td>0</td>\n",
       "    </tr>\n",
       "    <tr>\n",
       "      <th>3</th>\n",
       "      <td>_1QQZuf4zZOyFCvXc0o6Vg</td>\n",
       "      <td>2010-05-27</td>\n",
       "      <td>G-WvGaISbqqaMHlNnByodA</td>\n",
       "      <td>5</td>\n",
       "      <td>Rosie, Dakota, and I LOVE Chaparral Dog Park!!...</td>\n",
       "      <td>review</td>\n",
       "      <td>uZetl9T0NcROGOyFfughhg</td>\n",
       "      <td>1</td>\n",
       "      <td>2</td>\n",
       "      <td>0</td>\n",
       "    </tr>\n",
       "    <tr>\n",
       "      <th>4</th>\n",
       "      <td>6ozycU1RpktNG2-1BroVtw</td>\n",
       "      <td>2012-01-05</td>\n",
       "      <td>1uJFq2r5QfJG_6ExMRCaGw</td>\n",
       "      <td>5</td>\n",
       "      <td>General Manager Scott Petello is a good egg!!!...</td>\n",
       "      <td>review</td>\n",
       "      <td>vYmM4KTsC8ZfQBg-j5MWkw</td>\n",
       "      <td>0</td>\n",
       "      <td>0</td>\n",
       "      <td>0</td>\n",
       "    </tr>\n",
       "  </tbody>\n",
       "</table>\n",
       "</div>"
      ],
      "text/plain": [
       "              business_id        date               review_id  stars  \\\n",
       "0  9yKzy9PApeiPPOUJEtnvkg  2011-01-26  fWKvX83p0-ka4JS3dc6E5A      5   \n",
       "1  ZRJwVLyzEJq1VAihDhYiow  2011-07-27  IjZ33sJrzXqU-0X6U8NwyA      5   \n",
       "2  6oRAC4uyJCsJl1X0WZpVSA  2012-06-14  IESLBzqUCLdSzSqm0eCSxQ      4   \n",
       "3  _1QQZuf4zZOyFCvXc0o6Vg  2010-05-27  G-WvGaISbqqaMHlNnByodA      5   \n",
       "4  6ozycU1RpktNG2-1BroVtw  2012-01-05  1uJFq2r5QfJG_6ExMRCaGw      5   \n",
       "\n",
       "                                                text    type  \\\n",
       "0  My wife took me here on my birthday for breakf...  review   \n",
       "1  I have no idea why some people give bad review...  review   \n",
       "2  love the gyro plate. Rice is so good and I als...  review   \n",
       "3  Rosie, Dakota, and I LOVE Chaparral Dog Park!!...  review   \n",
       "4  General Manager Scott Petello is a good egg!!!...  review   \n",
       "\n",
       "                  user_id  cool  useful  funny  \n",
       "0  rLtl8ZkDX5vH5nAx9C3q5Q     2       5      0  \n",
       "1  0a2KyEL0d3Yb1V6aivbIuQ     0       0      0  \n",
       "2  0hT2KtfLiobPvh6cDC8JQg     0       1      0  \n",
       "3  uZetl9T0NcROGOyFfughhg     1       2      0  \n",
       "4  vYmM4KTsC8ZfQBg-j5MWkw     0       0      0  "
      ]
     },
     "execution_count": 5,
     "metadata": {},
     "output_type": "execute_result"
    }
   ],
   "source": [
    "yelp.head()"
   ]
  },
  {
   "cell_type": "code",
   "execution_count": 6,
>>>>>>> 6e406458d42312dbabdbb8bde6a999d04dec0ad8
   "metadata": {
    "collapsed": false
   },
   "outputs": [],
   "source": [
    "# read yelp.csv into a DataFrame\n",
<<<<<<< HEAD
    "#url = 'https://raw.githubusercontent.com/ga-students/DSI-DC-2/master/curriculum/Week-11/nlp-review/yelp.csv?token=ANUte7TraXnZrctCoF0QgVVHESAHnvQ2ks5YOOf8wA%3D%3D'\n",
=======
    "url = 'yelp.csv'\n",
>>>>>>> 6e406458d42312dbabdbb8bde6a999d04dec0ad8
    "yelp = pd.read_csv(url)\n",
    "\n",
    "# create a new DataFrame that only contains the 5-star and 1-star reviews\n",
    "yelp_best_worst = yelp[(yelp.stars==5) | (yelp.stars==1)]\n",
    "\n",
    "# define X and y\n",
    "X = yelp_best_worst.text\n",
    "y = yelp_best_worst.stars\n",
    "\n",
    "# split the new DataFrame into training and testing sets\n",
    "X_train, X_test, y_train, y_test = train_test_split(X, y, random_state=1)"
   ]
  },
  {
   "cell_type": "code",
<<<<<<< HEAD
   "execution_count": 9,
=======
   "execution_count": 7,
>>>>>>> 6e406458d42312dbabdbb8bde6a999d04dec0ad8
   "metadata": {
    "collapsed": true
   },
   "outputs": [],
   "source": [
    "# create a new DataFrame that only contains the 5-star and 1-star reviews\n",
    "yelp_best_worst = yelp[(yelp.stars==5) | (yelp.stars==1)]"
   ]
  },
  {
   "cell_type": "code",
   "execution_count": 8,
   "metadata": {
    "collapsed": false,
    "scrolled": true
   },
   "outputs": [
    {
     "data": {
      "text/plain": [
       "'I have no idea why some people give bad reviews about this place. It goes to show you, you can please everyone. They are probably griping about something that their own fault...there are many people like that.\\n\\nIn any case, my friend and I arrived at about 5:50 PM this past Sunday. It was pretty crowded, more than I thought for a Sunday evening and thought we would have to wait forever to get a seat but they said we\\'ll be seated when the girl comes back from seating someone else. We were seated at 5:52 and the waiter came and got our drink orders. Everyone was very pleasant from the host that seated us to the waiter to the server. The prices were very good as well. We placed our orders once we decided what we wanted at 6:02. We shared the baked spaghetti calzone and the small \"Here\\'s The Beef\" pizza so we can both try them. The calzone was huge and we got the smallest one (personal) and got the small 11\" pizza. Both were awesome! My friend liked the pizza better and I liked the calzone better. The calzone does have a sweetish sauce but that\\'s how I like my sauce!\\n\\nWe had to box part of the pizza to take it home and we were out the door by 6:42. So, everything was great and not like these bad reviewers. That goes to show you that  you have to try these things yourself because all these bad reviewers have some serious issues.'"
      ]
     },
     "execution_count": 8,
     "metadata": {},
     "output_type": "execute_result"
    }
   ],
   "source": [
    "yelp_best_worst.ix[1].text"
   ]
  },
  {
   "cell_type": "code",
<<<<<<< HEAD
   "execution_count": 10,
=======
   "execution_count": 9,
>>>>>>> 6e406458d42312dbabdbb8bde6a999d04dec0ad8
   "metadata": {
    "collapsed": true
   },
   "outputs": [],
   "source": [
    "# define X and y\n",
    "X = yelp_best_worst.text\n",
    "y = yelp_best_worst.stars\n"
   ]
  },
  {
   "cell_type": "code",
<<<<<<< HEAD
   "execution_count": 11,
=======
   "execution_count": 10,
>>>>>>> 6e406458d42312dbabdbb8bde6a999d04dec0ad8
   "metadata": {
    "collapsed": true
   },
   "outputs": [],
   "source": [
    "\n",
    "# split the new DataFrame into training and testing sets\n",
    "X_train, X_test, y_train, y_test = train_test_split(X, y, random_state=1)"
   ]
  },
  {
   "cell_type": "code",
   "execution_count": 13,
   "metadata": {
    "collapsed": false
   },
   "outputs": [
    {
     "name": "stdout",
     "output_type": "stream",
     "text": [
      "3064\n",
      "1022\n"
     ]
    }
   ],
   "source": [
    "print len(X_train)\n",
    "print len(X_test)"
   ]
  },
  {
   "cell_type": "markdown",
   "metadata": {},
   "source": [
    "## Part 2: Tokenization"
   ]
  },
  {
   "cell_type": "markdown",
   "metadata": {},
   "source": [
    "- **What:** Separate text into units such as sentences or words\n",
    "- **Why:** Gives structure to previously unstructured text\n",
    "- **Notes:** Relatively easy with English language text, not easy with some languages"
   ]
  },
  {
   "cell_type": "code",
   "execution_count": 14,
   "metadata": {
    "collapsed": false
   },
   "outputs": [],
   "source": [
    "# use CountVectorizer to create document-term matrices from X_train and X_test\n",
    "vect = CountVectorizer()\n",
    "X_train_dtm = vect.fit_transform(X_train)\n",
    "X_test_dtm = vect.transform(X_test)"
   ]
  },
  {
   "cell_type": "code",
   "execution_count": 15,
   "metadata": {
    "collapsed": false
   },
   "outputs": [
    {
     "data": {
      "text/plain": [
       "(3064, 16825)"
      ]
     },
     "execution_count": 15,
     "metadata": {},
     "output_type": "execute_result"
    }
   ],
   "source": [
    "# rows are documents, columns are terms (aka \"tokens\" or \"features\")\n",
    "X_train_dtm.shape"
   ]
  },
  {
   "cell_type": "code",
   "execution_count": 16,
   "metadata": {
    "collapsed": false
   },
   "outputs": [
    {
     "name": "stdout",
     "output_type": "stream",
     "text": [
      "[u'yyyyy', u'z11', u'za', u'zabba', u'zach', u'zam', u'zanella', u'zankou', u'zappos', u'zatsiki', u'zen', u'zero', u'zest', u'zexperience', u'zha', u'zhou', u'zia', u'zihuatenejo', u'zilch', u'zin', u'zinburger', u'zinburgergeist', u'zinc', u'zinfandel', u'zing', u'zip', u'zipcar', u'zipper', u'zippers', u'zipps', u'ziti', u'zoe', u'zombi', u'zombies', u'zone', u'zones', u'zoning', u'zoo', u'zoyo', u'zucca', u'zucchini', u'zuchinni', u'zumba', u'zupa', u'zuzu', u'zwiebel', u'zzed', u'\\xe9clairs', u'\\xe9cole', u'\\xe9m']\n"
     ]
    }
   ],
   "source": [
    "# last 50 features\n",
    "print vect.get_feature_names()[-50:]"
   ]
  },
  {
   "cell_type": "code",
   "execution_count": 17,
   "metadata": {
    "collapsed": false
   },
   "outputs": [
    {
     "data": {
      "text/plain": [
       "CountVectorizer(analyzer=u'word', binary=False, decode_error=u'strict',\n",
       "        dtype=<type 'numpy.int64'>, encoding=u'utf-8', input=u'content',\n",
       "        lowercase=True, max_df=1.0, max_features=None, min_df=1,\n",
       "        ngram_range=(1, 1), preprocessor=None, stop_words=None,\n",
       "        strip_accents=None, token_pattern=u'(?u)\\\\b\\\\w\\\\w+\\\\b',\n",
       "        tokenizer=None, vocabulary=None)"
      ]
     },
     "execution_count": 17,
     "metadata": {},
     "output_type": "execute_result"
    }
   ],
   "source": [
    "# show vectorizer options\n",
    "vect"
   ]
  },
  {
   "cell_type": "markdown",
   "metadata": {},
   "source": [
    "[CountVectorizer documentation](http://scikit-learn.org/stable/modules/generated/sklearn.feature_extraction.text.CountVectorizer.html)"
   ]
  },
  {
   "cell_type": "markdown",
   "metadata": {},
   "source": [
    "- **lowercase:** boolean, True by default\n",
    "- Convert all characters to lowercase before tokenizing."
   ]
  },
  {
   "cell_type": "code",
<<<<<<< HEAD
   "execution_count": 17,
=======
   "execution_count": 18,
>>>>>>> 6e406458d42312dbabdbb8bde6a999d04dec0ad8
   "metadata": {
    "collapsed": false
   },
   "outputs": [
    {
     "data": {
      "text/plain": [
       "(3064, 20838)"
      ]
     },
<<<<<<< HEAD
     "execution_count": 17,
=======
     "execution_count": 18,
>>>>>>> 6e406458d42312dbabdbb8bde6a999d04dec0ad8
     "metadata": {},
     "output_type": "execute_result"
    }
   ],
   "source": [
    "# don't convert to lowercase\n",
    "vect = CountVectorizer(lowercase=False)\n",
    "X_train_dtm = vect.fit_transform(X_train)\n",
    "X_train_dtm.shape"
   ]
  },
  {
   "cell_type": "markdown",
   "metadata": {},
   "source": [
    "- **ngram_range:** tuple (min_n, max_n)\n",
    "- The lower and upper boundary of the range of n-values for different n-grams to be extracted. All values of n such that min_n <= n <= max_n will be used."
   ]
  },
  {
   "cell_type": "code",
   "execution_count": 18,
   "metadata": {
    "collapsed": false
   },
   "outputs": [
    {
     "data": {
      "text/plain": [
       "(3064, 169847)"
      ]
     },
     "execution_count": 18,
     "metadata": {},
     "output_type": "execute_result"
    }
   ],
   "source": [
    "# include 1-grams and 2-grams\n",
    "vect = CountVectorizer(ngram_range=(1, 2))\n",
    "X_train_dtm = vect.fit_transform(X_train)\n",
    "X_train_dtm.shape"
   ]
  },
  {
   "cell_type": "code",
   "execution_count": 19,
   "metadata": {
    "collapsed": false
   },
   "outputs": [
    {
     "name": "stdout",
     "output_type": "stream",
     "text": [
      "[u'youthful', u'youtube', u'yow', u'yr', u'yrs', u'yu', u'yuck', u'yucky', u'yuk', u'yukon', u'yum', u'yumm', u'yummie', u'yummier', u'yumminess', u'yummm', u'yummmm', u'yummmmmmers', u'yummmmy', u'yummy', u'yumness', u'yup', u'yuppies', u'yuuuuummmmmyyy', u'yuyuyummy', u'yuzu', u'yyyyy', u'za', u'zen', u'zero', u'zest', u'zhou', u'zilch', u'zinc', u'zing', u'zip', u'zipper', u'ziti', u'zone', u'zones', u'zoning', u'zoo', u'zucchini', u'zuchinni', u'zupa', u'zwiebel', u'zzed', u'\\xc9cole', u'\\xe9clairs', u'\\xe9m']\n"
     ]
    }
   ],
   "source": [
    "# last 50 features\n",
    "print vect.get_feature_names()[-50:]"
   ]
  },
  {
   "cell_type": "markdown",
   "metadata": {},
   "source": [
    "**Predicting the star rating:**"
   ]
  },
  {
   "cell_type": "code",
   "execution_count": 20,
   "metadata": {
    "collapsed": false
   },
   "outputs": [
    {
     "name": "stdout",
     "output_type": "stream",
     "text": [
      "0.918786692759\n"
     ]
    }
   ],
   "source": [
    "# use default options for CountVectorizer\n",
    "vect = CountVectorizer()\n",
    "\n",
    "# create document-term matrices\n",
    "X_train_dtm = vect.fit_transform(X_train)\n",
    "X_test_dtm = vect.transform(X_test)\n",
    "\n",
    "# use Naive Bayes  to predict the star rating\n",
    "nb = MultinomialNB()\n",
    "nb.fit(X_train_dtm, y_train)\n",
    "y_pred_class = nb.predict(X_test_dtm)\n",
    "\n",
    "# calculate accuracy\n",
    "print metrics.accuracy_score(y_test, y_pred_class)"
   ]
  },
  {
   "cell_type": "code",
<<<<<<< HEAD
   "execution_count": 20,
=======
   "execution_count": 21,
>>>>>>> 6e406458d42312dbabdbb8bde6a999d04dec0ad8
   "metadata": {
    "collapsed": false
   },
   "outputs": [
    {
     "data": {
      "text/plain": [
       "0.81996086105675148"
      ]
     },
<<<<<<< HEAD
     "execution_count": 20,
=======
     "execution_count": 21,
>>>>>>> 6e406458d42312dbabdbb8bde6a999d04dec0ad8
     "metadata": {},
     "output_type": "execute_result"
    }
   ],
   "source": [
    "# calculate null accuracy\n",
    "y_test_binary = np.where(y_test==5, 1, 0)\n",
    "max(y_test_binary.mean(), 1 - y_test_binary.mean())"
   ]
  },
  {
   "cell_type": "code",
<<<<<<< HEAD
   "execution_count": 21,
=======
   "execution_count": 22,
>>>>>>> 6e406458d42312dbabdbb8bde6a999d04dec0ad8
   "metadata": {
    "collapsed": false
   },
   "outputs": [],
   "source": [
    "# define a function that accepts a vectorizer and calculates the accuracy\n",
    "def tokenize_test(vect):\n",
    "    X_train_dtm = vect.fit_transform(X_train)\n",
    "    print 'Features: ', X_train_dtm.shape[1]\n",
    "    X_test_dtm = vect.transform(X_test)\n",
    "    nb = MultinomialNB()\n",
    "    nb.fit(X_train_dtm, y_train)\n",
    "    y_pred_class = nb.predict(X_test_dtm)\n",
    "    print 'Accuracy: ', metrics.accuracy_score(y_test, y_pred_class)"
   ]
  },
  {
   "cell_type": "code",
<<<<<<< HEAD
   "execution_count": 22,
=======
   "execution_count": 23,
>>>>>>> 6e406458d42312dbabdbb8bde6a999d04dec0ad8
   "metadata": {
    "collapsed": false
   },
   "outputs": [
    {
     "name": "stdout",
     "output_type": "stream",
     "text": [
      "Features:  169847\n",
      "Accuracy:  0.854207436399\n"
     ]
    }
   ],
   "source": [
    "# include 1-grams and 2-grams\n",
    "vect = CountVectorizer(ngram_range=(1, 2))\n",
    "tokenize_test(vect)"
   ]
  },
  {
   "cell_type": "markdown",
   "metadata": {},
   "source": [
    "## Part 3: Stopword Removal"
   ]
  },
  {
   "cell_type": "markdown",
   "metadata": {},
   "source": [
    "- **What:** Remove common words that will likely appear in any text\n",
    "- **Why:** They don't tell you much about your text"
   ]
  },
  {
   "cell_type": "code",
   "execution_count": 14,
   "metadata": {
    "collapsed": false
   },
   "outputs": [
    {
     "data": {
      "text/plain": [
       "CountVectorizer(analyzer=u'word', binary=False, decode_error=u'strict',\n",
       "        dtype=<type 'numpy.int64'>, encoding=u'utf-8', input=u'content',\n",
       "        lowercase=True, max_df=1.0, max_features=None, min_df=1,\n",
       "        ngram_range=(1, 2), preprocessor=None, stop_words=None,\n",
       "        strip_accents=None, token_pattern=u'(?u)\\\\b\\\\w\\\\w+\\\\b',\n",
       "        tokenizer=None, vocabulary=None)"
      ]
     },
     "execution_count": 14,
     "metadata": {},
     "output_type": "execute_result"
    }
   ],
   "source": [
    "# show vectorizer options\n",
    "vect"
   ]
  },
  {
   "cell_type": "markdown",
   "metadata": {},
   "source": [
    "- **stop_words:** string {'english'}, list, or None (default)\n",
    "- If 'english', a built-in stop word list for English is used.\n",
    "- If a list, that list is assumed to contain stop words, all of which will be removed from the resulting tokens.\n",
    "- If None, no stop words will be used. max_df can be set to a value in the range [0.7, 1.0) to automatically detect and filter stop words based on intra corpus document frequency of terms."
   ]
  },
  {
   "cell_type": "code",
<<<<<<< HEAD
   "execution_count": 23,
=======
   "execution_count": 24,
>>>>>>> 6e406458d42312dbabdbb8bde6a999d04dec0ad8
   "metadata": {
    "collapsed": false
   },
   "outputs": [
    {
     "name": "stdout",
     "output_type": "stream",
     "text": [
      "Features:  16528\n",
      "Accuracy:  0.915851272016\n"
     ]
    }
   ],
   "source": [
    "# remove English stop words\n",
    "vect = CountVectorizer(stop_words='english')\n",
    "tokenize_test(vect)"
   ]
  },
  {
   "cell_type": "code",
   "execution_count": 25,
   "metadata": {
    "collapsed": false
   },
   "outputs": [
    {
     "name": "stdout",
     "output_type": "stream",
     "text": [
      "frozenset(['all', 'six', 'less', 'being', 'indeed', 'over', 'move', 'anyway', 'four', 'not', 'own', 'through', 'yourselves', 'fify', 'where', 'mill', 'only', 'find', 'before', 'one', 'whose', 'system', 'how', 'somewhere', 'with', 'thick', 'show', 'had', 'enough', 'should', 'to', 'must', 'whom', 'seeming', 'under', 'ours', 'has', 'might', 'thereafter', 'latterly', 'do', 'them', 'his', 'around', 'than', 'get', 'very', 'de', 'none', 'cannot', 'every', 'whether', 'they', 'front', 'during', 'thus', 'now', 'him', 'nor', 'name', 'several', 'hereafter', 'always', 'who', 'cry', 'whither', 'this', 'someone', 'either', 'each', 'become', 'thereupon', 'sometime', 'side', 'two', 'therein', 'twelve', 'because', 'often', 'ten', 'our', 'eg', 'some', 'back', 'up', 'go', 'namely', 'towards', 'are', 'further', 'beyond', 'ourselves', 'yet', 'out', 'even', 'will', 'what', 'still', 'for', 'bottom', 'mine', 'since', 'please', 'forty', 'per', 'its', 'everything', 'behind', 'un', 'above', 'between', 'it', 'neither', 'seemed', 'ever', 'across', 'she', 'somehow', 'be', 'we', 'full', 'never', 'sixty', 'however', 'here', 'otherwise', 'were', 'whereupon', 'nowhere', 'although', 'found', 'alone', 're', 'along', 'fifteen', 'by', 'both', 'about', 'last', 'would', 'anything', 'via', 'many', 'could', 'thence', 'put', 'against', 'keep', 'etc', 'amount', 'became', 'ltd', 'hence', 'onto', 'or', 'con', 'among', 'already', 'co', 'afterwards', 'formerly', 'within', 'seems', 'into', 'others', 'while', 'whatever', 'except', 'down', 'hers', 'everyone', 'done', 'least', 'another', 'whoever', 'moreover', 'couldnt', 'throughout', 'anyhow', 'yourself', 'three', 'from', 'her', 'few', 'together', 'top', 'there', 'due', 'been', 'next', 'anyone', 'eleven', 'much', 'call', 'therefore', 'interest', 'then', 'thru', 'themselves', 'hundred', 'was', 'sincere', 'empty', 'more', 'himself', 'elsewhere', 'mostly', 'on', 'fire', 'am', 'becoming', 'hereby', 'amongst', 'else', 'part', 'everywhere', 'too', 'herself', 'former', 'those', 'he', 'me', 'myself', 'made', 'twenty', 'these', 'bill', 'cant', 'us', 'until', 'besides', 'nevertheless', 'below', 'anywhere', 'nine', 'can', 'of', 'your', 'toward', 'my', 'something', 'and', 'whereafter', 'whenever', 'give', 'almost', 'wherever', 'is', 'describe', 'beforehand', 'herein', 'an', 'as', 'itself', 'at', 'have', 'in', 'seem', 'whence', 'ie', 'any', 'fill', 'again', 'hasnt', 'inc', 'thereby', 'thin', 'no', 'perhaps', 'latter', 'meanwhile', 'when', 'detail', 'same', 'wherein', 'beside', 'also', 'that', 'other', 'take', 'which', 'becomes', 'you', 'if', 'nobody', 'see', 'though', 'may', 'after', 'upon', 'most', 'hereupon', 'eight', 'but', 'serious', 'nothing', 'such', 'why', 'a', 'off', 'whereby', 'third', 'i', 'whole', 'noone', 'sometimes', 'well', 'amoungst', 'yours', 'their', 'rather', 'without', 'so', 'five', 'the', 'first', 'whereas', 'once'])\n"
     ]
    }
   ],
   "source": [
    "# set of stop words\n",
    "print vect.get_stop_words()"
   ]
  },
  {
   "cell_type": "markdown",
   "metadata": {},
   "source": [
    "## Part 4: Other CountVectorizer Options"
   ]
  },
  {
   "cell_type": "markdown",
   "metadata": {},
   "source": [
    "- **max_features:** int or None, default=None\n",
    "- If not None, build a vocabulary that only consider the top max_features ordered by term frequency across the corpus."
   ]
  },
  {
   "cell_type": "code",
<<<<<<< HEAD
   "execution_count": 27,
=======
   "execution_count": 28,
>>>>>>> 6e406458d42312dbabdbb8bde6a999d04dec0ad8
   "metadata": {
    "collapsed": false
   },
   "outputs": [
    {
     "name": "stdout",
     "output_type": "stream",
     "text": [
      "Features:  100\n",
      "Accuracy:  0.869863013699\n"
     ]
    }
   ],
   "source": [
    "# remove English stop words and only keep 100 features\n",
    "vect = CountVectorizer(stop_words='english', max_features=100)\n",
    "tokenize_test(vect)"
   ]
  },
  {
   "cell_type": "code",
<<<<<<< HEAD
   "execution_count": 28,
=======
   "execution_count": 29,
>>>>>>> 6e406458d42312dbabdbb8bde6a999d04dec0ad8
   "metadata": {
    "collapsed": false
   },
   "outputs": [
    {
     "name": "stdout",
     "output_type": "stream",
     "text": [
      "[u'amazing', u'area', u'atmosphere', u'awesome', u'bad', u'bar', u'best', u'better', u'big', u'came', u'cheese', u'chicken', u'clean', u'coffee', u'come', u'day', u'definitely', u'delicious', u'did', u'didn', u'dinner', u'don', u'eat', u'excellent', u'experience', u'favorite', u'feel', u'food', u'free', u'fresh', u'friendly', u'friends', u'going', u'good', u'got', u'great', u'happy', u'home', u'hot', u'hour', u'just', u'know', u'like', u'little', u'll', u'location', u'long', u'looking', u'lot', u'love', u'lunch', u'make', u'meal', u'menu', u'minutes', u'need', u'new', u'nice', u'night', u'order', u'ordered', u'people', u'perfect', u'phoenix', u'pizza', u'place', u'pretty', u'prices', u'really', u'recommend', u'restaurant', u'right', u'said', u'salad', u'sandwich', u'sauce', u'say', u'service', u'staff', u'store', u'sure', u'table', u'thing', u'things', u'think', u'time', u'times', u'took', u'town', u'tried', u'try', u've', u'wait', u'want', u'way', u'went', u'wine', u'work', u'worth', u'years']\n"
     ]
    }
   ],
   "source": [
    "# all 100 features\n",
    "print vect.get_feature_names()"
   ]
  },
  {
   "cell_type": "code",
<<<<<<< HEAD
   "execution_count": 29,
=======
   "execution_count": 30,
>>>>>>> 6e406458d42312dbabdbb8bde6a999d04dec0ad8
   "metadata": {
    "collapsed": false
   },
   "outputs": [
    {
     "name": "stdout",
     "output_type": "stream",
     "text": [
      "Features:  100000\n",
      "Accuracy:  0.885518590998\n"
     ]
    }
   ],
   "source": [
    "# include 1-grams and 2-grams, and limit the number of features\n",
    "vect = CountVectorizer(ngram_range=(1, 2), max_features=100000)\n",
    "tokenize_test(vect)"
   ]
  },
  {
   "cell_type": "markdown",
   "metadata": {},
   "source": [
    "- **min_df:** float in range [0.0, 1.0] or int, default=1\n",
    "- When building the vocabulary ignore terms that have a document frequency strictly lower than the given threshold. This value is also called cut-off in the literature. If float, the parameter represents a proportion of documents, integer absolute counts."
   ]
  },
  {
   "cell_type": "code",
<<<<<<< HEAD
   "execution_count": 30,
=======
   "execution_count": 31,
>>>>>>> 6e406458d42312dbabdbb8bde6a999d04dec0ad8
   "metadata": {
    "collapsed": false
   },
   "outputs": [
    {
     "name": "stdout",
     "output_type": "stream",
     "text": [
      "Features:  43957\n",
      "Accuracy:  0.932485322896\n"
     ]
    }
   ],
   "source": [
    "# include 1-grams and 2-grams, and only include terms that appear at least 2 times\n",
    "vect = CountVectorizer(ngram_range=(1, 2), min_df=2)\n",
    "tokenize_test(vect)"
   ]
  },
  {
   "cell_type": "markdown",
   "metadata": {},
   "source": [
    "## Part 5: Introduction to TextBlob"
   ]
  },
  {
   "cell_type": "markdown",
   "metadata": {},
   "source": [
    "TextBlob: \"Simplified Text Processing\""
   ]
  },
  {
   "cell_type": "code",
   "execution_count": 32,
   "metadata": {
    "collapsed": false
   },
   "outputs": [
    {
     "name": "stdout",
     "output_type": "stream",
     "text": [
      "My wife took me here on my birthday for breakfast and it was excellent.  The weather was perfect which made sitting outside overlooking their grounds an absolute pleasure.  Our waitress was excellent and our food arrived quickly on the semi-busy Saturday morning.  It looked like the place fills up pretty quickly so the earlier you get here the better.\n",
      "\n",
      "Do yourself a favor and get their Bloody Mary.  It was phenomenal and simply the best I've ever had.  I'm pretty sure they only use ingredients from their garden and blend them fresh when you order it.  It was amazing.\n",
      "\n",
      "While EVERYTHING on the menu looks excellent, I had the white truffle scrambled eggs vegetable skillet and it was tasty and delicious.  It came with 2 pieces of their griddled bread with was amazing and it absolutely made the meal complete.  It was the best \"toast\" I've ever had.\n",
      "\n",
      "Anyway, I can't wait to go back!\n"
     ]
    }
   ],
   "source": [
    "# print the first review\n",
    "print yelp_best_worst.text[0]"
   ]
  },
  {
   "cell_type": "code",
<<<<<<< HEAD
   "execution_count": 31,
=======
   "execution_count": 33,
>>>>>>> 6e406458d42312dbabdbb8bde6a999d04dec0ad8
   "metadata": {
    "collapsed": false
   },
   "outputs": [],
   "source": [
    "# save it as a TextBlob object\n",
    "review = TextBlob(yelp_best_worst.text[0])"
   ]
  },
  {
   "cell_type": "code",
<<<<<<< HEAD
   "execution_count": 32,
=======
   "execution_count": 34,
>>>>>>> 6e406458d42312dbabdbb8bde6a999d04dec0ad8
   "metadata": {
    "collapsed": false
   },
   "outputs": [
    {
     "data": {
      "text/plain": [
       "WordList(['My', 'wife', 'took', 'me', 'here', 'on', 'my', 'birthday', 'for', 'breakfast', 'and', 'it', 'was', 'excellent', 'The', 'weather', 'was', 'perfect', 'which', 'made', 'sitting', 'outside', 'overlooking', 'their', 'grounds', 'an', 'absolute', 'pleasure', 'Our', 'waitress', 'was', 'excellent', 'and', 'our', 'food', 'arrived', 'quickly', 'on', 'the', 'semi-busy', 'Saturday', 'morning', 'It', 'looked', 'like', 'the', 'place', 'fills', 'up', 'pretty', 'quickly', 'so', 'the', 'earlier', 'you', 'get', 'here', 'the', 'better', 'Do', 'yourself', 'a', 'favor', 'and', 'get', 'their', 'Bloody', 'Mary', 'It', 'was', 'phenomenal', 'and', 'simply', 'the', 'best', 'I', \"'ve\", 'ever', 'had', 'I', \"'m\", 'pretty', 'sure', 'they', 'only', 'use', 'ingredients', 'from', 'their', 'garden', 'and', 'blend', 'them', 'fresh', 'when', 'you', 'order', 'it', 'It', 'was', 'amazing', 'While', 'EVERYTHING', 'on', 'the', 'menu', 'looks', 'excellent', 'I', 'had', 'the', 'white', 'truffle', 'scrambled', 'eggs', 'vegetable', 'skillet', 'and', 'it', 'was', 'tasty', 'and', 'delicious', 'It', 'came', 'with', '2', 'pieces', 'of', 'their', 'griddled', 'bread', 'with', 'was', 'amazing', 'and', 'it', 'absolutely', 'made', 'the', 'meal', 'complete', 'It', 'was', 'the', 'best', 'toast', 'I', \"'ve\", 'ever', 'had', 'Anyway', 'I', 'ca', \"n't\", 'wait', 'to', 'go', 'back'])"
      ]
     },
<<<<<<< HEAD
     "execution_count": 32,
=======
     "execution_count": 34,
>>>>>>> 6e406458d42312dbabdbb8bde6a999d04dec0ad8
     "metadata": {},
     "output_type": "execute_result"
    }
   ],
   "source": [
    "# list the words\n",
    "review.words"
   ]
  },
  {
   "cell_type": "code",
<<<<<<< HEAD
   "execution_count": 33,
=======
   "execution_count": 35,
>>>>>>> 6e406458d42312dbabdbb8bde6a999d04dec0ad8
   "metadata": {
    "collapsed": false
   },
   "outputs": [
    {
     "data": {
      "text/plain": [
       "[Sentence(\"My wife took me here on my birthday for breakfast and it was excellent.\"),\n",
       " Sentence(\"The weather was perfect which made sitting outside overlooking their grounds an absolute pleasure.\"),\n",
       " Sentence(\"Our waitress was excellent and our food arrived quickly on the semi-busy Saturday morning.\"),\n",
       " Sentence(\"It looked like the place fills up pretty quickly so the earlier you get here the better.\"),\n",
       " Sentence(\"Do yourself a favor and get their Bloody Mary.\"),\n",
       " Sentence(\"It was phenomenal and simply the best I've ever had.\"),\n",
       " Sentence(\"I'm pretty sure they only use ingredients from their garden and blend them fresh when you order it.\"),\n",
       " Sentence(\"It was amazing.\"),\n",
       " Sentence(\"While EVERYTHING on the menu looks excellent, I had the white truffle scrambled eggs vegetable skillet and it was tasty and delicious.\"),\n",
       " Sentence(\"It came with 2 pieces of their griddled bread with was amazing and it absolutely made the meal complete.\"),\n",
       " Sentence(\"It was the best \"toast\" I've ever had.\"),\n",
       " Sentence(\"Anyway, I can't wait to go back!\")]"
      ]
     },
<<<<<<< HEAD
     "execution_count": 33,
=======
     "execution_count": 35,
>>>>>>> 6e406458d42312dbabdbb8bde6a999d04dec0ad8
     "metadata": {},
     "output_type": "execute_result"
    }
   ],
   "source": [
    "# list the sentences\n",
    "review.sentences"
   ]
  },
  {
   "cell_type": "code",
<<<<<<< HEAD
   "execution_count": 34,
=======
   "execution_count": 36,
>>>>>>> 6e406458d42312dbabdbb8bde6a999d04dec0ad8
   "metadata": {
    "collapsed": false
   },
   "outputs": [
    {
     "data": {
      "text/plain": [
       "TextBlob(\"my wife took me here on my birthday for breakfast and it was excellent.  the weather was perfect which made sitting outside overlooking their grounds an absolute pleasure.  our waitress was excellent and our food arrived quickly on the semi-busy saturday morning.  it looked like the place fills up pretty quickly so the earlier you get here the better.\n",
       "\n",
       "do yourself a favor and get their bloody mary.  it was phenomenal and simply the best i've ever had.  i'm pretty sure they only use ingredients from their garden and blend them fresh when you order it.  it was amazing.\n",
       "\n",
       "while everything on the menu looks excellent, i had the white truffle scrambled eggs vegetable skillet and it was tasty and delicious.  it came with 2 pieces of their griddled bread with was amazing and it absolutely made the meal complete.  it was the best \"toast\" i've ever had.\n",
       "\n",
       "anyway, i can't wait to go back!\")"
      ]
     },
<<<<<<< HEAD
     "execution_count": 34,
=======
     "execution_count": 36,
>>>>>>> 6e406458d42312dbabdbb8bde6a999d04dec0ad8
     "metadata": {},
     "output_type": "execute_result"
    }
   ],
   "source": [
    "# some string methods are available\n",
    "review.lower()"
   ]
  },
  {
   "cell_type": "markdown",
   "metadata": {},
   "source": [
    "## Part 6: Stemming and Lemmatization"
   ]
  },
  {
   "cell_type": "markdown",
   "metadata": {},
   "source": [
    "**Stemming:**\n",
    "\n",
    "- **What:** Reduce a word to its base/stem/root form\n",
    "- **Why:** Often makes sense to treat related words the same way\n",
    "- **Notes:**\n",
    "    - Uses a \"simple\" and fast rule-based approach\n",
    "    - Stemmed words are usually not shown to users (used for analysis/indexing)\n",
    "    - Some search engines treat words with the same stem as synonyms"
   ]
  },
  {
   "cell_type": "code",
<<<<<<< HEAD
   "execution_count": 35,
=======
   "execution_count": 37,
>>>>>>> 6e406458d42312dbabdbb8bde6a999d04dec0ad8
   "metadata": {
    "collapsed": false
   },
   "outputs": [
    {
     "name": "stdout",
     "output_type": "stream",
     "text": [
      "[u'my', u'wife', u'took', u'me', u'here', u'on', u'my', u'birthday', u'for', u'breakfast', u'and', u'it', u'was', u'excel', u'the', u'weather', u'was', u'perfect', u'which', u'made', u'sit', u'outsid', u'overlook', u'their', u'ground', u'an', u'absolut', u'pleasur', u'our', u'waitress', u'was', u'excel', u'and', u'our', u'food', u'arriv', u'quick', u'on', u'the', u'semi-busi', u'saturday', u'morn', u'it', u'look', u'like', u'the', u'place', u'fill', u'up', u'pretti', u'quick', u'so', u'the', u'earlier', u'you', u'get', u'here', u'the', u'better', u'do', u'yourself', u'a', u'favor', u'and', u'get', u'their', u'bloodi', u'mari', u'it', u'was', u'phenomen', u'and', u'simpli', u'the', u'best', u'i', u've', u'ever', u'had', u'i', u\"'m\", u'pretti', u'sure', u'they', u'onli', u'use', u'ingredi', u'from', u'their', u'garden', u'and', u'blend', u'them', u'fresh', u'when', u'you', u'order', u'it', u'it', u'was', u'amaz', u'while', u'everyth', u'on', u'the', u'menu', u'look', u'excel', u'i', u'had', u'the', u'white', u'truffl', u'scrambl', u'egg', u'veget', u'skillet', u'and', u'it', u'was', u'tasti', u'and', u'delici', u'it', u'came', u'with', u'2', u'piec', u'of', u'their', u'griddl', u'bread', u'with', u'was', u'amaz', u'and', u'it', u'absolut', u'made', u'the', u'meal', u'complet', u'it', u'was', u'the', u'best', u'toast', u'i', u've', u'ever', u'had', u'anyway', u'i', u'ca', u\"n't\", u'wait', u'to', u'go', u'back']\n"
     ]
    }
   ],
   "source": [
    "# initialize stemmer\n",
    "stemmer = SnowballStemmer('english')\n",
    "\n",
    "# stem each word\n",
    "print [stemmer.stem(word) for word in review.words]"
   ]
  },
  {
   "cell_type": "markdown",
   "metadata": {},
   "source": [
    "**Lemmatization**\n",
    "\n",
    "- **What:** Derive the canonical form ('lemma') of a word\n",
    "- **Why:** Can be better than stemming\n",
    "- **Notes:** Uses a dictionary-based approach (slower than stemming)"
   ]
  },
  {
   "cell_type": "code",
<<<<<<< HEAD
   "execution_count": 36,
=======
   "execution_count": 38,
>>>>>>> 6e406458d42312dbabdbb8bde6a999d04dec0ad8
   "metadata": {
    "collapsed": false
   },
   "outputs": [
    {
     "name": "stdout",
     "output_type": "stream",
     "text": [
      "['My', 'wife', 'took', 'me', 'here', 'on', 'my', 'birthday', 'for', 'breakfast', 'and', 'it', u'wa', 'excellent', 'The', 'weather', u'wa', 'perfect', 'which', 'made', 'sitting', 'outside', 'overlooking', 'their', u'ground', 'an', 'absolute', 'pleasure', 'Our', 'waitress', u'wa', 'excellent', 'and', 'our', 'food', 'arrived', 'quickly', 'on', 'the', 'semi-busy', 'Saturday', 'morning', 'It', 'looked', 'like', 'the', 'place', u'fill', 'up', 'pretty', 'quickly', 'so', 'the', 'earlier', 'you', 'get', 'here', 'the', 'better', 'Do', 'yourself', 'a', 'favor', 'and', 'get', 'their', 'Bloody', 'Mary', 'It', u'wa', 'phenomenal', 'and', 'simply', 'the', 'best', 'I', \"'ve\", 'ever', 'had', 'I', \"'m\", 'pretty', 'sure', 'they', 'only', 'use', u'ingredient', 'from', 'their', 'garden', 'and', 'blend', 'them', 'fresh', 'when', 'you', 'order', 'it', 'It', u'wa', 'amazing', 'While', 'EVERYTHING', 'on', 'the', 'menu', u'look', 'excellent', 'I', 'had', 'the', 'white', 'truffle', 'scrambled', u'egg', 'vegetable', 'skillet', 'and', 'it', u'wa', 'tasty', 'and', 'delicious', 'It', 'came', 'with', '2', u'piece', 'of', 'their', 'griddled', 'bread', 'with', u'wa', 'amazing', 'and', 'it', 'absolutely', 'made', 'the', 'meal', 'complete', 'It', u'wa', 'the', 'best', 'toast', 'I', \"'ve\", 'ever', 'had', 'Anyway', 'I', 'ca', \"n't\", 'wait', 'to', 'go', 'back']\n"
     ]
    }
   ],
   "source": [
    "# assume every word is a noun\n",
    "print [word.lemmatize() for word in review.words]"
   ]
  },
  {
   "cell_type": "code",
   "execution_count": 39,
   "metadata": {
    "collapsed": false
   },
   "outputs": [
    {
     "name": "stdout",
     "output_type": "stream",
     "text": [
      "['My', 'wife', u'take', 'me', 'here', 'on', 'my', 'birthday', 'for', 'breakfast', 'and', 'it', u'be', 'excellent', 'The', 'weather', u'be', 'perfect', 'which', u'make', u'sit', 'outside', u'overlook', 'their', u'ground', 'an', 'absolute', 'pleasure', 'Our', 'waitress', u'be', 'excellent', 'and', 'our', 'food', u'arrive', 'quickly', 'on', 'the', 'semi-busy', 'Saturday', 'morning', 'It', u'look', 'like', 'the', 'place', u'fill', 'up', 'pretty', 'quickly', 'so', 'the', 'earlier', 'you', 'get', 'here', 'the', 'better', 'Do', 'yourself', 'a', 'favor', 'and', 'get', 'their', 'Bloody', 'Mary', 'It', u'be', 'phenomenal', 'and', 'simply', 'the', 'best', 'I', \"'ve\", 'ever', u'have', 'I', \"'m\", 'pretty', 'sure', 'they', 'only', 'use', 'ingredients', 'from', 'their', 'garden', 'and', 'blend', 'them', 'fresh', 'when', 'you', 'order', 'it', 'It', u'be', u'amaze', 'While', 'EVERYTHING', 'on', 'the', 'menu', u'look', 'excellent', 'I', u'have', 'the', 'white', 'truffle', u'scramble', u'egg', 'vegetable', 'skillet', 'and', 'it', u'be', 'tasty', 'and', 'delicious', 'It', u'come', 'with', '2', u'piece', 'of', 'their', u'griddle', 'bread', 'with', u'be', u'amaze', 'and', 'it', 'absolutely', u'make', 'the', 'meal', 'complete', 'It', u'be', 'the', 'best', 'toast', 'I', \"'ve\", 'ever', u'have', 'Anyway', 'I', 'ca', \"n't\", 'wait', 'to', 'go', 'back']\n"
     ]
    }
   ],
   "source": [
    "# assume every word is a verb\n",
    "print [word.lemmatize(pos='v') for word in review.words]"
   ]
  },
  {
   "cell_type": "code",
<<<<<<< HEAD
   "execution_count": 37,
=======
   "execution_count": 40,
>>>>>>> 6e406458d42312dbabdbb8bde6a999d04dec0ad8
   "metadata": {
    "collapsed": false
   },
   "outputs": [],
   "source": [
    "# define a function that accepts text and returns a list of lemmas\n",
    "def split_into_lemmas(text):\n",
    "    text = unicode(text, 'utf-8').lower()\n",
    "    words = TextBlob(text).words\n",
    "    return [word.lemmatize() for word in words]"
   ]
  },
  {
   "cell_type": "code",
<<<<<<< HEAD
   "execution_count": 38,
=======
   "execution_count": 41,
>>>>>>> 6e406458d42312dbabdbb8bde6a999d04dec0ad8
   "metadata": {
    "collapsed": false
   },
   "outputs": [
    {
     "name": "stdout",
     "output_type": "stream",
     "text": [
      "Features:  16452\n",
      "Accuracy:  0.920743639922\n"
     ]
    }
   ],
   "source": [
    "# use split_into_lemmas as the feature extraction function (WARNING: SLOW!)\n",
    "vect = CountVectorizer(analyzer=split_into_lemmas)\n",
    "tokenize_test(vect)"
   ]
  },
  {
   "cell_type": "code",
<<<<<<< HEAD
   "execution_count": 39,
=======
   "execution_count": 42,
>>>>>>> 6e406458d42312dbabdbb8bde6a999d04dec0ad8
   "metadata": {
    "collapsed": false
   },
   "outputs": [
    {
     "name": "stdout",
     "output_type": "stream",
     "text": [
      "[u'yuyuyummy', u'yuzu', u'z', u'z-grill', u'z11', u'zach', u'zam', u'zanella', u'zankou', u'zappos', u'zatsiki', u'zen', u'zen-like', u'zero', u'zero-star', u'zest', u'zexperience', u'zha', u'zhou', u'zia', u'zilch', u'zin', u'zinburger', u'zinburgergeist', u'zinc', u'zinfandel', u'zing', u'zip', u'zipcar', u'zipper', u'zipps', u'ziti', u'zoe', u'zombi', u'zombie', u'zone', u'zoning', u'zoo', u'zoyo', u'zucca', u'zucchini', u'zuchinni', u'zumba', u'zupa', u'zuzu', u'zwiebel-kr\\xe4uter', u'zzed', u'\\xe9clairs', u'\\xe9cole', u'\\xe9m']\n"
     ]
    }
   ],
   "source": [
    "# last 50 features\n",
    "print vect.get_feature_names()[-50:]"
   ]
  },
  {
   "cell_type": "markdown",
   "metadata": {},
   "source": [
    "## Part 7: Term Frequency-Inverse Document Frequency (TF-IDF)"
   ]
  },
  {
   "cell_type": "markdown",
   "metadata": {},
   "source": [
    "- **What:** Computes \"relative frequency\" that a word appears in a document compared to its frequency across all documents\n",
    "- **Why:** More useful than \"term frequency\" for identifying \"important\" words in each document (high frequency in that document, low frequency in other documents)\n",
    "- **Notes:** Used for search engine scoring, text summarization, document clustering"
   ]
  },
  {
   "cell_type": "code",
<<<<<<< HEAD
   "execution_count": 40,
=======
   "execution_count": 43,
>>>>>>> 6e406458d42312dbabdbb8bde6a999d04dec0ad8
   "metadata": {
    "collapsed": false
   },
   "outputs": [],
   "source": [
    "# example documents\n",
    "simple_train = ['call you tonight', 'Call me a cab', 'please call me... PLEASE!']"
   ]
  },
  {
   "cell_type": "code",
<<<<<<< HEAD
   "execution_count": 41,
=======
   "execution_count": 44,
>>>>>>> 6e406458d42312dbabdbb8bde6a999d04dec0ad8
   "metadata": {
    "collapsed": false
   },
   "outputs": [
    {
     "data": {
      "text/html": [
       "<div>\n",
       "<table border=\"1\" class=\"dataframe\">\n",
       "  <thead>\n",
       "    <tr style=\"text-align: right;\">\n",
       "      <th></th>\n",
       "      <th>cab</th>\n",
       "      <th>call</th>\n",
       "      <th>me</th>\n",
       "      <th>please</th>\n",
       "      <th>tonight</th>\n",
       "      <th>you</th>\n",
       "    </tr>\n",
       "  </thead>\n",
       "  <tbody>\n",
       "    <tr>\n",
       "      <th>0</th>\n",
       "      <td>0</td>\n",
       "      <td>1</td>\n",
       "      <td>0</td>\n",
       "      <td>0</td>\n",
       "      <td>1</td>\n",
       "      <td>1</td>\n",
       "    </tr>\n",
       "    <tr>\n",
       "      <th>1</th>\n",
       "      <td>1</td>\n",
       "      <td>1</td>\n",
       "      <td>1</td>\n",
       "      <td>0</td>\n",
       "      <td>0</td>\n",
       "      <td>0</td>\n",
       "    </tr>\n",
       "    <tr>\n",
       "      <th>2</th>\n",
       "      <td>0</td>\n",
       "      <td>1</td>\n",
       "      <td>1</td>\n",
       "      <td>2</td>\n",
       "      <td>0</td>\n",
       "      <td>0</td>\n",
       "    </tr>\n",
       "  </tbody>\n",
       "</table>\n",
       "</div>"
      ],
      "text/plain": [
       "   cab  call  me  please  tonight  you\n",
       "0    0     1   0       0        1    1\n",
       "1    1     1   1       0        0    0\n",
       "2    0     1   1       2        0    0"
      ]
     },
<<<<<<< HEAD
     "execution_count": 41,
=======
     "execution_count": 44,
>>>>>>> 6e406458d42312dbabdbb8bde6a999d04dec0ad8
     "metadata": {},
     "output_type": "execute_result"
    }
   ],
   "source": [
    "# Term Frequency\n",
    "vect = CountVectorizer()\n",
    "tf = pd.DataFrame(vect.fit_transform(simple_train).toarray(), columns=vect.get_feature_names())\n",
    "tf"
   ]
  },
  {
   "cell_type": "code",
<<<<<<< HEAD
   "execution_count": 42,
=======
   "execution_count": 45,
>>>>>>> 6e406458d42312dbabdbb8bde6a999d04dec0ad8
   "metadata": {
    "collapsed": false
   },
   "outputs": [
    {
     "data": {
      "text/html": [
       "<div>\n",
       "<table border=\"1\" class=\"dataframe\">\n",
       "  <thead>\n",
       "    <tr style=\"text-align: right;\">\n",
       "      <th></th>\n",
       "      <th>cab</th>\n",
       "      <th>call</th>\n",
       "      <th>me</th>\n",
       "      <th>please</th>\n",
       "      <th>tonight</th>\n",
       "      <th>you</th>\n",
       "    </tr>\n",
       "  </thead>\n",
       "  <tbody>\n",
       "    <tr>\n",
       "      <th>0</th>\n",
       "      <td>1</td>\n",
       "      <td>3</td>\n",
       "      <td>2</td>\n",
       "      <td>1</td>\n",
       "      <td>1</td>\n",
       "      <td>1</td>\n",
       "    </tr>\n",
       "  </tbody>\n",
       "</table>\n",
       "</div>"
      ],
      "text/plain": [
       "   cab  call  me  please  tonight  you\n",
       "0    1     3   2       1        1    1"
      ]
     },
<<<<<<< HEAD
     "execution_count": 42,
=======
     "execution_count": 45,
>>>>>>> 6e406458d42312dbabdbb8bde6a999d04dec0ad8
     "metadata": {},
     "output_type": "execute_result"
    }
   ],
   "source": [
    "# Document Frequency\n",
    "vect = CountVectorizer(binary=True)\n",
    "df = vect.fit_transform(simple_train).toarray().sum(axis=0)\n",
    "pd.DataFrame(df.reshape(1, 6), columns=vect.get_feature_names())"
   ]
  },
  {
   "cell_type": "code",
<<<<<<< HEAD
   "execution_count": 43,
=======
   "execution_count": 46,
>>>>>>> 6e406458d42312dbabdbb8bde6a999d04dec0ad8
   "metadata": {
    "collapsed": false
   },
   "outputs": [
    {
     "data": {
      "text/html": [
       "<div>\n",
       "<table border=\"1\" class=\"dataframe\">\n",
       "  <thead>\n",
       "    <tr style=\"text-align: right;\">\n",
       "      <th></th>\n",
       "      <th>cab</th>\n",
       "      <th>call</th>\n",
       "      <th>me</th>\n",
       "      <th>please</th>\n",
       "      <th>tonight</th>\n",
       "      <th>you</th>\n",
       "    </tr>\n",
       "  </thead>\n",
       "  <tbody>\n",
       "    <tr>\n",
       "      <th>0</th>\n",
       "      <td>0.0</td>\n",
       "      <td>0.333333</td>\n",
       "      <td>0.0</td>\n",
       "      <td>0.0</td>\n",
       "      <td>1.0</td>\n",
       "      <td>1.0</td>\n",
       "    </tr>\n",
       "    <tr>\n",
       "      <th>1</th>\n",
       "      <td>1.0</td>\n",
       "      <td>0.333333</td>\n",
       "      <td>0.5</td>\n",
       "      <td>0.0</td>\n",
       "      <td>0.0</td>\n",
       "      <td>0.0</td>\n",
       "    </tr>\n",
       "    <tr>\n",
       "      <th>2</th>\n",
       "      <td>0.0</td>\n",
       "      <td>0.333333</td>\n",
       "      <td>0.5</td>\n",
       "      <td>2.0</td>\n",
       "      <td>0.0</td>\n",
       "      <td>0.0</td>\n",
       "    </tr>\n",
       "  </tbody>\n",
       "</table>\n",
       "</div>"
      ],
      "text/plain": [
       "   cab      call   me  please  tonight  you\n",
       "0  0.0  0.333333  0.0     0.0      1.0  1.0\n",
       "1  1.0  0.333333  0.5     0.0      0.0  0.0\n",
       "2  0.0  0.333333  0.5     2.0      0.0  0.0"
      ]
     },
<<<<<<< HEAD
     "execution_count": 43,
=======
     "execution_count": 46,
>>>>>>> 6e406458d42312dbabdbb8bde6a999d04dec0ad8
     "metadata": {},
     "output_type": "execute_result"
    }
   ],
   "source": [
    "# Term Frequency-Inverse Document Frequency (simple version)\n",
    "tf/df"
   ]
  },
  {
   "cell_type": "code",
<<<<<<< HEAD
   "execution_count": 44,
=======
   "execution_count": 47,
>>>>>>> 6e406458d42312dbabdbb8bde6a999d04dec0ad8
   "metadata": {
    "collapsed": false
   },
   "outputs": [
    {
     "data": {
      "text/html": [
       "<div>\n",
       "<table border=\"1\" class=\"dataframe\">\n",
       "  <thead>\n",
       "    <tr style=\"text-align: right;\">\n",
       "      <th></th>\n",
       "      <th>cab</th>\n",
       "      <th>call</th>\n",
       "      <th>me</th>\n",
       "      <th>please</th>\n",
       "      <th>tonight</th>\n",
       "      <th>you</th>\n",
       "    </tr>\n",
       "  </thead>\n",
       "  <tbody>\n",
       "    <tr>\n",
       "      <th>0</th>\n",
       "      <td>0.000000</td>\n",
       "      <td>0.385372</td>\n",
       "      <td>0.000000</td>\n",
       "      <td>0.000000</td>\n",
       "      <td>0.652491</td>\n",
       "      <td>0.652491</td>\n",
       "    </tr>\n",
       "    <tr>\n",
       "      <th>1</th>\n",
       "      <td>0.720333</td>\n",
       "      <td>0.425441</td>\n",
       "      <td>0.547832</td>\n",
       "      <td>0.000000</td>\n",
       "      <td>0.000000</td>\n",
       "      <td>0.000000</td>\n",
       "    </tr>\n",
       "    <tr>\n",
       "      <th>2</th>\n",
       "      <td>0.000000</td>\n",
       "      <td>0.266075</td>\n",
       "      <td>0.342620</td>\n",
       "      <td>0.901008</td>\n",
       "      <td>0.000000</td>\n",
       "      <td>0.000000</td>\n",
       "    </tr>\n",
       "  </tbody>\n",
       "</table>\n",
       "</div>"
      ],
      "text/plain": [
       "        cab      call        me    please   tonight       you\n",
       "0  0.000000  0.385372  0.000000  0.000000  0.652491  0.652491\n",
       "1  0.720333  0.425441  0.547832  0.000000  0.000000  0.000000\n",
       "2  0.000000  0.266075  0.342620  0.901008  0.000000  0.000000"
      ]
     },
<<<<<<< HEAD
     "execution_count": 44,
=======
     "execution_count": 47,
>>>>>>> 6e406458d42312dbabdbb8bde6a999d04dec0ad8
     "metadata": {},
     "output_type": "execute_result"
    }
   ],
   "source": [
    "# TfidfVectorizer\n",
    "vect = TfidfVectorizer()\n",
    "pd.DataFrame(vect.fit_transform(simple_train).toarray(), columns=vect.get_feature_names())"
   ]
  },
  {
   "cell_type": "markdown",
   "metadata": {},
   "source": [
    "**More details:** [TF-IDF is about what matters](http://planspace.org/20150524-tfidf_is_about_what_matters/)"
   ]
  },
  {
   "cell_type": "markdown",
   "metadata": {},
   "source": [
    "## Part 8: Using TF-IDF to Summarize a Yelp Review\n",
    "\n",
    "Reddit's autotldr uses the [SMMRY](http://smmry.com/about) algorithm, which is based on TF-IDF!"
   ]
  },
  {
   "cell_type": "code",
<<<<<<< HEAD
   "execution_count": 45,
=======
   "execution_count": 48,
>>>>>>> 6e406458d42312dbabdbb8bde6a999d04dec0ad8
   "metadata": {
    "collapsed": false
   },
   "outputs": [
    {
     "data": {
      "text/plain": [
       "(10000, 28881)"
      ]
     },
<<<<<<< HEAD
     "execution_count": 45,
=======
     "execution_count": 48,
>>>>>>> 6e406458d42312dbabdbb8bde6a999d04dec0ad8
     "metadata": {},
     "output_type": "execute_result"
    }
   ],
   "source": [
    "# create a document-term matrix using TF-IDF\n",
    "vect = TfidfVectorizer(stop_words='english')\n",
    "dtm = vect.fit_transform(yelp.text)\n",
    "features = vect.get_feature_names()\n",
    "dtm.shape"
   ]
  },
  {
   "cell_type": "code",
<<<<<<< HEAD
   "execution_count": 46,
=======
   "execution_count": 50,
>>>>>>> 6e406458d42312dbabdbb8bde6a999d04dec0ad8
   "metadata": {
    "collapsed": false
   },
   "outputs": [],
   "source": [
    "def summarize():\n",
    "    \n",
    "    # choose a random review that is at least 300 characters\n",
    "    review_length = 0\n",
    "    while review_length < 300:\n",
    "        review_id = np.random.randint(0, len(yelp))\n",
    "        review_text = unicode(yelp.text[review_id], 'utf-8')\n",
    "        review_length = len(review_text)\n",
    "    \n",
    "    # create a dictionary of words and their TF-IDF scores\n",
    "    word_scores = {}\n",
    "    for word in TextBlob(review_text).words:\n",
    "        word = word.lower()\n",
    "        if word in features:\n",
    "            word_scores[word] = dtm[review_id, features.index(word)]\n",
    "    \n",
    "    # print words with the top 5 TF-IDF scores\n",
    "    print 'TOP SCORING WORDS:'\n",
    "    top_scores = sorted(word_scores.items(), key=lambda x: x[1], reverse=True)[:5]\n",
    "    for word, score in top_scores:\n",
    "        print word\n",
    "    \n",
    "    # print 5 random words\n",
    "    print '\\n' + 'RANDOM WORDS:'\n",
    "    random_words = np.random.choice(word_scores.keys(), size=5, replace=False)\n",
    "    for word in random_words:\n",
    "        print word\n",
    "    \n",
    "    # print the review\n",
    "    print '\\n' + review_text"
   ]
  },
  {
   "cell_type": "code",
<<<<<<< HEAD
   "execution_count": 49,
=======
   "execution_count": 53,
>>>>>>> 6e406458d42312dbabdbb8bde6a999d04dec0ad8
   "metadata": {
    "collapsed": false
   },
   "outputs": [
    {
     "name": "stdout",
     "output_type": "stream",
     "text": [
      "TOP SCORING WORDS:\n",
<<<<<<< HEAD
      "heart\n",
      "baby\n",
      "goliath\n",
      "etsy\n",
      "jewelery\n",
      "\n",
      "RANDOM WORDS:\n",
      "hope\n",
      "realize\n",
      "stuff\n",
      "places\n",
      "phoenix\n",
      "\n",
      "Places like Made make me realize that there is hope for my life in Phoenix.  It is a cute converted house shop that carries a wide array of stuff that you won't find easily elsewhere.  \n",
      "\n",
      "There is lots of cute baby stuff that I would laugh at if I ever saw a baby wearing.  The jewelery is unique and cool- it made me feel like I had etsy right in front of me, live!  They have some good books around and some key David and Goliath pieces.  \n",
      "\n",
      "I heart places like Made, so therefore I heart Made.\n"
=======
      "hood\n",
      "correct\n",
      "lady\n",
      "summer\n",
      "thirstbuster\n",
      "\n",
      "RANDOM WORDS:\n",
      "thirstbuster\n",
      "good\n",
      "taco\n",
      "old\n",
      "asked\n",
      "\n",
      "I am a harsh critic when it comes to Mexican Food.  My good buddy Paul talked me into coming to this place.  When I asked him what to expect, he was correct in saying: \"Don't worry dude, just get the green on green with a taco on the side and watch the hood life unfold.\"  He was CORRECT!  This place is in the hood and they open at 10:30am for lunch.  The lines get long at about 11am.  They have a video game from the 80s while you wait. They serve drinks in THE CAN so I would suggest getting a 32oz thirstbuster beforehand.  If you go in the summer, you will be HOT in the summer heat as the only place to sit are at the picnic tables located OUTSIDE of course.  If you try to alter your order, you will be SCOWLED AT by the cashier.  However, if you treat her with respect, she will say something in spanish to the old heavy hispanic lady in the kitchen who stirs the chili and the fat lady will either NOD or shake her head.  All in all - a great place to eat!!\n"
>>>>>>> 6e406458d42312dbabdbb8bde6a999d04dec0ad8
     ]
    }
   ],
   "source": [
    "summarize()"
   ]
  },
  {
   "cell_type": "markdown",
   "metadata": {},
   "source": [
    "## Part 9: Sentiment Analysis"
   ]
  },
  {
   "cell_type": "code",
<<<<<<< HEAD
   "execution_count": 50,
=======
   "execution_count": 54,
>>>>>>> 6e406458d42312dbabdbb8bde6a999d04dec0ad8
   "metadata": {
    "collapsed": false
   },
   "outputs": [
    {
     "name": "stdout",
     "output_type": "stream",
     "text": [
      "My wife took me here on my birthday for breakfast and it was excellent.  The weather was perfect which made sitting outside overlooking their grounds an absolute pleasure.  Our waitress was excellent and our food arrived quickly on the semi-busy Saturday morning.  It looked like the place fills up pretty quickly so the earlier you get here the better.\n",
      "\n",
      "Do yourself a favor and get their Bloody Mary.  It was phenomenal and simply the best I've ever had.  I'm pretty sure they only use ingredients from their garden and blend them fresh when you order it.  It was amazing.\n",
      "\n",
      "While EVERYTHING on the menu looks excellent, I had the white truffle scrambled eggs vegetable skillet and it was tasty and delicious.  It came with 2 pieces of their griddled bread with was amazing and it absolutely made the meal complete.  It was the best \"toast\" I've ever had.\n",
      "\n",
      "Anyway, I can't wait to go back!\n"
     ]
    }
   ],
   "source": [
    "print review"
   ]
  },
  {
   "cell_type": "code",
<<<<<<< HEAD
   "execution_count": 51,
=======
   "execution_count": 55,
>>>>>>> 6e406458d42312dbabdbb8bde6a999d04dec0ad8
   "metadata": {
    "collapsed": false
   },
   "outputs": [
    {
     "data": {
      "text/plain": [
       "0.40246913580246907"
      ]
     },
<<<<<<< HEAD
     "execution_count": 51,
=======
     "execution_count": 55,
>>>>>>> 6e406458d42312dbabdbb8bde6a999d04dec0ad8
     "metadata": {},
     "output_type": "execute_result"
    }
   ],
   "source": [
    "# polarity ranges from -1 (most negative) to 1 (most positive)\n",
    "review.sentiment.polarity"
   ]
  },
  {
   "cell_type": "code",
<<<<<<< HEAD
   "execution_count": 52,
=======
   "execution_count": 56,
>>>>>>> 6e406458d42312dbabdbb8bde6a999d04dec0ad8
   "metadata": {
    "collapsed": false
   },
   "outputs": [
    {
     "data": {
      "text/html": [
       "<div>\n",
       "<table border=\"1\" class=\"dataframe\">\n",
       "  <thead>\n",
       "    <tr style=\"text-align: right;\">\n",
       "      <th></th>\n",
       "      <th>business_id</th>\n",
       "      <th>date</th>\n",
       "      <th>review_id</th>\n",
       "      <th>stars</th>\n",
       "      <th>text</th>\n",
       "      <th>type</th>\n",
       "      <th>user_id</th>\n",
       "      <th>cool</th>\n",
       "      <th>useful</th>\n",
       "      <th>funny</th>\n",
       "      <th>length</th>\n",
       "    </tr>\n",
       "  </thead>\n",
       "  <tbody>\n",
       "    <tr>\n",
       "      <th>0</th>\n",
       "      <td>9yKzy9PApeiPPOUJEtnvkg</td>\n",
       "      <td>2011-01-26</td>\n",
       "      <td>fWKvX83p0-ka4JS3dc6E5A</td>\n",
       "      <td>5</td>\n",
       "      <td>My wife took me here on my birthday for breakf...</td>\n",
       "      <td>review</td>\n",
       "      <td>rLtl8ZkDX5vH5nAx9C3q5Q</td>\n",
       "      <td>2</td>\n",
       "      <td>5</td>\n",
       "      <td>0</td>\n",
       "      <td>889</td>\n",
       "    </tr>\n",
       "  </tbody>\n",
       "</table>\n",
       "</div>"
      ],
      "text/plain": [
       "              business_id        date               review_id  stars  \\\n",
       "0  9yKzy9PApeiPPOUJEtnvkg  2011-01-26  fWKvX83p0-ka4JS3dc6E5A      5   \n",
       "\n",
       "                                                text    type  \\\n",
       "0  My wife took me here on my birthday for breakf...  review   \n",
       "\n",
       "                  user_id  cool  useful  funny  length  \n",
       "0  rLtl8ZkDX5vH5nAx9C3q5Q     2       5      0     889  "
      ]
     },
<<<<<<< HEAD
     "execution_count": 52,
=======
     "execution_count": 56,
>>>>>>> 6e406458d42312dbabdbb8bde6a999d04dec0ad8
     "metadata": {},
     "output_type": "execute_result"
    }
   ],
   "source": [
    "# understanding the apply method\n",
    "yelp['length'] = yelp.text.apply(len)\n",
    "yelp.head(1)"
   ]
  },
  {
   "cell_type": "code",
<<<<<<< HEAD
   "execution_count": 53,
=======
   "execution_count": 57,
>>>>>>> 6e406458d42312dbabdbb8bde6a999d04dec0ad8
   "metadata": {
    "collapsed": false
   },
   "outputs": [],
   "source": [
    "# define a function that accepts text and returns the polarity\n",
    "def detect_sentiment(text):\n",
    "    return TextBlob(text.decode('utf-8')).sentiment.polarity"
   ]
  },
  {
   "cell_type": "code",
<<<<<<< HEAD
   "execution_count": 54,
=======
   "execution_count": 58,
>>>>>>> 6e406458d42312dbabdbb8bde6a999d04dec0ad8
   "metadata": {
    "collapsed": false
   },
   "outputs": [],
   "source": [
    "# create a new DataFrame column for sentiment (WARNING: SLOW!)\n",
    "yelp['sentiment'] = yelp.text.apply(detect_sentiment)"
   ]
  },
  {
   "cell_type": "code",
   "execution_count": 55,
   "metadata": {
    "collapsed": false
   },
   "outputs": [
    {
     "data": {
      "text/plain": [
       "Index([u'business_id', u'date', u'review_id', u'stars', u'text', u'type',\n",
       "       u'user_id', u'cool', u'useful', u'funny', u'length', u'sentiment'],\n",
       "      dtype='object')"
      ]
     },
     "execution_count": 55,
     "metadata": {},
     "output_type": "execute_result"
    }
   ],
   "source": [
    "yelp.columns"
   ]
  },
  {
   "cell_type": "code",
<<<<<<< HEAD
   "execution_count": 56,
=======
   "execution_count": 59,
>>>>>>> 6e406458d42312dbabdbb8bde6a999d04dec0ad8
   "metadata": {
    "collapsed": true
   },
   "outputs": [],
   "source": [
    "yelp_best_worst = yelp[(yelp.stars==5) | (yelp.stars==1)]"
   ]
  },
  {
   "cell_type": "code",
<<<<<<< HEAD
   "execution_count": 57,
=======
   "execution_count": 60,
>>>>>>> 6e406458d42312dbabdbb8bde6a999d04dec0ad8
   "metadata": {
    "collapsed": false
   },
   "outputs": [
    {
     "data": {
      "text/plain": [
<<<<<<< HEAD
       "<matplotlib.axes._subplots.AxesSubplot at 0x118009190>"
      ]
     },
     "execution_count": 57,
=======
       "<matplotlib.axes._subplots.AxesSubplot at 0x103198fd0>"
      ]
     },
     "execution_count": 60,
>>>>>>> 6e406458d42312dbabdbb8bde6a999d04dec0ad8
     "metadata": {},
     "output_type": "execute_result"
    },
    {
     "data": {
<<<<<<< HEAD
      "image/png": "iVBORw0KGgoAAAANSUhEUgAAAhsAAAGICAYAAADoPSLNAAAABHNCSVQICAgIfAhkiAAAAAlwSFlz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\n",
      "text/plain": [
       "<matplotlib.figure.Figure at 0x1186d79d0>"
=======
      "image/png": "iVBORw0KGgoAAAANSUhEUgAAAhsAAAGICAYAAADoPSLNAAAABHNCSVQICAgIfAhkiAAAAAlwSFlz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\nig0RERFJlIoNERERSdT/B60KFraPx7fvAAAAAElFTkSuQmCC\n",
      "text/plain": [
       "<matplotlib.figure.Figure at 0x11c4b8310>"
>>>>>>> 6e406458d42312dbabdbb8bde6a999d04dec0ad8
      ]
     },
     "metadata": {},
     "output_type": "display_data"
    }
   ],
   "source": [
    "# box plot of sentiment grouped by stars\n",
    "yelp.boxplot(column='sentiment', by='stars')"
   ]
  },
  {
   "cell_type": "code",
<<<<<<< HEAD
   "execution_count": 58,
=======
   "execution_count": 61,
>>>>>>> 6e406458d42312dbabdbb8bde6a999d04dec0ad8
   "metadata": {
    "collapsed": false
   },
   "outputs": [
    {
     "data": {
      "text/plain": [
       "254    Our server Gary was awesome. Food was amazing....\n",
       "347    3 syllables for this place. \\nA-MAZ-ING!\\n\\nTh...\n",
       "420                                    LOVE the food!!!!\n",
       "459    Love it!!! Wish we still lived in Arizona as C...\n",
       "679                                     Excellent burger\n",
       "Name: text, dtype: object"
      ]
     },
<<<<<<< HEAD
     "execution_count": 58,
=======
     "execution_count": 61,
>>>>>>> 6e406458d42312dbabdbb8bde6a999d04dec0ad8
     "metadata": {},
     "output_type": "execute_result"
    }
   ],
   "source": [
    "# reviews with most positive sentiment\n",
    "yelp[yelp.sentiment == 1].text.head()"
   ]
  },
  {
   "cell_type": "code",
<<<<<<< HEAD
   "execution_count": 59,
=======
   "execution_count": 62,
>>>>>>> 6e406458d42312dbabdbb8bde6a999d04dec0ad8
   "metadata": {
    "collapsed": false
   },
   "outputs": [
    {
     "data": {
      "text/plain": [
       "773     This was absolutely horrible. I got the suprem...\n",
       "1517                  Nasty workers and over priced trash\n",
       "3266    Absolutely awful... these guys have NO idea wh...\n",
       "4766                                       Very bad food!\n",
       "5812        I wouldn't send my worst enemy to this place.\n",
       "Name: text, dtype: object"
      ]
     },
<<<<<<< HEAD
     "execution_count": 59,
=======
     "execution_count": 62,
>>>>>>> 6e406458d42312dbabdbb8bde6a999d04dec0ad8
     "metadata": {},
     "output_type": "execute_result"
    }
   ],
   "source": [
    "# reviews with most negative sentiment\n",
    "yelp[yelp.sentiment == -1].text.head()"
   ]
  },
  {
   "cell_type": "code",
<<<<<<< HEAD
   "execution_count": 60,
=======
   "execution_count": 63,
>>>>>>> 6e406458d42312dbabdbb8bde6a999d04dec0ad8
   "metadata": {
    "collapsed": false
   },
   "outputs": [],
   "source": [
    "# widen the column display\n",
    "pd.set_option('max_colwidth', 500)"
   ]
  },
  {
   "cell_type": "code",
   "execution_count": 64,
   "metadata": {
    "collapsed": false
   },
   "outputs": [
    {
     "data": {
      "text/html": [
       "<div>\n",
       "<table border=\"1\" class=\"dataframe\">\n",
       "  <thead>\n",
       "    <tr style=\"text-align: right;\">\n",
       "      <th></th>\n",
       "      <th>business_id</th>\n",
       "      <th>date</th>\n",
       "      <th>review_id</th>\n",
       "      <th>stars</th>\n",
       "      <th>text</th>\n",
       "      <th>type</th>\n",
       "      <th>user_id</th>\n",
       "      <th>cool</th>\n",
       "      <th>useful</th>\n",
       "      <th>funny</th>\n",
       "      <th>length</th>\n",
       "      <th>sentiment</th>\n",
       "    </tr>\n",
       "  </thead>\n",
       "  <tbody>\n",
       "    <tr>\n",
       "      <th>390</th>\n",
       "      <td>106JT5p8e8Chtd0CZpcARw</td>\n",
       "      <td>2009-08-06</td>\n",
       "      <td>KowGVoP_gygzdSu6Mt3zKQ</td>\n",
       "      <td>5</td>\n",
       "      <td>RIP AZ Coffee Connection.  :(  I stopped by two days ago unaware that they had closed.  I am severely bummed.  This place is irreplaceable!  Damn you, Starbucks and McDonalds!</td>\n",
       "      <td>review</td>\n",
       "      <td>jKeaOrPyJ-dI9SNeVqrbww</td>\n",
       "      <td>1</td>\n",
       "      <td>0</td>\n",
       "      <td>0</td>\n",
       "      <td>175</td>\n",
       "      <td>-0.302083</td>\n",
       "    </tr>\n",
       "  </tbody>\n",
       "</table>\n",
       "</div>"
      ],
      "text/plain": [
       "                business_id        date               review_id  stars  \\\n",
       "390  106JT5p8e8Chtd0CZpcARw  2009-08-06  KowGVoP_gygzdSu6Mt3zKQ      5   \n",
       "\n",
       "                                                                                                                                                                                text  \\\n",
       "390  RIP AZ Coffee Connection.  :(  I stopped by two days ago unaware that they had closed.  I am severely bummed.  This place is irreplaceable!  Damn you, Starbucks and McDonalds!   \n",
       "\n",
       "       type                 user_id  cool  useful  funny  length  sentiment  \n",
       "390  review  jKeaOrPyJ-dI9SNeVqrbww     1       0      0     175  -0.302083  "
      ]
     },
     "execution_count": 64,
     "metadata": {},
     "output_type": "execute_result"
    }
   ],
   "source": [
    "# negative sentiment in a 5-star review\n",
    "yelp[(yelp.stars == 5) & (yelp.sentiment < -0.3)].head(1)"
   ]
  },
  {
   "cell_type": "code",
<<<<<<< HEAD
   "execution_count": 61,
=======
   "execution_count": 65,
>>>>>>> 6e406458d42312dbabdbb8bde6a999d04dec0ad8
   "metadata": {
    "collapsed": false
   },
   "outputs": [
    {
     "data": {
      "text/html": [
       "<div>\n",
       "<table border=\"1\" class=\"dataframe\">\n",
       "  <thead>\n",
       "    <tr style=\"text-align: right;\">\n",
       "      <th></th>\n",
       "      <th>business_id</th>\n",
       "      <th>date</th>\n",
       "      <th>review_id</th>\n",
       "      <th>stars</th>\n",
       "      <th>text</th>\n",
       "      <th>type</th>\n",
       "      <th>user_id</th>\n",
       "      <th>cool</th>\n",
       "      <th>useful</th>\n",
       "      <th>funny</th>\n",
       "      <th>length</th>\n",
       "      <th>sentiment</th>\n",
       "    </tr>\n",
       "  </thead>\n",
       "  <tbody>\n",
       "    <tr>\n",
       "      <th>1781</th>\n",
       "      <td>53YGfwmbW73JhFiemNeyzQ</td>\n",
       "      <td>2012-06-22</td>\n",
       "      <td>Gi-4O3EhE175vujbFGDIew</td>\n",
       "      <td>1</td>\n",
       "      <td>If you like the stuck up Scottsdale vibe this is a good place for you. The food isn't impressive. Nice outdoor seating.</td>\n",
       "      <td>review</td>\n",
       "      <td>Hqgx3IdJAAaoQjvrUnbNvw</td>\n",
       "      <td>0</td>\n",
       "      <td>1</td>\n",
       "      <td>2</td>\n",
       "      <td>119</td>\n",
       "      <td>0.766667</td>\n",
       "    </tr>\n",
       "  </tbody>\n",
       "</table>\n",
       "</div>"
      ],
      "text/plain": [
       "                 business_id        date               review_id  stars  \\\n",
       "1781  53YGfwmbW73JhFiemNeyzQ  2012-06-22  Gi-4O3EhE175vujbFGDIew      1   \n",
       "\n",
       "                                                                                                                         text  \\\n",
       "1781  If you like the stuck up Scottsdale vibe this is a good place for you. The food isn't impressive. Nice outdoor seating.   \n",
       "\n",
       "        type                 user_id  cool  useful  funny  length  sentiment  \n",
       "1781  review  Hqgx3IdJAAaoQjvrUnbNvw     0       1      2     119   0.766667  "
      ]
     },
<<<<<<< HEAD
     "execution_count": 61,
=======
     "execution_count": 65,
>>>>>>> 6e406458d42312dbabdbb8bde6a999d04dec0ad8
     "metadata": {},
     "output_type": "execute_result"
    }
   ],
   "source": [
    "# positive sentiment in a 1-star review\n",
    "yelp[(yelp.stars == 1) & (yelp.sentiment > 0.5)].head(1)"
   ]
  },
  {
   "cell_type": "code",
<<<<<<< HEAD
   "execution_count": 62,
=======
   "execution_count": 66,
>>>>>>> 6e406458d42312dbabdbb8bde6a999d04dec0ad8
   "metadata": {
    "collapsed": false
   },
   "outputs": [],
   "source": [
    "# reset the column display width\n",
    "pd.reset_option('max_colwidth')"
   ]
  },
  {
   "cell_type": "markdown",
   "metadata": {},
   "source": [
    "## Bonus: Adding Features to a Document-Term Matrix"
   ]
  },
  {
   "cell_type": "code",
   "execution_count": 63,
   "metadata": {
    "collapsed": true
   },
   "outputs": [],
   "source": [
    "# create a DataFrame that only contains the 5-star and 1-star reviews\n",
    "yelp_best_worst = yelp[(yelp.stars==5) | (yelp.stars==1)]\n",
    "\n",
    "# define X and y\n",
    "feature_cols = ['text', 'sentiment', 'cool', 'useful', 'funny']\n",
    "X = yelp_best_worst[feature_cols]\n",
    "y = yelp_best_worst.stars\n",
    "\n",
    "# split into training and testing sets\n",
    "X_train, X_test, y_train, y_test = train_test_split(X, y, random_state=1)"
   ]
  },
  {
   "cell_type": "code",
   "execution_count": 53,
   "metadata": {
    "collapsed": false
   },
   "outputs": [
    {
     "name": "stdout",
     "output_type": "stream",
     "text": [
      "(3064, 16825)\n",
      "(1022, 16825)\n"
     ]
    }
   ],
   "source": [
    "# use CountVectorizer with text column only\n",
    "vect = CountVectorizer()\n",
    "X_train_dtm = vect.fit_transform(X_train.text)\n",
    "X_test_dtm = vect.transform(X_test.text)\n",
    "print X_train_dtm.shape\n",
    "print X_test_dtm.shape"
   ]
  },
  {
   "cell_type": "code",
   "execution_count": 54,
   "metadata": {
    "collapsed": false
   },
   "outputs": [
    {
     "data": {
      "text/plain": [
       "(3064, 4)"
      ]
     },
     "execution_count": 54,
     "metadata": {},
     "output_type": "execute_result"
    }
   ],
   "source": [
    "# shape of other four feature columns\n",
    "X_train.drop('text', axis=1).shape"
   ]
  },
  {
   "cell_type": "code",
   "execution_count": 55,
   "metadata": {
    "collapsed": false
   },
   "outputs": [
    {
     "data": {
      "text/plain": [
       "(3064, 4)"
      ]
     },
     "execution_count": 55,
     "metadata": {},
     "output_type": "execute_result"
    }
   ],
   "source": [
    "# cast other feature columns to float and convert to a sparse matrix\n",
    "extra = sp.sparse.csr_matrix(X_train.drop('text', axis=1).astype(float))\n",
    "extra.shape"
   ]
  },
  {
   "cell_type": "code",
   "execution_count": 56,
   "metadata": {
    "collapsed": false
   },
   "outputs": [
    {
     "data": {
      "text/plain": [
       "(3064, 16829)"
      ]
     },
     "execution_count": 56,
     "metadata": {},
     "output_type": "execute_result"
    }
   ],
   "source": [
    "# combine sparse matrices\n",
    "X_train_dtm_extra = sp.sparse.hstack((X_train_dtm, extra))\n",
    "X_train_dtm_extra.shape"
   ]
  },
  {
   "cell_type": "code",
   "execution_count": 57,
   "metadata": {
    "collapsed": false
   },
   "outputs": [
    {
     "data": {
      "text/plain": [
       "(1022, 16829)"
      ]
     },
     "execution_count": 57,
     "metadata": {},
     "output_type": "execute_result"
    }
   ],
   "source": [
    "# repeat for testing set\n",
    "extra = sp.sparse.csr_matrix(X_test.drop('text', axis=1).astype(float))\n",
    "X_test_dtm_extra = sp.sparse.hstack((X_test_dtm, extra))\n",
    "X_test_dtm_extra.shape"
   ]
  },
  {
   "cell_type": "code",
   "execution_count": 58,
   "metadata": {
    "collapsed": false
   },
   "outputs": [
    {
     "name": "stdout",
     "output_type": "stream",
     "text": [
      "0.917808219178\n"
     ]
    }
   ],
   "source": [
    "# use logistic regression with text column only\n",
    "logreg = LogisticRegression(C=1e9)\n",
    "logreg.fit(X_train_dtm, y_train)\n",
    "y_pred_class = logreg.predict(X_test_dtm)\n",
    "print metrics.accuracy_score(y_test, y_pred_class)"
   ]
  },
  {
   "cell_type": "code",
   "execution_count": 59,
   "metadata": {
    "collapsed": false
   },
   "outputs": [
    {
     "name": "stdout",
     "output_type": "stream",
     "text": [
      "0.922700587084\n"
     ]
    }
   ],
   "source": [
    "# use logistic regression with all features\n",
    "logreg = LogisticRegression(C=1e9)\n",
    "logreg.fit(X_train_dtm_extra, y_train)\n",
    "y_pred_class = logreg.predict(X_test_dtm_extra)\n",
    "print metrics.accuracy_score(y_test, y_pred_class)"
   ]
  },
  {
   "cell_type": "markdown",
   "metadata": {},
   "source": [
    "## Bonus: Fun TextBlob Features"
   ]
  },
  {
   "cell_type": "code",
<<<<<<< HEAD
   "execution_count": 68,
=======
   "execution_count": 67,
>>>>>>> 6e406458d42312dbabdbb8bde6a999d04dec0ad8
   "metadata": {
    "collapsed": false
   },
   "outputs": [
    {
     "data": {
      "text/plain": [
       "TextBlob(\"15 minutes late\")"
      ]
     },
<<<<<<< HEAD
     "execution_count": 68,
=======
     "execution_count": 67,
>>>>>>> 6e406458d42312dbabdbb8bde6a999d04dec0ad8
     "metadata": {},
     "output_type": "execute_result"
    }
   ],
   "source": [
    "# spelling correction\n",
    "TextBlob('15 minuets late').correct()"
   ]
  },
  {
   "cell_type": "code",
<<<<<<< HEAD
   "execution_count": 69,
=======
   "execution_count": 68,
>>>>>>> 6e406458d42312dbabdbb8bde6a999d04dec0ad8
   "metadata": {
    "collapsed": false
   },
   "outputs": [
    {
     "data": {
      "text/plain": [
       "[('part', 0.9929478138222849), (u'parrot', 0.007052186177715092)]"
      ]
     },
<<<<<<< HEAD
     "execution_count": 69,
=======
     "execution_count": 68,
>>>>>>> 6e406458d42312dbabdbb8bde6a999d04dec0ad8
     "metadata": {},
     "output_type": "execute_result"
    }
   ],
   "source": [
    "# spellcheck\n",
    "Word('parot').spellcheck()"
   ]
  },
  {
   "cell_type": "code",
   "execution_count": 70,
   "metadata": {
    "collapsed": false
   },
   "outputs": [
    {
     "data": {
      "text/plain": [
       "[u'sloping land (especially the slope beside a body of water)',\n",
       " u'a financial institution that accepts deposits and channels the money into lending activities',\n",
       " u'a long ridge or pile',\n",
       " u'an arrangement of similar objects in a row or in tiers',\n",
       " u'a supply or stock held in reserve for future use (especially in emergencies)',\n",
       " u'the funds held by a gambling house or the dealer in some gambling games',\n",
       " u'a slope in the turn of a road or track; the outside is higher than the inside in order to reduce the effects of centrifugal force',\n",
       " u'a container (usually with a slot in the top) for keeping money at home',\n",
       " u'a building in which the business of banking transacted',\n",
       " u'a flight maneuver; aircraft tips laterally about its longitudinal axis (especially in turning)']"
      ]
     },
     "execution_count": 70,
     "metadata": {},
     "output_type": "execute_result"
    }
   ],
   "source": [
    "# definitions\n",
    "Word('bank').define('n')"
   ]
  },
  {
   "cell_type": "code",
   "execution_count": 47,
   "metadata": {
    "collapsed": false
   },
   "outputs": [
    {
     "ename": "HTTPError",
     "evalue": "HTTP Error 503: Service Unavailable",
     "output_type": "error",
     "traceback": [
      "\u001b[0;31m---------------------------------------------------------------------------\u001b[0m",
      "\u001b[0;31mHTTPError\u001b[0m                                 Traceback (most recent call last)",
      "\u001b[0;32m<ipython-input-47-f2b33364af22>\u001b[0m in \u001b[0;36m<module>\u001b[0;34m()\u001b[0m\n\u001b[1;32m      1\u001b[0m \u001b[0;31m# language identification\u001b[0m\u001b[0;34m\u001b[0m\u001b[0;34m\u001b[0m\u001b[0m\n\u001b[0;32m----> 2\u001b[0;31m \u001b[0mTextBlob\u001b[0m\u001b[0;34m(\u001b[0m\u001b[0;34m'Hola amigos'\u001b[0m\u001b[0;34m)\u001b[0m\u001b[0;34m.\u001b[0m\u001b[0mdetect_language\u001b[0m\u001b[0;34m(\u001b[0m\u001b[0;34m)\u001b[0m\u001b[0;34m\u001b[0m\u001b[0m\n\u001b[0m",
      "\u001b[0;32m/Users/JosephNelson/anaconda2/lib/python2.7/site-packages/textblob/blob.pyc\u001b[0m in \u001b[0;36mdetect_language\u001b[0;34m(self)\u001b[0m\n\u001b[1;32m    524\u001b[0m         \u001b[0;34m:\u001b[0m\u001b[0mrtype\u001b[0m\u001b[0;34m:\u001b[0m \u001b[0mstr\u001b[0m\u001b[0;34m\u001b[0m\u001b[0m\n\u001b[1;32m    525\u001b[0m         \"\"\"\n\u001b[0;32m--> 526\u001b[0;31m         \u001b[0;32mreturn\u001b[0m \u001b[0mself\u001b[0m\u001b[0;34m.\u001b[0m\u001b[0mtranslator\u001b[0m\u001b[0;34m.\u001b[0m\u001b[0mdetect\u001b[0m\u001b[0;34m(\u001b[0m\u001b[0mself\u001b[0m\u001b[0;34m.\u001b[0m\u001b[0mraw\u001b[0m\u001b[0;34m)\u001b[0m\u001b[0;34m\u001b[0m\u001b[0m\n\u001b[0m\u001b[1;32m    527\u001b[0m \u001b[0;34m\u001b[0m\u001b[0m\n\u001b[1;32m    528\u001b[0m     \u001b[0;32mdef\u001b[0m \u001b[0mcorrect\u001b[0m\u001b[0;34m(\u001b[0m\u001b[0mself\u001b[0m\u001b[0;34m)\u001b[0m\u001b[0;34m:\u001b[0m\u001b[0;34m\u001b[0m\u001b[0m\n",
      "\u001b[0;32m/Users/JosephNelson/anaconda2/lib/python2.7/site-packages/textblob/translate.pyc\u001b[0m in \u001b[0;36mdetect\u001b[0;34m(self, source, host, type_)\u001b[0m\n\u001b[1;32m     70\u001b[0m                 \u001b[0;34m\"dt\"\u001b[0m\u001b[0;34m:\u001b[0m \u001b[0;34m\"at\"\u001b[0m\u001b[0;34m,\u001b[0m \u001b[0;34m\"tk\"\u001b[0m\u001b[0;34m:\u001b[0m \u001b[0m_calculate_tk\u001b[0m\u001b[0;34m(\u001b[0m\u001b[0msource\u001b[0m\u001b[0;34m)\u001b[0m\u001b[0;34m,\u001b[0m\u001b[0;34m\u001b[0m\u001b[0m\n\u001b[1;32m     71\u001b[0m                 \"sl\": \"auto\", \"text\": source}\n\u001b[0;32m---> 72\u001b[0;31m         \u001b[0mresponse\u001b[0m \u001b[0;34m=\u001b[0m \u001b[0mself\u001b[0m\u001b[0;34m.\u001b[0m\u001b[0m_request\u001b[0m\u001b[0;34m(\u001b[0m\u001b[0mself\u001b[0m\u001b[0;34m.\u001b[0m\u001b[0murl\u001b[0m\u001b[0;34m,\u001b[0m \u001b[0mhost\u001b[0m\u001b[0;34m=\u001b[0m\u001b[0mhost\u001b[0m\u001b[0;34m,\u001b[0m \u001b[0mtype_\u001b[0m\u001b[0;34m=\u001b[0m\u001b[0mtype_\u001b[0m\u001b[0;34m,\u001b[0m \u001b[0mdata\u001b[0m\u001b[0;34m=\u001b[0m\u001b[0mdata\u001b[0m\u001b[0;34m)\u001b[0m\u001b[0;34m\u001b[0m\u001b[0m\n\u001b[0m\u001b[1;32m     73\u001b[0m         \u001b[0mresult\u001b[0m\u001b[0;34m,\u001b[0m \u001b[0mlanguage\u001b[0m \u001b[0;34m=\u001b[0m \u001b[0mjson\u001b[0m\u001b[0;34m.\u001b[0m\u001b[0mloads\u001b[0m\u001b[0;34m(\u001b[0m\u001b[0mresponse\u001b[0m\u001b[0;34m)\u001b[0m\u001b[0;34m\u001b[0m\u001b[0m\n\u001b[1;32m     74\u001b[0m         \u001b[0;32mreturn\u001b[0m \u001b[0mlanguage\u001b[0m\u001b[0;34m\u001b[0m\u001b[0m\n",
      "\u001b[0;32m/Users/JosephNelson/anaconda2/lib/python2.7/site-packages/textblob/translate.pyc\u001b[0m in \u001b[0;36m_request\u001b[0;34m(self, url, host, type_, data)\u001b[0m\n\u001b[1;32m     90\u001b[0m         \u001b[0;32mif\u001b[0m \u001b[0mhost\u001b[0m \u001b[0;32mor\u001b[0m \u001b[0mtype_\u001b[0m\u001b[0;34m:\u001b[0m\u001b[0;34m\u001b[0m\u001b[0m\n\u001b[1;32m     91\u001b[0m             \u001b[0mreq\u001b[0m\u001b[0;34m.\u001b[0m\u001b[0mset_proxy\u001b[0m\u001b[0;34m(\u001b[0m\u001b[0mhost\u001b[0m\u001b[0;34m=\u001b[0m\u001b[0mhost\u001b[0m\u001b[0;34m,\u001b[0m \u001b[0mtype\u001b[0m\u001b[0;34m=\u001b[0m\u001b[0mtype_\u001b[0m\u001b[0;34m)\u001b[0m\u001b[0;34m\u001b[0m\u001b[0m\n\u001b[0;32m---> 92\u001b[0;31m         \u001b[0mresp\u001b[0m \u001b[0;34m=\u001b[0m \u001b[0mrequest\u001b[0m\u001b[0;34m.\u001b[0m\u001b[0murlopen\u001b[0m\u001b[0;34m(\u001b[0m\u001b[0mreq\u001b[0m\u001b[0;34m)\u001b[0m\u001b[0;34m\u001b[0m\u001b[0m\n\u001b[0m\u001b[1;32m     93\u001b[0m         \u001b[0mcontent\u001b[0m \u001b[0;34m=\u001b[0m \u001b[0mresp\u001b[0m\u001b[0;34m.\u001b[0m\u001b[0mread\u001b[0m\u001b[0;34m(\u001b[0m\u001b[0;34m)\u001b[0m\u001b[0;34m\u001b[0m\u001b[0m\n\u001b[1;32m     94\u001b[0m         \u001b[0;32mreturn\u001b[0m \u001b[0mcontent\u001b[0m\u001b[0;34m.\u001b[0m\u001b[0mdecode\u001b[0m\u001b[0;34m(\u001b[0m\u001b[0;34m'utf-8'\u001b[0m\u001b[0;34m)\u001b[0m\u001b[0;34m\u001b[0m\u001b[0m\n",
      "\u001b[0;32m/Users/JosephNelson/anaconda2/lib/python2.7/urllib2.pyc\u001b[0m in \u001b[0;36murlopen\u001b[0;34m(url, data, timeout, cafile, capath, cadefault, context)\u001b[0m\n\u001b[1;32m    152\u001b[0m     \u001b[0;32melse\u001b[0m\u001b[0;34m:\u001b[0m\u001b[0;34m\u001b[0m\u001b[0m\n\u001b[1;32m    153\u001b[0m         \u001b[0mopener\u001b[0m \u001b[0;34m=\u001b[0m \u001b[0m_opener\u001b[0m\u001b[0;34m\u001b[0m\u001b[0m\n\u001b[0;32m--> 154\u001b[0;31m     \u001b[0;32mreturn\u001b[0m \u001b[0mopener\u001b[0m\u001b[0;34m.\u001b[0m\u001b[0mopen\u001b[0m\u001b[0;34m(\u001b[0m\u001b[0murl\u001b[0m\u001b[0;34m,\u001b[0m \u001b[0mdata\u001b[0m\u001b[0;34m,\u001b[0m \u001b[0mtimeout\u001b[0m\u001b[0;34m)\u001b[0m\u001b[0;34m\u001b[0m\u001b[0m\n\u001b[0m\u001b[1;32m    155\u001b[0m \u001b[0;34m\u001b[0m\u001b[0m\n\u001b[1;32m    156\u001b[0m \u001b[0;32mdef\u001b[0m \u001b[0minstall_opener\u001b[0m\u001b[0;34m(\u001b[0m\u001b[0mopener\u001b[0m\u001b[0;34m)\u001b[0m\u001b[0;34m:\u001b[0m\u001b[0;34m\u001b[0m\u001b[0m\n",
      "\u001b[0;32m/Users/JosephNelson/anaconda2/lib/python2.7/urllib2.pyc\u001b[0m in \u001b[0;36mopen\u001b[0;34m(self, fullurl, data, timeout)\u001b[0m\n\u001b[1;32m    433\u001b[0m         \u001b[0;32mfor\u001b[0m \u001b[0mprocessor\u001b[0m \u001b[0;32min\u001b[0m \u001b[0mself\u001b[0m\u001b[0;34m.\u001b[0m\u001b[0mprocess_response\u001b[0m\u001b[0;34m.\u001b[0m\u001b[0mget\u001b[0m\u001b[0;34m(\u001b[0m\u001b[0mprotocol\u001b[0m\u001b[0;34m,\u001b[0m \u001b[0;34m[\u001b[0m\u001b[0;34m]\u001b[0m\u001b[0;34m)\u001b[0m\u001b[0;34m:\u001b[0m\u001b[0;34m\u001b[0m\u001b[0m\n\u001b[1;32m    434\u001b[0m             \u001b[0mmeth\u001b[0m \u001b[0;34m=\u001b[0m \u001b[0mgetattr\u001b[0m\u001b[0;34m(\u001b[0m\u001b[0mprocessor\u001b[0m\u001b[0;34m,\u001b[0m \u001b[0mmeth_name\u001b[0m\u001b[0;34m)\u001b[0m\u001b[0;34m\u001b[0m\u001b[0m\n\u001b[0;32m--> 435\u001b[0;31m             \u001b[0mresponse\u001b[0m \u001b[0;34m=\u001b[0m \u001b[0mmeth\u001b[0m\u001b[0;34m(\u001b[0m\u001b[0mreq\u001b[0m\u001b[0;34m,\u001b[0m \u001b[0mresponse\u001b[0m\u001b[0;34m)\u001b[0m\u001b[0;34m\u001b[0m\u001b[0m\n\u001b[0m\u001b[1;32m    436\u001b[0m \u001b[0;34m\u001b[0m\u001b[0m\n\u001b[1;32m    437\u001b[0m         \u001b[0;32mreturn\u001b[0m \u001b[0mresponse\u001b[0m\u001b[0;34m\u001b[0m\u001b[0m\n",
      "\u001b[0;32m/Users/JosephNelson/anaconda2/lib/python2.7/urllib2.pyc\u001b[0m in \u001b[0;36mhttp_response\u001b[0;34m(self, request, response)\u001b[0m\n\u001b[1;32m    546\u001b[0m         \u001b[0;32mif\u001b[0m \u001b[0;32mnot\u001b[0m \u001b[0;34m(\u001b[0m\u001b[0;36m200\u001b[0m \u001b[0;34m<=\u001b[0m \u001b[0mcode\u001b[0m \u001b[0;34m<\u001b[0m \u001b[0;36m300\u001b[0m\u001b[0;34m)\u001b[0m\u001b[0;34m:\u001b[0m\u001b[0;34m\u001b[0m\u001b[0m\n\u001b[1;32m    547\u001b[0m             response = self.parent.error(\n\u001b[0;32m--> 548\u001b[0;31m                 'http', request, response, code, msg, hdrs)\n\u001b[0m\u001b[1;32m    549\u001b[0m \u001b[0;34m\u001b[0m\u001b[0m\n\u001b[1;32m    550\u001b[0m         \u001b[0;32mreturn\u001b[0m \u001b[0mresponse\u001b[0m\u001b[0;34m\u001b[0m\u001b[0m\n",
      "\u001b[0;32m/Users/JosephNelson/anaconda2/lib/python2.7/urllib2.pyc\u001b[0m in \u001b[0;36merror\u001b[0;34m(self, proto, *args)\u001b[0m\n\u001b[1;32m    465\u001b[0m             \u001b[0mhttp_err\u001b[0m \u001b[0;34m=\u001b[0m \u001b[0;36m0\u001b[0m\u001b[0;34m\u001b[0m\u001b[0m\n\u001b[1;32m    466\u001b[0m         \u001b[0margs\u001b[0m \u001b[0;34m=\u001b[0m \u001b[0;34m(\u001b[0m\u001b[0mdict\u001b[0m\u001b[0;34m,\u001b[0m \u001b[0mproto\u001b[0m\u001b[0;34m,\u001b[0m \u001b[0mmeth_name\u001b[0m\u001b[0;34m)\u001b[0m \u001b[0;34m+\u001b[0m \u001b[0margs\u001b[0m\u001b[0;34m\u001b[0m\u001b[0m\n\u001b[0;32m--> 467\u001b[0;31m         \u001b[0mresult\u001b[0m \u001b[0;34m=\u001b[0m \u001b[0mself\u001b[0m\u001b[0;34m.\u001b[0m\u001b[0m_call_chain\u001b[0m\u001b[0;34m(\u001b[0m\u001b[0;34m*\u001b[0m\u001b[0margs\u001b[0m\u001b[0;34m)\u001b[0m\u001b[0;34m\u001b[0m\u001b[0m\n\u001b[0m\u001b[1;32m    468\u001b[0m         \u001b[0;32mif\u001b[0m \u001b[0mresult\u001b[0m\u001b[0;34m:\u001b[0m\u001b[0;34m\u001b[0m\u001b[0m\n\u001b[1;32m    469\u001b[0m             \u001b[0;32mreturn\u001b[0m \u001b[0mresult\u001b[0m\u001b[0;34m\u001b[0m\u001b[0m\n",
      "\u001b[0;32m/Users/JosephNelson/anaconda2/lib/python2.7/urllib2.pyc\u001b[0m in \u001b[0;36m_call_chain\u001b[0;34m(self, chain, kind, meth_name, *args)\u001b[0m\n\u001b[1;32m    405\u001b[0m             \u001b[0mfunc\u001b[0m \u001b[0;34m=\u001b[0m \u001b[0mgetattr\u001b[0m\u001b[0;34m(\u001b[0m\u001b[0mhandler\u001b[0m\u001b[0;34m,\u001b[0m \u001b[0mmeth_name\u001b[0m\u001b[0;34m)\u001b[0m\u001b[0;34m\u001b[0m\u001b[0m\n\u001b[1;32m    406\u001b[0m \u001b[0;34m\u001b[0m\u001b[0m\n\u001b[0;32m--> 407\u001b[0;31m             \u001b[0mresult\u001b[0m \u001b[0;34m=\u001b[0m \u001b[0mfunc\u001b[0m\u001b[0;34m(\u001b[0m\u001b[0;34m*\u001b[0m\u001b[0margs\u001b[0m\u001b[0;34m)\u001b[0m\u001b[0;34m\u001b[0m\u001b[0m\n\u001b[0m\u001b[1;32m    408\u001b[0m             \u001b[0;32mif\u001b[0m \u001b[0mresult\u001b[0m \u001b[0;32mis\u001b[0m \u001b[0;32mnot\u001b[0m \u001b[0mNone\u001b[0m\u001b[0;34m:\u001b[0m\u001b[0;34m\u001b[0m\u001b[0m\n\u001b[1;32m    409\u001b[0m                 \u001b[0;32mreturn\u001b[0m \u001b[0mresult\u001b[0m\u001b[0;34m\u001b[0m\u001b[0m\n",
      "\u001b[0;32m/Users/JosephNelson/anaconda2/lib/python2.7/urllib2.pyc\u001b[0m in \u001b[0;36mhttp_error_302\u001b[0;34m(self, req, fp, code, msg, headers)\u001b[0m\n\u001b[1;32m    652\u001b[0m         \u001b[0mfp\u001b[0m\u001b[0;34m.\u001b[0m\u001b[0mclose\u001b[0m\u001b[0;34m(\u001b[0m\u001b[0;34m)\u001b[0m\u001b[0;34m\u001b[0m\u001b[0m\n\u001b[1;32m    653\u001b[0m \u001b[0;34m\u001b[0m\u001b[0m\n\u001b[0;32m--> 654\u001b[0;31m         \u001b[0;32mreturn\u001b[0m \u001b[0mself\u001b[0m\u001b[0;34m.\u001b[0m\u001b[0mparent\u001b[0m\u001b[0;34m.\u001b[0m\u001b[0mopen\u001b[0m\u001b[0;34m(\u001b[0m\u001b[0mnew\u001b[0m\u001b[0;34m,\u001b[0m \u001b[0mtimeout\u001b[0m\u001b[0;34m=\u001b[0m\u001b[0mreq\u001b[0m\u001b[0;34m.\u001b[0m\u001b[0mtimeout\u001b[0m\u001b[0;34m)\u001b[0m\u001b[0;34m\u001b[0m\u001b[0m\n\u001b[0m\u001b[1;32m    655\u001b[0m \u001b[0;34m\u001b[0m\u001b[0m\n\u001b[1;32m    656\u001b[0m     \u001b[0mhttp_error_301\u001b[0m \u001b[0;34m=\u001b[0m \u001b[0mhttp_error_303\u001b[0m \u001b[0;34m=\u001b[0m \u001b[0mhttp_error_307\u001b[0m \u001b[0;34m=\u001b[0m \u001b[0mhttp_error_302\u001b[0m\u001b[0;34m\u001b[0m\u001b[0m\n",
      "\u001b[0;32m/Users/JosephNelson/anaconda2/lib/python2.7/urllib2.pyc\u001b[0m in \u001b[0;36mopen\u001b[0;34m(self, fullurl, data, timeout)\u001b[0m\n\u001b[1;32m    433\u001b[0m         \u001b[0;32mfor\u001b[0m \u001b[0mprocessor\u001b[0m \u001b[0;32min\u001b[0m \u001b[0mself\u001b[0m\u001b[0;34m.\u001b[0m\u001b[0mprocess_response\u001b[0m\u001b[0;34m.\u001b[0m\u001b[0mget\u001b[0m\u001b[0;34m(\u001b[0m\u001b[0mprotocol\u001b[0m\u001b[0;34m,\u001b[0m \u001b[0;34m[\u001b[0m\u001b[0;34m]\u001b[0m\u001b[0;34m)\u001b[0m\u001b[0;34m:\u001b[0m\u001b[0;34m\u001b[0m\u001b[0m\n\u001b[1;32m    434\u001b[0m             \u001b[0mmeth\u001b[0m \u001b[0;34m=\u001b[0m \u001b[0mgetattr\u001b[0m\u001b[0;34m(\u001b[0m\u001b[0mprocessor\u001b[0m\u001b[0;34m,\u001b[0m \u001b[0mmeth_name\u001b[0m\u001b[0;34m)\u001b[0m\u001b[0;34m\u001b[0m\u001b[0m\n\u001b[0;32m--> 435\u001b[0;31m             \u001b[0mresponse\u001b[0m \u001b[0;34m=\u001b[0m \u001b[0mmeth\u001b[0m\u001b[0;34m(\u001b[0m\u001b[0mreq\u001b[0m\u001b[0;34m,\u001b[0m \u001b[0mresponse\u001b[0m\u001b[0;34m)\u001b[0m\u001b[0;34m\u001b[0m\u001b[0m\n\u001b[0m\u001b[1;32m    436\u001b[0m \u001b[0;34m\u001b[0m\u001b[0m\n\u001b[1;32m    437\u001b[0m         \u001b[0;32mreturn\u001b[0m \u001b[0mresponse\u001b[0m\u001b[0;34m\u001b[0m\u001b[0m\n",
      "\u001b[0;32m/Users/JosephNelson/anaconda2/lib/python2.7/urllib2.pyc\u001b[0m in \u001b[0;36mhttp_response\u001b[0;34m(self, request, response)\u001b[0m\n\u001b[1;32m    546\u001b[0m         \u001b[0;32mif\u001b[0m \u001b[0;32mnot\u001b[0m \u001b[0;34m(\u001b[0m\u001b[0;36m200\u001b[0m \u001b[0;34m<=\u001b[0m \u001b[0mcode\u001b[0m \u001b[0;34m<\u001b[0m \u001b[0;36m300\u001b[0m\u001b[0;34m)\u001b[0m\u001b[0;34m:\u001b[0m\u001b[0;34m\u001b[0m\u001b[0m\n\u001b[1;32m    547\u001b[0m             response = self.parent.error(\n\u001b[0;32m--> 548\u001b[0;31m                 'http', request, response, code, msg, hdrs)\n\u001b[0m\u001b[1;32m    549\u001b[0m \u001b[0;34m\u001b[0m\u001b[0m\n\u001b[1;32m    550\u001b[0m         \u001b[0;32mreturn\u001b[0m \u001b[0mresponse\u001b[0m\u001b[0;34m\u001b[0m\u001b[0m\n",
      "\u001b[0;32m/Users/JosephNelson/anaconda2/lib/python2.7/urllib2.pyc\u001b[0m in \u001b[0;36merror\u001b[0;34m(self, proto, *args)\u001b[0m\n\u001b[1;32m    471\u001b[0m         \u001b[0;32mif\u001b[0m \u001b[0mhttp_err\u001b[0m\u001b[0;34m:\u001b[0m\u001b[0;34m\u001b[0m\u001b[0m\n\u001b[1;32m    472\u001b[0m             \u001b[0margs\u001b[0m \u001b[0;34m=\u001b[0m \u001b[0;34m(\u001b[0m\u001b[0mdict\u001b[0m\u001b[0;34m,\u001b[0m \u001b[0;34m'default'\u001b[0m\u001b[0;34m,\u001b[0m \u001b[0;34m'http_error_default'\u001b[0m\u001b[0;34m)\u001b[0m \u001b[0;34m+\u001b[0m \u001b[0morig_args\u001b[0m\u001b[0;34m\u001b[0m\u001b[0m\n\u001b[0;32m--> 473\u001b[0;31m             \u001b[0;32mreturn\u001b[0m \u001b[0mself\u001b[0m\u001b[0;34m.\u001b[0m\u001b[0m_call_chain\u001b[0m\u001b[0;34m(\u001b[0m\u001b[0;34m*\u001b[0m\u001b[0margs\u001b[0m\u001b[0;34m)\u001b[0m\u001b[0;34m\u001b[0m\u001b[0m\n\u001b[0m\u001b[1;32m    474\u001b[0m \u001b[0;34m\u001b[0m\u001b[0m\n\u001b[1;32m    475\u001b[0m \u001b[0;31m# XXX probably also want an abstract factory that knows when it makes\u001b[0m\u001b[0;34m\u001b[0m\u001b[0;34m\u001b[0m\u001b[0m\n",
      "\u001b[0;32m/Users/JosephNelson/anaconda2/lib/python2.7/urllib2.pyc\u001b[0m in \u001b[0;36m_call_chain\u001b[0;34m(self, chain, kind, meth_name, *args)\u001b[0m\n\u001b[1;32m    405\u001b[0m             \u001b[0mfunc\u001b[0m \u001b[0;34m=\u001b[0m \u001b[0mgetattr\u001b[0m\u001b[0;34m(\u001b[0m\u001b[0mhandler\u001b[0m\u001b[0;34m,\u001b[0m \u001b[0mmeth_name\u001b[0m\u001b[0;34m)\u001b[0m\u001b[0;34m\u001b[0m\u001b[0m\n\u001b[1;32m    406\u001b[0m \u001b[0;34m\u001b[0m\u001b[0m\n\u001b[0;32m--> 407\u001b[0;31m             \u001b[0mresult\u001b[0m \u001b[0;34m=\u001b[0m \u001b[0mfunc\u001b[0m\u001b[0;34m(\u001b[0m\u001b[0;34m*\u001b[0m\u001b[0margs\u001b[0m\u001b[0;34m)\u001b[0m\u001b[0;34m\u001b[0m\u001b[0m\n\u001b[0m\u001b[1;32m    408\u001b[0m             \u001b[0;32mif\u001b[0m \u001b[0mresult\u001b[0m \u001b[0;32mis\u001b[0m \u001b[0;32mnot\u001b[0m \u001b[0mNone\u001b[0m\u001b[0;34m:\u001b[0m\u001b[0;34m\u001b[0m\u001b[0m\n\u001b[1;32m    409\u001b[0m                 \u001b[0;32mreturn\u001b[0m \u001b[0mresult\u001b[0m\u001b[0;34m\u001b[0m\u001b[0m\n",
      "\u001b[0;32m/Users/JosephNelson/anaconda2/lib/python2.7/urllib2.pyc\u001b[0m in \u001b[0;36mhttp_error_default\u001b[0;34m(self, req, fp, code, msg, hdrs)\u001b[0m\n\u001b[1;32m    554\u001b[0m \u001b[0;32mclass\u001b[0m \u001b[0mHTTPDefaultErrorHandler\u001b[0m\u001b[0;34m(\u001b[0m\u001b[0mBaseHandler\u001b[0m\u001b[0;34m)\u001b[0m\u001b[0;34m:\u001b[0m\u001b[0;34m\u001b[0m\u001b[0m\n\u001b[1;32m    555\u001b[0m     \u001b[0;32mdef\u001b[0m \u001b[0mhttp_error_default\u001b[0m\u001b[0;34m(\u001b[0m\u001b[0mself\u001b[0m\u001b[0;34m,\u001b[0m \u001b[0mreq\u001b[0m\u001b[0;34m,\u001b[0m \u001b[0mfp\u001b[0m\u001b[0;34m,\u001b[0m \u001b[0mcode\u001b[0m\u001b[0;34m,\u001b[0m \u001b[0mmsg\u001b[0m\u001b[0;34m,\u001b[0m \u001b[0mhdrs\u001b[0m\u001b[0;34m)\u001b[0m\u001b[0;34m:\u001b[0m\u001b[0;34m\u001b[0m\u001b[0m\n\u001b[0;32m--> 556\u001b[0;31m         \u001b[0;32mraise\u001b[0m \u001b[0mHTTPError\u001b[0m\u001b[0;34m(\u001b[0m\u001b[0mreq\u001b[0m\u001b[0;34m.\u001b[0m\u001b[0mget_full_url\u001b[0m\u001b[0;34m(\u001b[0m\u001b[0;34m)\u001b[0m\u001b[0;34m,\u001b[0m \u001b[0mcode\u001b[0m\u001b[0;34m,\u001b[0m \u001b[0mmsg\u001b[0m\u001b[0;34m,\u001b[0m \u001b[0mhdrs\u001b[0m\u001b[0;34m,\u001b[0m \u001b[0mfp\u001b[0m\u001b[0;34m)\u001b[0m\u001b[0;34m\u001b[0m\u001b[0m\n\u001b[0m\u001b[1;32m    557\u001b[0m \u001b[0;34m\u001b[0m\u001b[0m\n\u001b[1;32m    558\u001b[0m \u001b[0;32mclass\u001b[0m \u001b[0mHTTPRedirectHandler\u001b[0m\u001b[0;34m(\u001b[0m\u001b[0mBaseHandler\u001b[0m\u001b[0;34m)\u001b[0m\u001b[0;34m:\u001b[0m\u001b[0;34m\u001b[0m\u001b[0m\n",
      "\u001b[0;31mHTTPError\u001b[0m: HTTP Error 503: Service Unavailable"
     ]
    }
   ],
   "source": [
    "# Deprecated\n",
    "# language identification\n",
    "# TextBlob('Hola amigos').detect_language()"
   ]
  },
  {
   "cell_type": "markdown",
   "metadata": {},
   "source": [
    "## Conclusion\n",
    "\n",
    "- NLP is a gigantic field\n",
    "- Understanding the basics broadens the types of data you can work with\n",
    "- Simple techniques go a long way\n",
    "- Use scikit-learn for NLP whenever possible"
   ]
  }
 ],
 "metadata": {
  "anaconda-cloud": {},
  "kernelspec": {
   "display_name": "Python [conda env:py27]",
   "language": "python",
   "name": "conda-env-py27-py"
  },
  "language_info": {
   "codemirror_mode": {
    "name": "ipython",
    "version": 2
   },
   "file_extension": ".py",
   "mimetype": "text/x-python",
   "name": "python",
   "nbconvert_exporter": "python",
   "pygments_lexer": "ipython2",
   "version": "2.7.12"
  }
 },
 "nbformat": 4,
 "nbformat_minor": 0
}
