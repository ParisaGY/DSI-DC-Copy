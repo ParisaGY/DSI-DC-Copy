{
 "cells": [
  {
   "cell_type": "markdown",
   "metadata": {},
   "source": [
    "# Fizz Buzz\n",
    "Fizz Buzz is a classic coding interview challenge.  The expectations are quite simple...\n",
    "\n",
    "- Print the numbers 1..100.\n",
    "- For multiples of 3, print \"Fizz\" instead of the number.\n",
    "- For multiples of 5, print \"Buzz\" instead of the number.\n",
    "- For multiples of 3 and 5, print \"FizzBuzz\" instead of the number."
   ]
  },
  {
   "cell_type": "code",
   "execution_count": null,
   "metadata": {
    "collapsed": true
   },
   "outputs": [],
   "source": [
    "# Neil\n",
    "for i in range(1,101):\n",
    "    if i%5==0 and i%3==0:\n",
    "        print('Fizz Buzz')\n",
    "    elif i%3 == 0:\n",
    "        print('Fizz')\n",
    "    elif i%5 == 0:\n",
    "        print('Buzz')\n",
    "    else:\n",
    "        print i"
   ]
  },
  {
   "cell_type": "code",
   "execution_count": null,
   "metadata": {
    "collapsed": true
   },
   "outputs": [],
   "source": [
    "# Phil\n",
    "for i in range(1,101):\n",
    "    \n",
    "    if i%3 == 0 | i%5 ==0:\n",
    "        print \"FizzBuzz\"\n",
    "    elif i%5 == 0:\n",
    "        print \"Buzz\"\n",
    "    elif i%3 == 0:\n",
    "        print \"Fizz\"\n",
    "    else:\n",
    "        print i"
   ]
  },
  {
   "cell_type": "code",
   "execution_count": null,
   "metadata": {
    "collapsed": true
   },
   "outputs": [],
   "source": [
    "# Ritika\n",
    "for i in range(1,101):\n",
    "    \n",
    "    if i%15 == 0:\n",
    "        print \"FizzBuzz\"\n",
    "    elif i%5 == 0:\n",
    "        print \"Buzz\"\n",
    "    elif i%3 == 0:\n",
    "        print \"Fizz\"\n",
    "    else:\n",
    "        print i"
   ]
  },
  {
   "cell_type": "code",
   "execution_count": null,
   "metadata": {
    "collapsed": true
   },
   "outputs": [],
   "source": []
  }
 ],
 "metadata": {
  "kernelspec": {
   "display_name": "Python [default]",
   "language": "python",
   "name": "python2"
  },
  "language_info": {
   "codemirror_mode": {
    "name": "ipython",
    "version": 2
   },
   "file_extension": ".py",
   "mimetype": "text/x-python",
   "name": "python",
   "nbconvert_exporter": "python",
   "pygments_lexer": "ipython2",
   "version": "2.7.12"
  }
 },
 "nbformat": 4,
 "nbformat_minor": 1
}
