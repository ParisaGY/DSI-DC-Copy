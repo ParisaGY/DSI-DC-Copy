{
 "cells": [
  {
   "cell_type": "markdown",
   "metadata": {
    "deletable": true,
    "editable": true
   },
   "source": [
    "### Challenge 3: String Compressor\n",
    "Implement a method to perform basic string compression using the counts of repeated characters. For example, the string 'aabcccccaaa' would become a2b1c5a3. If the “compressed” string would not become smaller than the original string, your method should return the original string. You can assume the string has only uppercase and lowercase letters (a-z). Specify whether your solution is case sensitive or insensitive, and what you would need to change to make it the other. "
   ]
  },
  {
   "cell_type": "code",
   "execution_count": 92,
   "metadata": {
    "collapsed": false,
    "deletable": true,
    "editable": true
   },
   "outputs": [],
   "source": [
    "string = 'aabcccccaaa'"
   ]
  },
  {
   "cell_type": "code",
   "execution_count": 52,
   "metadata": {
    "collapsed": false
   },
   "outputs": [],
   "source": [
    "# Nathan\n",
    "def compress_string(string):\n",
    "    string_test = ''\n",
    "    for i in list(set(string.lower())):\n",
    "        string_test += i + str(string.lower().count(i))\n",
    "    if len(string) <= len(string_test):\n",
    "        print \"STRING IS SHORTER THAN COMPRESSED VERSION OF\", string\n",
    "    else:\n",
    "        print \"COMPRESSED STRING =\", string_test"
   ]
  },
  {
   "cell_type": "code",
   "execution_count": 57,
   "metadata": {
    "collapsed": false
   },
   "outputs": [
    {
     "name": "stdout",
     "output_type": "stream",
     "text": [
      "STRING IS SHORTER THAN COMPRESSED VERSION OF aabcd\n"
     ]
    }
   ],
   "source": [
    "compress_string('aabcd')"
   ]
  },
  {
   "cell_type": "code",
   "execution_count": null,
   "metadata": {
    "collapsed": true
   },
   "outputs": [],
   "source": []
  },
  {
   "cell_type": "code",
   "execution_count": 58,
   "metadata": {
    "collapsed": true
   },
   "outputs": [],
   "source": [
    "# Neil\n",
    "def compressor1(string):\n",
    "    string = string\n",
    "    strlist = []\n",
    "    count = 1\n",
    "\n",
    "    for i in range(len(string)):\n",
    "        try:\n",
    "            if string[i].lower() == string[i+1].lower():\n",
    "                count += 1\n",
    "            elif string[i].lower() != string[i+1].lower():\n",
    "                strlist.append(string[i].lower() + str(count))\n",
    "                count = 1\n",
    "        except:\n",
    "            strlist.append(string[-1].lower() + str(count))\n",
    "           \n",
    "    compressed = \"\".join(strlist)\n",
    "   \n",
    "    if len(compressed) < len(string):\n",
    "        print compressed\n",
    "    else:\n",
    "        print string.lower()"
   ]
  },
  {
   "cell_type": "code",
   "execution_count": 98,
   "metadata": {
    "collapsed": false
   },
   "outputs": [
    {
     "name": "stdout",
     "output_type": "stream",
     "text": [
      "a2b1c5a3\n"
     ]
    }
   ],
   "source": [
    "compressor1(string)"
   ]
  },
  {
   "cell_type": "code",
   "execution_count": null,
   "metadata": {
    "collapsed": true
   },
   "outputs": [],
   "source": [
    "# Sam\n",
    "def compressor(string):\n",
    "    # setting local variables\n",
    "    splits = [len(string)]\n",
    "    compressed = ''\n",
    "    parse = None\n",
    "    #checking the type to make sure this is a string being compressed.\n",
    "    if type(string) != str:\n",
    "        print 'Invalid data type'\n",
    "    else:    \n",
    "        \n",
    "        for i in range(len(string)): # using index values\n",
    "    \n",
    "            if string[i] != string[i-1]: # assessing if indexed values are not alike.\n",
    "                splits.append(i) # appends index values where values in string change\n",
    "                splits.sort()\n",
    "        for x in range(len(splits)-1): # since i use x+1 i need the range of index to be one less\n",
    "            parse = string[splits[x]:splits[x+1]] # gathers like chunks from the string using the index splits\n",
    "            # adds first value of a string chunk and the length of the chunk to the compressed variable.\n",
    "            compressed = compressed + parse[0] + str(len(parse))\n",
    "            \n",
    "        # checks the original with the compressed for length\n",
    "        if len(compressed) < len(string):\n",
    "            print compressed\n",
    "        else:\n",
    "            print string\n",
    "# Fixed my issue which was with the splits list holding too many values.\n",
    "\n",
    "# I would improve this by adding a argument to the function \n",
    "#specifying if the user wants to be case sensitive or not"
   ]
  },
  {
   "cell_type": "code",
   "execution_count": null,
   "metadata": {
    "collapsed": true
   },
   "outputs": [],
   "source": []
  },
  {
   "cell_type": "code",
   "execution_count": null,
   "metadata": {
    "collapsed": true
   },
   "outputs": [],
   "source": [
    "# Bonus: Using itertools to do this\n",
    "import itertools\n",
    "\n",
    "def compressor(string):\n",
    "    output = ''\n",
    "    for k, g in itertools.groupby(string):\n",
    "        output += k + str(len(list(g)))\n",
    "    if len(output) > len(string):\n",
    "        print string\n",
    "    else:\n",
    "        print output"
   ]
  }
 ],
 "metadata": {
  "anaconda-cloud": {},
  "kernelspec": {
   "display_name": "Python [default]",
   "language": "python",
   "name": "python2"
  },
  "language_info": {
   "codemirror_mode": {
    "name": "ipython",
    "version": 2
   },
   "file_extension": ".py",
   "mimetype": "text/x-python",
   "name": "python",
   "nbconvert_exporter": "python",
   "pygments_lexer": "ipython2",
   "version": "2.7.12"
  }
 },
 "nbformat": 4,
 "nbformat_minor": 2
}
