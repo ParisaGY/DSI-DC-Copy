{
 "cells": [
  {
   "cell_type": "markdown",
   "metadata": {},
   "source": [
    "### Challenge 7: Minimum Distance\n",
    "\n",
    "Given two arrays of integers, compute the pair of values (one value in each array) with the smallest (non-negative) difference. Return the difference. E.g. input: [1, 3, 15, 11, 2], [23, 127, 235, 19, 8] returns 3 (the difference between 11 and 8)\n",
    "\n",
    "Hint: 'abs()'"
   ]
  },
  {
   "cell_type": "code",
   "execution_count": 17,
   "metadata": {
    "collapsed": false
   },
   "outputs": [
    {
     "name": "stdout",
     "output_type": "stream",
     "text": [
      "11\n",
      "8\n",
      "3.0\n"
     ]
    }
   ],
   "source": [
    "list1=[1, 3, 15, 11, 2]\n",
    "list2=[23, 127, 235, 19, 8]\n",
    "\n",
    "subtract=100.0\n",
    "value1=0.0\n",
    "value2=0.0\n",
    "diff=0.0\n",
    "for ii in list1:\n",
    "    for jj in list2:\n",
    "        if abs(float(ii)-float(jj)) <= subtract:\n",
    "            value1=ii\n",
    "            value2=jj\n",
    "            subtract=abs(float(ii)-float(jj))\n",
    "            \n",
    "print value1\n",
    "print value2\n",
    "print subtract"
   ]
  },
  {
   "cell_type": "code",
   "execution_count": 14,
   "metadata": {
    "collapsed": true
   },
   "outputs": [],
   "source": [
    "def find_the_min(list1,list2):\n",
    "    subtract=100.0\n",
    "    value1=0.0\n",
    "    value2=0.0\n",
    "    diff=0.0\n",
    "    for ii in list1:\n",
    "        for jj in list2:\n",
    "            if abs(float(ii)-float(jj)) <= subtract:\n",
    "                value1=ii\n",
    "                value2=jj\n",
    "                subtract=abs(float(ii)-float(jj))\n",
    "    return value1,value2,subtract\n",
    "            \n"
   ]
  },
  {
   "cell_type": "code",
   "execution_count": 16,
   "metadata": {
    "collapsed": false
   },
   "outputs": [
    {
     "data": {
      "text/plain": [
       "(3.1, 3, 0.10000000000000009)"
      ]
     },
     "execution_count": 16,
     "metadata": {},
     "output_type": "execute_result"
    }
   ],
   "source": [
    "find_the_min(list1, list2)"
   ]
  },
  {
   "cell_type": "code",
   "execution_count": null,
   "metadata": {
    "collapsed": true
   },
   "outputs": [],
   "source": []
  }
 ],
 "metadata": {
  "anaconda-cloud": {},
  "kernelspec": {
   "display_name": "Python 2",
   "language": "python",
   "name": "python2"
  },
  "language_info": {
   "codemirror_mode": {
    "name": "ipython",
    "version": 2
   },
   "file_extension": ".py",
   "mimetype": "text/x-python",
   "name": "python",
   "nbconvert_exporter": "python",
   "pygments_lexer": "ipython2",
   "version": "2.7.12"
  }
 },
 "nbformat": 4,
 "nbformat_minor": 2
}
