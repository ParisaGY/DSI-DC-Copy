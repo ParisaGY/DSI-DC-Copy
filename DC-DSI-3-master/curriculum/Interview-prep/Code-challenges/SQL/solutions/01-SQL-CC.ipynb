{
 "cells": [
  {
   "cell_type": "markdown",
   "metadata": {},
   "source": [
    "## SQL Code Challenge 1\n",
    "I'm thinking two parts\n",
    "- **Part I: Basic SQL query stuff**\n",
    "\n",
    "> - Create and append information to tables with CREATE, INSERT and UPDATE.\n",
    "> - Select data with SELECT, DISTINCT, WHERE and ORDER BY clauses.\n",
    "> - Combined information from separate tables using JOIN.\n",
    "> - Remove Rows and Tables using DELETE and REMOVE.\n",
    "\n",
    "_(REMOVE is not a SQL Cluase, lets see who is on their feet._\n",
    "\n",
    "- **Part II: Python SQL integration**\n",
    "> - Convert CSV data to a SQL table. SQLite, SQLite3, Pandas.io SQL, sqlalchemy\n",
    "> - Perform standard SQL Commands from a Python window (See Part I)\n",
    "\n"
   ]
  },
  {
   "cell_type": "code",
   "execution_count": null,
   "metadata": {
    "collapsed": true
   },
   "outputs": [],
   "source": [
    "# I need a data concept\n"
   ]
  },
  {
   "cell_type": "markdown",
   "metadata": {},
   "source": [
    "# Ladies and Gentlemen! Welcome to your first SQL Challenge.\n",
    "#### Below you will find 7 SQL related deliverables.  We ask that you complete all of them to the best of your ability using only pencil and paper.  You will have 30 minutes to do so.  May the odds be ever in your favor.  \n",
    "\n",
    "\n",
    "\n",
    "\n",
    "### Part I: Straight SQL\n",
    "\n",
    "The Below information with be referenced for the first 6 questions. All lists have the same respective order.\n",
    "\n",
    "- **Names**: 'Cheerios', 'Lucky Charms', 'Froot Loops', 'Frosted Flakes','Trix', 'Cap'n Crunch'\n",
    "- **Mascot**: 'Bee', 'Leprachuan', 'Twocan', 'Tiger', 'Rabbit', 'Midget'\n",
    "- **Shape**: 'Loop','assorted','Loop','Flakes','Ball','Squares'\n",
    "- **Sugar(g)**: '9','10','12','11','10','12'\n",
    "- **Total Carbs(g)**:'22','22','26','27','27','23'\n",
    "- **Company**: 'GENERAL MILLS','GENERAL MILLS','KELLOGG','KELLOGG','GENERAL MILLS','QUAKER'\n",
    "\n",
    "_For the below questions assume you are already in SQL GUI_"
   ]
  },
  {
   "cell_type": "markdown",
   "metadata": {},
   "source": [
    "\n",
    "\n",
    "1.) Please create a SQL table called 'Cereal' of the above information.\n",
    "\n",
    "_For sake of time you can replace values in a query with 'X'\n",
    "example:_ \n",
    "```bash \n",
    "add 'Cheerios','Bee','Loop','9','22','GENERAL MILLS'  \n",
    "```\n",
    "_can be written like..._\n",
    "```bash\n",
    "add 'Cheerios','X','X','X','X','X' \n",
    "```"
   ]
  },
  {
   "cell_type": "markdown",
   "metadata": {},
   "source": [
    "```SQL\n",
    "CREATE TABLE Cereal ('Names' VARCHAR, 'Mascot' VARCHAR, 'Shape' VARCHAR, \n",
    "'Sugar(g)' INT, 'Total Carbs(g)' INT, 'Company' VARCHAR);\n",
    "```"
   ]
  },
  {
   "cell_type": "markdown",
   "metadata": {},
   "source": [
    "```SQL\n",
    "insert into Cereal (Names, Mascot, Shape, Sugar(g), Total Carbs(g), Company) values ('Cheerios','X','X',X ,X ,'X',),\n",
    "  ('Lucky Charms','X','X',X ,X ,'X'),\n",
    "  ('Froot Loops','X','X',X ,X ,'X'),\n",
    "  ('Frosted Flakes','X','X',X ,X ,'X'),\n",
    "  ('Trix','X','X',X ,X ,'X'),\n",
    "  (\"Cap'n Crunch\",'X','X',X ,X ,'X');\n",
    "```\n",
    "\n",
    "Fourth and Fifth entries use X as opposed to a string version because... Its and INT\n",
    "\n",
    "(Maybe its because im sick but all the 'X's don't look uniform, like they're dancing around)"
   ]
  },
  {
   "cell_type": "markdown",
   "metadata": {},
   "source": [
    "2.) It seems there are more than 6 cereals in existence.  Add the following ceral information to the table.\n",
    "\n",
    "- **Name**: 'Count Chocula','Rice Crispies'\n",
    "- **Mascot**: 'Vampire','3 Midgets'\n",
    "- **Shape**: 'Ghosts','Rice'\n",
    "- **Sugar(g)**: '9','3'\n",
    "- **Total Carbs(g)**:'23','28'\n",
    "- **Company**: 'GENERAL MILLS','KELLOGG'"
   ]
  },
  {
   "cell_type": "markdown",
   "metadata": {},
   "source": [
    "```SQL\n",
    "INSERT INTO Cereal VALUES ('Count Chocula','Vampire','Ghosts', 9, 23,'GENERAL MILLS');\n",
    "       \n",
    "INSERT INTO Cereal VALUES ('Rice Crispies','3 Midgets','Rice', 3, 28,'KELLOGG');\n",
    "```"
   ]
  },
  {
   "cell_type": "markdown",
   "metadata": {},
   "source": [
    "3.) Run a query that will return a Cereal's Name and all its numeric features."
   ]
  },
  {
   "cell_type": "markdown",
   "metadata": {},
   "source": [
    "```sql\n",
    "SELECT Name, Sugar(g), Total Carbs(g) FROM Cereal\n",
    "```"
   ]
  },
  {
   "cell_type": "markdown",
   "metadata": {},
   "source": [
    "4.) It appears that some of our descriptions are not PC.  Update all of the entries that the Mascot is a 'Midget' to something more PC like 'Elf' or 'Dwarf'. I Don't care which way, just get it done."
   ]
  },
  {
   "cell_type": "markdown",
   "metadata": {},
   "source": [
    "```SQL\n",
    "UPDATE Cereal SET Mascot = elf WHERE Mascot LIKE %Midget%\n",
    "```\n",
    "\n",
    "We are using the double modulo to indicate we are looking for 'Midget' in anywhere in the Mascot column and not exclusively 'midget' "
   ]
  },
  {
   "cell_type": "markdown",
   "metadata": {},
   "source": [
    "5.) Run a Query to get all the Names and Mascots of entries who are made by General Mills."
   ]
  },
  {
   "cell_type": "markdown",
   "metadata": {},
   "source": [
    "```SQL\n",
    "SELECT Name, Mascot FROM Cereal WHERE Company = 'GENERAL MILLS';\n",
    "```"
   ]
  },
  {
   "cell_type": "markdown",
   "metadata": {},
   "source": [
    "6.) Nobody cares about Quaker Cereal anymore, remove all their entries from the table."
   ]
  },
  {
   "cell_type": "markdown",
   "metadata": {},
   "source": [
    "```SQL\n",
    "DELETE * FROM Cereal WHERE Company = 'Quaker'\n",
    "```"
   ]
  },
  {
   "cell_type": "markdown",
   "metadata": {},
   "source": [
    "7.)I know our database structure is top notch, but as a company that is always looking forward do you have any recommendations to make as to how we can imporve our database structure?"
   ]
  },
  {
   "cell_type": "markdown",
   "metadata": {},
   "source": [
    "- Creating a relation table system\n",
    "- Having consistency of character values, i.e. all uppercase or lowercase.\n",
    "- Adding additional features to improve data quality."
   ]
  }
 ],
 "metadata": {
  "anaconda-cloud": {},
  "kernelspec": {
   "display_name": "Python [default]",
   "language": "python",
   "name": "python2"
  },
  "language_info": {
   "codemirror_mode": {
    "name": "ipython",
    "version": 2
   },
   "file_extension": ".py",
   "mimetype": "text/x-python",
   "name": "python",
   "nbconvert_exporter": "python",
   "pygments_lexer": "ipython2",
   "version": "2.7.12"
  }
 },
 "nbformat": 4,
 "nbformat_minor": 1
}
