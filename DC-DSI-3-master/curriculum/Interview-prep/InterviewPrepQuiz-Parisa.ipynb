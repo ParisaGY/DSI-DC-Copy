{
 "cells": [
  {
   "cell_type": "markdown",
   "metadata": {},
   "source": [
    "When would I use a Python dictionary to store data, instead of another data structure?"
   ]
  },
  {
   "cell_type": "markdown",
   "metadata": {},
   "source": [
    "A) A dictionary includes keys and values associated with the keys.\n",
    "dic= {key1:{value1,value2,...},key2:{value1,value2,...},key3:{value1,value2,...},...}\n",
    "When we want to search for all values associated to any keys or substitude a value based on a key we use dictionary\n"
   ]
  },
  {
   "cell_type": "markdown",
   "metadata": {},
   "source": [
    "When writing Python code, why would you write a function?"
   ]
  },
  {
   "cell_type": "markdown",
   "metadata": {},
   "source": [
    "A) to be able to call it in the future and see the results with different values."
   ]
  },
  {
   "cell_type": "markdown",
   "metadata": {},
   "source": [
    "I have a Python list named mylist. What is the difference between `sorted(mylist)` and `mylist.sort()`"
   ]
  },
  {
   "cell_type": "markdown",
   "metadata": {},
   "source": [
    "sorted() return a new list, the mylist does not affected.\n",
    "mylist.sort() sort the original list (mylist)"
   ]
  },
  {
   "cell_type": "markdown",
   "metadata": {},
   "source": [
    "I have a Pandas DataFrame named users. One of the Series is named age. I run this code: `users[users.age > 25]`. What does this code return, and how does it \"work\"?"
   ]
  },
  {
   "cell_type": "code",
   "execution_count": null,
   "metadata": {
    "collapsed": true
   },
   "outputs": [],
   "source": [
    "It removes all the age values less or eqaul to 25. The output is a dataframe with age values greater than 25.\n",
    "For each value of age if the value is greater that the outputdataframe has the row otherwise the row will be droped.\n"
   ]
  },
  {
   "cell_type": "markdown",
   "metadata": {},
   "source": [
    "What is the difference between a bar plot and a histogram?"
   ]
  },
  {
   "cell_type": "markdown",
   "metadata": {},
   "source": [
    "A) Barchart: X axis includes categorical variables. Gap betwwen the bars.\n",
    "B) histograms: can be used for continious variables. (x-axis) no gap betwwen the bars.\n"
   ]
  },
  {
   "cell_type": "markdown",
   "metadata": {},
   "source": [
    "What is the difference between regression and classification problems, and how can you convert a regression problem into a classification problem?"
   ]
  },
  {
   "cell_type": "markdown",
   "metadata": {},
   "source": [
    "A) reggression: target is a continious variable \n",
    "classification : target includes different categories.\n",
    "set some boundry for continous variables. for axample calculate the mean and categories values below/above the mean.\n"
   ]
  },
  {
   "cell_type": "markdown",
   "metadata": {},
   "source": [
    "When Netflix predicts the number of stars that you will use to rate a movie, are they solving a regression or classification problem?"
   ]
  },
  {
   "cell_type": "code",
   "execution_count": null,
   "metadata": {
    "collapsed": true
   },
   "outputs": [],
   "source": [
    "Classification. "
   ]
  },
  {
   "cell_type": "markdown",
   "metadata": {},
   "source": [
    "What's wrong with training and testing a machine learning model on the same data?"
   ]
  },
  {
   "cell_type": "markdown",
   "metadata": {},
   "source": [
    "A) the score will be one. \n",
    "we predict something that we already use it to fit the model."
   ]
  },
  {
   "cell_type": "markdown",
   "metadata": {},
   "source": [
    "What is the purpose of model evaluation procedures that \"hold out\" data, like train/test split and cross-validation?"
   ]
  },
  {
   "cell_type": "markdown",
   "metadata": {},
   "source": [
    "A) we keep some data that we already have to test our data. (train/test)\n",
    "we divided our train data and use some portions of it to train our model and then test it with the remaing parts. we keep doing this method to have a better coefficients for our model.(cross-validation)"
   ]
  },
  {
   "cell_type": "markdown",
   "metadata": {},
   "source": [
    "What are a few metrics (single numbers) I might use to evaluate how well a regression model is doing?  \n",
    "Include scoring criteria and what is considered when calculating the each metric"
   ]
  },
  {
   "cell_type": "markdown",
   "metadata": {},
   "source": [
    "A) Mean Absolute Error=the sum of the absolute differences between predictions and actual values\n",
    "Mean Squared Error=Taking the square root of the mean squared error\n",
    "R^2=between 0 and 1"
   ]
  },
  {
   "cell_type": "markdown",
   "metadata": {},
   "source": [
    "Why is a confusion matrix useful for evaluating the performance of a classifier?"
   ]
  },
  {
   "cell_type": "markdown",
   "metadata": {},
   "source": [
    "A) it is good way to show how good our model predicts.\n",
    "The cells of the table are the number of predictions made by a machine learning algorithm."
   ]
  },
  {
   "cell_type": "markdown",
   "metadata": {},
   "source": [
    "I built a machine learning model to solve a binary classification problem. The accuracy of my classifier is 99%, and the AUC is 0.51. \n",
    "Is my model doing well? Why or why not?"
   ]
  },
  {
   "cell_type": "markdown",
   "metadata": {},
   "source": [
    "A) MOdel is not good \n",
    "The AUC represents a model’s ability to discriminate between positive and negative classes. An area of 1.0 represents a model that made all predictions perfectly. An area of 0.5 represents a model as good as random."
   ]
  },
  {
   "cell_type": "markdown",
   "metadata": {},
   "source": [
    "With regard to machine learning models, why should I care the about bias-variance trade-off?"
   ]
  },
  {
   "cell_type": "markdown",
   "metadata": {},
   "source": [
    "A) bias error : error based on the curent data\n",
    "variance: error based on the future data.\n",
    "if we decrese biad error, we may have overfitting problem.\n",
    "if we decrese variance error we may have underfitting problem.\n"
   ]
  },
  {
   "cell_type": "markdown",
   "metadata": {},
   "source": [
    "How does regularization reduce overfitting?\n"
   ]
  },
  {
   "cell_type": "markdown",
   "metadata": {},
   "source": [
    "A) All the continius variable will be in the same range "
   ]
  },
  {
   "cell_type": "markdown",
   "metadata": {},
   "source": [
    "What are a few advantages and disadvantages of decision trees, as compared to other machine learning models?"
   ]
  },
  {
   "cell_type": "markdown",
   "metadata": {},
   "source": [
    "A) disadvantage:\n",
    "Instability \n",
    "easy to understand when the number of nodes are few. complex when the number of nodes increase."
   ]
  }
 ],
 "metadata": {
  "anaconda-cloud": {},
  "kernelspec": {
   "display_name": "Python [conda env:py27]",
   "language": "python",
   "name": "conda-env-py27-py"
  },
  "language_info": {
   "codemirror_mode": {
    "name": "ipython",
    "version": 2
   },
   "file_extension": ".py",
   "mimetype": "text/x-python",
   "name": "python",
   "nbconvert_exporter": "python",
   "pygments_lexer": "ipython2",
   "version": "2.7.12"
  }
 },
 "nbformat": 4,
 "nbformat_minor": 1
}
